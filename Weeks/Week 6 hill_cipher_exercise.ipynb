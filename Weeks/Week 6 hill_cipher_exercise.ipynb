{
 "cells": [
  {
   "cell_type": "markdown",
   "metadata": {},
   "source": [
    "### Execute the cell below before proceeding.\n",
    "\n",
    "The code in this cell will download a couple files with Python scripts from the Internet. Make sure that you have a network connection before executing it.  "
   ]
  },
  {
   "cell_type": "code",
   "execution_count": 3,
   "metadata": {},
   "outputs": [],
   "source": [
    "import requests\n",
    "with open(\"hill_cipher.py\", 'w') as foo:\n",
    "    foo.write(requests.get(\"https://git.io/fj5jZ\").text)\n",
    "with open(\"hill_cipher_samples.py\", 'w') as foo:\n",
    "    foo.write(requests.get(\"https://git.io/fj5jc\").text)\n",
    "from hill_cipher import *"
   ]
  },
  {
   "cell_type": "markdown",
   "metadata": {},
   "source": [
    "# Hill cipher exercise"
   ]
  },
  {
   "cell_type": "markdown",
   "metadata": {},
   "source": [
    "**Note:** The functions `char2num()` and `num2char()` should be helpful with these exercises. `char2num()` converts capital letters into numbers:"
   ]
  },
  {
   "cell_type": "code",
   "execution_count": 2,
   "metadata": {},
   "outputs": [
    {
     "data": {
      "text/latex": [
       "$$\\left [ 1, \\quad 2, \\quad 3, \\quad 4, \\quad 5, \\quad 6\\right ]$$"
      ],
      "text/plain": [
       "[1, 2, 3, 4, 5, 6]"
      ]
     },
     "execution_count": 2,
     "metadata": {},
     "output_type": "execute_result"
    }
   ],
   "source": [
    "char2num(\"ABCDEF\")"
   ]
  },
  {
   "cell_type": "markdown",
   "metadata": {},
   "source": [
    "Conversely, `num2char()` converts a list of numbers into corresponding characters. It also displays `#` for each number on the list that does not correspond to any character:"
   ]
  },
  {
   "cell_type": "code",
   "execution_count": 3,
   "metadata": {},
   "outputs": [
    {
     "name": "stdout",
     "output_type": "stream",
     "text": [
      "  20   8   9  19   0   9  19   0   1   0  20   5  19  20 100  -1\n",
      "   T   H   I   S   _   I   S   _   A   _   T   E   S   T   #   #\n",
      "\n"
     ]
    }
   ],
   "source": [
    "mylist = [20,8,9,19,0,9,19,0,1,0,20,5,19,20, 100, -1]\n",
    "num2char(mylist)"
   ]
  },
  {
   "cell_type": "markdown",
   "metadata": {},
   "source": [
    "The function `num2char_text_only()` is similar, but it prints only characters, without the corresponding numbers:"
   ]
  },
  {
   "cell_type": "code",
   "execution_count": 4,
   "metadata": {},
   "outputs": [
    {
     "data": {
      "text/plain": [
       "'THIS_IS_A_TEST##'"
      ]
     },
     "execution_count": 4,
     "metadata": {},
     "output_type": "execute_result"
    }
   ],
   "source": [
    "mylist = [20,8,9,19,0,9,19,0,1,0,20,5,19,20, 100, -1]\n",
    "num2char_text_only(mylist)"
   ]
  },
  {
   "cell_type": "markdown",
   "metadata": {},
   "source": [
    "----"
   ]
  },
  {
   "cell_type": "markdown",
   "metadata": {},
   "source": [
    "### Exercise\n"
   ]
  },
  {
   "cell_type": "markdown",
   "metadata": {},
   "source": [
    "In the next cell enter your UB person number (digits only, no spaces, dashes etc.) assigning it to the variable `pnum`, and execute the cell. For example, if your UB person number is 50201234, then the next cell should be `pnum = 50201234`"
   ]
  },
  {
   "cell_type": "code",
   "execution_count": 1,
   "metadata": {},
   "outputs": [],
   "source": [
    "pnum = 50228454"
   ]
  },
  {
   "cell_type": "markdown",
   "metadata": {},
   "source": [
    "Execute the next cell to produce a message encrypted with the Hill cipher:"
   ]
  },
  {
   "cell_type": "code",
   "execution_count": 4,
   "metadata": {},
   "outputs": [
    {
     "data": {
      "text/latex": [
       "$$\\left [ 72, \\quad 21, \\quad 33, \\quad 90, \\quad 41, \\quad 35, \\quad 31, \\quad 5, \\quad 13, \\quad 79, \\quad 20, \\quad 39, \\quad 79, \\quad 23, \\quad 37, \\quad 80, \\quad 21, \\quad 40, \\quad 30, \\quad 9, \\quad 15, \\quad 56, \\quad 23, \\quad 28, \\quad 38, \\quad 4, \\quad 19, \\quad 58, \\quad 14, \\quad 29, \\quad 46, \\quad 20, \\quad 13, \\quad 79, \\quad 20, \\quad 39, \\quad 41, \\quad 23, \\quad 18, \\quad 54, \\quad 13, \\quad 23\\right ]$$"
      ],
      "text/plain": [
       "[72, 21, 33, 90, 41, 35, 31, 5, 13, 79, 20, 39, 79, 23, 37, 80, 21, 40, 30, 9,\n",
       " 15, 56, 23, 28, 38, 4, 19, 58, 14, 29, 46, 20, 13, 79, 20, 39, 41, 23, 18, 54\n",
       ", 13, 23]"
      ]
     },
     "execution_count": 4,
     "metadata": {},
     "output_type": "execute_result"
    }
   ],
   "source": [
    "cipher = cipher_generator(pnum)\n",
    "cipher"
   ]
  },
  {
   "cell_type": "markdown",
   "metadata": {},
   "source": [
    "The cipher key which was used to encrypt this message is the  following matrix:\n",
    "\n",
    "$$K = \n",
    "\\begin{bmatrix}\n",
    "1 & 2 & 2 \\\\\n",
    "1 & 1 & 0 \\\\\n",
    "0 & 1 & 1 \\\\\n",
    "\\end{bmatrix}\n",
    "$$\n",
    "\n",
    "Decrypt the message and enter it in UBx. "
   ]
  },
  {
   "cell_type": "code",
   "execution_count": 9,
   "metadata": {},
   "outputs": [
    {
     "data": {
      "text/latex": [
       "$$\\left[\\begin{matrix}1 & 2 & 2\\\\1 & 1 & 0\\\\0 & 1 & 1\\end{matrix}\\right]$$"
      ],
      "text/plain": [
       "⎡1  2  2⎤\n",
       "⎢       ⎥\n",
       "⎢1  1  0⎥\n",
       "⎢       ⎥\n",
       "⎣0  1  1⎦"
      ]
     },
     "execution_count": 9,
     "metadata": {},
     "output_type": "execute_result"
    }
   ],
   "source": [
    "K = Matrix([[1,2,2],[1,1,0],[0,1,1]])\n",
    "K"
   ]
  },
  {
   "cell_type": "code",
   "execution_count": 10,
   "metadata": {},
   "outputs": [
    {
     "data": {
      "text/latex": [
       "$$\\left[\\begin{matrix}1 & 0 & -2\\\\-1 & 1 & 2\\\\1 & -1 & -1\\end{matrix}\\right]$$"
      ],
      "text/plain": [
       "⎡1   0   -2⎤\n",
       "⎢          ⎥\n",
       "⎢-1  1   2 ⎥\n",
       "⎢          ⎥\n",
       "⎣1   -1  -1⎦"
      ]
     },
     "execution_count": 10,
     "metadata": {},
     "output_type": "execute_result"
    }
   ],
   "source": [
    "K**-1"
   ]
  },
  {
   "cell_type": "code",
   "execution_count": 6,
   "metadata": {},
   "outputs": [
    {
     "data": {
      "text/latex": [
       "$$42$$"
      ],
      "text/plain": [
       "42"
      ]
     },
     "execution_count": 6,
     "metadata": {},
     "output_type": "execute_result"
    }
   ],
   "source": [
    "len(cipher)"
   ]
  },
  {
   "cell_type": "code",
   "execution_count": 7,
   "metadata": {},
   "outputs": [
    {
     "data": {
      "text/latex": [
       "$$14.0$$"
      ],
      "text/plain": [
       "14.0"
      ]
     },
     "execution_count": 7,
     "metadata": {},
     "output_type": "execute_result"
    }
   ],
   "source": [
    "42/3"
   ]
  },
  {
   "cell_type": "code",
   "execution_count": 8,
   "metadata": {},
   "outputs": [
    {
     "data": {
      "text/latex": [
       "$$\\left ( \\left[\\begin{matrix}72\\\\21\\\\33\\end{matrix}\\right], \\quad \\left[\\begin{matrix}90\\\\41\\\\35\\end{matrix}\\right], \\quad \\left[\\begin{matrix}31\\\\5\\\\13\\end{matrix}\\right], \\quad \\left[\\begin{matrix}79\\\\20\\\\39\\end{matrix}\\right], \\quad \\left[\\begin{matrix}79\\\\23\\\\37\\end{matrix}\\right], \\quad \\left[\\begin{matrix}80\\\\21\\\\40\\end{matrix}\\right], \\quad \\left[\\begin{matrix}30\\\\9\\\\15\\end{matrix}\\right], \\quad \\left[\\begin{matrix}56\\\\23\\\\28\\end{matrix}\\right], \\quad \\left[\\begin{matrix}38\\\\4\\\\19\\end{matrix}\\right], \\quad \\left[\\begin{matrix}58\\\\14\\\\29\\end{matrix}\\right], \\quad \\left[\\begin{matrix}46\\\\20\\\\13\\end{matrix}\\right], \\quad \\left[\\begin{matrix}79\\\\20\\\\39\\end{matrix}\\right], \\quad \\left[\\begin{matrix}41\\\\23\\\\18\\end{matrix}\\right], \\quad \\left[\\begin{matrix}54\\\\13\\\\23\\end{matrix}\\right]\\right )$$"
      ],
      "text/plain": [
       "⎛⎡72⎤  ⎡90⎤  ⎡31⎤  ⎡79⎤  ⎡79⎤  ⎡80⎤  ⎡30⎤  ⎡56⎤  ⎡38⎤  ⎡58⎤  ⎡46⎤  ⎡79⎤  ⎡41⎤ \n",
       "⎜⎢  ⎥  ⎢  ⎥  ⎢  ⎥  ⎢  ⎥  ⎢  ⎥  ⎢  ⎥  ⎢  ⎥  ⎢  ⎥  ⎢  ⎥  ⎢  ⎥  ⎢  ⎥  ⎢  ⎥  ⎢  ⎥ \n",
       "⎜⎢21⎥, ⎢41⎥, ⎢5 ⎥, ⎢20⎥, ⎢23⎥, ⎢21⎥, ⎢9 ⎥, ⎢23⎥, ⎢4 ⎥, ⎢14⎥, ⎢20⎥, ⎢20⎥, ⎢23⎥,\n",
       "⎜⎢  ⎥  ⎢  ⎥  ⎢  ⎥  ⎢  ⎥  ⎢  ⎥  ⎢  ⎥  ⎢  ⎥  ⎢  ⎥  ⎢  ⎥  ⎢  ⎥  ⎢  ⎥  ⎢  ⎥  ⎢  ⎥ \n",
       "⎝⎣33⎦  ⎣35⎦  ⎣13⎦  ⎣39⎦  ⎣37⎦  ⎣40⎦  ⎣15⎦  ⎣28⎦  ⎣19⎦  ⎣29⎦  ⎣13⎦  ⎣39⎦  ⎣18⎦ \n",
       "\n",
       " ⎡54⎤⎞\n",
       " ⎢  ⎥⎟\n",
       " ⎢13⎥⎟\n",
       " ⎢  ⎥⎟\n",
       " ⎣23⎦⎠"
      ]
     },
     "execution_count": 8,
     "metadata": {},
     "output_type": "execute_result"
    }
   ],
   "source": [
    "A1 = Matrix(cipher[:3])  \n",
    "A2 = Matrix(cipher[3:6]) \n",
    "A3 = Matrix(cipher[6:9]) \n",
    "A4 = Matrix(cipher[9:12])\n",
    "A5 = Matrix(cipher[12:15])\n",
    "A6 = Matrix(cipher[15:18])\n",
    "A7 = Matrix(cipher[18:21])\n",
    "A8 = Matrix(cipher[21:24])\n",
    "A9 = Matrix(cipher[24:27])\n",
    "A10 = Matrix(cipher[27:30])\n",
    "A11 = Matrix(cipher[30:33])\n",
    "A12 = Matrix(cipher[33:36])\n",
    "A13 = Matrix(cipher[36:39])\n",
    "A14 = Matrix(cipher[39:42])\n",
    "\n",
    "A1,A2,A3,A4,A5,A6,A7,A8,A9,A10,A11,A12,A13,A14"
   ]
  },
  {
   "cell_type": "code",
   "execution_count": 11,
   "metadata": {},
   "outputs": [
    {
     "data": {
      "text/latex": [
       "$$\\left ( \\left[\\begin{matrix}6\\\\15\\\\18\\end{matrix}\\right], \\quad \\left[\\begin{matrix}20\\\\21\\\\14\\end{matrix}\\right], \\quad \\left[\\begin{matrix}5\\\\0\\\\13\\end{matrix}\\right], \\quad \\left[\\begin{matrix}1\\\\19\\\\20\\end{matrix}\\right], \\quad \\left[\\begin{matrix}5\\\\18\\\\19\\end{matrix}\\right], \\quad \\left[\\begin{matrix}0\\\\21\\\\19\\end{matrix}\\right], \\quad \\left[\\begin{matrix}0\\\\9\\\\6\\end{matrix}\\right], \\quad \\left[\\begin{matrix}0\\\\23\\\\5\\end{matrix}\\right], \\quad \\left[\\begin{matrix}0\\\\4\\\\15\\end{matrix}\\right], \\quad \\left[\\begin{matrix}0\\\\14\\\\15\\end{matrix}\\right], \\quad \\left[\\begin{matrix}20\\\\0\\\\13\\end{matrix}\\right], \\quad \\left[\\begin{matrix}1\\\\19\\\\20\\end{matrix}\\right], \\quad \\left[\\begin{matrix}5\\\\18\\\\0\\end{matrix}\\right], \\quad \\left[\\begin{matrix}8\\\\5\\\\18\\end{matrix}\\right]\\right )$$"
      ],
      "text/plain": [
       "⎛⎡6 ⎤  ⎡20⎤  ⎡5 ⎤  ⎡1 ⎤  ⎡5 ⎤  ⎡0 ⎤  ⎡0⎤  ⎡0 ⎤  ⎡0 ⎤  ⎡0 ⎤  ⎡20⎤  ⎡1 ⎤  ⎡5 ⎤  \n",
       "⎜⎢  ⎥  ⎢  ⎥  ⎢  ⎥  ⎢  ⎥  ⎢  ⎥  ⎢  ⎥  ⎢ ⎥  ⎢  ⎥  ⎢  ⎥  ⎢  ⎥  ⎢  ⎥  ⎢  ⎥  ⎢  ⎥  \n",
       "⎜⎢15⎥, ⎢21⎥, ⎢0 ⎥, ⎢19⎥, ⎢18⎥, ⎢21⎥, ⎢9⎥, ⎢23⎥, ⎢4 ⎥, ⎢14⎥, ⎢0 ⎥, ⎢19⎥, ⎢18⎥, \n",
       "⎜⎢  ⎥  ⎢  ⎥  ⎢  ⎥  ⎢  ⎥  ⎢  ⎥  ⎢  ⎥  ⎢ ⎥  ⎢  ⎥  ⎢  ⎥  ⎢  ⎥  ⎢  ⎥  ⎢  ⎥  ⎢  ⎥  \n",
       "⎝⎣18⎦  ⎣14⎦  ⎣13⎦  ⎣20⎦  ⎣19⎦  ⎣19⎦  ⎣6⎦  ⎣5 ⎦  ⎣15⎦  ⎣15⎦  ⎣13⎦  ⎣20⎦  ⎣0 ⎦  \n",
       "\n",
       "⎡8 ⎤⎞\n",
       "⎢  ⎥⎟\n",
       "⎢5 ⎥⎟\n",
       "⎢  ⎥⎟\n",
       "⎣18⎦⎠"
      ]
     },
     "execution_count": 11,
     "metadata": {},
     "output_type": "execute_result"
    }
   ],
   "source": [
    "B1 = K**-1 * A1\n",
    "B2 = K**-1 * A2\n",
    "B3 = K**-1 * A3 \n",
    "B4 = K**-1 * A4\n",
    "B5 = K**-1 * A5\n",
    "B6 = K**-1 * A6\n",
    "B7 = K**-1 * A7\n",
    "B8 = K**-1 * A8\n",
    "B9 = K**-1 * A9\n",
    "B10 = K**-1 * A10\n",
    "B11 = K**-1 * A11\n",
    "B12 = K**-1 * A12\n",
    "B13 = K**-1 * A13\n",
    "B14 = K**-1 * A14\n",
    "\n",
    "B1,B2,B3,B4,B5,B6,B7,B8,B9,B10,B11,B12,B13,B14"
   ]
  },
  {
   "cell_type": "code",
   "execution_count": 13,
   "metadata": {},
   "outputs": [
    {
     "data": {
      "text/latex": [
       "$$\\left [ 6, \\quad 15, \\quad 18, \\quad 20, \\quad 21, \\quad 14, \\quad 5, \\quad 0, \\quad 13, \\quad 1, \\quad 19, \\quad 20, \\quad 5, \\quad 18, \\quad 19, \\quad 0, \\quad 21, \\quad 19, \\quad 0, \\quad 9, \\quad 6, \\quad 0, \\quad 23, \\quad 5, \\quad 0, \\quad 4, \\quad 15, \\quad 0, \\quad 14, \\quad 15, \\quad 20, \\quad 0, \\quad 13, \\quad 1, \\quad 19, \\quad 20, \\quad 5, \\quad 18, \\quad 0, \\quad 8, \\quad 5, \\quad 18\\right ]$$"
      ],
      "text/plain": [
       "[6, 15, 18, 20, 21, 14, 5, 0, 13, 1, 19, 20, 5, 18, 19, 0, 21, 19, 0, 9, 6, 0,\n",
       " 23, 5, 0, 4, 15, 0, 14, 15, 20, 0, 13, 1, 19, 20, 5, 18, 0, 8, 5, 18]"
      ]
     },
     "execution_count": 13,
     "metadata": {},
     "output_type": "execute_result"
    }
   ],
   "source": [
    "numbers = list(Matrix([B1, B2, B3, B4, B5, B6, B7, B8, B9, B10, B11, B12, B13, B14])) \n",
    "numbers"
   ]
  },
  {
   "cell_type": "code",
   "execution_count": 14,
   "metadata": {},
   "outputs": [
    {
     "name": "stdout",
     "output_type": "stream",
     "text": [
      "   6  15  18  20  21  14   5   0  13   1  19  20   5  18  19   0  21  19   0   9\n",
      "   F   O   R   T   U   N   E   _   M   A   S   T   E   R   S   _   U   S   _   I\n",
      "\n",
      "   6   0  23   5   0   4  15   0  14  15  20   0  13   1  19  20   5  18   0   8\n",
      "   F   _   W   E   _   D   O   _   N   O   T   _   M   A   S   T   E   R   _   H\n",
      "\n",
      "   5  18\n",
      "   E   R\n",
      "\n"
     ]
    }
   ],
   "source": [
    "num2char(numbers)"
   ]
  },
  {
   "cell_type": "code",
   "execution_count": 15,
   "metadata": {},
   "outputs": [
    {
     "data": {
      "text/plain": [
       "'FORTUNE_MASTERS_US_IF_WE_DO_NOT_MASTER_HER'"
      ]
     },
     "execution_count": 15,
     "metadata": {},
     "output_type": "execute_result"
    }
   ],
   "source": [
    "num2char_text_only(numbers)"
   ]
  },
  {
   "cell_type": "code",
   "execution_count": null,
   "metadata": {},
   "outputs": [],
   "source": []
  }
 ],
 "metadata": {
  "kernelspec": {
   "display_name": "Python 3",
   "language": "python",
   "name": "python3"
  },
  "language_info": {
   "codemirror_mode": {
    "name": "ipython",
    "version": 3
   },
   "file_extension": ".py",
   "mimetype": "text/x-python",
   "name": "python",
   "nbconvert_exporter": "python",
   "pygments_lexer": "ipython3",
   "version": "3.6.5"
  }
 },
 "nbformat": 4,
 "nbformat_minor": 2
}
