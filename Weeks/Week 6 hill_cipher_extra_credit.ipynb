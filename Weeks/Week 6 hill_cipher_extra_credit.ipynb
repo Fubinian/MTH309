{
 "cells": [
  {
   "cell_type": "markdown",
   "metadata": {},
   "source": [
    " ### <span style=\"color:red\">**Enter your name and person number here:**</span> \n",
    " \n",
    " # Cortlandt Chin 5022-8454"
   ]
  },
  {
   "cell_type": "markdown",
   "metadata": {},
   "source": [
    "### Execute the cell below before proceeding.\n",
    "\n",
    "The code in this cell will download a couple files with Python scripts from the Internet. Make sure that you have a network connection before executing it.  "
   ]
  },
  {
   "cell_type": "code",
   "execution_count": 1,
   "metadata": {},
   "outputs": [],
   "source": [
    "import requests\n",
    "with open(\"hill_cipher_extra_credit.py\", 'w') as foo:\n",
    "    foo.write(requests.get(\"https://git.io/JenzP\").text)\n",
    "with open(\"hill_cipher_extra_credit_samples.py\", 'w') as foo:\n",
    "    foo.write(requests.get(\"https://git.io/JenzX\").text)\n",
    "from hill_cipher_extra_credit import *"
   ]
  },
  {
   "cell_type": "markdown",
   "metadata": {},
   "source": [
    "# Extra credit Hill cipher\n",
    "\n",
    "\n",
    "## Instructions\n",
    "\n",
    "* This is an extra credit exercise, you are not required to submit it.\n",
    "* The correct solution will give you an extra 10% of your Exam 1 score (e.g if your exam score will be\n",
    "  80 points and you complete this assignment, you will receive extra 8 points).\n",
    "* There is no partial credit on this assignment. Incomplete solutions (e.g. incorrect decoding of the cipher, printing the decoded message without any computations  etc.) will receive no credit.\n",
    "* The whole assignment must be completed within this notebook. Computations done on paper or using some other program will not be graded.\n",
    "* Once you complete this assignment, upload this notebook file to UBLearns. The name of this notebook file is `hill_cipher_extra_credit.ipynb`. You can execute the command `pwd` in a code cell of this notebook to check where this file is located on your computer. \n",
    "* The submission deadline is **Saturday, October 5, 11:59 PM**. "
   ]
  },
  {
   "cell_type": "markdown",
   "metadata": {},
   "source": [
    "**Note:** The functions `char2num()` and `num2char()` should be helpful with this exercise. `char2num()` converts capital letters into numbers:"
   ]
  },
  {
   "cell_type": "code",
   "execution_count": 2,
   "metadata": {},
   "outputs": [
    {
     "data": {
      "text/latex": [
       "$$\\left [ 1, \\quad 2, \\quad 3, \\quad 4, \\quad 5, \\quad 6\\right ]$$"
      ],
      "text/plain": [
       "[1, 2, 3, 4, 5, 6]"
      ]
     },
     "execution_count": 2,
     "metadata": {},
     "output_type": "execute_result"
    }
   ],
   "source": [
    "char2num(\"ABCDEF\")"
   ]
  },
  {
   "cell_type": "markdown",
   "metadata": {},
   "source": [
    "Conversely, `num2char()` converts a list of numbers into corresponding characters. It also displays a black block for each number on the list that does not correspond to any character:"
   ]
  },
  {
   "cell_type": "code",
   "execution_count": 3,
   "metadata": {},
   "outputs": [
    {
     "name": "stdout",
     "output_type": "stream",
     "text": [
      "  20   8   9  19   0   9  19   0   1   0  20   5  19  20 100  -1\n",
      "   T   H   I   S   _   I   S   _   A   _   T   E   S   T   #   #\n",
      "\n"
     ]
    }
   ],
   "source": [
    "mylist = [20,8,9,19,0,9,19,0,1,0,20,5,19,20, 100, -1]\n",
    "num2char(mylist)"
   ]
  },
  {
   "cell_type": "markdown",
   "metadata": {},
   "source": [
    "The function `num2char_text_only()` is similar, but it prints only characters, without the corresponding numbers:"
   ]
  },
  {
   "cell_type": "code",
   "execution_count": 4,
   "metadata": {},
   "outputs": [
    {
     "data": {
      "text/plain": [
       "'THIS_IS_A_TEST##'"
      ]
     },
     "execution_count": 4,
     "metadata": {},
     "output_type": "execute_result"
    }
   ],
   "source": [
    "mylist = [20,8,9,19,0,9,19,0,1,0,20,5,19,20, 100, -1]\n",
    "num2char_text_only(mylist)"
   ]
  },
  {
   "cell_type": "markdown",
   "metadata": {},
   "source": [
    "----"
   ]
  },
  {
   "cell_type": "markdown",
   "metadata": {},
   "source": [
    "### Extra Credit Exercise\n",
    "\n",
    "In the next cell enter your UB person number (digits only, no spaces, dashes etc.) assigning it to the variable `pnum`, and execute the cell. For example, if your UB person number is 50201234, then the next cell should be `pnum = 50201234`"
   ]
  },
  {
   "cell_type": "code",
   "execution_count": 5,
   "metadata": {},
   "outputs": [],
   "source": [
    "pnum = 50228454"
   ]
  },
  {
   "cell_type": "markdown",
   "metadata": {},
   "source": [
    "Execute the next cell to produce a message encrypted with the Hill cipher cipher:"
   ]
  },
  {
   "cell_type": "code",
   "execution_count": 6,
   "metadata": {
    "scrolled": true
   },
   "outputs": [
    {
     "data": {
      "text/latex": [
       "$$\\left [ 125, \\quad 99, \\quad 91, \\quad 100, \\quad 93, \\quad 50, \\quad 139, \\quad 110, \\quad 101, \\quad 81, \\quad 77, \\quad 37, \\quad 147, \\quad 115, \\quad 110, \\quad 172, \\quad 172, \\quad 65, \\quad 100, \\quad 104, \\quad 31, \\quad 134, \\quad 152, \\quad 21, \\quad 144, \\quad 109, \\quad 113, \\quad 176, \\quad 162, \\quad 91, \\quad 30, \\quad 32, \\quad 8, \\quad 188, \\quad 200, \\quad 51, \\quad 68, \\quad 60, \\quad 39, \\quad 166, \\quad 165, \\quad 64, \\quad 167, \\quad 147, \\quad 97\\right ]$$"
      ],
      "text/plain": [
       "[125, 99, 91, 100, 93, 50, 139, 110, 101, 81, 77, 37, 147, 115, 110, 172, 172,\n",
       " 65, 100, 104, 31, 134, 152, 21, 144, 109, 113, 176, 162, 91, 30, 32, 8, 188, \n",
       "200, 51, 68, 60, 39, 166, 165, 64, 167, 147, 97]"
      ]
     },
     "execution_count": 6,
     "metadata": {},
     "output_type": "execute_result"
    }
   ],
   "source": [
    "cipher = cipher_generator(pnum)\n",
    "cipher"
   ]
  },
  {
   "cell_type": "markdown",
   "metadata": {},
   "source": [
    "The message starts with the word \"CONFIDENTIAL\". Decrypt the message."
   ]
  },
  {
   "cell_type": "markdown",
   "metadata": {},
   "source": [
    "### Solution:"
   ]
  },
  {
   "cell_type": "markdown",
   "metadata": {},
   "source": [
    "We are assuming the encryption key is a 3 $\\times$ 3 matrix. Therefore we shall count the number of entries in `cipher` and split it so that each vector $u_{i} \\in$ $\\mathbb{R}^{3}$, with $i = [1,15]$"
   ]
  },
  {
   "cell_type": "code",
   "execution_count": 7,
   "metadata": {},
   "outputs": [
    {
     "data": {
      "text/latex": [
       "$$45$$"
      ],
      "text/plain": [
       "45"
      ]
     },
     "execution_count": 7,
     "metadata": {},
     "output_type": "execute_result"
    }
   ],
   "source": [
    "len(cipher) #counts the number of entries in the cipher"
   ]
  },
  {
   "cell_type": "code",
   "execution_count": 8,
   "metadata": {},
   "outputs": [
    {
     "data": {
      "text/latex": [
       "$$\\left ( \\left[\\begin{matrix}125\\\\99\\\\91\\end{matrix}\\right], \\quad \\left[\\begin{matrix}100\\\\93\\\\50\\end{matrix}\\right], \\quad \\left[\\begin{matrix}139\\\\110\\\\101\\end{matrix}\\right], \\quad \\left[\\begin{matrix}81\\\\77\\\\37\\end{matrix}\\right], \\quad \\left[\\begin{matrix}147\\\\115\\\\110\\end{matrix}\\right], \\quad \\left[\\begin{matrix}172\\\\172\\\\65\\end{matrix}\\right], \\quad \\left[\\begin{matrix}100\\\\104\\\\31\\end{matrix}\\right], \\quad \\left[\\begin{matrix}134\\\\152\\\\21\\end{matrix}\\right], \\quad \\left[\\begin{matrix}144\\\\109\\\\113\\end{matrix}\\right], \\quad \\left[\\begin{matrix}176\\\\162\\\\91\\end{matrix}\\right], \\quad \\left[\\begin{matrix}30\\\\32\\\\8\\end{matrix}\\right], \\quad \\left[\\begin{matrix}188\\\\200\\\\51\\end{matrix}\\right], \\quad \\left[\\begin{matrix}68\\\\60\\\\39\\end{matrix}\\right], \\quad \\left[\\begin{matrix}166\\\\165\\\\64\\end{matrix}\\right], \\quad \\left[\\begin{matrix}167\\\\147\\\\97\\end{matrix}\\right]\\right )$$"
      ],
      "text/plain": [
       "⎛⎡125⎤  ⎡100⎤  ⎡139⎤  ⎡81⎤  ⎡147⎤  ⎡172⎤  ⎡100⎤  ⎡134⎤  ⎡144⎤  ⎡176⎤  ⎡30⎤  ⎡1\n",
       "⎜⎢   ⎥  ⎢   ⎥  ⎢   ⎥  ⎢  ⎥  ⎢   ⎥  ⎢   ⎥  ⎢   ⎥  ⎢   ⎥  ⎢   ⎥  ⎢   ⎥  ⎢  ⎥  ⎢ \n",
       "⎜⎢99 ⎥, ⎢93 ⎥, ⎢110⎥, ⎢77⎥, ⎢115⎥, ⎢172⎥, ⎢104⎥, ⎢152⎥, ⎢109⎥, ⎢162⎥, ⎢32⎥, ⎢2\n",
       "⎜⎢   ⎥  ⎢   ⎥  ⎢   ⎥  ⎢  ⎥  ⎢   ⎥  ⎢   ⎥  ⎢   ⎥  ⎢   ⎥  ⎢   ⎥  ⎢   ⎥  ⎢  ⎥  ⎢ \n",
       "⎝⎣91 ⎦  ⎣50 ⎦  ⎣101⎦  ⎣37⎦  ⎣110⎦  ⎣65 ⎦  ⎣31 ⎦  ⎣21 ⎦  ⎣113⎦  ⎣91 ⎦  ⎣8 ⎦  ⎣5\n",
       "\n",
       "88⎤  ⎡68⎤  ⎡166⎤  ⎡167⎤⎞\n",
       "  ⎥  ⎢  ⎥  ⎢   ⎥  ⎢   ⎥⎟\n",
       "00⎥, ⎢60⎥, ⎢165⎥, ⎢147⎥⎟\n",
       "  ⎥  ⎢  ⎥  ⎢   ⎥  ⎢   ⎥⎟\n",
       "1 ⎦  ⎣39⎦  ⎣64 ⎦  ⎣97 ⎦⎠"
      ]
     },
     "execution_count": 8,
     "metadata": {},
     "output_type": "execute_result"
    }
   ],
   "source": [
    "u1 = Matrix(cipher[:3])  # a vector consisting of the first 3 numbers of the encrypted message\n",
    "u2 = Matrix(cipher[3:6]) # a vector consisting of the next 3 numbers of the encrypted message\n",
    "u3 = Matrix(cipher[6:9]) # and so on...\n",
    "u4 = Matrix(cipher[9:12])\n",
    "u5 = Matrix(cipher[12:15])\n",
    "u6 = Matrix(cipher[15:18])\n",
    "u7 = Matrix(cipher[18:21])\n",
    "u8 = Matrix(cipher[21:24])\n",
    "u9 = Matrix(cipher[24:27])\n",
    "u10 = Matrix(cipher[27:30])\n",
    "u11 = Matrix(cipher[30:33])\n",
    "u12 = Matrix(cipher[33:36])\n",
    "u13 = Matrix(cipher[36:39])\n",
    "u14 = Matrix(cipher[39:42])\n",
    "u15 = Matrix(cipher[42:45])\n",
    "\n",
    "u1, u2, u3, u4, u5, u6, u7, u8, u9, u10, u11, u12, u13, u14, u15 #spits out separated 15 vectors "
   ]
  },
  {
   "cell_type": "markdown",
   "metadata": {},
   "source": [
    "Next logical step would be to multiply $A^{-1}$ with each $u_{i}$, with $A^{-1}$ being the inverse of the encryption key $A$. The only problem is that neither the encryption nor the decryption key is not given."
   ]
  },
  {
   "cell_type": "markdown",
   "metadata": {},
   "source": [
    " However, we are given the first 12 letters of the encrypted message, which is \"CONFIDENTIAL\". The assumption is that this will help us find the encryption key."
   ]
  },
  {
   "cell_type": "markdown",
   "metadata": {},
   "source": [
    "We will attempt to verify this assumption by executing `char2num()` on \"CONFIDENTIAL\" and splitting it into vectors."
   ]
  },
  {
   "cell_type": "code",
   "execution_count": 9,
   "metadata": {},
   "outputs": [
    {
     "data": {
      "text/latex": [
       "$$12$$"
      ],
      "text/plain": [
       "12"
      ]
     },
     "execution_count": 9,
     "metadata": {},
     "output_type": "execute_result"
    }
   ],
   "source": [
    "text = \"CONFIDENTIAL\"\n",
    "len(text)"
   ]
  },
  {
   "cell_type": "code",
   "execution_count": 10,
   "metadata": {},
   "outputs": [
    {
     "data": {
      "text/latex": [
       "$$\\left [ 3, \\quad 15, \\quad 14, \\quad 6, \\quad 9, \\quad 4, \\quad 5, \\quad 14, \\quad 20, \\quad 9, \\quad 1, \\quad 12\\right ]$$"
      ],
      "text/plain": [
       "[3, 15, 14, 6, 9, 4, 5, 14, 20, 9, 1, 12]"
      ]
     },
     "execution_count": 10,
     "metadata": {},
     "output_type": "execute_result"
    }
   ],
   "source": [
    "char2num(text)"
   ]
  },
  {
   "cell_type": "code",
   "execution_count": 11,
   "metadata": {},
   "outputs": [
    {
     "data": {
      "text/latex": [
       "$$\\left ( \\left[\\begin{matrix}3\\\\15\\\\14\\end{matrix}\\right], \\quad \\left[\\begin{matrix}6\\\\9\\\\4\\end{matrix}\\right], \\quad \\left[\\begin{matrix}5\\\\14\\\\20\\end{matrix}\\right], \\quad \\left[\\begin{matrix}9\\\\1\\\\12\\end{matrix}\\right]\\right )$$"
      ],
      "text/plain": [
       "⎛⎡3 ⎤  ⎡6⎤  ⎡5 ⎤  ⎡9 ⎤⎞\n",
       "⎜⎢  ⎥  ⎢ ⎥  ⎢  ⎥  ⎢  ⎥⎟\n",
       "⎜⎢15⎥, ⎢9⎥, ⎢14⎥, ⎢1 ⎥⎟\n",
       "⎜⎢  ⎥  ⎢ ⎥  ⎢  ⎥  ⎢  ⎥⎟\n",
       "⎝⎣14⎦  ⎣4⎦  ⎣20⎦  ⎣12⎦⎠"
      ]
     },
     "execution_count": 11,
     "metadata": {},
     "output_type": "execute_result"
    }
   ],
   "source": [
    "v1 = Matrix(Out[10][:3])  \n",
    "v2 = Matrix(Out[10][3:6]) \n",
    "v3 = Matrix(Out[10][6:9]) \n",
    "v4 = Matrix(Out[10][9:12])\n",
    "\n",
    "v1, v2, v3, v4"
   ]
  },
  {
   "cell_type": "markdown",
   "metadata": {},
   "source": [
    "We are assuming that $T\\colon \\mathbb{R}^3 \\rightarrow \\mathbb{R}^3$ is a linear transformation such that $\\mathbf{v}_{1} = T(\\mathbf{u}_{1})$ Meaning that $\\begin{bmatrix} 3 \\\\ 15 \\\\ 14 \\end{bmatrix}$, which are the first 3 numbers that correspond to CON, somehow maps to $\\begin{bmatrix} 125 \\\\ 99 \\\\ 91 \\end{bmatrix}$."
   ]
  },
  {
   "cell_type": "markdown",
   "metadata": {},
   "source": [
    "Therefore, we need to find $T$, which is the encryption matrix $A$. After we find $A$, we shall test it for invertibility. This will at least indicate whether or not we are in the right direction. If $A$ if invertible, we shall compute $A^{-1}$ to give us the decryption key."
   ]
  },
  {
   "cell_type": "markdown",
   "metadata": {},
   "source": [
    "We need to find a 3 x 3 matrix such that it can multiply to $\\mathbf{u}$ to give us the decryption key. If $\\mathbf{u}$ is the matrix for the first 12 letters of \"CONFIDENTIAL\", then $\\mathbf{u}$ would be $T(\\mathbf{v})$, the first 12 letters after the transformation. Therefore, we should perform matrix multiplication to give us the encryption key $A$. "
   ]
  },
  {
   "cell_type": "markdown",
   "metadata": {},
   "source": [
    "Note that \"CONFIDENTIAL\" is 12 letters long, and the $3 x 3$ matrix we seek contains 9 entries by definition. Because of this, we will chop the last 3 letters of \"CONFIDENTIAL\" so that it spells \"CONFIDENT\". So by construction, $$\\mathbf{v} = \\begin{bmatrix} 3 & 6 & 5 \\\\ 15 & 9 & 14 \\\\ 14 & 4 & 20 \\end{bmatrix},\\hspace{.5cm} T(\\mathbf{v}) = \\mathbf{u} = \\begin{bmatrix} 125 & 100 & 139 \\\\ 99 & 93 & 110 \\\\ 91 & 50 & 101 \\end{bmatrix}$$  "
   ]
  },
  {
   "cell_type": "markdown",
   "metadata": {},
   "source": [
    "In order to determine what we're multiplying, we need to do some algebriac manipulation. Observe."
   ]
  },
  {
   "cell_type": "markdown",
   "metadata": {},
   "source": [
    "Let $\\mathbf{v} = \\begin{bmatrix} 3 & 6 & 5 \\\\ 15 & 9 & 14 \\\\ 14 & 4 & 20 \\end{bmatrix}$ and $\\mathbf{u} = \\begin{bmatrix} 125 & 100 & 139 \\\\ 99 & 93 & 110 \\\\ 91 & 50 & 101 \\end{bmatrix}$"
   ]
  },
  {
   "cell_type": "markdown",
   "metadata": {},
   "source": [
    "If $A\\mathbf{x} = b$, then $A\\mathbf{v} = \\mathbf{u}$ "
   ]
  },
  {
   "cell_type": "markdown",
   "metadata": {},
   "source": [
    "$$A\\mathbf{v} = \\mathbf{u}$$ "
   ]
  },
  {
   "cell_type": "markdown",
   "metadata": {},
   "source": [
    "$$A(\\mathbf{v}\\times\\mathbf{v}^{-1}) = \\mathbf{u}\\times\\mathbf{v}^{-1}$$  "
   ]
  },
  {
   "cell_type": "markdown",
   "metadata": {},
   "source": [
    "$$\\therefore A = \\mathbf{u}\\times \\mathbf{v}^{-1}$$ "
   ]
  },
  {
   "cell_type": "markdown",
   "metadata": {},
   "source": [
    "According to our derivation, we need to calculate $\\mathbf{u}$ times the inverse of $\\mathbf{v}$ (or $\\mathbf{v^{-1}}$), to give us the encryption key $A$ "
   ]
  },
  {
   "cell_type": "code",
   "execution_count": 12,
   "metadata": {},
   "outputs": [
    {
     "data": {
      "text/latex": [
       "$$\\left ( \\left[\\begin{matrix}3 & 6 & 5\\\\15 & 9 & 14\\\\14 & 4 & 20\\end{matrix}\\right], \\quad \\left[\\begin{matrix}125 & 100 & 139\\\\99 & 93 & 110\\\\91 & 50 & 101\\end{matrix}\\right]\\right )$$"
      ],
      "text/plain": [
       "⎛⎡3   6  5 ⎤  ⎡125  100  139⎤⎞\n",
       "⎜⎢         ⎥  ⎢             ⎥⎟\n",
       "⎜⎢15  9  14⎥, ⎢99   93   110⎥⎟\n",
       "⎜⎢         ⎥  ⎢             ⎥⎟\n",
       "⎝⎣14  4  20⎦  ⎣91   50   101⎦⎠"
      ]
     },
     "execution_count": 12,
     "metadata": {},
     "output_type": "execute_result"
    }
   ],
   "source": [
    "v = Matrix([[3,6,5],[15,9,14],[14,4,20]]) # `char2num()` for \"CONFIDENT\" matrix\n",
    "u = Matrix([[125,100,139],[99,93,110],[91,50,101]]) #\"CONFIDENT\" after transformation matrix\n",
    "v,u"
   ]
  },
  {
   "cell_type": "code",
   "execution_count": 13,
   "metadata": {},
   "outputs": [
    {
     "data": {
      "text/latex": [
       "$$\\left[\\begin{matrix}- \\frac{62}{291} & \\frac{50}{291} & - \\frac{13}{194}\\\\\\frac{52}{291} & \\frac{5}{291} & - \\frac{11}{194}\\\\\\frac{11}{97} & - \\frac{12}{97} & \\frac{21}{194}\\end{matrix}\\right]$$"
      ],
      "text/plain": [
       "⎡-62     50   -13 ⎤\n",
       "⎢────   ───   ────⎥\n",
       "⎢291    291   194 ⎥\n",
       "⎢                 ⎥\n",
       "⎢ 52          -11 ⎥\n",
       "⎢───   5/291  ────⎥\n",
       "⎢291          194 ⎥\n",
       "⎢                 ⎥\n",
       "⎢ 11   -12     21 ⎥\n",
       "⎢ ──   ────   ─── ⎥\n",
       "⎣ 97    97    194 ⎦"
      ]
     },
     "execution_count": 13,
     "metadata": {},
     "output_type": "execute_result"
    }
   ],
   "source": [
    "v**-1 #inverse of v"
   ]
  },
  {
   "cell_type": "code",
   "execution_count": 14,
   "metadata": {},
   "outputs": [
    {
     "data": {
      "text/latex": [
       "$$\\left[\\begin{matrix}7 & 6 & 1\\\\8 & 5 & 0\\\\1 & 4 & 2\\end{matrix}\\right]$$"
      ],
      "text/plain": [
       "⎡7  6  1⎤\n",
       "⎢       ⎥\n",
       "⎢8  5  0⎥\n",
       "⎢       ⎥\n",
       "⎣1  4  2⎦"
      ]
     },
     "execution_count": 14,
     "metadata": {},
     "output_type": "execute_result"
    }
   ],
   "source": [
    "u * v**-1 #Possible encryption key"
   ]
  },
  {
   "cell_type": "code",
   "execution_count": 15,
   "metadata": {},
   "outputs": [
    {
     "data": {
      "text/latex": [
       "$$\\left[\\begin{matrix}10 & -8 & -5\\\\-16 & 13 & 8\\\\27 & -22 & -13\\end{matrix}\\right]$$"
      ],
      "text/plain": [
       "⎡10   -8   -5 ⎤\n",
       "⎢             ⎥\n",
       "⎢-16  13    8 ⎥\n",
       "⎢             ⎥\n",
       "⎣27   -22  -13⎦"
      ]
     },
     "execution_count": 15,
     "metadata": {},
     "output_type": "execute_result"
    }
   ],
   "source": [
    "Out[14]**-1 #Therefore possible decryption key"
   ]
  },
  {
   "cell_type": "code",
   "execution_count": 16,
   "metadata": {},
   "outputs": [
    {
     "data": {
      "text/latex": [
       "$$\\left ( \\left[\\begin{matrix}7 & 6 & 1\\\\8 & 5 & 0\\\\1 & 4 & 2\\end{matrix}\\right], \\quad \\left[\\begin{matrix}10 & -8 & -5\\\\-16 & 13 & 8\\\\27 & -22 & -13\\end{matrix}\\right]\\right )$$"
      ],
      "text/plain": [
       "⎛⎡7  6  1⎤  ⎡10   -8   -5 ⎤⎞\n",
       "⎜⎢       ⎥  ⎢             ⎥⎟\n",
       "⎜⎢8  5  0⎥, ⎢-16  13    8 ⎥⎟\n",
       "⎜⎢       ⎥  ⎢             ⎥⎟\n",
       "⎝⎣1  4  2⎦  ⎣27   -22  -13⎦⎠"
      ]
     },
     "execution_count": 16,
     "metadata": {},
     "output_type": "execute_result"
    }
   ],
   "source": [
    "D = Matrix([[7,6,1],[8,5,0],[1,4,2]]) #encryption key\n",
    "De = Matrix([[10,-8,-5],[-16,13,8],[27,-22,-13]]) #decryption key\n",
    "\n",
    "D,De #(encryption key), (decryption key)"
   ]
  },
  {
   "cell_type": "markdown",
   "metadata": {},
   "source": [
    "Verifying the encryption key: "
   ]
  },
  {
   "cell_type": "code",
   "execution_count": 17,
   "metadata": {},
   "outputs": [
    {
     "data": {
      "text/latex": [
       "$$\\left[\\begin{matrix}125\\\\99\\\\91\\end{matrix}\\right]$$"
      ],
      "text/plain": [
       "⎡125⎤\n",
       "⎢   ⎥\n",
       "⎢99 ⎥\n",
       "⎢   ⎥\n",
       "⎣91 ⎦"
      ]
     },
     "execution_count": 17,
     "metadata": {},
     "output_type": "execute_result"
    }
   ],
   "source": [
    "D*v1"
   ]
  },
  {
   "cell_type": "markdown",
   "metadata": {},
   "source": [
    "The encryption key is therefore valid because $\\mathbf{v}_{1} = \\begin{bmatrix} 3 \\\\ 15\\\\ 14 \\end{bmatrix} \\rightarrow \\mathbf{u}_{1} = \\begin{bmatrix} 125 \\\\ 99 \\\\ 91 \\end{bmatrix}$"
   ]
  },
  {
   "cell_type": "markdown",
   "metadata": {},
   "source": [
    "Computing $A = \\mathbf{u}\\times\\mathbf{v}^{-1}$ for each vectors:"
   ]
  },
  {
   "cell_type": "code",
   "execution_count": 18,
   "metadata": {},
   "outputs": [
    {
     "data": {
      "text/latex": [
       "$$\\left ( \\left[\\begin{matrix}3\\\\15\\\\14\\end{matrix}\\right], \\quad \\left[\\begin{matrix}6\\\\9\\\\4\\end{matrix}\\right], \\quad \\left[\\begin{matrix}5\\\\14\\\\20\\end{matrix}\\right], \\quad \\left[\\begin{matrix}9\\\\1\\\\12\\end{matrix}\\right], \\quad \\left[\\begin{matrix}0\\\\23\\\\9\\end{matrix}\\right], \\quad \\left[\\begin{matrix}19\\\\4\\\\15\\end{matrix}\\right], \\quad \\left[\\begin{matrix}13\\\\0\\\\9\\end{matrix}\\right], \\quad \\left[\\begin{matrix}19\\\\0\\\\1\\end{matrix}\\right], \\quad \\left[\\begin{matrix}3\\\\17\\\\21\\end{matrix}\\right], \\quad \\left[\\begin{matrix}9\\\\18\\\\5\\end{matrix}\\right], \\quad \\left[\\begin{matrix}4\\\\0\\\\2\\end{matrix}\\right], \\quad \\left[\\begin{matrix}25\\\\0\\\\13\\end{matrix}\\right], \\quad \\left[\\begin{matrix}5\\\\4\\\\9\\end{matrix}\\right], \\quad \\left[\\begin{matrix}20\\\\1\\\\20\\end{matrix}\\right], \\quad \\left[\\begin{matrix}9\\\\15\\\\14\\end{matrix}\\right]\\right )$$"
      ],
      "text/plain": [
       "⎛⎡3 ⎤  ⎡6⎤  ⎡5 ⎤  ⎡9 ⎤  ⎡0 ⎤  ⎡19⎤  ⎡13⎤  ⎡19⎤  ⎡3 ⎤  ⎡9 ⎤  ⎡4⎤  ⎡25⎤  ⎡5⎤  ⎡2\n",
       "⎜⎢  ⎥  ⎢ ⎥  ⎢  ⎥  ⎢  ⎥  ⎢  ⎥  ⎢  ⎥  ⎢  ⎥  ⎢  ⎥  ⎢  ⎥  ⎢  ⎥  ⎢ ⎥  ⎢  ⎥  ⎢ ⎥  ⎢ \n",
       "⎜⎢15⎥, ⎢9⎥, ⎢14⎥, ⎢1 ⎥, ⎢23⎥, ⎢4 ⎥, ⎢0 ⎥, ⎢0 ⎥, ⎢17⎥, ⎢18⎥, ⎢0⎥, ⎢0 ⎥, ⎢4⎥, ⎢1\n",
       "⎜⎢  ⎥  ⎢ ⎥  ⎢  ⎥  ⎢  ⎥  ⎢  ⎥  ⎢  ⎥  ⎢  ⎥  ⎢  ⎥  ⎢  ⎥  ⎢  ⎥  ⎢ ⎥  ⎢  ⎥  ⎢ ⎥  ⎢ \n",
       "⎝⎣14⎦  ⎣4⎦  ⎣20⎦  ⎣12⎦  ⎣9 ⎦  ⎣15⎦  ⎣9 ⎦  ⎣1 ⎦  ⎣21⎦  ⎣5 ⎦  ⎣2⎦  ⎣13⎦  ⎣9⎦  ⎣2\n",
       "\n",
       "0⎤  ⎡9 ⎤⎞\n",
       " ⎥  ⎢  ⎥⎟\n",
       " ⎥, ⎢15⎥⎟\n",
       " ⎥  ⎢  ⎥⎟\n",
       "0⎦  ⎣14⎦⎠"
      ]
     },
     "execution_count": 18,
     "metadata": {},
     "output_type": "execute_result"
    }
   ],
   "source": [
    "A1 = De*u1\n",
    "A2 = De*u2\n",
    "A3 = De*u3\n",
    "A4 = De*u4\n",
    "A5 = De*u5\n",
    "A6 = De*u6\n",
    "A7 = De*u7\n",
    "A8 = De*u8\n",
    "A9 = De*u9\n",
    "A10 = De*u10\n",
    "A11 = De*u11\n",
    "A12 = De*u12\n",
    "A13 = De*u13\n",
    "A14 = De*u14\n",
    "A15 = De*u15\n",
    "\n",
    "A1, A2, A3, A4, A5, A6, A7, A8, A9, A10, A11, A12, A13, A14, A15"
   ]
  },
  {
   "cell_type": "code",
   "execution_count": 19,
   "metadata": {},
   "outputs": [
    {
     "data": {
      "text/latex": [
       "$$\\left ( \\left[\\begin{matrix}125\\\\99\\\\91\\end{matrix}\\right], \\quad \\left[\\begin{matrix}100\\\\93\\\\50\\end{matrix}\\right], \\quad \\left[\\begin{matrix}139\\\\110\\\\101\\end{matrix}\\right], \\quad \\left[\\begin{matrix}81\\\\77\\\\37\\end{matrix}\\right], \\quad \\left[\\begin{matrix}147\\\\115\\\\110\\end{matrix}\\right], \\quad \\left[\\begin{matrix}172\\\\172\\\\65\\end{matrix}\\right], \\quad \\left[\\begin{matrix}100\\\\104\\\\31\\end{matrix}\\right], \\quad \\left[\\begin{matrix}134\\\\152\\\\21\\end{matrix}\\right], \\quad \\left[\\begin{matrix}144\\\\109\\\\113\\end{matrix}\\right], \\quad \\left[\\begin{matrix}176\\\\162\\\\91\\end{matrix}\\right], \\quad \\left[\\begin{matrix}30\\\\32\\\\8\\end{matrix}\\right], \\quad \\left[\\begin{matrix}188\\\\200\\\\51\\end{matrix}\\right], \\quad \\left[\\begin{matrix}68\\\\60\\\\39\\end{matrix}\\right], \\quad \\left[\\begin{matrix}166\\\\165\\\\64\\end{matrix}\\right], \\quad \\left[\\begin{matrix}167\\\\147\\\\97\\end{matrix}\\right]\\right )$$"
      ],
      "text/plain": [
       "⎛⎡125⎤  ⎡100⎤  ⎡139⎤  ⎡81⎤  ⎡147⎤  ⎡172⎤  ⎡100⎤  ⎡134⎤  ⎡144⎤  ⎡176⎤  ⎡30⎤  ⎡1\n",
       "⎜⎢   ⎥  ⎢   ⎥  ⎢   ⎥  ⎢  ⎥  ⎢   ⎥  ⎢   ⎥  ⎢   ⎥  ⎢   ⎥  ⎢   ⎥  ⎢   ⎥  ⎢  ⎥  ⎢ \n",
       "⎜⎢99 ⎥, ⎢93 ⎥, ⎢110⎥, ⎢77⎥, ⎢115⎥, ⎢172⎥, ⎢104⎥, ⎢152⎥, ⎢109⎥, ⎢162⎥, ⎢32⎥, ⎢2\n",
       "⎜⎢   ⎥  ⎢   ⎥  ⎢   ⎥  ⎢  ⎥  ⎢   ⎥  ⎢   ⎥  ⎢   ⎥  ⎢   ⎥  ⎢   ⎥  ⎢   ⎥  ⎢  ⎥  ⎢ \n",
       "⎝⎣91 ⎦  ⎣50 ⎦  ⎣101⎦  ⎣37⎦  ⎣110⎦  ⎣65 ⎦  ⎣31 ⎦  ⎣21 ⎦  ⎣113⎦  ⎣91 ⎦  ⎣8 ⎦  ⎣5\n",
       "\n",
       "88⎤  ⎡68⎤  ⎡166⎤  ⎡167⎤⎞\n",
       "  ⎥  ⎢  ⎥  ⎢   ⎥  ⎢   ⎥⎟\n",
       "00⎥, ⎢60⎥, ⎢165⎥, ⎢147⎥⎟\n",
       "  ⎥  ⎢  ⎥  ⎢   ⎥  ⎢   ⎥⎟\n",
       "1 ⎦  ⎣39⎦  ⎣64 ⎦  ⎣97 ⎦⎠"
      ]
     },
     "execution_count": 19,
     "metadata": {},
     "output_type": "execute_result"
    }
   ],
   "source": [
    "u1, u2, u3, u4, u5, u6, u7, u8, u9, u10, u11, u12, u13, u14, u15 #used for cross-checking"
   ]
  },
  {
   "cell_type": "code",
   "execution_count": 20,
   "metadata": {},
   "outputs": [
    {
     "data": {
      "text/latex": [
       "$$\\left [ 3, \\quad 15, \\quad 14, \\quad 6, \\quad 9, \\quad 4, \\quad 5, \\quad 14, \\quad 20, \\quad 9, \\quad 1, \\quad 12, \\quad 0, \\quad 23, \\quad 9, \\quad 19, \\quad 4, \\quad 15, \\quad 13, \\quad 0, \\quad 9, \\quad 19, \\quad 0, \\quad 1, \\quad 3, \\quad 17, \\quad 21, \\quad 9, \\quad 18, \\quad 5, \\quad 4, \\quad 0, \\quad 2, \\quad 25, \\quad 0, \\quad 13, \\quad 5, \\quad 4, \\quad 9, \\quad 20, \\quad 1, \\quad 20, \\quad 9, \\quad 15, \\quad 14\\right ]$$"
      ],
      "text/plain": [
       "[3, 15, 14, 6, 9, 4, 5, 14, 20, 9, 1, 12, 0, 23, 9, 19, 4, 15, 13, 0, 9, 19, 0\n",
       ", 1, 3, 17, 21, 9, 18, 5, 4, 0, 2, 25, 0, 13, 5, 4, 9, 20, 1, 20, 9, 15, 14]"
      ]
     },
     "execution_count": 20,
     "metadata": {},
     "output_type": "execute_result"
    }
   ],
   "source": [
    "numbers = list(Matrix([A1, A2, A3, A4, A5, A6, A7, A8, A9, A10, A11, A12, A13, A14, A15])) #converting the matrix to a list\n",
    "numbers"
   ]
  },
  {
   "cell_type": "markdown",
   "metadata": {},
   "source": [
    "Converting numbers to letters: "
   ]
  },
  {
   "cell_type": "code",
   "execution_count": 21,
   "metadata": {},
   "outputs": [
    {
     "name": "stdout",
     "output_type": "stream",
     "text": [
      "   3  15  14   6   9   4   5  14  20   9   1  12   0  23   9  19   4  15  13   0\n",
      "   C   O   N   F   I   D   E   N   T   I   A   L   _   W   I   S   D   O   M   _\n",
      "\n",
      "   9  19   0   1   3  17  21   9  18   5   4   0   2  25   0  13   5   4   9  20\n",
      "   I   S   _   A   C   Q   U   I   R   E   D   _   B   Y   _   M   E   D   I   T\n",
      "\n",
      "   1  20   9  15  14\n",
      "   A   T   I   O   N\n",
      "\n"
     ]
    }
   ],
   "source": [
    "num2char(numbers)"
   ]
  },
  {
   "cell_type": "code",
   "execution_count": 22,
   "metadata": {},
   "outputs": [
    {
     "name": "stdout",
     "output_type": "stream",
     "text": [
      "The message is:\n"
     ]
    },
    {
     "data": {
      "text/plain": [
       "'CONFIDENTIAL_WISDOM_IS_ACQUIRED_BY_MEDITATION'"
      ]
     },
     "execution_count": 22,
     "metadata": {},
     "output_type": "execute_result"
    }
   ],
   "source": [
    "print(\"The message is:\")\n",
    "num2char_text_only(numbers)"
   ]
  },
  {
   "cell_type": "markdown",
   "metadata": {},
   "source": [
    "$\\hspace{10in} \\blacksquare$"
   ]
  }
 ],
 "metadata": {
  "kernelspec": {
   "display_name": "Python 3",
   "language": "python",
   "name": "python3"
  },
  "language_info": {
   "codemirror_mode": {
    "name": "ipython",
    "version": 3
   },
   "file_extension": ".py",
   "mimetype": "text/x-python",
   "name": "python",
   "nbconvert_exporter": "python",
   "pygments_lexer": "ipython3",
   "version": "3.6.5"
  }
 },
 "nbformat": 4,
 "nbformat_minor": 2
}
