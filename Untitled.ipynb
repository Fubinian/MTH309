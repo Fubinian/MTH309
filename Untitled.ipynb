{
 "cells": [
  {
   "cell_type": "code",
   "execution_count": 1,
   "metadata": {},
   "outputs": [
    {
     "name": "stdout",
     "output_type": "stream",
     "text": [
      "Populating the interactive namespace from numpy and matplotlib\n"
     ]
    }
   ],
   "source": [
    "%pylab inline"
   ]
  },
  {
   "cell_type": "code",
   "execution_count": 2,
   "metadata": {},
   "outputs": [],
   "source": [
    "from sympy import *\n",
    "init_printing(use_latex='mathjax')\n",
    "from hill_cipher import *\n",
    "from hill_cipher_extra_credit import *\n",
    "from hamming import *"
   ]
  },
  {
   "cell_type": "markdown",
   "metadata": {},
   "source": [
    "## Steps:"
   ]
  },
  {
   "cell_type": "markdown",
   "metadata": {},
   "source": [
    "1) Compute 2 triple integrals of sperical coordinates to yield 2 9-digit numbers"
   ]
  },
  {
   "cell_type": "markdown",
   "metadata": {},
   "source": [
    "$$\\iiint\\limits_{E} {f(x,y,z)}\\space dxdydz\\longrightarrow\\int_0^{2\\pi}\\int_0^{\\pi}\\int_0^{\\infty}{f(\\rho,\\phi,\\theta)}\\space \\rho^{2} sin(\\phi) \\space d\\rho d\\phi d\\theta = a_1 ... a_9,  b_1...b_9$$"
   ]
  },
  {
   "cell_type": "markdown",
   "metadata": {},
   "source": [
    "$$a_1...a_9 = \\mathbf{A}^{T}$$"
   ]
  },
  {
   "cell_type": "markdown",
   "metadata": {},
   "source": [
    "$$\\mathbf{A}^{T} \\rightarrow \\mathbf{A}$$"
   ]
  },
  {
   "cell_type": "markdown",
   "metadata": {},
   "source": [
    "$$ b_1...b_9 = \\mathbf{B}$$"
   ]
  },
  {
   "cell_type": "markdown",
   "metadata": {},
   "source": [
    "$$\\mathbf{A} \\times \\mathbf{B} = \\mathbf{C}$$"
   ]
  },
  {
   "cell_type": "markdown",
   "metadata": {},
   "source": [
    "$$\\mathbf{C} \\rightarrow \\mathbf{C}^{13} $$"
   ]
  },
  {
   "cell_type": "markdown",
   "metadata": {},
   "source": [
    "$$\\mathbf{C}^{13} = \\mathbf{P\\space D}^{13}\\mathbf{P}^{-1}$$"
   ]
  },
  {
   "cell_type": "markdown",
   "metadata": {},
   "source": [
    "$$\\mathbf{C}^{13} \\rightarrow \\mathbf{E}$$"
   ]
  },
  {
   "cell_type": "markdown",
   "metadata": {},
   "source": [
    "$$\\mathbf{E} \\rightarrow \\text{Gram-Schmidt Process} \\rightarrow \\mathbf{E} = \\mathbf{QDQ^{-1}}$$"
   ]
  },
  {
   "cell_type": "markdown",
   "metadata": {},
   "source": [
    "$$\\mathbf{Q}^{-1} = \\text{Decryption Key, hence}$$"
   ]
  },
  {
   "cell_type": "markdown",
   "metadata": {},
   "source": [
    "$$\\mathbf{Q} = \\text{The encryption key}$$"
   ]
  },
  {
   "cell_type": "markdown",
   "metadata": {},
   "source": [
    "2) Perform Matrix diagonalization. The decryption key is $p^{-1}$."
   ]
  },
  {
   "cell_type": "markdown",
   "metadata": {},
   "source": [
    "3) SSN into `num2char`"
   ]
  },
  {
   "cell_type": "markdown",
   "metadata": {},
   "source": [
    "4) Multiply it by the encryption key $\\mathbf{Q}$"
   ]
  },
  {
   "cell_type": "markdown",
   "metadata": {},
   "source": [
    "## Encryption"
   ]
  },
  {
   "cell_type": "code",
   "execution_count": 3,
   "metadata": {},
   "outputs": [
    {
     "data": {
      "text/latex": [
       "$$9$$"
      ],
      "text/plain": [
       "9"
      ]
     },
     "execution_count": 3,
     "metadata": {},
     "output_type": "execute_result"
    }
   ],
   "source": [
    "message = \"ZENEEZEZE\"\n",
    "len(message)"
   ]
  },
  {
   "cell_type": "code",
   "execution_count": 4,
   "metadata": {},
   "outputs": [
    {
     "data": {
      "text/latex": [
       "$$\\left [ 26, \\quad 5, \\quad 14, \\quad 5, \\quad 5, \\quad 26, \\quad 5, \\quad 26, \\quad 5\\right ]$$"
      ],
      "text/plain": [
       "[26, 5, 14, 5, 5, 26, 5, 26, 5]"
      ]
     },
     "execution_count": 4,
     "metadata": {},
     "output_type": "execute_result"
    }
   ],
   "source": [
    "numbers = char2num(message)\n",
    "numbers"
   ]
  },
  {
   "cell_type": "code",
   "execution_count": 5,
   "metadata": {},
   "outputs": [
    {
     "data": {
      "text/latex": [
       "$$\\left ( \\left[\\begin{matrix}26\\\\5\\\\14\\end{matrix}\\right], \\quad \\left[\\begin{matrix}5\\\\5\\\\26\\end{matrix}\\right], \\quad \\left[\\begin{matrix}5\\\\26\\\\5\\end{matrix}\\right]\\right )$$"
      ],
      "text/plain": [
       "⎛⎡26⎤  ⎡5 ⎤  ⎡5 ⎤⎞\n",
       "⎜⎢  ⎥  ⎢  ⎥  ⎢  ⎥⎟\n",
       "⎜⎢5 ⎥, ⎢5 ⎥, ⎢26⎥⎟\n",
       "⎜⎢  ⎥  ⎢  ⎥  ⎢  ⎥⎟\n",
       "⎝⎣14⎦  ⎣26⎦  ⎣5 ⎦⎠"
      ]
     },
     "execution_count": 5,
     "metadata": {},
     "output_type": "execute_result"
    }
   ],
   "source": [
    "A1 = Matrix(numbers[:3])\n",
    "A2 = Matrix(numbers[3:6])\n",
    "A3 = Matrix(numbers[6:9])\n",
    "\n",
    "A1,A2,A3"
   ]
  },
  {
   "cell_type": "markdown",
   "metadata": {},
   "source": [
    "$\\downarrow \\text{Encryption Key} \\downarrow$ "
   ]
  },
  {
   "cell_type": "code",
   "execution_count": 6,
   "metadata": {},
   "outputs": [
    {
     "data": {
      "text/latex": [
       "$$\\left[\\begin{matrix}1 & 2 & 3\\\\4 & 5 & 6\\\\7 & 8 & 8\\end{matrix}\\right]$$"
      ],
      "text/plain": [
       "⎡1  2  3⎤\n",
       "⎢       ⎥\n",
       "⎢4  5  6⎥\n",
       "⎢       ⎥\n",
       "⎣7  8  8⎦"
      ]
     },
     "execution_count": 6,
     "metadata": {},
     "output_type": "execute_result"
    }
   ],
   "source": [
    "B = Matrix([[1,2,3],[4,5,6],[7,8,8]]) #Encryption Key\n",
    "B"
   ]
  },
  {
   "cell_type": "markdown",
   "metadata": {},
   "source": [
    "$\\uparrow \\text{Encryption Key} \\uparrow$"
   ]
  },
  {
   "cell_type": "markdown",
   "metadata": {},
   "source": [
    "$\\downarrow \\text{Decryption Key} \\downarrow$"
   ]
  },
  {
   "cell_type": "code",
   "execution_count": 34,
   "metadata": {},
   "outputs": [
    {
     "data": {
      "text/latex": [
       "$$\\left[\\begin{matrix}- \\frac{8}{3} & \\frac{8}{3} & -1\\\\\\frac{10}{3} & - \\frac{13}{3} & 2\\\\-1 & 2 & -1\\end{matrix}\\right]$$"
      ],
      "text/plain": [
       "⎡-8/3   8/3   -1⎤\n",
       "⎢               ⎥\n",
       "⎢10/3  -13/3  2 ⎥\n",
       "⎢               ⎥\n",
       "⎣ -1     2    -1⎦"
      ]
     },
     "execution_count": 34,
     "metadata": {},
     "output_type": "execute_result"
    }
   ],
   "source": [
    "B.inv() #Decryption Key"
   ]
  },
  {
   "cell_type": "markdown",
   "metadata": {},
   "source": [
    "$\\uparrow \\text{Decryption key} \\uparrow$"
   ]
  },
  {
   "cell_type": "code",
   "execution_count": 35,
   "metadata": {},
   "outputs": [
    {
     "data": {
      "text/latex": [
       "$$\\left ( \\left[\\begin{matrix}78\\\\213\\\\334\\end{matrix}\\right], \\quad \\left[\\begin{matrix}93\\\\201\\\\283\\end{matrix}\\right], \\quad \\left[\\begin{matrix}72\\\\180\\\\283\\end{matrix}\\right]\\right )$$"
      ],
      "text/plain": [
       "⎛⎡78 ⎤  ⎡93 ⎤  ⎡72 ⎤⎞\n",
       "⎜⎢   ⎥  ⎢   ⎥  ⎢   ⎥⎟\n",
       "⎜⎢213⎥, ⎢201⎥, ⎢180⎥⎟\n",
       "⎜⎢   ⎥  ⎢   ⎥  ⎢   ⎥⎟\n",
       "⎝⎣334⎦  ⎣283⎦  ⎣283⎦⎠"
      ]
     },
     "execution_count": 35,
     "metadata": {},
     "output_type": "execute_result"
    }
   ],
   "source": [
    "C1 = B * A1\n",
    "C2 = B * A2\n",
    "C3 = B * A3\n",
    "\n",
    "C1,C2,C3"
   ]
  },
  {
   "cell_type": "code",
   "execution_count": 36,
   "metadata": {},
   "outputs": [
    {
     "data": {
      "text/latex": [
       "$$\\left [ 78, \\quad 213, \\quad 334, \\quad 93, \\quad 201, \\quad 283, \\quad 72, \\quad 180, \\quad 283\\right ]$$"
      ],
      "text/plain": [
       "[78, 213, 334, 93, 201, 283, 72, 180, 283]"
      ]
     },
     "execution_count": 36,
     "metadata": {},
     "output_type": "execute_result"
    }
   ],
   "source": [
    "cipher = list(Matrix([C1,C2,C3]))\n",
    "cipher"
   ]
  },
  {
   "cell_type": "code",
   "execution_count": 30,
   "metadata": {},
   "outputs": [
    {
     "data": {
      "text/latex": [
       "$$9$$"
      ],
      "text/plain": [
       "9"
      ]
     },
     "execution_count": 30,
     "metadata": {},
     "output_type": "execute_result"
    }
   ],
   "source": [
    "len(cipher)"
   ]
  },
  {
   "cell_type": "markdown",
   "metadata": {},
   "source": [
    "## Decryption "
   ]
  },
  {
   "cell_type": "markdown",
   "metadata": {},
   "source": [
    "### Evaluate the following 2 triple integrals to yield the decryption key"
   ]
  },
  {
   "cell_type": "markdown",
   "metadata": {},
   "source": [
    "$$\\sum_{i=1}^{24}\\sum_{j=1}^{24}\n",
    "\\left(\n",
    "    i^{j}ln\\left(63j+392i-\\sqrt{i}\\right)\n",
    "    +\n",
    "    \\left(\n",
    "        \\frac{\\partial}{\\partial i}\n",
    "            \\left(\\frac{726i+473j-271}{\\left(97j+17i\\right)^2}\\right)\n",
    "        -\n",
    "        \\frac{\\partial}{\\partial j}\n",
    "            \\left(\\frac{35e^{356i-j}}{65tan^{-1}(i\\pi)}\\right)\n",
    "    \\right)\n",
    "\\right)\n",
    "$$"
   ]
  },
  {
   "cell_type": "markdown",
   "metadata": {},
   "source": [
    "$$\\sum_{i=1}^{11}\\sum_{j=1}^{11} \n",
    "\\left(\n",
    "    \\frac{\\partial^{2}}{\\partial i \\space \\partial j}\n",
    "        \\left(\n",
    "        e^{i^{j}} \n",
    "        + \n",
    "        \\left(\n",
    "        2125i^{2} + 1513i + 25\\right)^{i} + 37792i \\sqrt j\n",
    "        \\right) \n",
    "    + \n",
    "    \\frac{\\partial^{2}}{\\partial j \\space \\partial i}\n",
    "    \\left(\n",
    "        \\left(32795^{ln\\left(235i\\right)^{j}} + 11309j\\right)\n",
    "    \\right)\n",
    "    +\n",
    "    \\sqrt{3176i^{j} + 4687j^{i} -711i^{j/2}}\n",
    "    +\n",
    "    87109^{i/2}\n",
    "\\right)$$"
   ]
  },
  {
   "cell_type": "markdown",
   "metadata": {},
   "source": [
    "## Finding the Decryption Matrix"
   ]
  },
  {
   "cell_type": "code",
   "execution_count": 6,
   "metadata": {},
   "outputs": [
    {
     "data": {
      "text/latex": [
       "$$\\left[\\begin{matrix}8 & 2 & 3\\\\5 & 2 & 3\\\\6 & 6 & 2\\end{matrix}\\right]$$"
      ],
      "text/plain": [
       "⎡8  2  3⎤\n",
       "⎢       ⎥\n",
       "⎢5  2  3⎥\n",
       "⎢       ⎥\n",
       "⎣6  6  2⎦"
      ]
     },
     "execution_count": 6,
     "metadata": {},
     "output_type": "execute_result"
    }
   ],
   "source": [
    "Z1 = Matrix([[8,2,3],[5,2,3],[6,6,2]]) \n",
    "Z1"
   ]
  },
  {
   "cell_type": "code",
   "execution_count": 7,
   "metadata": {},
   "outputs": [
    {
     "data": {
      "text/latex": [
       "$$\\left[\\begin{matrix}8 & 5 & 6\\\\2 & 2 & 6\\\\3 & 3 & 2\\end{matrix}\\right]$$"
      ],
      "text/plain": [
       "⎡8  5  6⎤\n",
       "⎢       ⎥\n",
       "⎢2  2  6⎥\n",
       "⎢       ⎥\n",
       "⎣3  3  2⎦"
      ]
     },
     "execution_count": 7,
     "metadata": {},
     "output_type": "execute_result"
    }
   ],
   "source": [
    "Z1T = Z1.transpose()\n",
    "Z1T"
   ]
  },
  {
   "cell_type": "code",
   "execution_count": 8,
   "metadata": {},
   "outputs": [
    {
     "data": {
      "text/latex": [
       "$$\\left[\\begin{matrix}2 & 9 & 4\\\\2 & 4 & 9\\\\5 & 4 & 8\\end{matrix}\\right]$$"
      ],
      "text/plain": [
       "⎡2  9  4⎤\n",
       "⎢       ⎥\n",
       "⎢2  4  9⎥\n",
       "⎢       ⎥\n",
       "⎣5  4  8⎦"
      ]
     },
     "execution_count": 8,
     "metadata": {},
     "output_type": "execute_result"
    }
   ],
   "source": [
    "Z2 = Matrix([[2,9,4],[2,4,9],[5,4,8]])\n",
    "Z2"
   ]
  },
  {
   "cell_type": "code",
   "execution_count": 19,
   "metadata": {},
   "outputs": [
    {
     "data": {
      "text/latex": [
       "$$\\left[\\begin{matrix}6 & -4 & 2\\\\0 & -2 & -3\\\\-2 & -1 & -6\\end{matrix}\\right]$$"
      ],
      "text/plain": [
       "⎡6   -4  2 ⎤\n",
       "⎢          ⎥\n",
       "⎢0   -2  -3⎥\n",
       "⎢          ⎥\n",
       "⎣-2  -1  -6⎦"
      ]
     },
     "execution_count": 19,
     "metadata": {},
     "output_type": "execute_result"
    }
   ],
   "source": [
    "C = Z1T-Z2\n",
    "C"
   ]
  },
  {
   "cell_type": "code",
   "execution_count": 8,
   "metadata": {},
   "outputs": [
    {
     "data": {
      "text/latex": [
       "$$\\left[\\begin{matrix}- \\frac{53}{312} & - \\frac{61}{156} & \\frac{125}{156}\\\\\\frac{127}{312} & \\frac{77}{156} & - \\frac{223}{156}\\\\- \\frac{3}{13} & - \\frac{2}{13} & \\frac{9}{13}\\end{matrix}\\right]$$"
      ],
      "text/plain": [
       "⎡-53    -61     125 ⎤\n",
       "⎢────   ────    ─── ⎥\n",
       "⎢312    156     156 ⎥\n",
       "⎢                   ⎥\n",
       "⎢ 127     77   -223 ⎥\n",
       "⎢ ───    ───   ─────⎥\n",
       "⎢ 312    156    156 ⎥\n",
       "⎢                   ⎥\n",
       "⎣-3/13  -2/13  9/13 ⎦"
      ]
     },
     "execution_count": 8,
     "metadata": {},
     "output_type": "execute_result"
    }
   ],
   "source": [
    "#Y = C.inv() # DEPRECATED\n",
    "#Y"
   ]
  },
  {
   "cell_type": "markdown",
   "metadata": {},
   "source": [
    "$$\\downarrow \\text{Squaring the Matrix} \\downarrow $$"
   ]
  },
  {
   "cell_type": "code",
   "execution_count": 16,
   "metadata": {},
   "outputs": [
    {
     "data": {
      "text/latex": [
       "$$\\left[\\begin{matrix}303698264 & 543926813 & 666506993\\\\169900640 & 304381412 & 372908384\\\\124991188 & 223864181 & 274311901\\end{matrix}\\right]$$"
      ],
      "text/plain": [
       "⎡303698264  543926813  666506993⎤\n",
       "⎢                               ⎥\n",
       "⎢169900640  304381412  372908384⎥\n",
       "⎢                               ⎥\n",
       "⎣124991188  223864181  274311901⎦"
      ]
     },
     "execution_count": 16,
     "metadata": {},
     "output_type": "execute_result"
    }
   ],
   "source": [
    "W = C**4\n",
    "W"
   ]
  },
  {
   "cell_type": "markdown",
   "metadata": {},
   "source": [
    "$$\\uparrow \\text{Squaring the Matrix} \\uparrow $$"
   ]
  },
  {
   "cell_type": "markdown",
   "metadata": {},
   "source": [
    "$$\\downarrow \\text{Gram-Schmidt Process} \\downarrow$$"
   ]
  },
  {
   "cell_type": "code",
   "execution_count": 20,
   "metadata": {},
   "outputs": [
    {
     "data": {
      "text/latex": [
       "$$\\left ( \\left[\\begin{matrix}6\\\\0\\\\-2\\end{matrix}\\right], \\quad \\left[\\begin{matrix}-4\\\\-2\\\\-1\\end{matrix}\\right], \\quad \\left[\\begin{matrix}2\\\\-3\\\\-6\\end{matrix}\\right]\\right )$$"
      ],
      "text/plain": [
       "⎛⎡6 ⎤  ⎡-4⎤  ⎡2 ⎤⎞\n",
       "⎜⎢  ⎥  ⎢  ⎥  ⎢  ⎥⎟\n",
       "⎜⎢0 ⎥, ⎢-2⎥, ⎢-3⎥⎟\n",
       "⎜⎢  ⎥  ⎢  ⎥  ⎢  ⎥⎟\n",
       "⎝⎣-2⎦  ⎣-1⎦  ⎣-6⎦⎠"
      ]
     },
     "execution_count": 20,
     "metadata": {},
     "output_type": "execute_result"
    }
   ],
   "source": [
    "u = Matrix([[6],[0],[-2]])\n",
    "v = Matrix([[-4],[-2],[-1]])\n",
    "w = Matrix([[2],[-3],[-6]])\n",
    "\n",
    "u,v,w"
   ]
  },
  {
   "cell_type": "code",
   "execution_count": 21,
   "metadata": {},
   "outputs": [
    {
     "data": {
      "text/latex": [
       "$$\\left [ \\left[\\begin{matrix}6\\\\0\\\\-2\\end{matrix}\\right], \\quad \\left[\\begin{matrix}- \\frac{7}{10}\\\\-2\\\\- \\frac{21}{10}\\end{matrix}\\right], \\quad \\left[\\begin{matrix}- \\frac{22}{89}\\\\\\frac{77}{89}\\\\- \\frac{66}{89}\\end{matrix}\\right]\\right ]$$"
      ],
      "text/plain": [
       "⎡               ⎡-22 ⎤⎤\n",
       "⎢               ⎢────⎥⎥\n",
       "⎢      ⎡-7/10⎤  ⎢ 89 ⎥⎥\n",
       "⎢⎡6 ⎤  ⎢     ⎥  ⎢    ⎥⎥\n",
       "⎢⎢  ⎥  ⎢ -2  ⎥  ⎢ 77 ⎥⎥\n",
       "⎢⎢0 ⎥, ⎢     ⎥, ⎢ ── ⎥⎥\n",
       "⎢⎢  ⎥  ⎢-21  ⎥  ⎢ 89 ⎥⎥\n",
       "⎢⎣-2⎦  ⎢──── ⎥  ⎢    ⎥⎥\n",
       "⎢      ⎣ 10  ⎦  ⎢-66 ⎥⎥\n",
       "⎢               ⎢────⎥⎥\n",
       "⎣               ⎣ 89 ⎦⎦"
      ]
     },
     "execution_count": 21,
     "metadata": {},
     "output_type": "execute_result"
    }
   ],
   "source": [
    "GramSchmidt([u,v,w])#,orthonormal = True)"
   ]
  },
  {
   "cell_type": "markdown",
   "metadata": {},
   "source": [
    "$$\\uparrow \\text{Gram-Schmidt Process} \\uparrow$$"
   ]
  },
  {
   "cell_type": "code",
   "execution_count": 22,
   "metadata": {},
   "outputs": [
    {
     "data": {
      "text/latex": [
       "$$\\left[\\begin{matrix}6 & -0.7 & -0.247191011235955\\\\0 & -2 & 0.865168539325843\\\\-2 & -3.1 & -0.741573033707865\\end{matrix}\\right]$$"
      ],
      "text/plain": [
       "⎡6   -0.7  -0.247191011235955⎤\n",
       "⎢                            ⎥\n",
       "⎢0    -2   0.865168539325843 ⎥\n",
       "⎢                            ⎥\n",
       "⎣-2  -3.1  -0.741573033707865⎦"
      ]
     },
     "execution_count": 22,
     "metadata": {},
     "output_type": "execute_result"
    }
   ],
   "source": [
    "E = Matrix([[6,-7/10,-22/89],[0,-2,77/89],[-2,-31/10,-66/89]])\n",
    "\n",
    "E"
   ]
  },
  {
   "cell_type": "markdown",
   "metadata": {},
   "source": [
    "$$\\downarrow \\text{Check for Orthogonality} \\downarrow$$"
   ]
  },
  {
   "cell_type": "code",
   "execution_count": 32,
   "metadata": {},
   "outputs": [
    {
     "data": {
      "text/latex": [
       "$$\\left ( \\left[\\begin{matrix}3.36454152137674 \\cdot 10^{-7}\\\\-1.9332224541413 \\cdot 10^{-7}\\\\-2.42088530444122 \\cdot 10^{-8}\\end{matrix}\\right], \\quad \\left[\\begin{matrix}-7.86260334425318 \\cdot 10^{-11}\\\\-1.58518128157878 \\cdot 10^{-10}\\\\1.7311952155378 \\cdot 10^{-10}\\end{matrix}\\right], \\quad \\left[\\begin{matrix}1.70780794942252 \\cdot 10^{-19}\\\\3.44171687221581 \\cdot 10^{-19}\\\\-3.75846248796175 \\cdot 10^{-19}\\end{matrix}\\right]\\right )$$"
      ],
      "text/plain": [
       "⎛⎡3.36454152137674e-7 ⎤  ⎡-7.86260334425318e-11⎤  ⎡1.70780794942252e-19 ⎤⎞\n",
       "⎜⎢                    ⎥  ⎢                     ⎥  ⎢                     ⎥⎟\n",
       "⎜⎢-1.9332224541413e-7 ⎥, ⎢-1.58518128157878e-10⎥, ⎢3.44171687221581e-19 ⎥⎟\n",
       "⎜⎢                    ⎥  ⎢                     ⎥  ⎢                     ⎥⎟\n",
       "⎝⎣-2.42088530444122e-8⎦  ⎣ 1.7311952155378e-10 ⎦  ⎣-3.75846248796175e-19⎦⎠"
      ]
     },
     "execution_count": 32,
     "metadata": {},
     "output_type": "execute_result"
    }
   ],
   "source": [
    "E1 = Matrix([[3.36454152137674*10**-7],[-1.9332224541413*10**-7],[-2.42088530444122*10**-8]])\n",
    "E2 = Matrix([[-7.86260334425318*10**-11],[-1.58518128157878*10**-10],[1.7311952155378*10**-10]])\n",
    "E3 = Matrix([[1.70780794942252*10**-19],[3.44171687221581*10**-19],[-3.75846248796175*10**-19]])\n",
    "\n",
    "E1,E2,E3"
   ]
  },
  {
   "cell_type": "code",
   "execution_count": 33,
   "metadata": {},
   "outputs": [
    {
     "data": {
      "text/latex": [
       "$$5.59575093481823 \\cdot 10^{-29}$$"
      ],
      "text/plain": [
       "5.59575093481823e-29"
      ]
     },
     "execution_count": 33,
     "metadata": {},
     "output_type": "execute_result"
    }
   ],
   "source": [
    "E1.dot(E2)"
   ]
  },
  {
   "cell_type": "code",
   "execution_count": 34,
   "metadata": {},
   "outputs": [
    {
     "data": {
      "text/latex": [
       "$$2.26707864478789 \\cdot 10^{-29}$$"
      ],
      "text/plain": [
       "2.26707864478789e-29"
      ]
     },
     "execution_count": 34,
     "metadata": {},
     "output_type": "execute_result"
    }
   ],
   "source": [
    "E1.dot(E3)"
   ]
  },
  {
   "cell_type": "code",
   "execution_count": 35,
   "metadata": {},
   "outputs": [
    {
     "data": {
      "text/latex": [
       "$$-1.33051590887152 \\cdot 10^{-28}$$"
      ],
      "text/plain": [
       "-1.33051590887152e-28"
      ]
     },
     "execution_count": 35,
     "metadata": {},
     "output_type": "execute_result"
    }
   ],
   "source": [
    "E2.dot(E3)"
   ]
  },
  {
   "cell_type": "markdown",
   "metadata": {},
   "source": [
    "$$\\uparrow \\text{Check for Orthogonality} \\uparrow$$"
   ]
  },
  {
   "cell_type": "markdown",
   "metadata": {},
   "source": [
    "$$\\downarrow \\text{Matrix Diagonalization/ Orthogonal Matrix diagonaization} \\downarrow$$"
   ]
  },
  {
   "cell_type": "code",
   "execution_count": 23,
   "metadata": {},
   "outputs": [],
   "source": [
    "P, D = E.diagonalize()"
   ]
  },
  {
   "cell_type": "code",
   "execution_count": 24,
   "metadata": {},
   "outputs": [
    {
     "data": {
      "text/latex": [
       "$$\\left[\\begin{matrix}0.05746208444872 - 0.0335651379025705 i & 0.05746208444872 + 0.0335651379025705 i & -3.5815100682027\\\\0.180403114087419 - 0.484352815517785 i & 0.180403114087419 + 0.484352815517785 i & 0.106944007694448\\\\1.0 & 1.0 & 1.0\\end{matrix}\\right]$$"
      ],
      "text/plain": [
       "⎡0.05746208444872 - 0.0335651379025705⋅ⅈ  0.05746208444872 + 0.033565137902570\n",
       "⎢                                                                             \n",
       "⎢0.180403114087419 - 0.484352815517785⋅ⅈ  0.180403114087419 + 0.48435281551778\n",
       "⎢                                                                             \n",
       "⎣                  1.0                                      1.0               \n",
       "\n",
       "5⋅ⅈ  -3.5815100682027 ⎤\n",
       "                      ⎥\n",
       "5⋅ⅈ  0.106944007694448⎥\n",
       "                      ⎥\n",
       "            1.0       ⎦"
      ]
     },
     "execution_count": 24,
     "metadata": {},
     "output_type": "execute_result"
    }
   ],
   "source": [
    "P"
   ]
  },
  {
   "cell_type": "code",
   "execution_count": 36,
   "metadata": {},
   "outputs": [
    {
     "data": {
      "text/latex": [
       "$$\\left[\\begin{matrix}0.420612832569939 & 0.420612832569939 & -1.78939701415703\\\\-0.241129143354929 & -0.241129143354929 & 1.02582645067969\\\\1 & 1 & 1\\end{matrix}\\right]$$"
      ],
      "text/plain": [
       "⎡0.420612832569939   0.420612832569939   -1.78939701415703⎤\n",
       "⎢                                                         ⎥\n",
       "⎢-0.241129143354929  -0.241129143354929  1.02582645067969 ⎥\n",
       "⎢                                                         ⎥\n",
       "⎣        1                   1                   1        ⎦"
      ]
     },
     "execution_count": 36,
     "metadata": {},
     "output_type": "execute_result"
    }
   ],
   "source": [
    "#P = Matrix([[0.420612832569939,0.420612832569939,-1.78939701415703],[-0.241129143354929,-0.241129143354929,1.02582645067969],[1,1,1]])\n",
    "#P"
   ]
  },
  {
   "cell_type": "code",
   "execution_count": 18,
   "metadata": {},
   "outputs": [
    {
     "data": {
      "text/latex": [
       "$$\\left[\\begin{matrix}5.69045839279971 - 1.0842021724855 \\cdot 10^{-19} i & 0 & 0\\\\0 & 1.9521266431304 + 2.71050543121376 \\cdot 10^{-20} i & 0\\\\0 & 0 & -4.7645362554423 + 5.0 \\cdot 10^{-23} i\\end{matrix}\\right]$$"
      ],
      "text/plain": [
       "⎡5.69045839279971 - 1.0842021724855e-19⋅ⅈ                     0               \n",
       "⎢                                                                             \n",
       "⎢                   0                      1.9521266431304 + 2.71050543121376e\n",
       "⎢                                                                             \n",
       "⎣                   0                                         0               \n",
       "\n",
       "                    0             ⎤\n",
       "                                  ⎥\n",
       "-20⋅ⅈ               0             ⎥\n",
       "                                  ⎥\n",
       "       -4.7645362554423 + 0.e-22⋅ⅈ⎦"
      ]
     },
     "execution_count": 18,
     "metadata": {},
     "output_type": "execute_result"
    }
   ],
   "source": [
    "D"
   ]
  },
  {
   "cell_type": "code",
   "execution_count": null,
   "metadata": {},
   "outputs": [],
   "source": []
  },
  {
   "cell_type": "code",
   "execution_count": null,
   "metadata": {},
   "outputs": [],
   "source": []
  },
  {
   "cell_type": "code",
   "execution_count": null,
   "metadata": {},
   "outputs": [],
   "source": []
  },
  {
   "cell_type": "code",
   "execution_count": null,
   "metadata": {},
   "outputs": [],
   "source": []
  },
  {
   "cell_type": "code",
   "execution_count": null,
   "metadata": {},
   "outputs": [],
   "source": []
  },
  {
   "cell_type": "code",
   "execution_count": null,
   "metadata": {},
   "outputs": [],
   "source": []
  },
  {
   "cell_type": "code",
   "execution_count": null,
   "metadata": {},
   "outputs": [],
   "source": []
  },
  {
   "cell_type": "code",
   "execution_count": null,
   "metadata": {},
   "outputs": [],
   "source": []
  },
  {
   "cell_type": "code",
   "execution_count": null,
   "metadata": {},
   "outputs": [],
   "source": []
  },
  {
   "cell_type": "code",
   "execution_count": null,
   "metadata": {},
   "outputs": [],
   "source": []
  },
  {
   "cell_type": "markdown",
   "metadata": {},
   "source": [
    "## One Successful Encryption:"
   ]
  },
  {
   "cell_type": "markdown",
   "metadata": {},
   "source": [
    "### For Z1:"
   ]
  },
  {
   "cell_type": "markdown",
   "metadata": {},
   "source": [
    "$$\\int_{0}^{\\pi/4}\\int_{0}^{2\\pi}\\int_{0}^{591} \\space\\rho^{2}sin(\\phi)\\space d\\rho d\\theta d\\phi$$"
   ]
  },
  {
   "cell_type": "markdown",
   "metadata": {},
   "source": [
    "### For Z2: "
   ]
  },
  {
   "cell_type": "markdown",
   "metadata": {},
   "source": [
    "$$\\int_{0}^{\\pi/4} \\int_{0}^{2\\pi} \\int_{0}^{121} \n",
    "\\frac{7381sin^{2}(\\phi)cos^{2}(\\theta)sin(\\phi)sin(\\theta) \n",
    "    + 6291sin^{2}(\\phi)sin^{2}(\\theta) \n",
    "    + 11329cos^{2}(\\theta)}\n",
    "    {\\sqrt{727sin^{2}(\\phi)cos^{2}(\\phi)\n",
    "    + 998sin^{2}(\\phi)sin^{2}(\\phi) \n",
    "    + 517cos^{2}(\\theta)}} \n",
    "\\rho^{2} sin(\\phi) \n",
    "\\space d\\rho d\\theta d\\phi$$"
   ]
  },
  {
   "cell_type": "code",
   "execution_count": 18,
   "metadata": {},
   "outputs": [
    {
     "data": {
      "text/latex": [
       "$$\\left[\\begin{matrix}1 & 2 & 6\\\\6 & 2 & 8\\\\1 & 8 & 2\\end{matrix}\\right]$$"
      ],
      "text/plain": [
       "⎡1  2  6⎤\n",
       "⎢       ⎥\n",
       "⎢6  2  8⎥\n",
       "⎢       ⎥\n",
       "⎣1  8  2⎦"
      ]
     },
     "execution_count": 18,
     "metadata": {},
     "output_type": "execute_result"
    }
   ],
   "source": [
    "Z1 = Matrix([[1,2,6],[6,2,8],[1,8,2]])\n",
    "Z1"
   ]
  },
  {
   "cell_type": "code",
   "execution_count": 19,
   "metadata": {},
   "outputs": [
    {
     "data": {
      "text/latex": [
       "$$\\left[\\begin{matrix}1 & 6 & 1\\\\2 & 2 & 8\\\\6 & 8 & 2\\end{matrix}\\right]$$"
      ],
      "text/plain": [
       "⎡1  6  1⎤\n",
       "⎢       ⎥\n",
       "⎢2  2  8⎥\n",
       "⎢       ⎥\n",
       "⎣6  8  2⎦"
      ]
     },
     "execution_count": 19,
     "metadata": {},
     "output_type": "execute_result"
    }
   ],
   "source": [
    "Z1T = Z1.transpose()\n",
    "Z1T"
   ]
  },
  {
   "cell_type": "code",
   "execution_count": 20,
   "metadata": {},
   "outputs": [
    {
     "data": {
      "text/latex": [
       "$$\\left[\\begin{matrix}2 & 8 & 6\\\\3 & 3 & 8\\\\6 & 7 & 6\\end{matrix}\\right]$$"
      ],
      "text/plain": [
       "⎡2  8  6⎤\n",
       "⎢       ⎥\n",
       "⎢3  3  8⎥\n",
       "⎢       ⎥\n",
       "⎣6  7  6⎦"
      ]
     },
     "execution_count": 20,
     "metadata": {},
     "output_type": "execute_result"
    }
   ],
   "source": [
    "Z2 = Matrix([[2,8,6],[3,3,8],[6,7,6]])\n",
    "Z2"
   ]
  },
  {
   "cell_type": "code",
   "execution_count": 21,
   "metadata": {},
   "outputs": [
    {
     "data": {
      "text/latex": [
       "$$\\left[\\begin{matrix}26 & 33 & 60\\\\58 & 78 & 76\\\\48 & 86 & 112\\end{matrix}\\right]$$"
      ],
      "text/plain": [
       "⎡26  33  60 ⎤\n",
       "⎢           ⎥\n",
       "⎢58  78  76 ⎥\n",
       "⎢           ⎥\n",
       "⎣48  86  112⎦"
      ]
     },
     "execution_count": 21,
     "metadata": {},
     "output_type": "execute_result"
    }
   ],
   "source": [
    "C = Z1T * Z2\n",
    "C"
   ]
  },
  {
   "cell_type": "code",
   "execution_count": 22,
   "metadata": {},
   "outputs": [
    {
     "data": {
      "text/latex": [
       "$$\\left[\\begin{matrix}6571415307000517256063818711243520 & 10069353100894862799674368500633984 & 12404399338942989621086274553225728\\\\11076902583420861556817324464764672 & 16973093034899002639284513545599232 & 20909091369852576214531781413138944\\\\13564931047804618546971380737572864 & 20785488989582999255836730734610688 & 25605568033866711674549199227777024\\end{matrix}\\right]$$"
      ],
      "text/plain": [
       "⎡6571415307000517256063818711243520   10069353100894862799674368500633984  124\n",
       "⎢                                                                             \n",
       "⎢11076902583420861556817324464764672  16973093034899002639284513545599232  209\n",
       "⎢                                                                             \n",
       "⎣13564931047804618546971380737572864  20785488989582999255836730734610688  256\n",
       "\n",
       "04399338942989621086274553225728⎤\n",
       "                                ⎥\n",
       "09091369852576214531781413138944⎥\n",
       "                                ⎥\n",
       "05568033866711674549199227777024⎦"
      ]
     },
     "execution_count": 22,
     "metadata": {},
     "output_type": "execute_result"
    }
   ],
   "source": [
    "W = C**15\n",
    "W"
   ]
  },
  {
   "cell_type": "code",
   "execution_count": 23,
   "metadata": {},
   "outputs": [
    {
     "data": {
      "text/latex": [
       "$$\\left[\\begin{matrix}- \\frac{7008949817709853160050743847320511665842304457}{3585179611121235647677137423571936041035725143278625385514795008} & - \\frac{24669122403859550672604075661754181405953081691}{3585179611121235647677137423571936041035725143278625385514795008} & \\frac{47079662208207573253506836035173703877757677625}{7170359222242471295354274847143872082071450286557250771029590016}\\\\\\frac{4168017548100707982100771147713730304726944263}{448147451390154455959642177946492005129465642909828173189349376} & \\frac{2179142202973327677468890056862420159421333013}{448147451390154455959642177946492005129465642909828173189349376} & - \\frac{7597225526853207552759323682410966148254270103}{896294902780308911919284355892984010258931285819656346378698752}\\\\- \\frac{46708461304181969606715863551133280964233592017}{7170359222242471295354274847143872082071450286557250771029590016} & - \\frac{2165259187238488206935983562400132447533602419}{7170359222242471295354274847143872082071450286557250771029590016} & \\frac{48791263516108800409604686297211220767344754369}{14340718444484942590708549694287744164142900573114501542059180032}\\end{matrix}\\right]$$"
      ],
      "text/plain": [
       "⎡        -7008949817709853160050743847320511665842304457                  -246\n",
       "⎢────────────────────────────────────────────────────────────────  ───────────\n",
       "⎢3585179611121235647677137423571936041035725143278625385514795008  35851796111\n",
       "⎢                                                                             \n",
       "⎢         4168017548100707982100771147713730304726944263                    21\n",
       "⎢───────────────────────────────────────────────────────────────   ───────────\n",
       "⎢448147451390154455959642177946492005129465642909828173189349376   44814745139\n",
       "⎢                                                                             \n",
       "⎢       -46708461304181969606715863551133280964233592017                   -21\n",
       "⎢────────────────────────────────────────────────────────────────  ───────────\n",
       "⎣7170359222242471295354274847143872082071450286557250771029590016  71703592222\n",
       "\n",
       "69122403859550672604075661754181405953081691                   470796622082075\n",
       "─────────────────────────────────────────────────────  ───────────────────────\n",
       "21235647677137423571936041035725143278625385514795008  71703592222424712953542\n",
       "                                                                              \n",
       "79142202973327677468890056862420159421333013                    -7597225526853\n",
       "────────────────────────────────────────────────────    ──────────────────────\n",
       "0154455959642177946492005129465642909828173189349376    8962949027803089119192\n",
       "                                                                              \n",
       "65259187238488206935983562400132447533602419                    48791263516108\n",
       "─────────────────────────────────────────────────────  ───────────────────────\n",
       "42471295354274847143872082071450286557250771029590016  14340718444484942590708\n",
       "\n",
       "73253506836035173703877757677625          ⎤\n",
       "───────────────────────────────────────── ⎥\n",
       "74847143872082071450286557250771029590016 ⎥\n",
       "                                          ⎥\n",
       "207552759323682410966148254270103         ⎥\n",
       "───────────────────────────────────────── ⎥\n",
       "84355892984010258931285819656346378698752 ⎥\n",
       "                                          ⎥\n",
       "800409604686297211220767344754369         ⎥\n",
       "──────────────────────────────────────────⎥\n",
       "549694287744164142900573114501542059180032⎦"
      ]
     },
     "execution_count": 23,
     "metadata": {},
     "output_type": "execute_result"
    }
   ],
   "source": [
    "W.inv()"
   ]
  },
  {
   "cell_type": "code",
   "execution_count": 26,
   "metadata": {},
   "outputs": [
    {
     "data": {
      "text/latex": [
       "$$\\left ( \\left[\\begin{matrix}394865154231689617351238972740661632\\\\665592211521373480677117943595822848\\\\815093604664969041944128342038826240\\end{matrix}\\right], \\quad \\left[\\begin{matrix}405718224851994630426934074443256448\\\\683886353707766302558335506793432064\\\\837496869067472592552319737283120384\\end{matrix}\\right], \\quad \\left[\\begin{matrix}356682253852983967177284047338829824\\\\601230388673741257478142881575098112\\\\736275209137514631759357898926627328\\end{matrix}\\right]\\right )$$"
      ],
      "text/plain": [
       "⎛⎡394865154231689617351238972740661632⎤  ⎡405718224851994630426934074443256448\n",
       "⎜⎢                                    ⎥  ⎢                                    \n",
       "⎜⎢665592211521373480677117943595822848⎥, ⎢683886353707766302558335506793432064\n",
       "⎜⎢                                    ⎥  ⎢                                    \n",
       "⎝⎣815093604664969041944128342038826240⎦  ⎣837496869067472592552319737283120384\n",
       "\n",
       "⎤  ⎡356682253852983967177284047338829824⎤⎞\n",
       "⎥  ⎢                                    ⎥⎟\n",
       "⎥, ⎢601230388673741257478142881575098112⎥⎟\n",
       "⎥  ⎢                                    ⎥⎟\n",
       "⎦  ⎣736275209137514631759357898926627328⎦⎠"
      ]
     },
     "execution_count": 26,
     "metadata": {},
     "output_type": "execute_result"
    }
   ],
   "source": [
    "C1 = W * A1\n",
    "C2 = W * A2\n",
    "C3 = W * A3\n",
    "\n",
    "C1,C2,C3"
   ]
  },
  {
   "cell_type": "code",
   "execution_count": 27,
   "metadata": {},
   "outputs": [
    {
     "data": {
      "text/latex": [
       "$$\\left [ 394865154231689617351238972740661632, \\quad 665592211521373480677117943595822848, \\quad 815093604664969041944128342038826240, \\quad 405718224851994630426934074443256448, \\quad 683886353707766302558335506793432064, \\quad 837496869067472592552319737283120384, \\quad 356682253852983967177284047338829824, \\quad 601230388673741257478142881575098112, \\quad 736275209137514631759357898926627328\\right ]$$"
      ],
      "text/plain": [
       "[394865154231689617351238972740661632, 665592211521373480677117943595822848, 8\n",
       "15093604664969041944128342038826240, 405718224851994630426934074443256448, 683\n",
       "886353707766302558335506793432064, 837496869067472592552319737283120384, 35668\n",
       "2253852983967177284047338829824, 601230388673741257478142881575098112, 7362752\n",
       "09137514631759357898926627328]"
      ]
     },
     "execution_count": 27,
     "metadata": {},
     "output_type": "execute_result"
    }
   ],
   "source": [
    "cipher = list(Matrix([C1,C2,C3]))\n",
    "cipher"
   ]
  },
  {
   "cell_type": "markdown",
   "metadata": {},
   "source": [
    "$$\\space$$"
   ]
  },
  {
   "cell_type": "code",
   "execution_count": null,
   "metadata": {},
   "outputs": [],
   "source": []
  },
  {
   "cell_type": "markdown",
   "metadata": {},
   "source": [
    "$$\\space$$"
   ]
  },
  {
   "cell_type": "markdown",
   "metadata": {},
   "source": [
    "$$\\Downarrow \\space \\Downarrow \\space \\Downarrow \\space \\Downarrow \\space \\Downarrow \\space \\Downarrow \\space \\Downarrow \\space \\Downarrow \\space \\Downarrow \\space \\Downarrow \\space \\Downarrow \\space \\Downarrow \\space \\Downarrow \\space \\Downarrow \\text{DANGER - DO NOT MODIFY THIS} \\Downarrow \\space \\Downarrow \\space \\Downarrow \\space \\Downarrow \\space \\Downarrow \\space \\Downarrow \\space \\Downarrow \\space \\Downarrow \\space \\Downarrow \\space \\Downarrow \\space \\Downarrow \\space \\Downarrow \\space \\Downarrow \\space \\Downarrow \\space$$"
   ]
  },
  {
   "cell_type": "code",
   "execution_count": 46,
   "metadata": {},
   "outputs": [
    {
     "data": {
      "text/latex": [
       "$$\\left ( \\left[\\begin{matrix}538870616266794000295999720497152\\\\379741789302087620582172870426624\\\\1415682756452703163442379349352448\\end{matrix}\\right], \\quad \\left[\\begin{matrix}485961287391285803993976136073216\\\\342456618035650198021729158561792\\\\1276683111113982795398884423114752\\end{matrix}\\right], \\quad \\left[\\begin{matrix}368090092259419840968235208585216\\\\259392859880409853162563163963392\\\\967020246980306858226481966153728\\end{matrix}\\right]\\right )$$"
      ],
      "text/plain": [
       "⎛⎡538870616266794000295999720497152 ⎤  ⎡485961287391285803993976136073216 ⎤  ⎡\n",
       "⎜⎢                                  ⎥  ⎢                                  ⎥  ⎢\n",
       "⎜⎢379741789302087620582172870426624 ⎥, ⎢342456618035650198021729158561792 ⎥, ⎢\n",
       "⎜⎢                                  ⎥  ⎢                                  ⎥  ⎢\n",
       "⎝⎣1415682756452703163442379349352448⎦  ⎣1276683111113982795398884423114752⎦  ⎣\n",
       "\n",
       "368090092259419840968235208585216⎤⎞\n",
       "                                 ⎥⎟\n",
       "259392859880409853162563163963392⎥⎟\n",
       "                                 ⎥⎟\n",
       "967020246980306858226481966153728⎦⎠"
      ]
     },
     "execution_count": 46,
     "metadata": {},
     "output_type": "execute_result"
    }
   ],
   "source": [
    "C1 = W * A1\n",
    "C2 = W * A2\n",
    "C3 = W * A3\n",
    "\n",
    "C1,C2,C3"
   ]
  },
  {
   "cell_type": "code",
   "execution_count": 47,
   "metadata": {},
   "outputs": [
    {
     "data": {
      "text/latex": [
       "$$\\left [ 538870616266794000295999720497152, \\quad 379741789302087620582172870426624, \\quad 1415682756452703163442379349352448, \\quad 485961287391285803993976136073216, \\quad 342456618035650198021729158561792, \\quad 1276683111113982795398884423114752, \\quad 368090092259419840968235208585216, \\quad 259392859880409853162563163963392, \\quad 967020246980306858226481966153728\\right ]$$"
      ],
      "text/plain": [
       "[538870616266794000295999720497152, 379741789302087620582172870426624, 1415682\n",
       "756452703163442379349352448, 485961287391285803993976136073216, 34245661803565\n",
       "0198021729158561792, 1276683111113982795398884423114752, 368090092259419840968\n",
       "235208585216, 259392859880409853162563163963392, 96702024698030685822648196615\n",
       "3728]"
      ]
     },
     "execution_count": 47,
     "metadata": {},
     "output_type": "execute_result"
    }
   ],
   "source": [
    "cipher = list(Matrix([C1,C2,C3]))\n",
    "cipher"
   ]
  },
  {
   "cell_type": "code",
   "execution_count": 48,
   "metadata": {},
   "outputs": [
    {
     "data": {
      "text/latex": [
       "$$9$$"
      ],
      "text/plain": [
       "9"
      ]
     },
     "execution_count": 48,
     "metadata": {},
     "output_type": "execute_result"
    }
   ],
   "source": [
    "len(cipher)"
   ]
  },
  {
   "cell_type": "markdown",
   "metadata": {},
   "source": [
    "$\\Uparrow \\space \\Uparrow \\space \\Uparrow \\space \\Uparrow \\space \\Uparrow \\space \\Uparrow \\space \\Uparrow \\space \\Uparrow \\space \\Uparrow \\space \\Uparrow \\space \\Uparrow \\space \\Uparrow \\space \\Uparrow \\space \\Uparrow \\space \\Uparrow \\space \\Uparrow \\space \\Uparrow \\space \\Uparrow \\space \\Uparrow \\space \\Uparrow \\space \\Uparrow \\space \\Uparrow \\space \\Uparrow \\space \\Uparrow \\space \\Uparrow \\space \\Uparrow \\space \\Uparrow \\space \\Uparrow \\space \\Uparrow \\space \\Uparrow \\space \\Uparrow \\space \\Uparrow \\space \\Uparrow \\space \\Uparrow \\space \\Uparrow \\space \\Uparrow \\space \\Uparrow \\space \\Uparrow \\space$"
   ]
  },
  {
   "cell_type": "code",
   "execution_count": null,
   "metadata": {},
   "outputs": [],
   "source": []
  },
  {
   "cell_type": "markdown",
   "metadata": {},
   "source": [
    "## Another Successful Encryption:"
   ]
  },
  {
   "cell_type": "markdown",
   "metadata": {},
   "source": [
    "$$\\sum_{i=1}^{24} \\sum_{j=1}^{24} \n",
    "\\left( \n",
    "    \\left((i^{j} ln(63j+392i-\\sqrt{i}\\right) \n",
    "    + \n",
    "    \\left(\\frac{\\partial}{\\partial{i}} \n",
    "        \\left(\\frac{726i+473j-271}{(97j+17i)^{2}}\\right) \n",
    "        -\n",
    "        \\frac{\\partial}{\\partial{j}} \n",
    "        \\left(\\frac{35e^{356i-j}}{65tan^{-1}(i\\pi)}\\right) \n",
    "    \\right) \n",
    "\\right)\n",
    "$$"
   ]
  },
  {
   "cell_type": "markdown",
   "metadata": {},
   "source": [
    "$$\\sum_{i=1}^{11}\\sum_{j=1}^{11} \n",
    "\\left(\n",
    "    \\frac{\\partial^{2}}{\\partial i \\space \\partial j}\n",
    "        \\left(\n",
    "        e^{i^{j}} \n",
    "        + \n",
    "        \\left(\n",
    "        2125i^{2} + 1513i + 25\\right)^{i} + 37792i \\sqrt j\n",
    "        \\right) \n",
    "    + \n",
    "    \\frac{\\partial^{2}}{\\partial j \\space \\partial i}\n",
    "    \\left(\n",
    "        \\left(32795^{ln\\left(235i\\right)^{j}} + 11309j\\right)\n",
    "    \\right)\n",
    "    +\n",
    "    \\sqrt{3176i^{j} + 4687j^{i} -711i^{j/2}}\n",
    "    +\n",
    "    87109^{i/2}\n",
    "\\right)$$"
   ]
  },
  {
   "cell_type": "code",
   "execution_count": 6,
   "metadata": {},
   "outputs": [
    {
     "data": {
      "text/latex": [
       "$$\\left[\\begin{matrix}8 & 2 & 3\\\\5 & 2 & 3\\\\6 & 6 & 2\\end{matrix}\\right]$$"
      ],
      "text/plain": [
       "⎡8  2  3⎤\n",
       "⎢       ⎥\n",
       "⎢5  2  3⎥\n",
       "⎢       ⎥\n",
       "⎣6  6  2⎦"
      ]
     },
     "execution_count": 6,
     "metadata": {},
     "output_type": "execute_result"
    }
   ],
   "source": [
    "Z1 = Matrix([[8,2,3],[5,2,3],[6,6,2]]) \n",
    "Z1"
   ]
  },
  {
   "cell_type": "code",
   "execution_count": 7,
   "metadata": {},
   "outputs": [
    {
     "data": {
      "text/latex": [
       "$$\\left[\\begin{matrix}8 & 5 & 6\\\\2 & 2 & 6\\\\3 & 3 & 2\\end{matrix}\\right]$$"
      ],
      "text/plain": [
       "⎡8  5  6⎤\n",
       "⎢       ⎥\n",
       "⎢2  2  6⎥\n",
       "⎢       ⎥\n",
       "⎣3  3  2⎦"
      ]
     },
     "execution_count": 7,
     "metadata": {},
     "output_type": "execute_result"
    }
   ],
   "source": [
    "Z1T = Z1.transpose()\n",
    "Z1T"
   ]
  },
  {
   "cell_type": "code",
   "execution_count": 8,
   "metadata": {},
   "outputs": [
    {
     "data": {
      "text/latex": [
       "$$\\left[\\begin{matrix}2 & 9 & 4\\\\2 & 4 & 9\\\\5 & 4 & 8\\end{matrix}\\right]$$"
      ],
      "text/plain": [
       "⎡2  9  4⎤\n",
       "⎢       ⎥\n",
       "⎢2  4  9⎥\n",
       "⎢       ⎥\n",
       "⎣5  4  8⎦"
      ]
     },
     "execution_count": 8,
     "metadata": {},
     "output_type": "execute_result"
    }
   ],
   "source": [
    "Z2 = Matrix([[2,9,4],[2,4,9],[5,4,8]])\n",
    "Z2"
   ]
  },
  {
   "cell_type": "code",
   "execution_count": 9,
   "metadata": {},
   "outputs": [
    {
     "data": {
      "text/latex": [
       "$$\\left[\\begin{matrix}56 & 116 & 125\\\\38 & 50 & 74\\\\22 & 47 & 55\\end{matrix}\\right]$$"
      ],
      "text/plain": [
       "⎡56  116  125⎤\n",
       "⎢            ⎥\n",
       "⎢38  50   74 ⎥\n",
       "⎢            ⎥\n",
       "⎣22  47   55 ⎦"
      ]
     },
     "execution_count": 9,
     "metadata": {},
     "output_type": "execute_result"
    }
   ],
   "source": [
    "C = Z1T*Z2\n",
    "C"
   ]
  },
  {
   "cell_type": "code",
   "execution_count": 10,
   "metadata": {},
   "outputs": [
    {
     "data": {
      "text/latex": [
       "$$\\left ( \\left[\\begin{matrix}56\\\\38\\\\22\\end{matrix}\\right], \\quad \\left[\\begin{matrix}116\\\\50\\\\47\\end{matrix}\\right], \\quad \\left[\\begin{matrix}125\\\\74\\\\55\\end{matrix}\\right]\\right )$$"
      ],
      "text/plain": [
       "⎛⎡56⎤  ⎡116⎤  ⎡125⎤⎞\n",
       "⎜⎢  ⎥  ⎢   ⎥  ⎢   ⎥⎟\n",
       "⎜⎢38⎥, ⎢50 ⎥, ⎢74 ⎥⎟\n",
       "⎜⎢  ⎥  ⎢   ⎥  ⎢   ⎥⎟\n",
       "⎝⎣22⎦  ⎣47 ⎦  ⎣55 ⎦⎠"
      ]
     },
     "execution_count": 10,
     "metadata": {},
     "output_type": "execute_result"
    }
   ],
   "source": [
    "u = Matrix([[56],[38],[22]])\n",
    "v = Matrix([[116],[50],[47]])\n",
    "w = Matrix([[125],[74],[55]])\n",
    "\n",
    "u,v,w"
   ]
  },
  {
   "cell_type": "code",
   "execution_count": 15,
   "metadata": {},
   "outputs": [
    {
     "data": {
      "text/latex": [
       "$$\\left[\\begin{matrix}31723666794515702094928334735810164717356263316 & 56823349918153289703519400808424511066847720461 & 69624501126097169754035400004203904059350727825\\\\17749784858654769436169462460553928463563643648 & 31793368734084777968759097291986031499014389440 & 38955771534362368977441564193268343795207136704\\\\13056410224480075909814867083106892864580373812 & 23386608227421075510833431510645087021728442037 & 28655137953165393830313765243010820994503085145\\end{matrix}\\right]$$"
      ],
      "text/plain": [
       "⎡31723666794515702094928334735810164717356263316  5682334991815328970351940080\n",
       "⎢                                                                             \n",
       "⎢17749784858654769436169462460553928463563643648  3179336873408477796875909729\n",
       "⎢                                                                             \n",
       "⎣13056410224480075909814867083106892864580373812  2338660822742107551083343151\n",
       "\n",
       "8424511066847720461  69624501126097169754035400004203904059350727825⎤\n",
       "                                                                    ⎥\n",
       "1986031499014389440  38955771534362368977441564193268343795207136704⎥\n",
       "                                                                    ⎥\n",
       "0645087021728442037  28655137953165393830313765243010820994503085145⎦"
      ]
     },
     "execution_count": 15,
     "metadata": {},
     "output_type": "execute_result"
    }
   ],
   "source": [
    "W = C**21\n",
    "W"
   ]
  },
  {
   "cell_type": "code",
   "execution_count": 16,
   "metadata": {},
   "outputs": [
    {
     "data": {
      "text/latex": [
       "$$\\left[\\begin{matrix}\\frac{1940969738892837050359355329790014131713615697806629244907775060867}{752624231709251117839661302418699230958076021449323099082973999023437500000000} & \\frac{2266734669022472254535412629503051353701030857648004586772651516811}{8429391395143612519804206587089431386730451440232418709729308789062500000000000} & - \\frac{3882035430046466712179304673749835706009643718727764208288663319373}{585374402440528647208625457436766068522948016682806854842313110351562500000000}\\\\\\frac{804087129001263530465515496401927979214529590627780344672978954539}{1003498975612334823786215069891598974610768028599097465443965332031250000000000} & \\frac{117380254293400608293099896840160296418497080686932239468785865289}{1404898565857268753300701097848238564455075240038736451621551464843750000000000} & - \\frac{1608214008224194968643466677888767307218300128025687561542309040541}{780499203254038196278167276582354758030597355577075806456417480468750000000000}\\\\- \\frac{5506272586613422550947589544048201780485295973171544842108109929261}{3010496926837004471358645209674796923832304085797292396331895996093750000000000} & - \\frac{803803037152865727501155850833889281337910030194283869505987387261}{4214695697571806259902103293544715693365225720116209354864654394531250000000000} & \\frac{11012817377007945321579188972556202002716807845189987697759161811659}{2341497609762114588834501829747064274091792066731227419369252441406250000000000}\\end{matrix}\\right]$$"
      ],
      "text/plain": [
       "⎡     1940969738892837050359355329790014131713615697806629244907775060867     \n",
       "⎢─────────────────────────────────────────────────────────────────────────────\n",
       "⎢75262423170925111783966130241869923095807602144932309908297399902343750000000\n",
       "⎢                                                                             \n",
       "⎢       804087129001263530465515496401927979214529590627780344672978954539    \n",
       "⎢─────────────────────────────────────────────────────────────────────────────\n",
       "⎢10034989756123348237862150698915989746107680285990974654439653320312500000000\n",
       "⎢                                                                             \n",
       "⎢     -5506272586613422550947589544048201780485295973171544842108109929261    \n",
       "⎢─────────────────────────────────────────────────────────────────────────────\n",
       "⎣30104969268370044713586452096747969238323040857972923963318959960937500000000\n",
       "\n",
       "          2266734669022472254535412629503051353701030857648004586772651516811 \n",
       "─   ──────────────────────────────────────────────────────────────────────────\n",
       "0   84293913951436125198042065870894313867304514402324187097293087890625000000\n",
       "                                                                              \n",
       "           117380254293400608293099896840160296418497080686932239468785865289 \n",
       "──  ──────────────────────────────────────────────────────────────────────────\n",
       "00  14048985658572687533007010978482385644550752400387364516215514648437500000\n",
       "                                                                              \n",
       "          -803803037152865727501155850833889281337910030194283869505987387261 \n",
       "──  ──────────────────────────────────────────────────────────────────────────\n",
       "00  42146956975718062599021032935447156933652257201162093548646543945312500000\n",
       "\n",
       "           -388203543004646671217930467374983570600964371872776420828866331937\n",
       "─────  ───────────────────────────────────────────────────────────────────────\n",
       "00000  58537440244052864720862545743676606852294801668280685484231311035156250\n",
       "                                                                              \n",
       "           -160821400822419496864346667788876730721830012802568756154230904054\n",
       "─────  ───────────────────────────────────────────────────────────────────────\n",
       "00000  78049920325403819627816727658235475803059735557707580645641748046875000\n",
       "                                                                              \n",
       "             11012817377007945321579188972556202002716807845189987697759161811\n",
       "─────  ───────────────────────────────────────────────────────────────────────\n",
       "00000  23414976097621145888345018297470642740917920667312274193692524414062500\n",
       "\n",
       "3       ⎤\n",
       "─────── ⎥\n",
       "0000000 ⎥\n",
       "        ⎥\n",
       "1       ⎥\n",
       "─────── ⎥\n",
       "0000000 ⎥\n",
       "        ⎥\n",
       "659     ⎥\n",
       "────────⎥\n",
       "00000000⎦"
      ]
     },
     "execution_count": 16,
     "metadata": {},
     "output_type": "execute_result"
    }
   ],
   "source": [
    "W.inv()"
   ]
  },
  {
   "cell_type": "code",
   "execution_count": 17,
   "metadata": {},
   "outputs": [
    {
     "data": {
      "text/latex": [
       "$$\\left ( \\left[\\begin{matrix}2083675102013535079542229307232041494816411638071\\\\1165842051476521060868383409140089110680626595904\\\\857571638317902864833746415116156143510775121327\\end{matrix}\\right], \\quad \\left[\\begin{matrix}2252972112841871372597159077830474884464138842335\\\\1260565827857119330438123467787676738488275719744\\\\927248679041805996691399389287041245288624293015\\end{matrix}\\right], \\quad \\left[\\begin{matrix}1984147937475049891536323094719107631621575687691\\\\1110155369051289919255791662860748180268228027200\\\\816609554801175311982312380907360831860356787747\\end{matrix}\\right]\\right )$$"
      ],
      "text/plain": [
       "⎛⎡2083675102013535079542229307232041494816411638071⎤  ⎡22529721128418713725971\n",
       "⎜⎢                                                 ⎥  ⎢                       \n",
       "⎜⎢1165842051476521060868383409140089110680626595904⎥, ⎢12605658278571193304381\n",
       "⎜⎢                                                 ⎥  ⎢                       \n",
       "⎝⎣857571638317902864833746415116156143510775121327 ⎦  ⎣92724867904180599669139\n",
       "\n",
       "59077830474884464138842335⎤  ⎡198414793747504989153632309471910763162157568769\n",
       "                          ⎥  ⎢                                                \n",
       "23467787676738488275719744⎥, ⎢111015536905128991925579166286074818026822802720\n",
       "                          ⎥  ⎢                                                \n",
       "9389287041245288624293015 ⎦  ⎣816609554801175311982312380907360831860356787747\n",
       "\n",
       "1⎤⎞\n",
       " ⎥⎟\n",
       "0⎥⎟\n",
       " ⎥⎟\n",
       " ⎦⎠"
      ]
     },
     "execution_count": 17,
     "metadata": {},
     "output_type": "execute_result"
    }
   ],
   "source": [
    "C1 = W * A1\n",
    "C2 = W * A2\n",
    "C3 = W * A3\n",
    "\n",
    "C1,C2,C3"
   ]
  },
  {
   "cell_type": "code",
   "execution_count": 18,
   "metadata": {},
   "outputs": [
    {
     "data": {
      "text/latex": [
       "$$\\left [ 2083675102013535079542229307232041494816411638071, \\quad 1165842051476521060868383409140089110680626595904, \\quad 857571638317902864833746415116156143510775121327, \\quad 2252972112841871372597159077830474884464138842335, \\quad 1260565827857119330438123467787676738488275719744, \\quad 927248679041805996691399389287041245288624293015, \\quad 1984147937475049891536323094719107631621575687691, \\quad 1110155369051289919255791662860748180268228027200, \\quad 816609554801175311982312380907360831860356787747\\right ]$$"
      ],
      "text/plain": [
       "[2083675102013535079542229307232041494816411638071, 11658420514765210608683834\n",
       "09140089110680626595904, 857571638317902864833746415116156143510775121327, 225\n",
       "2972112841871372597159077830474884464138842335, 126056582785711933043812346778\n",
       "7676738488275719744, 927248679041805996691399389287041245288624293015, 1984147\n",
       "937475049891536323094719107631621575687691, 1110155369051289919255791662860748\n",
       "180268228027200, 816609554801175311982312380907360831860356787747]"
      ]
     },
     "execution_count": 18,
     "metadata": {},
     "output_type": "execute_result"
    }
   ],
   "source": [
    "cipher = list(Matrix([C1,C2,C3]))\n",
    "cipher"
   ]
  },
  {
   "cell_type": "code",
   "execution_count": null,
   "metadata": {},
   "outputs": [],
   "source": []
  }
 ],
 "metadata": {
  "kernelspec": {
   "display_name": "Python 3",
   "language": "python",
   "name": "python3"
  },
  "language_info": {
   "codemirror_mode": {
    "name": "ipython",
    "version": 3
   },
   "file_extension": ".py",
   "mimetype": "text/x-python",
   "name": "python",
   "nbconvert_exporter": "python",
   "pygments_lexer": "ipython3",
   "version": "3.6.5"
  }
 },
 "nbformat": 4,
 "nbformat_minor": 2
}
