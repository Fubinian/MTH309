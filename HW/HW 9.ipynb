{
 "cells": [
  {
   "cell_type": "code",
   "execution_count": 1,
   "metadata": {},
   "outputs": [
    {
     "name": "stdout",
     "output_type": "stream",
     "text": [
      "Populating the interactive namespace from numpy and matplotlib\n"
     ]
    }
   ],
   "source": [
    "%pylab inline"
   ]
  },
  {
   "cell_type": "code",
   "execution_count": 2,
   "metadata": {},
   "outputs": [],
   "source": [
    "from sympy import *\n",
    "init_printing(use_latex = 'mathjax')"
   ]
  },
  {
   "cell_type": "code",
   "execution_count": 3,
   "metadata": {},
   "outputs": [
    {
     "data": {
      "text/latex": [
       "$$\\left[\\begin{matrix}1 & 1 & 1 & 1 & 0\\\\0 & 0 & 1 & 1 & 0\\\\0 & 1 & 0 & 1 & 0\\end{matrix}\\right]$$"
      ],
      "text/plain": [
       "⎡1  1  1  1  0⎤\n",
       "⎢             ⎥\n",
       "⎢0  0  1  1  0⎥\n",
       "⎢             ⎥\n",
       "⎣0  1  0  1  0⎦"
      ]
     },
     "execution_count": 3,
     "metadata": {},
     "output_type": "execute_result"
    }
   ],
   "source": [
    "A = Matrix([[1,1,1,1,0],[0,0,1,1,0],[0,1,0,1,0]])\n",
    "A"
   ]
  },
  {
   "cell_type": "code",
   "execution_count": 4,
   "metadata": {},
   "outputs": [
    {
     "data": {
      "text/latex": [
       "$$\\left ( \\left[\\begin{matrix}1 & 0 & 0 & -1 & 0\\\\0 & 1 & 0 & 1 & 0\\\\0 & 0 & 1 & 1 & 0\\end{matrix}\\right], \\quad \\left ( 0, \\quad 1, \\quad 2\\right )\\right )$$"
      ],
      "text/plain": [
       "⎛⎡1  0  0  -1  0⎤           ⎞\n",
       "⎜⎢              ⎥           ⎟\n",
       "⎜⎢0  1  0  1   0⎥, (0, 1, 2)⎟\n",
       "⎜⎢              ⎥           ⎟\n",
       "⎝⎣0  0  1  1   0⎦           ⎠"
      ]
     },
     "execution_count": 4,
     "metadata": {},
     "output_type": "execute_result"
    }
   ],
   "source": [
    "A.rref()"
   ]
  },
  {
   "cell_type": "code",
   "execution_count": 5,
   "metadata": {},
   "outputs": [
    {
     "data": {
      "text/latex": [
       "$$\\left[\\begin{matrix}1 & 1 & 1 & 0\\\\0 & 2 & 2 & 0\\\\0 & 0 & 3 & 0\\end{matrix}\\right]$$"
      ],
      "text/plain": [
       "⎡1  1  1  0⎤\n",
       "⎢          ⎥\n",
       "⎢0  2  2  0⎥\n",
       "⎢          ⎥\n",
       "⎣0  0  3  0⎦"
      ]
     },
     "execution_count": 5,
     "metadata": {},
     "output_type": "execute_result"
    }
   ],
   "source": [
    "B = Matrix([[1,1,1,0],[0,2,2,0],[0,0,3,0]])\n",
    "B"
   ]
  },
  {
   "cell_type": "code",
   "execution_count": 6,
   "metadata": {},
   "outputs": [
    {
     "data": {
      "text/latex": [
       "$$\\left ( \\left[\\begin{matrix}1 & 0 & 0 & 0\\\\0 & 1 & 0 & 0\\\\0 & 0 & 1 & 0\\end{matrix}\\right], \\quad \\left ( 0, \\quad 1, \\quad 2\\right )\\right )$$"
      ],
      "text/plain": [
       "⎛⎡1  0  0  0⎤           ⎞\n",
       "⎜⎢          ⎥           ⎟\n",
       "⎜⎢0  1  0  0⎥, (0, 1, 2)⎟\n",
       "⎜⎢          ⎥           ⎟\n",
       "⎝⎣0  0  1  0⎦           ⎠"
      ]
     },
     "execution_count": 6,
     "metadata": {},
     "output_type": "execute_result"
    }
   ],
   "source": [
    "B.rref()"
   ]
  },
  {
   "cell_type": "code",
   "execution_count": 7,
   "metadata": {},
   "outputs": [
    {
     "data": {
      "text/latex": [
       "$$\\left[\\begin{matrix}1 & 0 & 2 & 0\\\\0 & 1 & 3 & 0\\\\1 & 0 & 2 & 0\\end{matrix}\\right]$$"
      ],
      "text/plain": [
       "⎡1  0  2  0⎤\n",
       "⎢          ⎥\n",
       "⎢0  1  3  0⎥\n",
       "⎢          ⎥\n",
       "⎣1  0  2  0⎦"
      ]
     },
     "execution_count": 7,
     "metadata": {},
     "output_type": "execute_result"
    }
   ],
   "source": [
    "C = Matrix([[1,0,2,0],[0,1,3,0],[1,0,2,0]])\n",
    "C"
   ]
  },
  {
   "cell_type": "code",
   "execution_count": 8,
   "metadata": {},
   "outputs": [
    {
     "data": {
      "text/latex": [
       "$$\\left ( \\left[\\begin{matrix}1 & 0 & 2 & 0\\\\0 & 1 & 3 & 0\\\\0 & 0 & 0 & 0\\end{matrix}\\right], \\quad \\left ( 0, \\quad 1\\right )\\right )$$"
      ],
      "text/plain": [
       "⎛⎡1  0  2  0⎤        ⎞\n",
       "⎜⎢          ⎥        ⎟\n",
       "⎜⎢0  1  3  0⎥, (0, 1)⎟\n",
       "⎜⎢          ⎥        ⎟\n",
       "⎝⎣0  0  0  0⎦        ⎠"
      ]
     },
     "execution_count": 8,
     "metadata": {},
     "output_type": "execute_result"
    }
   ],
   "source": [
    "C.rref()"
   ]
  },
  {
   "cell_type": "code",
   "execution_count": 9,
   "metadata": {},
   "outputs": [
    {
     "data": {
      "text/latex": [
       "$$\\left[\\begin{matrix}1 & 0 & 2 & 0\\\\0 & 1 & 0 & 0\\\\2 & 1 & 1 & 0\\end{matrix}\\right]$$"
      ],
      "text/plain": [
       "⎡1  0  2  0⎤\n",
       "⎢          ⎥\n",
       "⎢0  1  0  0⎥\n",
       "⎢          ⎥\n",
       "⎣2  1  1  0⎦"
      ]
     },
     "execution_count": 9,
     "metadata": {},
     "output_type": "execute_result"
    }
   ],
   "source": [
    "D = Matrix([[1,0,2,0],[0,1,0,0],[2,1,1,0]])\n",
    "D"
   ]
  },
  {
   "cell_type": "code",
   "execution_count": 10,
   "metadata": {},
   "outputs": [
    {
     "data": {
      "text/latex": [
       "$$\\left ( \\left[\\begin{matrix}1 & 0 & 0 & 0\\\\0 & 1 & 0 & 0\\\\0 & 0 & 1 & 0\\end{matrix}\\right], \\quad \\left ( 0, \\quad 1, \\quad 2\\right )\\right )$$"
      ],
      "text/plain": [
       "⎛⎡1  0  0  0⎤           ⎞\n",
       "⎜⎢          ⎥           ⎟\n",
       "⎜⎢0  1  0  0⎥, (0, 1, 2)⎟\n",
       "⎜⎢          ⎥           ⎟\n",
       "⎝⎣0  0  1  0⎦           ⎠"
      ]
     },
     "execution_count": 10,
     "metadata": {},
     "output_type": "execute_result"
    }
   ],
   "source": [
    "D.rref()"
   ]
  },
  {
   "cell_type": "code",
   "execution_count": 11,
   "metadata": {},
   "outputs": [
    {
     "data": {
      "text/latex": [
       "$$\\left[\\begin{matrix}8 & -6 & 7 & -4\\\\-5 & 9 & -7 & 13\\\\-8 & 6 & -7 & 4\\\\0 & -6 & 3 & -12\\end{matrix}\\right]$$"
      ],
      "text/plain": [
       "⎡8   -6  7   -4 ⎤\n",
       "⎢               ⎥\n",
       "⎢-5  9   -7  13 ⎥\n",
       "⎢               ⎥\n",
       "⎢-8  6   -7   4 ⎥\n",
       "⎢               ⎥\n",
       "⎣0   -6  3   -12⎦"
      ]
     },
     "execution_count": 11,
     "metadata": {},
     "output_type": "execute_result"
    }
   ],
   "source": [
    "E = Matrix([[8,-6,7,-4],[-5,9,-7,13],[-8,6,-7,4],[0,-6,3,-12]])\n",
    "E"
   ]
  },
  {
   "cell_type": "code",
   "execution_count": 12,
   "metadata": {},
   "outputs": [
    {
     "data": {
      "text/latex": [
       "$$\\left ( \\left[\\begin{matrix}1 & 0 & \\frac{1}{2} & 1\\\\0 & 1 & - \\frac{1}{2} & 2\\\\0 & 0 & 0 & 0\\\\0 & 0 & 0 & 0\\end{matrix}\\right], \\quad \\left ( 0, \\quad 1\\right )\\right )$$"
      ],
      "text/plain": [
       "⎛⎡1  0  1/2   1⎤        ⎞\n",
       "⎜⎢             ⎥        ⎟\n",
       "⎜⎢0  1  -1/2  2⎥        ⎟\n",
       "⎜⎢             ⎥, (0, 1)⎟\n",
       "⎜⎢0  0   0    0⎥        ⎟\n",
       "⎜⎢             ⎥        ⎟\n",
       "⎝⎣0  0   0    0⎦        ⎠"
      ]
     },
     "execution_count": 12,
     "metadata": {},
     "output_type": "execute_result"
    }
   ],
   "source": [
    "E.rref()"
   ]
  },
  {
   "cell_type": "code",
   "execution_count": 13,
   "metadata": {},
   "outputs": [
    {
     "data": {
      "text/latex": [
       "$$\\left ( \\left[\\begin{matrix}3\\\\10\\\\-11\\\\-3\\\\0\\end{matrix}\\right], \\quad \\left[\\begin{matrix}-3\\\\-10\\\\11\\\\3\\\\0\\end{matrix}\\right], \\quad \\left[\\begin{matrix}3\\\\-24\\\\9\\\\9\\\\-12\\end{matrix}\\right], \\quad \\left[\\begin{matrix}-3\\\\5\\\\-4\\\\-12\\\\5\\end{matrix}\\right], \\quad \\left[\\begin{matrix}-3\\\\-2\\\\10\\\\6\\\\3\\end{matrix}\\right]\\right )$$"
      ],
      "text/plain": [
       "⎛⎡ 3 ⎤  ⎡-3 ⎤  ⎡ 3 ⎤  ⎡-3 ⎤  ⎡-3⎤⎞\n",
       "⎜⎢   ⎥  ⎢   ⎥  ⎢   ⎥  ⎢   ⎥  ⎢  ⎥⎟\n",
       "⎜⎢10 ⎥  ⎢-10⎥  ⎢-24⎥  ⎢ 5 ⎥  ⎢-2⎥⎟\n",
       "⎜⎢   ⎥  ⎢   ⎥  ⎢   ⎥  ⎢   ⎥  ⎢  ⎥⎟\n",
       "⎜⎢-11⎥, ⎢11 ⎥, ⎢ 9 ⎥, ⎢-4 ⎥, ⎢10⎥⎟\n",
       "⎜⎢   ⎥  ⎢   ⎥  ⎢   ⎥  ⎢   ⎥  ⎢  ⎥⎟\n",
       "⎜⎢-3 ⎥  ⎢ 3 ⎥  ⎢ 9 ⎥  ⎢-12⎥  ⎢6 ⎥⎟\n",
       "⎜⎢   ⎥  ⎢   ⎥  ⎢   ⎥  ⎢   ⎥  ⎢  ⎥⎟\n",
       "⎝⎣ 0 ⎦  ⎣ 0 ⎦  ⎣-12⎦  ⎣ 5 ⎦  ⎣3 ⎦⎠"
      ]
     },
     "execution_count": 13,
     "metadata": {},
     "output_type": "execute_result"
    }
   ],
   "source": [
    "V1 = Matrix([3,10,-11,-3,0])\n",
    "V2 = Matrix([-3,-10,11,3,0])\n",
    "V3 = Matrix([3,-24,9,9,-12])\n",
    "V4 = Matrix([-3,5,-4,-12,5])\n",
    "V5 = Matrix([-3,-2,10,6,3])\n",
    "\n",
    "V1,V2,V3,V4,V5"
   ]
  },
  {
   "cell_type": "code",
   "execution_count": 14,
   "metadata": {},
   "outputs": [
    {
     "data": {
      "text/latex": [
       "$$\\left[\\begin{matrix}3 & -3 & 3 & -3 & -3\\\\10 & -10 & -24 & 5 & -2\\\\-11 & 11 & 9 & -4 & 10\\\\-3 & 3 & 9 & -12 & 6\\\\0 & 0 & -12 & 5 & 3\\end{matrix}\\right]$$"
      ],
      "text/plain": [
       "⎡ 3   -3    3   -3   -3⎤\n",
       "⎢                      ⎥\n",
       "⎢10   -10  -24   5   -2⎥\n",
       "⎢                      ⎥\n",
       "⎢-11  11    9   -4   10⎥\n",
       "⎢                      ⎥\n",
       "⎢-3    3    9   -12  6 ⎥\n",
       "⎢                      ⎥\n",
       "⎣ 0    0   -12   5   3 ⎦"
      ]
     },
     "execution_count": 14,
     "metadata": {},
     "output_type": "execute_result"
    }
   ],
   "source": [
    "V = Matrix([[3,-3,3,-3,-3],[10,-10,-24,5,-2],[-11,11,9,-4,10],[-3,3,9,-12,6],[0,0,-12,5,3]])\n",
    "V"
   ]
  },
  {
   "cell_type": "code",
   "execution_count": 15,
   "metadata": {},
   "outputs": [
    {
     "data": {
      "text/latex": [
       "$$\\left ( \\left[\\begin{matrix}1 & -1 & 0 & 0 & - \\frac{11}{10}\\\\0 & 0 & 1 & 0 & - \\frac{1}{2}\\\\0 & 0 & 0 & 1 & - \\frac{3}{5}\\\\0 & 0 & 0 & 0 & 0\\\\0 & 0 & 0 & 0 & 0\\end{matrix}\\right], \\quad \\left ( 0, \\quad 2, \\quad 3\\right )\\right )$$"
      ],
      "text/plain": [
       "⎛⎡             -11 ⎤           ⎞\n",
       "⎜⎢1  -1  0  0  ────⎥           ⎟\n",
       "⎜⎢              10 ⎥           ⎟\n",
       "⎜⎢                 ⎥           ⎟\n",
       "⎜⎢0  0   1  0  -1/2⎥           ⎟\n",
       "⎜⎢                 ⎥, (0, 2, 3)⎟\n",
       "⎜⎢0  0   0  1  -3/5⎥           ⎟\n",
       "⎜⎢                 ⎥           ⎟\n",
       "⎜⎢0  0   0  0   0  ⎥           ⎟\n",
       "⎜⎢                 ⎥           ⎟\n",
       "⎝⎣0  0   0  0   0  ⎦           ⎠"
      ]
     },
     "execution_count": 15,
     "metadata": {},
     "output_type": "execute_result"
    }
   ],
   "source": [
    "V.rref()"
   ]
  },
  {
   "cell_type": "code",
   "execution_count": 16,
   "metadata": {},
   "outputs": [
    {
     "data": {
      "text/latex": [
       "$$\\left[\\begin{matrix}1 & 1 & 1 & -1\\\\1 & 1 & -1 & 1\\\\1 & -1 & 1 & 1\\\\-1 & 1 & 1 & 1\\end{matrix}\\right]$$"
      ],
      "text/plain": [
       "⎡1   1   1   -1⎤\n",
       "⎢              ⎥\n",
       "⎢1   1   -1  1 ⎥\n",
       "⎢              ⎥\n",
       "⎢1   -1  1   1 ⎥\n",
       "⎢              ⎥\n",
       "⎣-1  1   1   1 ⎦"
      ]
     },
     "execution_count": 16,
     "metadata": {},
     "output_type": "execute_result"
    }
   ],
   "source": [
    "T = Matrix([[1,1,1,-1],[1,1,-1,1],[1,-1,1,1],[-1,1,1,1]])\n",
    "T"
   ]
  },
  {
   "cell_type": "code",
   "execution_count": 17,
   "metadata": {},
   "outputs": [
    {
     "data": {
      "text/latex": [
       "$$-16$$"
      ],
      "text/plain": [
       "-16"
      ]
     },
     "execution_count": 17,
     "metadata": {},
     "output_type": "execute_result"
    }
   ],
   "source": [
    "T.det()"
   ]
  },
  {
   "cell_type": "code",
   "execution_count": 18,
   "metadata": {},
   "outputs": [
    {
     "data": {
      "text/latex": [
       "$$-4$$"
      ],
      "text/plain": [
       "-4"
      ]
     },
     "execution_count": 18,
     "metadata": {},
     "output_type": "execute_result"
    }
   ],
   "source": [
    "1*-1*1 + 1*1*-1 + -1*1*1 - -1*-1*-1 - 1*1*1 - 1*1*1"
   ]
  },
  {
   "cell_type": "code",
   "execution_count": 19,
   "metadata": {},
   "outputs": [
    {
     "data": {
      "text/latex": [
       "$$\\left[\\begin{matrix}1 & 2 & 0 & 1\\\\0 & 1 & 2 & -5\\\\1 & 0 & 1 & 1\\end{matrix}\\right]$$"
      ],
      "text/plain": [
       "⎡1  2  0  1 ⎤\n",
       "⎢           ⎥\n",
       "⎢0  1  2  -5⎥\n",
       "⎢           ⎥\n",
       "⎣1  0  1  1 ⎦"
      ]
     },
     "execution_count": 19,
     "metadata": {},
     "output_type": "execute_result"
    }
   ],
   "source": [
    "Z = Matrix([[1,2,0,1],[0,1,2,-5],[1,0,1,1]])\n",
    "Z"
   ]
  },
  {
   "cell_type": "code",
   "execution_count": 20,
   "metadata": {},
   "outputs": [
    {
     "data": {
      "text/latex": [
       "$$\\left ( \\left[\\begin{matrix}1 & 0 & 0 & 3\\\\0 & 1 & 0 & -1\\\\0 & 0 & 1 & -2\\end{matrix}\\right], \\quad \\left ( 0, \\quad 1, \\quad 2\\right )\\right )$$"
      ],
      "text/plain": [
       "⎛⎡1  0  0  3 ⎤           ⎞\n",
       "⎜⎢           ⎥           ⎟\n",
       "⎜⎢0  1  0  -1⎥, (0, 1, 2)⎟\n",
       "⎜⎢           ⎥           ⎟\n",
       "⎝⎣0  0  1  -2⎦           ⎠"
      ]
     },
     "execution_count": 20,
     "metadata": {},
     "output_type": "execute_result"
    }
   ],
   "source": [
    "Z.rref()"
   ]
  },
  {
   "cell_type": "code",
   "execution_count": 21,
   "metadata": {},
   "outputs": [
    {
     "data": {
      "text/latex": [
       "$$-4$$"
      ],
      "text/plain": [
       "-4"
      ]
     },
     "execution_count": 21,
     "metadata": {},
     "output_type": "execute_result"
    }
   ],
   "source": [
    "2*-2"
   ]
  },
  {
   "cell_type": "code",
   "execution_count": 22,
   "metadata": {},
   "outputs": [
    {
     "data": {
      "text/latex": [
       "$$5$$"
      ],
      "text/plain": [
       "5"
      ]
     },
     "execution_count": 22,
     "metadata": {},
     "output_type": "execute_result"
    }
   ],
   "source": [
    "1--4"
   ]
  },
  {
   "cell_type": "code",
   "execution_count": 23,
   "metadata": {},
   "outputs": [
    {
     "data": {
      "text/latex": [
       "$$10$$"
      ],
      "text/plain": [
       "10"
      ]
     },
     "execution_count": 23,
     "metadata": {},
     "output_type": "execute_result"
    }
   ],
   "source": [
    "-5*-2"
   ]
  },
  {
   "cell_type": "code",
   "execution_count": 24,
   "metadata": {},
   "outputs": [
    {
     "data": {
      "text/latex": [
       "$$-1$$"
      ],
      "text/plain": [
       "-1"
      ]
     },
     "execution_count": 24,
     "metadata": {},
     "output_type": "execute_result"
    }
   ],
   "source": [
    "-5--4"
   ]
  },
  {
   "cell_type": "code",
   "execution_count": 25,
   "metadata": {},
   "outputs": [
    {
     "data": {
      "text/latex": [
       "$$3$$"
      ],
      "text/plain": [
       "3"
      ]
     },
     "execution_count": 25,
     "metadata": {},
     "output_type": "execute_result"
    }
   ],
   "source": [
    "1--2"
   ]
  },
  {
   "cell_type": "code",
   "execution_count": 26,
   "metadata": {},
   "outputs": [
    {
     "data": {
      "text/latex": [
       "$$\\left[\\begin{matrix}6 & 9 & -11 & -7 & 4 & -7\\\\6 & 10 & -4 & 2 & 0 & 2\\\\-8 & -10 & -1 & -5 & 5 & -5\\\\5 & 0 & 13 & 4 & -12 & 4\\\\2 & 7 & -13 & -5 & 8 & -5\\\\19 & 18 & 5 & 0 & -14 & 0\\end{matrix}\\right]$$"
      ],
      "text/plain": [
       "⎡6    9   -11  -7   4   -7⎤\n",
       "⎢                         ⎥\n",
       "⎢6   10   -4   2    0   2 ⎥\n",
       "⎢                         ⎥\n",
       "⎢-8  -10  -1   -5   5   -5⎥\n",
       "⎢                         ⎥\n",
       "⎢5    0   13   4   -12  4 ⎥\n",
       "⎢                         ⎥\n",
       "⎢2    7   -13  -5   8   -5⎥\n",
       "⎢                         ⎥\n",
       "⎣19  18    5   0   -14  0 ⎦"
      ]
     },
     "execution_count": 26,
     "metadata": {},
     "output_type": "execute_result"
    }
   ],
   "source": [
    "F = Matrix([[6,9,-11,-7,4,-7],[6,10,-4,2,0,2],[-8,-10,-1,-5,5,-5],[5,0,13,4,-12,4],[2,7,-13,-5,8,-5],[19,18,5,0,-14,0]])\n",
    "F"
   ]
  },
  {
   "cell_type": "code",
   "execution_count": 27,
   "metadata": {},
   "outputs": [
    {
     "data": {
      "text/latex": [
       "$$\\left ( \\left[\\begin{matrix}1 & 0 & 0 & 0 & - \\frac{6}{5} & 0\\\\0 & 1 & 0 & 0 & \\frac{3}{5} & 0\\\\0 & 0 & 1 & 0 & - \\frac{2}{5} & 0\\\\0 & 0 & 0 & 1 & - \\frac{1}{5} & 1\\\\0 & 0 & 0 & 0 & 0 & 0\\\\0 & 0 & 0 & 0 & 0 & 0\\end{matrix}\\right], \\quad \\left ( 0, \\quad 1, \\quad 2, \\quad 3\\right )\\right )$$"
      ],
      "text/plain": [
       "⎛⎡1  0  0  0  -6/5  0⎤              ⎞\n",
       "⎜⎢                   ⎥              ⎟\n",
       "⎜⎢0  1  0  0  3/5   0⎥              ⎟\n",
       "⎜⎢                   ⎥              ⎟\n",
       "⎜⎢0  0  1  0  -2/5  0⎥              ⎟\n",
       "⎜⎢                   ⎥, (0, 1, 2, 3)⎟\n",
       "⎜⎢0  0  0  1  -1/5  1⎥              ⎟\n",
       "⎜⎢                   ⎥              ⎟\n",
       "⎜⎢0  0  0  0   0    0⎥              ⎟\n",
       "⎜⎢                   ⎥              ⎟\n",
       "⎝⎣0  0  0  0   0    0⎦              ⎠"
      ]
     },
     "execution_count": 27,
     "metadata": {},
     "output_type": "execute_result"
    }
   ],
   "source": [
    "F.rref()"
   ]
  },
  {
   "cell_type": "code",
   "execution_count": 29,
   "metadata": {},
   "outputs": [
    {
     "data": {
      "text/latex": [
       "$$\\left[\\begin{matrix}-2 & -2 & -2\\\\-1 & -2 & 0\\\\0 & 0 & 4\\end{matrix}\\right]$$"
      ],
      "text/plain": [
       "⎡-2  -2  -2⎤\n",
       "⎢          ⎥\n",
       "⎢-1  -2  0 ⎥\n",
       "⎢          ⎥\n",
       "⎣0   0   4 ⎦"
      ]
     },
     "execution_count": 29,
     "metadata": {},
     "output_type": "execute_result"
    }
   ],
   "source": [
    "G = Matrix([[-2,-2,-2],[-1,-2,0],[0,0,4]])\n",
    "G"
   ]
  },
  {
   "cell_type": "code",
   "execution_count": 20,
   "metadata": {},
   "outputs": [
    {
     "data": {
      "text/latex": [
       "$$\\left ( \\left[\\begin{matrix}-2\\\\-1\\\\0\\end{matrix}\\right], \\quad \\left[\\begin{matrix}-2\\\\-2\\\\4\\end{matrix}\\right], \\quad \\left[\\begin{matrix}-2\\\\0\\\\-4\\end{matrix}\\right]\\right )$$"
      ],
      "text/plain": [
       "⎛⎡-2⎤  ⎡-2⎤  ⎡-2⎤⎞\n",
       "⎜⎢  ⎥  ⎢  ⎥  ⎢  ⎥⎟\n",
       "⎜⎢-1⎥, ⎢-2⎥, ⎢0 ⎥⎟\n",
       "⎜⎢  ⎥  ⎢  ⎥  ⎢  ⎥⎟\n",
       "⎝⎣0 ⎦  ⎣4 ⎦  ⎣-4⎦⎠"
      ]
     },
     "execution_count": 20,
     "metadata": {},
     "output_type": "execute_result"
    }
   ],
   "source": [
    "G1 = Matrix([[-2],[-1],[0]])\n",
    "G2 = Matrix([[-2],[-2],[4]])\n",
    "G3 = Matrix([[-2],[0],[-4]])\n",
    "\n",
    "G1, G2, G3"
   ]
  },
  {
   "cell_type": "code",
   "execution_count": 21,
   "metadata": {},
   "outputs": [
    {
     "data": {
      "text/latex": [
       "$$\\left[\\begin{matrix}-2 & -2 & -2\\\\-1 & -2 & 0\\\\0 & 0 & 4\\end{matrix}\\right]$$"
      ],
      "text/plain": [
       "⎡-2  -2  -2⎤\n",
       "⎢          ⎥\n",
       "⎢-1  -2  0 ⎥\n",
       "⎢          ⎥\n",
       "⎣0   0   4 ⎦"
      ]
     },
     "execution_count": 21,
     "metadata": {},
     "output_type": "execute_result"
    }
   ],
   "source": [
    "G"
   ]
  },
  {
   "cell_type": "code",
   "execution_count": 31,
   "metadata": {},
   "outputs": [
    {
     "data": {
      "text/latex": [
       "$$\\left [ \\left[\\begin{matrix}-2\\\\-1\\\\0\\end{matrix}\\right], \\quad \\left[\\begin{matrix}-2\\\\-2\\\\0\\end{matrix}\\right], \\quad \\left[\\begin{matrix}-2\\\\0\\\\4\\end{matrix}\\right]\\right ]$$"
      ],
      "text/plain": [
       "⎡⎡-2⎤  ⎡-2⎤  ⎡-2⎤⎤\n",
       "⎢⎢  ⎥  ⎢  ⎥  ⎢  ⎥⎥\n",
       "⎢⎢-1⎥, ⎢-2⎥, ⎢0 ⎥⎥\n",
       "⎢⎢  ⎥  ⎢  ⎥  ⎢  ⎥⎥\n",
       "⎣⎣0 ⎦  ⎣0 ⎦  ⎣4 ⎦⎦"
      ]
     },
     "execution_count": 31,
     "metadata": {},
     "output_type": "execute_result"
    }
   ],
   "source": [
    "G.columnspace()"
   ]
  },
  {
   "cell_type": "code",
   "execution_count": 22,
   "metadata": {},
   "outputs": [
    {
     "data": {
      "text/latex": [
       "$$\\left[\\begin{matrix}1 & 1 & 1\\\\-1 & -2 & 0\\\\0 & 0 & 4\\end{matrix}\\right]$$"
      ],
      "text/plain": [
       "⎡1   1   1⎤\n",
       "⎢         ⎥\n",
       "⎢-1  -2  0⎥\n",
       "⎢         ⎥\n",
       "⎣0   0   4⎦"
      ]
     },
     "execution_count": 22,
     "metadata": {},
     "output_type": "execute_result"
    }
   ],
   "source": [
    "G[0,:] = G[0,:] * Rational(-1,2)\n",
    "G"
   ]
  },
  {
   "cell_type": "code",
   "execution_count": 23,
   "metadata": {},
   "outputs": [
    {
     "data": {
      "text/latex": [
       "$$\\left[\\begin{matrix}1 & 1 & 1\\\\0 & -1 & 1\\\\0 & 0 & 4\\end{matrix}\\right]$$"
      ],
      "text/plain": [
       "⎡1  1   1⎤\n",
       "⎢        ⎥\n",
       "⎢0  -1  1⎥\n",
       "⎢        ⎥\n",
       "⎣0  0   4⎦"
      ]
     },
     "execution_count": 23,
     "metadata": {},
     "output_type": "execute_result"
    }
   ],
   "source": [
    "G[1,:] = G[1,:] - -1*G[0,:]\n",
    "G"
   ]
  },
  {
   "cell_type": "code",
   "execution_count": 24,
   "metadata": {},
   "outputs": [
    {
     "data": {
      "text/latex": [
       "$$\\left[\\begin{matrix}1 & 1 & 1\\\\0 & 1 & -1\\\\0 & 0 & 4\\end{matrix}\\right]$$"
      ],
      "text/plain": [
       "⎡1  1  1 ⎤\n",
       "⎢        ⎥\n",
       "⎢0  1  -1⎥\n",
       "⎢        ⎥\n",
       "⎣0  0  4 ⎦"
      ]
     },
     "execution_count": 24,
     "metadata": {},
     "output_type": "execute_result"
    }
   ],
   "source": [
    "G[1,:] = G[1,:] * -1\n",
    "G"
   ]
  },
  {
   "cell_type": "code",
   "execution_count": 31,
   "metadata": {},
   "outputs": [
    {
     "data": {
      "text/latex": [
       "$$\\left[\\begin{matrix}2 & 0 & 0\\\\-4 & -4 & -4\\\\0 & -4 & -3\\end{matrix}\\right]$$"
      ],
      "text/plain": [
       "⎡2   0   0 ⎤\n",
       "⎢          ⎥\n",
       "⎢-4  -4  -4⎥\n",
       "⎢          ⎥\n",
       "⎣0   -4  -3⎦"
      ]
     },
     "execution_count": 31,
     "metadata": {},
     "output_type": "execute_result"
    }
   ],
   "source": [
    "G1 = Matrix([[2,0,0],[-4,-4,-4],[0,-4,-3]])\n",
    "G1"
   ]
  },
  {
   "cell_type": "code",
   "execution_count": 32,
   "metadata": {},
   "outputs": [
    {
     "data": {
      "text/latex": [
       "$$\\left ( \\left[\\begin{matrix}1 & 0 & 0\\\\0 & 1 & 0\\\\0 & 0 & 1\\end{matrix}\\right], \\quad \\left ( 0, \\quad 1, \\quad 2\\right )\\right )$$"
      ],
      "text/plain": [
       "⎛⎡1  0  0⎤           ⎞\n",
       "⎜⎢       ⎥           ⎟\n",
       "⎜⎢0  1  0⎥, (0, 1, 2)⎟\n",
       "⎜⎢       ⎥           ⎟\n",
       "⎝⎣0  0  1⎦           ⎠"
      ]
     },
     "execution_count": 32,
     "metadata": {},
     "output_type": "execute_result"
    }
   ],
   "source": [
    "G1.rref()"
   ]
  },
  {
   "cell_type": "code",
   "execution_count": 33,
   "metadata": {},
   "outputs": [
    {
     "data": {
      "text/latex": [
       "$$\\left[\\begin{matrix}-1 & 2 & 1\\\\2 & -4 & -3\\\\4 & -4 & 3\\end{matrix}\\right]$$"
      ],
      "text/plain": [
       "⎡-1  2   1 ⎤\n",
       "⎢          ⎥\n",
       "⎢2   -4  -3⎥\n",
       "⎢          ⎥\n",
       "⎣4   -4  3 ⎦"
      ]
     },
     "execution_count": 33,
     "metadata": {},
     "output_type": "execute_result"
    }
   ],
   "source": [
    "G2 = Matrix([[-1,2,1],[2,-4,-3],[4,-4,3]])\n",
    "G2"
   ]
  },
  {
   "cell_type": "code",
   "execution_count": 34,
   "metadata": {},
   "outputs": [
    {
     "data": {
      "text/latex": [
       "$$\\left ( \\left[\\begin{matrix}1 & 0 & 0\\\\0 & 1 & 0\\\\0 & 0 & 1\\end{matrix}\\right], \\quad \\left ( 0, \\quad 1, \\quad 2\\right )\\right )$$"
      ],
      "text/plain": [
       "⎛⎡1  0  0⎤           ⎞\n",
       "⎜⎢       ⎥           ⎟\n",
       "⎜⎢0  1  0⎥, (0, 1, 2)⎟\n",
       "⎜⎢       ⎥           ⎟\n",
       "⎝⎣0  0  1⎦           ⎠"
      ]
     },
     "execution_count": 34,
     "metadata": {},
     "output_type": "execute_result"
    }
   ],
   "source": [
    "G2.rref()"
   ]
  },
  {
   "cell_type": "code",
   "execution_count": 35,
   "metadata": {},
   "outputs": [
    {
     "data": {
      "text/latex": [
       "$$\\left[\\begin{matrix}4 & -3 & 2\\\\-3 & 3 & -4\\\\3 & 1 & -4\\end{matrix}\\right]$$"
      ],
      "text/plain": [
       "⎡4   -3  2 ⎤\n",
       "⎢          ⎥\n",
       "⎢-3  3   -4⎥\n",
       "⎢          ⎥\n",
       "⎣3   1   -4⎦"
      ]
     },
     "execution_count": 35,
     "metadata": {},
     "output_type": "execute_result"
    }
   ],
   "source": [
    "G3 = Matrix([[4,-3,2],[-3,3,-4],[3,1,-4]])\n",
    "G3"
   ]
  },
  {
   "cell_type": "code",
   "execution_count": 36,
   "metadata": {},
   "outputs": [
    {
     "data": {
      "text/latex": [
       "$$\\left ( \\left[\\begin{matrix}1 & 0 & 0\\\\0 & 1 & 0\\\\0 & 0 & 1\\end{matrix}\\right], \\quad \\left ( 0, \\quad 1, \\quad 2\\right )\\right )$$"
      ],
      "text/plain": [
       "⎛⎡1  0  0⎤           ⎞\n",
       "⎜⎢       ⎥           ⎟\n",
       "⎜⎢0  1  0⎥, (0, 1, 2)⎟\n",
       "⎜⎢       ⎥           ⎟\n",
       "⎝⎣0  0  1⎦           ⎠"
      ]
     },
     "execution_count": 36,
     "metadata": {},
     "output_type": "execute_result"
    }
   ],
   "source": [
    "G3.rref()"
   ]
  },
  {
   "cell_type": "code",
   "execution_count": 38,
   "metadata": {},
   "outputs": [
    {
     "data": {
      "text/latex": [
       "$$\\left ( \\left[\\begin{matrix}0\\\\-1\\\\4\\end{matrix}\\right], \\quad \\left[\\begin{matrix}-4\\\\-3\\\\4\\end{matrix}\\right]\\right )$$"
      ],
      "text/plain": [
       "⎛⎡0 ⎤  ⎡-4⎤⎞\n",
       "⎜⎢  ⎥  ⎢  ⎥⎟\n",
       "⎜⎢-1⎥, ⎢-3⎥⎟\n",
       "⎜⎢  ⎥  ⎢  ⎥⎟\n",
       "⎝⎣4 ⎦  ⎣4 ⎦⎠"
      ]
     },
     "execution_count": 38,
     "metadata": {},
     "output_type": "execute_result"
    }
   ],
   "source": [
    "Five1 = Matrix([[0],[-1],[4]])\n",
    "Five2 = Matrix([[-4],[-3],[4]])\n",
    "\n",
    "Five1, Five2"
   ]
  },
  {
   "cell_type": "code",
   "execution_count": 47,
   "metadata": {},
   "outputs": [
    {
     "data": {
      "text/latex": [
       "$$\\left[\\begin{matrix}-4\\\\-3\\\\4\\end{matrix}\\right]$$"
      ],
      "text/plain": [
       "⎡-4⎤\n",
       "⎢  ⎥\n",
       "⎢-3⎥\n",
       "⎢  ⎥\n",
       "⎣4 ⎦"
      ]
     },
     "execution_count": 47,
     "metadata": {},
     "output_type": "execute_result"
    }
   ],
   "source": [
    "G1 + G2"
   ]
  },
  {
   "cell_type": "code",
   "execution_count": 50,
   "metadata": {
    "scrolled": true
   },
   "outputs": [
    {
     "data": {
      "text/latex": [
       "$$\\left[\\begin{matrix}0\\\\-1\\\\4\\end{matrix}\\right]$$"
      ],
      "text/plain": [
       "⎡0 ⎤\n",
       "⎢  ⎥\n",
       "⎢-1⎥\n",
       "⎢  ⎥\n",
       "⎣4 ⎦"
      ]
     },
     "execution_count": 50,
     "metadata": {},
     "output_type": "execute_result"
    }
   ],
   "source": [
    "G1 - G3"
   ]
  },
  {
   "cell_type": "code",
   "execution_count": 52,
   "metadata": {},
   "outputs": [
    {
     "data": {
      "text/latex": [
       "$$\\left[\\begin{matrix}0\\\\1\\\\-4\\end{matrix}\\right]$$"
      ],
      "text/plain": [
       "⎡0 ⎤\n",
       "⎢  ⎥\n",
       "⎢1 ⎥\n",
       "⎢  ⎥\n",
       "⎣-4⎦"
      ]
     },
     "execution_count": 52,
     "metadata": {},
     "output_type": "execute_result"
    }
   ],
   "source": [
    "G1 - G2"
   ]
  },
  {
   "cell_type": "code",
   "execution_count": 51,
   "metadata": {},
   "outputs": [
    {
     "data": {
      "text/latex": [
       "$$\\left[\\begin{matrix}-4\\\\-3\\\\4\\end{matrix}\\right]$$"
      ],
      "text/plain": [
       "⎡-4⎤\n",
       "⎢  ⎥\n",
       "⎢-3⎥\n",
       "⎢  ⎥\n",
       "⎣4 ⎦"
      ]
     },
     "execution_count": 51,
     "metadata": {},
     "output_type": "execute_result"
    }
   ],
   "source": [
    "G1 + G2"
   ]
  },
  {
   "cell_type": "code",
   "execution_count": 12,
   "metadata": {},
   "outputs": [
    {
     "data": {
      "text/latex": [
       "$$\\left[\\begin{matrix}3 & 0 & 1 & 3\\\\3 & -1 & 1 & 2\\\\1 & 3 & -2 & 0\\end{matrix}\\right]$$"
      ],
      "text/plain": [
       "⎡3  0   1   3⎤\n",
       "⎢            ⎥\n",
       "⎢3  -1  1   2⎥\n",
       "⎢            ⎥\n",
       "⎣1  3   -2  0⎦"
      ]
     },
     "execution_count": 12,
     "metadata": {},
     "output_type": "execute_result"
    }
   ],
   "source": [
    "BB = Matrix([[3,0,1,3],[3,-1,1,2],[1,3,-2,0]])\n",
    "BB"
   ]
  },
  {
   "cell_type": "code",
   "execution_count": 13,
   "metadata": {},
   "outputs": [
    {
     "data": {
      "text/latex": [
       "$$\\left ( \\left[\\begin{matrix}1 & 0 & 0 & \\frac{3}{7}\\\\0 & 1 & 0 & 1\\\\0 & 0 & 1 & \\frac{12}{7}\\end{matrix}\\right], \\quad \\left ( 0, \\quad 1, \\quad 2\\right )\\right )$$"
      ],
      "text/plain": [
       "⎛⎡1  0  0  3/7 ⎤           ⎞\n",
       "⎜⎢             ⎥           ⎟\n",
       "⎜⎢0  1  0   1  ⎥, (0, 1, 2)⎟\n",
       "⎜⎢             ⎥           ⎟\n",
       "⎝⎣0  0  1  12/7⎦           ⎠"
      ]
     },
     "execution_count": 13,
     "metadata": {},
     "output_type": "execute_result"
    }
   ],
   "source": [
    "BB.rref()"
   ]
  },
  {
   "cell_type": "code",
   "execution_count": 5,
   "metadata": {},
   "outputs": [
    {
     "data": {
      "text/latex": [
       "$$\\left[\\begin{matrix}2 & 4 & 3\\\\-3 & -4 & 2\\\\2 & 3 & 0\\end{matrix}\\right]$$"
      ],
      "text/plain": [
       "⎡2   4   3⎤\n",
       "⎢         ⎥\n",
       "⎢-3  -4  2⎥\n",
       "⎢         ⎥\n",
       "⎣2   3   0⎦"
      ]
     },
     "execution_count": 5,
     "metadata": {},
     "output_type": "execute_result"
    }
   ],
   "source": [
    "DD = Matrix([[2,4,3],[-3,-4,2],[2,3,0]])\n",
    "DD"
   ]
  },
  {
   "cell_type": "code",
   "execution_count": 6,
   "metadata": {},
   "outputs": [
    {
     "data": {
      "text/latex": [
       "$$\\left ( \\left[\\begin{matrix}1 & 0 & 0\\\\0 & 1 & 0\\\\0 & 0 & 1\\end{matrix}\\right], \\quad \\left ( 0, \\quad 1, \\quad 2\\right )\\right )$$"
      ],
      "text/plain": [
       "⎛⎡1  0  0⎤           ⎞\n",
       "⎜⎢       ⎥           ⎟\n",
       "⎜⎢0  1  0⎥, (0, 1, 2)⎟\n",
       "⎜⎢       ⎥           ⎟\n",
       "⎝⎣0  0  1⎦           ⎠"
      ]
     },
     "execution_count": 6,
     "metadata": {},
     "output_type": "execute_result"
    }
   ],
   "source": [
    "DD.rref()"
   ]
  },
  {
   "cell_type": "code",
   "execution_count": 7,
   "metadata": {},
   "outputs": [
    {
     "data": {
      "text/latex": [
       "$$\\left[\\begin{matrix}21 & 5 & 0\\\\-19 & 10 & -11\\\\15 & -3 & 5\\end{matrix}\\right]$$"
      ],
      "text/plain": [
       "⎡21   5    0 ⎤\n",
       "⎢            ⎥\n",
       "⎢-19  10  -11⎥\n",
       "⎢            ⎥\n",
       "⎣15   -3   5 ⎦"
      ]
     },
     "execution_count": 7,
     "metadata": {},
     "output_type": "execute_result"
    }
   ],
   "source": [
    "DD * BB"
   ]
  },
  {
   "cell_type": "code",
   "execution_count": 32,
   "metadata": {},
   "outputs": [
    {
     "data": {
      "text/latex": [
       "$$\\left[\\begin{matrix}2 & 4 & 3 & 3 & 0 & 1\\\\-3 & -4 & 2 & 3 & -1 & 1\\\\2 & 3 & 0 & 1 & 3 & -2\\end{matrix}\\right]$$"
      ],
      "text/plain": [
       "⎡2   4   3  3  0   1 ⎤\n",
       "⎢                    ⎥\n",
       "⎢-3  -4  2  3  -1  1 ⎥\n",
       "⎢                    ⎥\n",
       "⎣2   3   0  1  3   -2⎦"
      ]
     },
     "execution_count": 32,
     "metadata": {},
     "output_type": "execute_result"
    }
   ],
   "source": [
    "DB = Matrix([[2,4,3,3,0,1],[-3,-4,2,3,-1,1],[2,3,0,1,3,-2]])\n",
    "DB"
   ]
  },
  {
   "cell_type": "code",
   "execution_count": 33,
   "metadata": {},
   "outputs": [
    {
     "data": {
      "text/latex": [
       "$$\\left ( \\left[\\begin{matrix}1 & 0 & 0 & 29 & 51 & -37\\\\0 & 1 & 0 & -19 & -33 & 24\\\\0 & 0 & 1 & 7 & 10 & -7\\end{matrix}\\right], \\quad \\left ( 0, \\quad 1, \\quad 2\\right )\\right )$$"
      ],
      "text/plain": [
       "⎛⎡1  0  0  29   51   -37⎤           ⎞\n",
       "⎜⎢                      ⎥           ⎟\n",
       "⎜⎢0  1  0  -19  -33  24 ⎥, (0, 1, 2)⎟\n",
       "⎜⎢                      ⎥           ⎟\n",
       "⎝⎣0  0  1   7   10   -7 ⎦           ⎠"
      ]
     },
     "execution_count": 33,
     "metadata": {},
     "output_type": "execute_result"
    }
   ],
   "source": [
    "DB.rref()"
   ]
  },
  {
   "cell_type": "code",
   "execution_count": 35,
   "metadata": {},
   "outputs": [
    {
     "data": {
      "text/latex": [
       "$$\\left ( \\left[\\begin{matrix}29 & 51 & -37\\\\-19 & -33 & 24\\\\7 & 10 & -7\\end{matrix}\\right], \\quad \\left[\\begin{matrix}-2\\\\3\\\\1\\end{matrix}\\right]\\right )$$"
      ],
      "text/plain": [
       "⎛⎡29   51   -37⎤  ⎡-2⎤⎞\n",
       "⎜⎢             ⎥  ⎢  ⎥⎟\n",
       "⎜⎢-19  -33  24 ⎥, ⎢3 ⎥⎟\n",
       "⎜⎢             ⎥  ⎢  ⎥⎟\n",
       "⎝⎣ 7   10   -7 ⎦  ⎣1 ⎦⎠"
      ]
     },
     "execution_count": 35,
     "metadata": {},
     "output_type": "execute_result"
    }
   ],
   "source": [
    "PDB = Matrix([[29,51,-37],[-19,-33,24],[7,10,-7]])\n",
    "VB = Matrix([[-2],[3],[1]])\n",
    "\n",
    "PDB, VB"
   ]
  },
  {
   "cell_type": "code",
   "execution_count": 36,
   "metadata": {},
   "outputs": [
    {
     "data": {
      "text/latex": [
       "$$\\left[\\begin{matrix}58\\\\-37\\\\9\\end{matrix}\\right]$$"
      ],
      "text/plain": [
       "⎡58 ⎤\n",
       "⎢   ⎥\n",
       "⎢-37⎥\n",
       "⎢   ⎥\n",
       "⎣ 9 ⎦"
      ]
     },
     "execution_count": 36,
     "metadata": {},
     "output_type": "execute_result"
    }
   ],
   "source": [
    "PDB * VB"
   ]
  },
  {
   "cell_type": "code",
   "execution_count": 40,
   "metadata": {},
   "outputs": [
    {
     "data": {
      "text/latex": [
       "$$\\left[\\begin{matrix}58\\\\-37\\\\9\\end{matrix}\\right]$$"
      ],
      "text/plain": [
       "⎡58 ⎤\n",
       "⎢   ⎥\n",
       "⎢-37⎥\n",
       "⎢   ⎥\n",
       "⎣ 9 ⎦"
      ]
     },
     "execution_count": 40,
     "metadata": {},
     "output_type": "execute_result"
    }
   ],
   "source": [
    "-2*Matrix([[29],[-19],[7]]) + 3*Matrix([[51],[-33],[10]]) + 1*Matrix([[-37],[24],[-7]]) "
   ]
  },
  {
   "cell_type": "code",
   "execution_count": null,
   "metadata": {},
   "outputs": [],
   "source": []
  }
 ],
 "metadata": {
  "kernelspec": {
   "display_name": "Python 3",
   "language": "python",
   "name": "python3"
  },
  "language_info": {
   "codemirror_mode": {
    "name": "ipython",
    "version": 3
   },
   "file_extension": ".py",
   "mimetype": "text/x-python",
   "name": "python",
   "nbconvert_exporter": "python",
   "pygments_lexer": "ipython3",
   "version": "3.6.5"
  }
 },
 "nbformat": 4,
 "nbformat_minor": 2
}
