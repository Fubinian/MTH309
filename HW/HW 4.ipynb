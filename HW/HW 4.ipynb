{
 "cells": [
  {
   "cell_type": "code",
   "execution_count": 1,
   "metadata": {},
   "outputs": [
    {
     "name": "stdout",
     "output_type": "stream",
     "text": [
      "Populating the interactive namespace from numpy and matplotlib\n"
     ]
    }
   ],
   "source": [
    "%pylab inline"
   ]
  },
  {
   "cell_type": "code",
   "execution_count": 2,
   "metadata": {},
   "outputs": [],
   "source": [
    "from sympy import *\n",
    "init_printing(use_latex='mathjax')"
   ]
  },
  {
   "cell_type": "code",
   "execution_count": 11,
   "metadata": {},
   "outputs": [
    {
     "data": {
      "text/latex": [
       "$$\\left ( \\left[\\begin{matrix}1 & 2 & 1 & -2\\\\2 & 2 & -2 & -2\\\\3 & 3 & -3 & -3\\end{matrix}\\right], \\quad \\left ( \\left[\\begin{matrix}1 & 0 & -3 & 0\\\\0 & 1 & 2 & -1\\\\0 & 0 & 0 & 0\\end{matrix}\\right], \\quad \\left ( 0, \\quad 1\\right )\\right )\\right )$$"
      ],
      "text/plain": [
       "⎛⎡1  2  1   -2⎤  ⎛⎡1  0  -3  0 ⎤        ⎞⎞\n",
       "⎜⎢            ⎥  ⎜⎢            ⎥        ⎟⎟\n",
       "⎜⎢2  2  -2  -2⎥, ⎜⎢0  1  2   -1⎥, (0, 1)⎟⎟\n",
       "⎜⎢            ⎥  ⎜⎢            ⎥        ⎟⎟\n",
       "⎝⎣3  3  -3  -3⎦  ⎝⎣0  0  0   0 ⎦        ⎠⎠"
      ]
     },
     "execution_count": 11,
     "metadata": {},
     "output_type": "execute_result"
    }
   ],
   "source": [
    "A = Matrix([[1,2,1,-2],[2,2,-2,-2],[3,3,-3,-3]])\n",
    "R = A.rref()\n",
    "A,R"
   ]
  },
  {
   "cell_type": "code",
   "execution_count": 12,
   "metadata": {},
   "outputs": [
    {
     "data": {
      "text/latex": [
       "$$\\left ( \\left[\\begin{matrix}1 & 2 & 1 & 0\\\\2 & 2 & -2 & 1\\\\3 & 3 & -3 & 0\\end{matrix}\\right], \\quad \\left ( \\left[\\begin{matrix}1 & 0 & -3 & 0\\\\0 & 1 & 2 & 0\\\\0 & 0 & 0 & 1\\end{matrix}\\right], \\quad \\left ( 0, \\quad 1, \\quad 3\\right )\\right )\\right )$$"
      ],
      "text/plain": [
       "⎛⎡1  2  1   0⎤  ⎛⎡1  0  -3  0⎤           ⎞⎞\n",
       "⎜⎢           ⎥  ⎜⎢           ⎥           ⎟⎟\n",
       "⎜⎢2  2  -2  1⎥, ⎜⎢0  1  2   0⎥, (0, 1, 3)⎟⎟\n",
       "⎜⎢           ⎥  ⎜⎢           ⎥           ⎟⎟\n",
       "⎝⎣3  3  -3  0⎦  ⎝⎣0  0  0   1⎦           ⎠⎠"
      ]
     },
     "execution_count": 12,
     "metadata": {},
     "output_type": "execute_result"
    }
   ],
   "source": [
    "B = Matrix([[1,2,1,0],[2,2,-2,1],[3,3,-3,0]])\n",
    "R = B.rref()\n",
    "B,R"
   ]
  },
  {
   "cell_type": "code",
   "execution_count": 13,
   "metadata": {},
   "outputs": [
    {
     "data": {
      "text/latex": [
       "$$\\left ( \\left[\\begin{matrix}1 & 2 & 1 & 1\\\\2 & 2 & -2 & 0\\\\3 & 3 & -3 & 0\\end{matrix}\\right], \\quad \\left ( \\left[\\begin{matrix}1 & 0 & -3 & -1\\\\0 & 1 & 2 & 1\\\\0 & 0 & 0 & 0\\end{matrix}\\right], \\quad \\left ( 0, \\quad 1\\right )\\right )\\right )$$"
      ],
      "text/plain": [
       "⎛⎡1  2  1   1⎤  ⎛⎡1  0  -3  -1⎤        ⎞⎞\n",
       "⎜⎢           ⎥  ⎜⎢            ⎥        ⎟⎟\n",
       "⎜⎢2  2  -2  0⎥, ⎜⎢0  1  2   1 ⎥, (0, 1)⎟⎟\n",
       "⎜⎢           ⎥  ⎜⎢            ⎥        ⎟⎟\n",
       "⎝⎣3  3  -3  0⎦  ⎝⎣0  0  0   0 ⎦        ⎠⎠"
      ]
     },
     "execution_count": 13,
     "metadata": {},
     "output_type": "execute_result"
    }
   ],
   "source": [
    "C = Matrix([[1,2,1,1],[2,2,-2,0],[3,3,-3,0]])\n",
    "R = C.rref()\n",
    "C,R"
   ]
  },
  {
   "cell_type": "code",
   "execution_count": 14,
   "metadata": {},
   "outputs": [
    {
     "data": {
      "text/latex": [
       "$$\\left ( \\left[\\begin{matrix}1 & 2 & 1 & -1\\\\2 & 2 & -2 & 1\\\\3 & 3 & -3 & 1\\end{matrix}\\right], \\quad \\left ( \\left[\\begin{matrix}1 & 0 & -3 & 0\\\\0 & 1 & 2 & 0\\\\0 & 0 & 0 & 1\\end{matrix}\\right], \\quad \\left ( 0, \\quad 1, \\quad 3\\right )\\right )\\right )$$"
      ],
      "text/plain": [
       "⎛⎡1  2  1   -1⎤  ⎛⎡1  0  -3  0⎤           ⎞⎞\n",
       "⎜⎢            ⎥  ⎜⎢           ⎥           ⎟⎟\n",
       "⎜⎢2  2  -2  1 ⎥, ⎜⎢0  1  2   0⎥, (0, 1, 3)⎟⎟\n",
       "⎜⎢            ⎥  ⎜⎢           ⎥           ⎟⎟\n",
       "⎝⎣3  3  -3  1 ⎦  ⎝⎣0  0  0   1⎦           ⎠⎠"
      ]
     },
     "execution_count": 14,
     "metadata": {},
     "output_type": "execute_result"
    }
   ],
   "source": [
    "D = Matrix([[1,2,1,-1],[2,2,-2,1],[3,3,-3,1]])\n",
    "R = D.rref()\n",
    "D,R"
   ]
  },
  {
   "cell_type": "code",
   "execution_count": 15,
   "metadata": {},
   "outputs": [
    {
     "data": {
      "text/latex": [
       "$$\\left ( \\left[\\begin{matrix}1 & 2 & 1 & 5\\\\2 & 2 & -2 & 2\\\\3 & 3 & -3 & 3\\end{matrix}\\right], \\quad \\left ( \\left[\\begin{matrix}1 & 0 & -3 & -3\\\\0 & 1 & 2 & 4\\\\0 & 0 & 0 & 0\\end{matrix}\\right], \\quad \\left ( 0, \\quad 1\\right )\\right )\\right )$$"
      ],
      "text/plain": [
       "⎛⎡1  2  1   5⎤  ⎛⎡1  0  -3  -3⎤        ⎞⎞\n",
       "⎜⎢           ⎥  ⎜⎢            ⎥        ⎟⎟\n",
       "⎜⎢2  2  -2  2⎥, ⎜⎢0  1  2   4 ⎥, (0, 1)⎟⎟\n",
       "⎜⎢           ⎥  ⎜⎢            ⎥        ⎟⎟\n",
       "⎝⎣3  3  -3  3⎦  ⎝⎣0  0  0   0 ⎦        ⎠⎠"
      ]
     },
     "execution_count": 15,
     "metadata": {},
     "output_type": "execute_result"
    }
   ],
   "source": [
    "E = Matrix([[1,2,1,5],[2,2,-2,2],[3,3,-3,3]])\n",
    "R = E.rref()\n",
    "E,R"
   ]
  },
  {
   "cell_type": "code",
   "execution_count": 3,
   "metadata": {},
   "outputs": [
    {
     "data": {
      "text/latex": [
       "$$-11$$"
      ],
      "text/plain": [
       "-11"
      ]
     },
     "execution_count": 3,
     "metadata": {},
     "output_type": "execute_result"
    }
   ],
   "source": [
    "-7-4"
   ]
  },
  {
   "cell_type": "code",
   "execution_count": 4,
   "metadata": {},
   "outputs": [
    {
     "data": {
      "text/latex": [
       "$$-13$$"
      ],
      "text/plain": [
       "-13"
      ]
     },
     "execution_count": 4,
     "metadata": {},
     "output_type": "execute_result"
    }
   ],
   "source": [
    "-11-2"
   ]
  },
  {
   "cell_type": "code",
   "execution_count": 5,
   "metadata": {},
   "outputs": [
    {
     "data": {
      "text/latex": [
       "$$117$$"
      ],
      "text/plain": [
       "117"
      ]
     },
     "execution_count": 5,
     "metadata": {},
     "output_type": "execute_result"
    }
   ],
   "source": [
    "9*13"
   ]
  },
  {
   "cell_type": "code",
   "execution_count": 6,
   "metadata": {},
   "outputs": [
    {
     "data": {
      "text/latex": [
       "$$-468$$"
      ],
      "text/plain": [
       "-468"
      ]
     },
     "execution_count": 6,
     "metadata": {},
     "output_type": "execute_result"
    }
   ],
   "source": [
    "-117*4"
   ]
  },
  {
   "cell_type": "code",
   "execution_count": 7,
   "metadata": {},
   "outputs": [
    {
     "data": {
      "text/latex": [
       "$$-117.0$$"
      ],
      "text/plain": [
       "-117.0"
      ]
     },
     "execution_count": 7,
     "metadata": {},
     "output_type": "execute_result"
    }
   ],
   "source": [
    "-468/4"
   ]
  },
  {
   "cell_type": "code",
   "execution_count": 8,
   "metadata": {},
   "outputs": [
    {
     "data": {
      "text/latex": [
       "$$-156.0$$"
      ],
      "text/plain": [
       "-156.0"
      ]
     },
     "execution_count": 8,
     "metadata": {},
     "output_type": "execute_result"
    }
   ],
   "source": [
    "-468/3"
   ]
  },
  {
   "cell_type": "code",
   "execution_count": 9,
   "metadata": {},
   "outputs": [
    {
     "data": {
      "text/latex": [
       "$$351$$"
      ],
      "text/plain": [
       "351"
      ]
     },
     "execution_count": 9,
     "metadata": {},
     "output_type": "execute_result"
    }
   ],
   "source": [
    "-117*-3"
   ]
  },
  {
   "cell_type": "code",
   "execution_count": 10,
   "metadata": {},
   "outputs": [
    {
     "data": {
      "text/latex": [
       "$$-353$$"
      ],
      "text/plain": [
       "-353"
      ]
     },
     "execution_count": 10,
     "metadata": {},
     "output_type": "execute_result"
    }
   ],
   "source": [
    "-2-351"
   ]
  },
  {
   "cell_type": "code",
   "execution_count": 11,
   "metadata": {},
   "outputs": [
    {
     "data": {
      "text/latex": [
       "$$156$$"
      ],
      "text/plain": [
       "156"
      ]
     },
     "execution_count": 11,
     "metadata": {},
     "output_type": "execute_result"
    }
   ],
   "source": [
    "-117*Rational(-4,3)"
   ]
  },
  {
   "cell_type": "code",
   "execution_count": 12,
   "metadata": {},
   "outputs": [
    {
     "data": {
      "text/latex": [
       "$$-155$$"
      ],
      "text/plain": [
       "-155"
      ]
     },
     "execution_count": 12,
     "metadata": {},
     "output_type": "execute_result"
    }
   ],
   "source": [
    "1-156"
   ]
  },
  {
   "cell_type": "code",
   "execution_count": 13,
   "metadata": {},
   "outputs": [
    {
     "data": {
      "text/latex": [
       "$$310$$"
      ],
      "text/plain": [
       "310"
      ]
     },
     "execution_count": 13,
     "metadata": {},
     "output_type": "execute_result"
    }
   ],
   "source": [
    "-155*-2"
   ]
  },
  {
   "cell_type": "code",
   "execution_count": 14,
   "metadata": {},
   "outputs": [
    {
     "data": {
      "text/latex": [
       "$$-663$$"
      ],
      "text/plain": [
       "-663"
      ]
     },
     "execution_count": 14,
     "metadata": {},
     "output_type": "execute_result"
    }
   ],
   "source": [
    "-353-310"
   ]
  },
  {
   "cell_type": "code",
   "execution_count": 73,
   "metadata": {},
   "outputs": [
    {
     "data": {
      "text/latex": [
       "$$\\left ( \\left[\\begin{matrix}2 & -1 & -2 & 7\\\\-1 & 2 & 3 & -2\\\\3 & -1 & -3 & 9\\end{matrix}\\right], \\quad \\left ( \\left[\\begin{matrix}1 & 0 & 0 & 5\\\\0 & 1 & 0 & -3\\\\0 & 0 & 1 & 3\\end{matrix}\\right], \\quad \\left ( 0, \\quad 1, \\quad 2\\right )\\right )\\right )$$"
      ],
      "text/plain": [
       "⎛⎡2   -1  -2  7 ⎤  ⎛⎡1  0  0  5 ⎤           ⎞⎞\n",
       "⎜⎢              ⎥  ⎜⎢           ⎥           ⎟⎟\n",
       "⎜⎢-1  2   3   -2⎥, ⎜⎢0  1  0  -3⎥, (0, 1, 2)⎟⎟\n",
       "⎜⎢              ⎥  ⎜⎢           ⎥           ⎟⎟\n",
       "⎝⎣3   -1  -3  9 ⎦  ⎝⎣0  0  1  3 ⎦           ⎠⎠"
      ]
     },
     "execution_count": 73,
     "metadata": {},
     "output_type": "execute_result"
    }
   ],
   "source": [
    "F = Matrix([[2,-1,-2,7],[-1,2,3,-2],[3,-1,-3,9]])\n",
    "R = F.rref()\n",
    "F,R"
   ]
  },
  {
   "cell_type": "code",
   "execution_count": 74,
   "metadata": {},
   "outputs": [
    {
     "data": {
      "text/latex": [
       "$$\\left[\\begin{matrix}-1 & 2 & 3 & -2\\\\2 & -1 & -2 & 7\\\\3 & -1 & -3 & 9\\end{matrix}\\right]$$"
      ],
      "text/plain": [
       "⎡-1  2   3   -2⎤\n",
       "⎢              ⎥\n",
       "⎢2   -1  -2  7 ⎥\n",
       "⎢              ⎥\n",
       "⎣3   -1  -3  9 ⎦"
      ]
     },
     "execution_count": 74,
     "metadata": {},
     "output_type": "execute_result"
    }
   ],
   "source": [
    "F.row_swap(0,1)\n",
    "F"
   ]
  },
  {
   "cell_type": "code",
   "execution_count": 75,
   "metadata": {},
   "outputs": [
    {
     "data": {
      "text/latex": [
       "$$\\left[\\begin{matrix}1 & -2 & -3 & 2\\\\2 & -1 & -2 & 7\\\\3 & -1 & -3 & 9\\end{matrix}\\right]$$"
      ],
      "text/plain": [
       "⎡1  -2  -3  2⎤\n",
       "⎢            ⎥\n",
       "⎢2  -1  -2  7⎥\n",
       "⎢            ⎥\n",
       "⎣3  -1  -3  9⎦"
      ]
     },
     "execution_count": 75,
     "metadata": {},
     "output_type": "execute_result"
    }
   ],
   "source": [
    "F[0,:] = F[0,:] * -1\n",
    "F"
   ]
  },
  {
   "cell_type": "code",
   "execution_count": 76,
   "metadata": {},
   "outputs": [
    {
     "data": {
      "text/latex": [
       "$$\\left[\\begin{matrix}1 & -2 & -3 & 2\\\\0 & 3 & 4 & 3\\\\3 & -1 & -3 & 9\\end{matrix}\\right]$$"
      ],
      "text/plain": [
       "⎡1  -2  -3  2⎤\n",
       "⎢            ⎥\n",
       "⎢0  3   4   3⎥\n",
       "⎢            ⎥\n",
       "⎣3  -1  -3  9⎦"
      ]
     },
     "execution_count": 76,
     "metadata": {},
     "output_type": "execute_result"
    }
   ],
   "source": [
    "F[1,:] = F[1,:] - 2*F[0,:]\n",
    "F"
   ]
  },
  {
   "cell_type": "code",
   "execution_count": 77,
   "metadata": {},
   "outputs": [
    {
     "data": {
      "text/latex": [
       "$$\\left[\\begin{matrix}1 & -2 & -3 & 2\\\\0 & 3 & 4 & 3\\\\0 & 5 & 6 & 3\\end{matrix}\\right]$$"
      ],
      "text/plain": [
       "⎡1  -2  -3  2⎤\n",
       "⎢            ⎥\n",
       "⎢0  3   4   3⎥\n",
       "⎢            ⎥\n",
       "⎣0  5   6   3⎦"
      ]
     },
     "execution_count": 77,
     "metadata": {},
     "output_type": "execute_result"
    }
   ],
   "source": [
    "F[2,:] = F[2,:] - 3*F[0,:]\n",
    "F"
   ]
  },
  {
   "cell_type": "code",
   "execution_count": 78,
   "metadata": {},
   "outputs": [
    {
     "data": {
      "text/latex": [
       "$$\\left[\\begin{matrix}1 & -2 & -3 & 2\\\\0 & 1 & \\frac{4}{3} & 1\\\\0 & 5 & 6 & 3\\end{matrix}\\right]$$"
      ],
      "text/plain": [
       "⎡1  -2  -3   2⎤\n",
       "⎢             ⎥\n",
       "⎢0  1   4/3  1⎥\n",
       "⎢             ⎥\n",
       "⎣0  5    6   3⎦"
      ]
     },
     "execution_count": 78,
     "metadata": {},
     "output_type": "execute_result"
    }
   ],
   "source": [
    "F[1,:] = F[1,:] * Rational(1,3)\n",
    "F"
   ]
  },
  {
   "cell_type": "code",
   "execution_count": 79,
   "metadata": {},
   "outputs": [
    {
     "data": {
      "text/latex": [
       "$$\\left[\\begin{matrix}1 & -2 & -3 & 2\\\\0 & 1 & \\frac{4}{3} & 1\\\\0 & 0 & - \\frac{2}{3} & -2\\end{matrix}\\right]$$"
      ],
      "text/plain": [
       "⎡1  -2   -3   2 ⎤\n",
       "⎢               ⎥\n",
       "⎢0  1   4/3   1 ⎥\n",
       "⎢               ⎥\n",
       "⎣0  0   -2/3  -2⎦"
      ]
     },
     "execution_count": 79,
     "metadata": {},
     "output_type": "execute_result"
    }
   ],
   "source": [
    "F[2,:] = F[2,:] - 5*F[1,:]\n",
    "F"
   ]
  },
  {
   "cell_type": "code",
   "execution_count": 38,
   "metadata": {},
   "outputs": [
    {
     "data": {
      "text/latex": [
       "$$3$$"
      ],
      "text/plain": [
       "3"
      ]
     },
     "execution_count": 38,
     "metadata": {},
     "output_type": "execute_result"
    }
   ],
   "source": [
    "-1--4"
   ]
  },
  {
   "cell_type": "code",
   "execution_count": 39,
   "metadata": {},
   "outputs": [
    {
     "data": {
      "text/latex": [
       "$$4$$"
      ],
      "text/plain": [
       "4"
      ]
     },
     "execution_count": 39,
     "metadata": {},
     "output_type": "execute_result"
    }
   ],
   "source": [
    "-2--6"
   ]
  },
  {
   "cell_type": "code",
   "execution_count": 40,
   "metadata": {},
   "outputs": [
    {
     "data": {
      "text/latex": [
       "$$11$$"
      ],
      "text/plain": [
       "11"
      ]
     },
     "execution_count": 40,
     "metadata": {},
     "output_type": "execute_result"
    }
   ],
   "source": [
    "7--4"
   ]
  },
  {
   "cell_type": "code",
   "execution_count": 41,
   "metadata": {},
   "outputs": [
    {
     "data": {
      "text/latex": [
       "$$7$$"
      ],
      "text/plain": [
       "7"
      ]
     },
     "execution_count": 41,
     "metadata": {},
     "output_type": "execute_result"
    }
   ],
   "source": [
    "1--6"
   ]
  },
  {
   "cell_type": "code",
   "execution_count": 42,
   "metadata": {},
   "outputs": [
    {
     "data": {
      "text/latex": [
       "$$6$$"
      ],
      "text/plain": [
       "6"
      ]
     },
     "execution_count": 42,
     "metadata": {},
     "output_type": "execute_result"
    }
   ],
   "source": [
    "-3--9"
   ]
  },
  {
   "cell_type": "code",
   "execution_count": 43,
   "metadata": {},
   "outputs": [
    {
     "data": {
      "text/latex": [
       "$$15$$"
      ],
      "text/plain": [
       "15"
      ]
     },
     "execution_count": 43,
     "metadata": {},
     "output_type": "execute_result"
    }
   ],
   "source": [
    "9--6"
   ]
  },
  {
   "cell_type": "code",
   "execution_count": 44,
   "metadata": {},
   "outputs": [
    {
     "data": {
      "text/latex": [
       "$$- \\frac{32}{3}$$"
      ],
      "text/plain": [
       "-32/3"
      ]
     },
     "execution_count": 44,
     "metadata": {},
     "output_type": "execute_result"
    }
   ],
   "source": [
    "Rational(45,3) - Rational(77,3)"
   ]
  },
  {
   "cell_type": "code",
   "execution_count": 46,
   "metadata": {},
   "outputs": [
    {
     "data": {
      "text/latex": [
       "$$- \\frac{10}{3}$$"
      ],
      "text/plain": [
       "-10/3"
      ]
     },
     "execution_count": 46,
     "metadata": {},
     "output_type": "execute_result"
    }
   ],
   "source": [
    "Rational(18,3) - Rational(28,3)"
   ]
  },
  {
   "cell_type": "code",
   "execution_count": 47,
   "metadata": {},
   "outputs": [
    {
     "data": {
      "text/latex": [
       "$$\\frac{64}{15}$$"
      ],
      "text/plain": [
       "64\n",
       "──\n",
       "15"
      ]
     },
     "execution_count": 47,
     "metadata": {},
     "output_type": "execute_result"
    }
   ],
   "source": [
    "Rational(32,10)*Rational(4,3)"
   ]
  },
  {
   "cell_type": "code",
   "execution_count": 48,
   "metadata": {},
   "outputs": [
    {
     "data": {
      "text/latex": [
       "$$- \\frac{3}{5}$$"
      ],
      "text/plain": [
       "-3/5"
      ]
     },
     "execution_count": 48,
     "metadata": {},
     "output_type": "execute_result"
    }
   ],
   "source": [
    "Rational(11,3) - Rational(64,15)"
   ]
  },
  {
   "cell_type": "code",
   "execution_count": 50,
   "metadata": {},
   "outputs": [
    {
     "data": {
      "text/latex": [
       "$$3$$"
      ],
      "text/plain": [
       "3"
      ]
     },
     "execution_count": 50,
     "metadata": {},
     "output_type": "execute_result"
    }
   ],
   "source": [
    "-1--4"
   ]
  },
  {
   "cell_type": "code",
   "execution_count": 51,
   "metadata": {},
   "outputs": [
    {
     "data": {
      "text/latex": [
       "$$5$$"
      ],
      "text/plain": [
       "5"
      ]
     },
     "execution_count": 51,
     "metadata": {},
     "output_type": "execute_result"
    }
   ],
   "source": [
    "-1--6"
   ]
  },
  {
   "cell_type": "code",
   "execution_count": 3,
   "metadata": {},
   "outputs": [
    {
     "data": {
      "text/latex": [
       "$$-3$$"
      ],
      "text/plain": [
       "-3"
      ]
     },
     "execution_count": 3,
     "metadata": {},
     "output_type": "execute_result"
    }
   ],
   "source": [
    "1-4"
   ]
  },
  {
   "cell_type": "code",
   "execution_count": 4,
   "metadata": {},
   "outputs": [
    {
     "data": {
      "text/latex": [
       "$$-9$$"
      ],
      "text/plain": [
       "-9"
      ]
     },
     "execution_count": 4,
     "metadata": {},
     "output_type": "execute_result"
    }
   ],
   "source": [
    "3*-3"
   ]
  },
  {
   "cell_type": "code",
   "execution_count": 5,
   "metadata": {},
   "outputs": [
    {
     "data": {
      "text/latex": [
       "$$11$$"
      ],
      "text/plain": [
       "11"
      ]
     },
     "execution_count": 5,
     "metadata": {},
     "output_type": "execute_result"
    }
   ],
   "source": [
    "2--9"
   ]
  },
  {
   "cell_type": "code",
   "execution_count": 6,
   "metadata": {},
   "outputs": [
    {
     "data": {
      "text/latex": [
       "$$0$$"
      ],
      "text/plain": [
       "0"
      ]
     },
     "execution_count": 6,
     "metadata": {},
     "output_type": "execute_result"
    }
   ],
   "source": [
    "-3--3"
   ]
  },
  {
   "cell_type": "code",
   "execution_count": 7,
   "metadata": {},
   "outputs": [
    {
     "data": {
      "text/latex": [
       "$$-2$$"
      ],
      "text/plain": [
       "-2"
      ]
     },
     "execution_count": 7,
     "metadata": {},
     "output_type": "execute_result"
    }
   ],
   "source": [
    "-4--2"
   ]
  },
  {
   "cell_type": "code",
   "execution_count": 8,
   "metadata": {},
   "outputs": [
    {
     "data": {
      "text/latex": [
       "$$9$$"
      ],
      "text/plain": [
       "9"
      ]
     },
     "execution_count": 8,
     "metadata": {},
     "output_type": "execute_result"
    }
   ],
   "source": [
    "-1--10"
   ]
  },
  {
   "cell_type": "code",
   "execution_count": 9,
   "metadata": {},
   "outputs": [
    {
     "data": {
      "text/latex": [
       "$$- \\frac{27}{2}$$"
      ],
      "text/plain": [
       "-27/2"
      ]
     },
     "execution_count": 9,
     "metadata": {},
     "output_type": "execute_result"
    }
   ],
   "source": [
    "Rational(-9,2)*3"
   ]
  },
  {
   "cell_type": "code",
   "execution_count": 12,
   "metadata": {},
   "outputs": [
    {
     "data": {
      "text/latex": [
       "$$- \\frac{15}{2}$$"
      ],
      "text/plain": [
       "-15/2"
      ]
     },
     "execution_count": 12,
     "metadata": {},
     "output_type": "execute_result"
    }
   ],
   "source": [
    "6-Rational(27,2)"
   ]
  },
  {
   "cell_type": "code",
   "execution_count": 11,
   "metadata": {},
   "outputs": [
    {
     "data": {
      "text/latex": [
       "$$-24$$"
      ],
      "text/plain": [
       "-24"
      ]
     },
     "execution_count": 11,
     "metadata": {},
     "output_type": "execute_result"
    }
   ],
   "source": [
    "3-27"
   ]
  },
  {
   "cell_type": "code",
   "execution_count": 13,
   "metadata": {},
   "outputs": [
    {
     "data": {
      "text/latex": [
       "$$\\left ( \\left[\\begin{matrix}1 & 2 & 3 & 6\\\\0 & 1 & 1 & 5\\\\1 & 0 & 1 & 0\\end{matrix}\\right], \\quad \\left ( \\left[\\begin{matrix}1 & 0 & 1 & 0\\\\0 & 1 & 1 & 0\\\\0 & 0 & 0 & 1\\end{matrix}\\right], \\quad \\left ( 0, \\quad 1, \\quad 3\\right )\\right )\\right )$$"
      ],
      "text/plain": [
       "⎛⎡1  2  3  6⎤  ⎛⎡1  0  1  0⎤           ⎞⎞\n",
       "⎜⎢          ⎥  ⎜⎢          ⎥           ⎟⎟\n",
       "⎜⎢0  1  1  5⎥, ⎜⎢0  1  1  0⎥, (0, 1, 3)⎟⎟\n",
       "⎜⎢          ⎥  ⎜⎢          ⎥           ⎟⎟\n",
       "⎝⎣1  0  1  0⎦  ⎝⎣0  0  0  1⎦           ⎠⎠"
      ]
     },
     "execution_count": 13,
     "metadata": {},
     "output_type": "execute_result"
    }
   ],
   "source": [
    "G = Matrix([[1,2,3,6],[0,1,1,5],[1,0,1,0]])\n",
    "R = G.rref()\n",
    "G,R"
   ]
  },
  {
   "cell_type": "code",
   "execution_count": 14,
   "metadata": {},
   "outputs": [
    {
     "data": {
      "text/latex": [
       "$$-2$$"
      ],
      "text/plain": [
       "-2"
      ]
     },
     "execution_count": 14,
     "metadata": {},
     "output_type": "execute_result"
    }
   ],
   "source": [
    "1-3"
   ]
  },
  {
   "cell_type": "code",
   "execution_count": 15,
   "metadata": {},
   "outputs": [
    {
     "data": {
      "text/latex": [
       "$$9$$"
      ],
      "text/plain": [
       "9"
      ]
     },
     "execution_count": 15,
     "metadata": {},
     "output_type": "execute_result"
    }
   ],
   "source": [
    "-1--10"
   ]
  },
  {
   "cell_type": "code",
   "execution_count": 23,
   "metadata": {},
   "outputs": [
    {
     "data": {
      "text/latex": [
       "$$\\left ( \\left[\\begin{matrix}1 & 2 & 3 & 9\\\\0 & 1 & 1 & 16\\\\1 & 0 & \\frac{3514918771674317}{3518437208883200} & 27\\end{matrix}\\right], \\quad \\left ( \\left[\\begin{matrix}1 & 0 & 0 & \\frac{175840936388355691}{3518437208883}\\\\0 & 1 & 0 & \\frac{175978155439502128}{3518437208883}\\\\0 & 0 & 1 & - \\frac{175921860444160000}{3518437208883}\\end{matrix}\\right], \\quad \\left ( 0, \\quad 1, \\quad 2\\right )\\right )\\right )$$"
      ],
      "text/plain": [
       "⎛                              ⎛⎡          175840936388355691 ⎤           ⎞⎞\n",
       "⎜                              ⎜⎢1  0  0   ────────────────── ⎥           ⎟⎟\n",
       "⎜⎡1  2         3          9 ⎤  ⎜⎢            3518437208883    ⎥           ⎟⎟\n",
       "⎜⎢                          ⎥  ⎜⎢                             ⎥           ⎟⎟\n",
       "⎜⎢0  1         1          16⎥  ⎜⎢          175978155439502128 ⎥           ⎟⎟\n",
       "⎜⎢                          ⎥, ⎜⎢0  1  0   ────────────────── ⎥, (0, 1, 2)⎟⎟\n",
       "⎜⎢      3514918771674317    ⎥  ⎜⎢            3518437208883    ⎥           ⎟⎟\n",
       "⎜⎢1  0  ────────────────  27⎥  ⎜⎢                             ⎥           ⎟⎟\n",
       "⎜⎣      3518437208883200    ⎦  ⎜⎢         -175921860444160000 ⎥           ⎟⎟\n",
       "⎜                              ⎜⎢0  0  1  ────────────────────⎥           ⎟⎟\n",
       "⎝                              ⎝⎣            3518437208883    ⎦           ⎠⎠"
      ]
     },
     "execution_count": 23,
     "metadata": {},
     "output_type": "execute_result"
    }
   ],
   "source": [
    "H = Matrix([[1,2,3,9],[0,1,1,16],[1,0,Rational(99.9,100),27]])\n",
    "R = H.rref()\n",
    "H,R"
   ]
  },
  {
   "cell_type": "code",
   "execution_count": null,
   "metadata": {},
   "outputs": [],
   "source": []
  },
  {
   "cell_type": "code",
   "execution_count": 19,
   "metadata": {},
   "outputs": [
    {
     "data": {
      "text/latex": [
       "$$\\left ( \\left[\\begin{matrix}-2 & -6 & -4 & -4 & 0\\\\-1 & -3 & -2 & -2 & 0\\\\4 & 12 & 8 & 8 & 0\\end{matrix}\\right], \\quad \\left ( \\left[\\begin{matrix}1 & 3 & 2 & 2 & 0\\\\0 & 0 & 0 & 0 & 0\\\\0 & 0 & 0 & 0 & 0\\end{matrix}\\right], \\quad \\left ( 0\\right )\\right )\\right )$$"
      ],
      "text/plain": [
       "⎛⎡-2  -6  -4  -4  0⎤  ⎛⎡1  3  2  2  0⎤      ⎞⎞\n",
       "⎜⎢                 ⎥  ⎜⎢             ⎥      ⎟⎟\n",
       "⎜⎢-1  -3  -2  -2  0⎥, ⎜⎢0  0  0  0  0⎥, (0,)⎟⎟\n",
       "⎜⎢                 ⎥  ⎜⎢             ⎥      ⎟⎟\n",
       "⎝⎣4   12  8   8   0⎦  ⎝⎣0  0  0  0  0⎦      ⎠⎠"
      ]
     },
     "execution_count": 19,
     "metadata": {},
     "output_type": "execute_result"
    }
   ],
   "source": [
    "I = Matrix([[-2,-6,-4,-4,0],[-1,-3,-2,-2,0],[4,12,8,8,0]])\n",
    "R = I.rref()\n",
    "I,R"
   ]
  },
  {
   "cell_type": "code",
   "execution_count": 3,
   "metadata": {},
   "outputs": [
    {
     "data": {
      "text/latex": [
       "$$-2$$"
      ],
      "text/plain": [
       "-2"
      ]
     },
     "execution_count": 3,
     "metadata": {},
     "output_type": "execute_result"
    }
   ],
   "source": [
    "-1-1"
   ]
  },
  {
   "cell_type": "code",
   "execution_count": null,
   "metadata": {},
   "outputs": [],
   "source": []
  }
 ],
 "metadata": {
  "kernelspec": {
   "display_name": "Python 3",
   "language": "python",
   "name": "python3"
  },
  "language_info": {
   "codemirror_mode": {
    "name": "ipython",
    "version": 3
   },
   "file_extension": ".py",
   "mimetype": "text/x-python",
   "name": "python",
   "nbconvert_exporter": "python",
   "pygments_lexer": "ipython3",
   "version": "3.6.5"
  }
 },
 "nbformat": 4,
 "nbformat_minor": 2
}
