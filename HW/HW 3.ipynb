{
 "cells": [
  {
   "cell_type": "code",
   "execution_count": 1,
   "metadata": {},
   "outputs": [
    {
     "name": "stdout",
     "output_type": "stream",
     "text": [
      "Populating the interactive namespace from numpy and matplotlib\n"
     ]
    }
   ],
   "source": [
    "%pylab inline"
   ]
  },
  {
   "cell_type": "code",
   "execution_count": 2,
   "metadata": {},
   "outputs": [],
   "source": [
    "from sympy import *\n",
    "init_printing(use_latex = 'mathjax')"
   ]
  },
  {
   "cell_type": "code",
   "execution_count": 65,
   "metadata": {},
   "outputs": [
    {
     "data": {
      "text/latex": [
       "$$\\left ( \\left[\\begin{matrix}1 & 0 & 0 & 0 & -2 & 0 & 0\\\\1 & 1 & 0 & -1 & 0 & 0 & 0\\\\0 & 1 & 0 & 0 & -1 & -1 & 0\\\\4 & 4 & 1 & -2 & -4 & -4 & 0\\\\0 & 0 & 2 & 0 & 0 & -2 & 0\\end{matrix}\\right], \\quad \\left ( \\left[\\begin{matrix}1 & 0 & 0 & 0 & 0 & -1 & 0\\\\0 & 1 & 0 & 0 & 0 & - \\frac{3}{2} & 0\\\\0 & 0 & 1 & 0 & 0 & -1 & 0\\\\0 & 0 & 0 & 1 & 0 & - \\frac{5}{2} & 0\\\\0 & 0 & 0 & 0 & 1 & - \\frac{1}{2} & 0\\end{matrix}\\right], \\quad \\left ( 0, \\quad 1, \\quad 2, \\quad 3, \\quad 4\\right )\\right )\\right )$$"
      ],
      "text/plain": [
       "⎛⎡1  0  0  0   -2  0   0⎤  ⎛⎡1  0  0  0  0   -1   0⎤                 ⎞⎞\n",
       "⎜⎢                      ⎥  ⎜⎢                      ⎥                 ⎟⎟\n",
       "⎜⎢1  1  0  -1  0   0   0⎥  ⎜⎢0  1  0  0  0  -3/2  0⎥                 ⎟⎟\n",
       "⎜⎢                      ⎥  ⎜⎢                      ⎥                 ⎟⎟\n",
       "⎜⎢0  1  0  0   -1  -1  0⎥, ⎜⎢0  0  1  0  0   -1   0⎥, (0, 1, 2, 3, 4)⎟⎟\n",
       "⎜⎢                      ⎥  ⎜⎢                      ⎥                 ⎟⎟\n",
       "⎜⎢4  4  1  -2  -4  -4  0⎥  ⎜⎢0  0  0  1  0  -5/2  0⎥                 ⎟⎟\n",
       "⎜⎢                      ⎥  ⎜⎢                      ⎥                 ⎟⎟\n",
       "⎝⎣0  0  2  0   0   -2  0⎦  ⎝⎣0  0  0  0  1  -1/2  0⎦                 ⎠⎠"
      ]
     },
     "execution_count": 65,
     "metadata": {},
     "output_type": "execute_result"
    }
   ],
   "source": [
    "A = Matrix([[1,0,0,0,-2,0,0],[1,1,0,-1,0,0,0],[0,1,0,0,-1,-1,0],[4,4,1,-2,-4,-4,0],[0,0,2,0,0,-2,0]])\n",
    "R=A.rref()\n",
    "A,R"
   ]
  },
  {
   "cell_type": "code",
   "execution_count": 66,
   "metadata": {},
   "outputs": [
    {
     "data": {
      "text/latex": [
       "$$\\left[\\begin{matrix}1 & 0 & 0 & 0 & -2 & 0 & 0\\\\0 & 1 & 0 & 0 & -1 & -1 & 0\\\\1 & 1 & 0 & -1 & 0 & 0 & 0\\\\4 & 4 & 1 & -2 & -4 & -4 & 0\\\\0 & 0 & 2 & 0 & 0 & -2 & 0\\end{matrix}\\right]$$"
      ],
      "text/plain": [
       "⎡1  0  0  0   -2  0   0⎤\n",
       "⎢                      ⎥\n",
       "⎢0  1  0  0   -1  -1  0⎥\n",
       "⎢                      ⎥\n",
       "⎢1  1  0  -1  0   0   0⎥\n",
       "⎢                      ⎥\n",
       "⎢4  4  1  -2  -4  -4  0⎥\n",
       "⎢                      ⎥\n",
       "⎣0  0  2  0   0   -2  0⎦"
      ]
     },
     "execution_count": 66,
     "metadata": {},
     "output_type": "execute_result"
    }
   ],
   "source": [
    "A.row_swap(1,2)\n",
    "A"
   ]
  },
  {
   "cell_type": "code",
   "execution_count": 67,
   "metadata": {},
   "outputs": [
    {
     "data": {
      "text/latex": [
       "$$\\left[\\begin{matrix}1 & 0 & 0 & 0 & -2 & 0 & 0\\\\0 & 1 & 0 & 0 & -1 & -1 & 0\\\\4 & 4 & 1 & -2 & -4 & -4 & 0\\\\1 & 1 & 0 & -1 & 0 & 0 & 0\\\\0 & 0 & 2 & 0 & 0 & -2 & 0\\end{matrix}\\right]$$"
      ],
      "text/plain": [
       "⎡1  0  0  0   -2  0   0⎤\n",
       "⎢                      ⎥\n",
       "⎢0  1  0  0   -1  -1  0⎥\n",
       "⎢                      ⎥\n",
       "⎢4  4  1  -2  -4  -4  0⎥\n",
       "⎢                      ⎥\n",
       "⎢1  1  0  -1  0   0   0⎥\n",
       "⎢                      ⎥\n",
       "⎣0  0  2  0   0   -2  0⎦"
      ]
     },
     "execution_count": 67,
     "metadata": {},
     "output_type": "execute_result"
    }
   ],
   "source": [
    "A.row_swap(2,3)\n",
    "A"
   ]
  },
  {
   "cell_type": "code",
   "execution_count": 68,
   "metadata": {},
   "outputs": [
    {
     "data": {
      "text/latex": [
       "$$\\left[\\begin{matrix}1 & 0 & 0 & 0 & -2 & 0 & 0\\\\0 & 1 & 0 & 0 & -1 & -1 & 0\\\\0 & 4 & 1 & -2 & 4 & -4 & 0\\\\1 & 1 & 0 & -1 & 0 & 0 & 0\\\\0 & 0 & 2 & 0 & 0 & -2 & 0\\end{matrix}\\right]$$"
      ],
      "text/plain": [
       "⎡1  0  0  0   -2  0   0⎤\n",
       "⎢                      ⎥\n",
       "⎢0  1  0  0   -1  -1  0⎥\n",
       "⎢                      ⎥\n",
       "⎢0  4  1  -2  4   -4  0⎥\n",
       "⎢                      ⎥\n",
       "⎢1  1  0  -1  0   0   0⎥\n",
       "⎢                      ⎥\n",
       "⎣0  0  2  0   0   -2  0⎦"
      ]
     },
     "execution_count": 68,
     "metadata": {},
     "output_type": "execute_result"
    }
   ],
   "source": [
    "A[2,:] = A[2,:]-4*A[0,:]\n",
    "A"
   ]
  },
  {
   "cell_type": "code",
   "execution_count": 69,
   "metadata": {},
   "outputs": [
    {
     "data": {
      "text/latex": [
       "$$\\left[\\begin{matrix}1 & 0 & 0 & 0 & -2 & 0 & 0\\\\0 & 1 & 0 & 0 & -1 & -1 & 0\\\\0 & 4 & 1 & -2 & 4 & -4 & 0\\\\0 & 1 & 0 & -1 & 2 & 0 & 0\\\\0 & 0 & 2 & 0 & 0 & -2 & 0\\end{matrix}\\right]$$"
      ],
      "text/plain": [
       "⎡1  0  0  0   -2  0   0⎤\n",
       "⎢                      ⎥\n",
       "⎢0  1  0  0   -1  -1  0⎥\n",
       "⎢                      ⎥\n",
       "⎢0  4  1  -2  4   -4  0⎥\n",
       "⎢                      ⎥\n",
       "⎢0  1  0  -1  2   0   0⎥\n",
       "⎢                      ⎥\n",
       "⎣0  0  2  0   0   -2  0⎦"
      ]
     },
     "execution_count": 69,
     "metadata": {},
     "output_type": "execute_result"
    }
   ],
   "source": [
    "A[3,:] = A[3,:]-A[0,:]\n",
    "A"
   ]
  },
  {
   "cell_type": "code",
   "execution_count": 70,
   "metadata": {},
   "outputs": [
    {
     "data": {
      "text/latex": [
       "$$\\left[\\begin{matrix}1 & 0 & 0 & 0 & -2 & 0 & 0\\\\0 & 1 & 0 & 0 & -1 & -1 & 0\\\\0 & 0 & 1 & -2 & 8 & 0 & 0\\\\0 & 1 & 0 & -1 & 2 & 0 & 0\\\\0 & 0 & 2 & 0 & 0 & -2 & 0\\end{matrix}\\right]$$"
      ],
      "text/plain": [
       "⎡1  0  0  0   -2  0   0⎤\n",
       "⎢                      ⎥\n",
       "⎢0  1  0  0   -1  -1  0⎥\n",
       "⎢                      ⎥\n",
       "⎢0  0  1  -2  8   0   0⎥\n",
       "⎢                      ⎥\n",
       "⎢0  1  0  -1  2   0   0⎥\n",
       "⎢                      ⎥\n",
       "⎣0  0  2  0   0   -2  0⎦"
      ]
     },
     "execution_count": 70,
     "metadata": {},
     "output_type": "execute_result"
    }
   ],
   "source": [
    "A[2,:] = A[2,:]-4*A[1,:]\n",
    "A"
   ]
  },
  {
   "cell_type": "code",
   "execution_count": 71,
   "metadata": {},
   "outputs": [
    {
     "data": {
      "text/latex": [
       "$$\\left[\\begin{matrix}1 & 0 & 0 & 0 & -2 & 0 & 0\\\\0 & 1 & 0 & 0 & -1 & -1 & 0\\\\0 & 0 & 1 & -2 & 8 & 0 & 0\\\\0 & 0 & 0 & -1 & 3 & 1 & 0\\\\0 & 0 & 2 & 0 & 0 & -2 & 0\\end{matrix}\\right]$$"
      ],
      "text/plain": [
       "⎡1  0  0  0   -2  0   0⎤\n",
       "⎢                      ⎥\n",
       "⎢0  1  0  0   -1  -1  0⎥\n",
       "⎢                      ⎥\n",
       "⎢0  0  1  -2  8   0   0⎥\n",
       "⎢                      ⎥\n",
       "⎢0  0  0  -1  3   1   0⎥\n",
       "⎢                      ⎥\n",
       "⎣0  0  2  0   0   -2  0⎦"
      ]
     },
     "execution_count": 71,
     "metadata": {},
     "output_type": "execute_result"
    }
   ],
   "source": [
    "A[3,:] = A[3,:]-A[1,:]\n",
    "A"
   ]
  },
  {
   "cell_type": "code",
   "execution_count": 72,
   "metadata": {},
   "outputs": [
    {
     "data": {
      "text/latex": [
       "$$\\left[\\begin{matrix}1 & 0 & 0 & 0 & -2 & 0 & 0\\\\0 & 1 & 0 & 0 & -1 & -1 & 0\\\\0 & 0 & 1 & -2 & 8 & 0 & 0\\\\0 & 0 & 0 & 1 & -3 & -1 & 0\\\\0 & 0 & 2 & 0 & 0 & -2 & 0\\end{matrix}\\right]$$"
      ],
      "text/plain": [
       "⎡1  0  0  0   -2  0   0⎤\n",
       "⎢                      ⎥\n",
       "⎢0  1  0  0   -1  -1  0⎥\n",
       "⎢                      ⎥\n",
       "⎢0  0  1  -2  8   0   0⎥\n",
       "⎢                      ⎥\n",
       "⎢0  0  0  1   -3  -1  0⎥\n",
       "⎢                      ⎥\n",
       "⎣0  0  2  0   0   -2  0⎦"
      ]
     },
     "execution_count": 72,
     "metadata": {},
     "output_type": "execute_result"
    }
   ],
   "source": [
    "A[3,:] = A[3,:]*-1\n",
    "A"
   ]
  },
  {
   "cell_type": "code",
   "execution_count": 73,
   "metadata": {},
   "outputs": [
    {
     "data": {
      "text/latex": [
       "$$\\left[\\begin{matrix}1 & 0 & 0 & 0 & -2 & 0 & 0\\\\0 & 1 & 0 & 0 & -1 & -1 & 0\\\\0 & 0 & 1 & -2 & 8 & 0 & 0\\\\0 & 0 & 0 & 1 & -3 & -1 & 0\\\\0 & 0 & 0 & 4 & -16 & -2 & 0\\end{matrix}\\right]$$"
      ],
      "text/plain": [
       "⎡1  0  0  0   -2   0   0⎤\n",
       "⎢                       ⎥\n",
       "⎢0  1  0  0   -1   -1  0⎥\n",
       "⎢                       ⎥\n",
       "⎢0  0  1  -2   8   0   0⎥\n",
       "⎢                       ⎥\n",
       "⎢0  0  0  1   -3   -1  0⎥\n",
       "⎢                       ⎥\n",
       "⎣0  0  0  4   -16  -2  0⎦"
      ]
     },
     "execution_count": 73,
     "metadata": {},
     "output_type": "execute_result"
    }
   ],
   "source": [
    "A[4,:] = A[4,:]-2*A[2,:]\n",
    "A"
   ]
  },
  {
   "cell_type": "code",
   "execution_count": 74,
   "metadata": {},
   "outputs": [
    {
     "data": {
      "text/latex": [
       "$$\\left[\\begin{matrix}1 & 0 & 0 & 0 & -2 & 0 & 0\\\\0 & 1 & 0 & 0 & -1 & -1 & 0\\\\0 & 0 & 1 & -2 & 8 & 0 & 0\\\\0 & 0 & 0 & 1 & -3 & -1 & 0\\\\0 & 0 & 0 & 0 & -4 & 2 & 0\\end{matrix}\\right]$$"
      ],
      "text/plain": [
       "⎡1  0  0  0   -2  0   0⎤\n",
       "⎢                      ⎥\n",
       "⎢0  1  0  0   -1  -1  0⎥\n",
       "⎢                      ⎥\n",
       "⎢0  0  1  -2  8   0   0⎥\n",
       "⎢                      ⎥\n",
       "⎢0  0  0  1   -3  -1  0⎥\n",
       "⎢                      ⎥\n",
       "⎣0  0  0  0   -4  2   0⎦"
      ]
     },
     "execution_count": 74,
     "metadata": {},
     "output_type": "execute_result"
    }
   ],
   "source": [
    "A[4,:] = A[4,:]-4*A[3,:]\n",
    "A"
   ]
  },
  {
   "cell_type": "code",
   "execution_count": 75,
   "metadata": {},
   "outputs": [
    {
     "data": {
      "text/latex": [
       "$$\\left[\\begin{matrix}1 & 0 & 0 & 0 & -2 & 0 & 0\\\\0 & 1 & 0 & 0 & -1 & -1 & 0\\\\0 & 0 & 1 & 0 & 2 & -2 & 0\\\\0 & 0 & 0 & 1 & -3 & -1 & 0\\\\0 & 0 & 0 & 0 & -4 & 2 & 0\\end{matrix}\\right]$$"
      ],
      "text/plain": [
       "⎡1  0  0  0  -2  0   0⎤\n",
       "⎢                     ⎥\n",
       "⎢0  1  0  0  -1  -1  0⎥\n",
       "⎢                     ⎥\n",
       "⎢0  0  1  0  2   -2  0⎥\n",
       "⎢                     ⎥\n",
       "⎢0  0  0  1  -3  -1  0⎥\n",
       "⎢                     ⎥\n",
       "⎣0  0  0  0  -4  2   0⎦"
      ]
     },
     "execution_count": 75,
     "metadata": {},
     "output_type": "execute_result"
    }
   ],
   "source": [
    "A[2,:] = A[2,:]--2*A[3,:]\n",
    "A"
   ]
  },
  {
   "cell_type": "code",
   "execution_count": 76,
   "metadata": {},
   "outputs": [
    {
     "data": {
      "text/latex": [
       "$$\\left[\\begin{matrix}1 & 0 & 0 & 0 & -2 & 0 & 0\\\\0 & 1 & 0 & 0 & -1 & -1 & 0\\\\0 & 0 & 1 & 0 & 2 & -2 & 0\\\\0 & 0 & 0 & 1 & -3 & -1 & 0\\\\0 & 0 & 0 & 0 & 1 & - \\frac{1}{2} & 0\\end{matrix}\\right]$$"
      ],
      "text/plain": [
       "⎡1  0  0  0  -2   0    0⎤\n",
       "⎢                       ⎥\n",
       "⎢0  1  0  0  -1   -1   0⎥\n",
       "⎢                       ⎥\n",
       "⎢0  0  1  0  2    -2   0⎥\n",
       "⎢                       ⎥\n",
       "⎢0  0  0  1  -3   -1   0⎥\n",
       "⎢                       ⎥\n",
       "⎣0  0  0  0  1   -1/2  0⎦"
      ]
     },
     "execution_count": 76,
     "metadata": {},
     "output_type": "execute_result"
    }
   ],
   "source": [
    "A[4,:] = A[4,:]*Rational(-1,4)\n",
    "A"
   ]
  },
  {
   "cell_type": "code",
   "execution_count": 77,
   "metadata": {},
   "outputs": [
    {
     "data": {
      "text/latex": [
       "$$\\left[\\begin{matrix}1 & 0 & 0 & 0 & -2 & 0 & 0\\\\0 & 1 & 0 & 0 & -1 & -1 & 0\\\\0 & 0 & 1 & 0 & 2 & -2 & 0\\\\0 & 0 & 0 & 1 & 0 & - \\frac{5}{2} & 0\\\\0 & 0 & 0 & 0 & 1 & - \\frac{1}{2} & 0\\end{matrix}\\right]$$"
      ],
      "text/plain": [
       "⎡1  0  0  0  -2   0    0⎤\n",
       "⎢                       ⎥\n",
       "⎢0  1  0  0  -1   -1   0⎥\n",
       "⎢                       ⎥\n",
       "⎢0  0  1  0  2    -2   0⎥\n",
       "⎢                       ⎥\n",
       "⎢0  0  0  1  0   -5/2  0⎥\n",
       "⎢                       ⎥\n",
       "⎣0  0  0  0  1   -1/2  0⎦"
      ]
     },
     "execution_count": 77,
     "metadata": {},
     "output_type": "execute_result"
    }
   ],
   "source": [
    "A[3,:] = A[3,:]--3*A[4,:]\n",
    "A"
   ]
  },
  {
   "cell_type": "code",
   "execution_count": 78,
   "metadata": {},
   "outputs": [
    {
     "data": {
      "text/latex": [
       "$$\\left[\\begin{matrix}1 & 0 & 0 & 0 & -2 & 0 & 0\\\\0 & 1 & 0 & 0 & -1 & -1 & 0\\\\0 & 0 & 1 & 0 & 0 & -1 & 0\\\\0 & 0 & 0 & 1 & 0 & - \\frac{5}{2} & 0\\\\0 & 0 & 0 & 0 & 1 & - \\frac{1}{2} & 0\\end{matrix}\\right]$$"
      ],
      "text/plain": [
       "⎡1  0  0  0  -2   0    0⎤\n",
       "⎢                       ⎥\n",
       "⎢0  1  0  0  -1   -1   0⎥\n",
       "⎢                       ⎥\n",
       "⎢0  0  1  0  0    -1   0⎥\n",
       "⎢                       ⎥\n",
       "⎢0  0  0  1  0   -5/2  0⎥\n",
       "⎢                       ⎥\n",
       "⎣0  0  0  0  1   -1/2  0⎦"
      ]
     },
     "execution_count": 78,
     "metadata": {},
     "output_type": "execute_result"
    }
   ],
   "source": [
    "A[2,:] = A[2,:] -2*A[4,:]\n",
    "A"
   ]
  },
  {
   "cell_type": "code",
   "execution_count": 79,
   "metadata": {},
   "outputs": [
    {
     "data": {
      "text/latex": [
       "$$\\left[\\begin{matrix}1 & 0 & 0 & 0 & -2 & 0 & 0\\\\0 & 1 & 0 & 0 & 0 & - \\frac{3}{2} & 0\\\\0 & 0 & 1 & 0 & 0 & -1 & 0\\\\0 & 0 & 0 & 1 & 0 & - \\frac{5}{2} & 0\\\\0 & 0 & 0 & 0 & 1 & - \\frac{1}{2} & 0\\end{matrix}\\right]$$"
      ],
      "text/plain": [
       "⎡1  0  0  0  -2   0    0⎤\n",
       "⎢                       ⎥\n",
       "⎢0  1  0  0  0   -3/2  0⎥\n",
       "⎢                       ⎥\n",
       "⎢0  0  1  0  0    -1   0⎥\n",
       "⎢                       ⎥\n",
       "⎢0  0  0  1  0   -5/2  0⎥\n",
       "⎢                       ⎥\n",
       "⎣0  0  0  0  1   -1/2  0⎦"
      ]
     },
     "execution_count": 79,
     "metadata": {},
     "output_type": "execute_result"
    }
   ],
   "source": [
    "A[1,:] = A[1,:]--A[4,:]\n",
    "A"
   ]
  },
  {
   "cell_type": "code",
   "execution_count": 80,
   "metadata": {},
   "outputs": [
    {
     "data": {
      "text/latex": [
       "$$\\left[\\begin{matrix}1 & 0 & 0 & 0 & 0 & -1 & 0\\\\0 & 1 & 0 & 0 & 0 & - \\frac{3}{2} & 0\\\\0 & 0 & 1 & 0 & 0 & -1 & 0\\\\0 & 0 & 0 & 1 & 0 & - \\frac{5}{2} & 0\\\\0 & 0 & 0 & 0 & 1 & - \\frac{1}{2} & 0\\end{matrix}\\right]$$"
      ],
      "text/plain": [
       "⎡1  0  0  0  0   -1   0⎤\n",
       "⎢                      ⎥\n",
       "⎢0  1  0  0  0  -3/2  0⎥\n",
       "⎢                      ⎥\n",
       "⎢0  0  1  0  0   -1   0⎥\n",
       "⎢                      ⎥\n",
       "⎢0  0  0  1  0  -5/2  0⎥\n",
       "⎢                      ⎥\n",
       "⎣0  0  0  0  1  -1/2  0⎦"
      ]
     },
     "execution_count": 80,
     "metadata": {},
     "output_type": "execute_result"
    }
   ],
   "source": [
    "A[0,:] = A[0,:]--2*A[4,:]\n",
    "A"
   ]
  },
  {
   "cell_type": "code",
   "execution_count": 92,
   "metadata": {},
   "outputs": [
    {
     "data": {
      "text/latex": [
       "$$\\frac{21}{2}$$"
      ],
      "text/plain": [
       "21/2"
      ]
     },
     "execution_count": 92,
     "metadata": {},
     "output_type": "execute_result"
    }
   ],
   "source": [
    "7+Rational(7/2)"
   ]
  },
  {
   "cell_type": "code",
   "execution_count": 90,
   "metadata": {},
   "outputs": [
    {
     "data": {
      "text/latex": [
       "$$3.5$$"
      ],
      "text/plain": [
       "3.5"
      ]
     },
     "execution_count": 90,
     "metadata": {},
     "output_type": "execute_result"
    }
   ],
   "source": [
    "7-(7/2)"
   ]
  },
  {
   "cell_type": "code",
   "execution_count": 93,
   "metadata": {},
   "outputs": [
    {
     "data": {
      "text/latex": [
       "$$\\frac{3}{2}$$"
      ],
      "text/plain": [
       "3/2"
      ]
     },
     "execution_count": 93,
     "metadata": {},
     "output_type": "execute_result"
    }
   ],
   "source": [
    "Rational(21/2)/7"
   ]
  },
  {
   "cell_type": "code",
   "execution_count": 94,
   "metadata": {},
   "outputs": [
    {
     "data": {
      "text/latex": [
       "$$-1$$"
      ],
      "text/plain": [
       "-1"
      ]
     },
     "execution_count": 94,
     "metadata": {},
     "output_type": "execute_result"
    }
   ],
   "source": [
    "Rational(1,2)-Rational(3/2)"
   ]
  },
  {
   "cell_type": "code",
   "execution_count": 100,
   "metadata": {},
   "outputs": [
    {
     "data": {
      "text/latex": [
       "$$-7$$"
      ],
      "text/plain": [
       "-7"
      ]
     },
     "execution_count": 100,
     "metadata": {},
     "output_type": "execute_result"
    }
   ],
   "source": [
    "(-7*4)+(7*3)"
   ]
  },
  {
   "cell_type": "code",
   "execution_count": 3,
   "metadata": {},
   "outputs": [
    {
     "data": {
      "text/latex": [
       "$$-70$$"
      ],
      "text/plain": [
       "-70"
      ]
     },
     "execution_count": 3,
     "metadata": {},
     "output_type": "execute_result"
    }
   ],
   "source": [
    "(-5*7) - (7*5)"
   ]
  },
  {
   "cell_type": "code",
   "execution_count": 79,
   "metadata": {},
   "outputs": [
    {
     "data": {
      "text/latex": [
       "$$-12$$"
      ],
      "text/plain": [
       "-12"
      ]
     },
     "execution_count": 79,
     "metadata": {},
     "output_type": "execute_result"
    }
   ],
   "source": [
    "-4-8"
   ]
  },
  {
   "cell_type": "code",
   "execution_count": 3,
   "metadata": {},
   "outputs": [
    {
     "data": {
      "text/latex": [
       "$$-5$$"
      ],
      "text/plain": [
       "-5"
      ]
     },
     "execution_count": 3,
     "metadata": {},
     "output_type": "execute_result"
    }
   ],
   "source": [
    "Rational(-5,2)*2"
   ]
  },
  {
   "cell_type": "code",
   "execution_count": 4,
   "metadata": {},
   "outputs": [
    {
     "data": {
      "text/latex": [
       "$$1$$"
      ],
      "text/plain": [
       "1"
      ]
     },
     "execution_count": 4,
     "metadata": {},
     "output_type": "execute_result"
    }
   ],
   "source": [
    "-4--5"
   ]
  },
  {
   "cell_type": "code",
   "execution_count": 6,
   "metadata": {},
   "outputs": [
    {
     "data": {
      "text/latex": [
       "$$-1$$"
      ],
      "text/plain": [
       "-1"
      ]
     },
     "execution_count": 6,
     "metadata": {},
     "output_type": "execute_result"
    }
   ],
   "source": [
    "Rational(-1,2)*2"
   ]
  },
  {
   "cell_type": "code",
   "execution_count": 7,
   "metadata": {},
   "outputs": [
    {
     "data": {
      "text/latex": [
       "$$-3$$"
      ],
      "text/plain": [
       "-3"
      ]
     },
     "execution_count": 7,
     "metadata": {},
     "output_type": "execute_result"
    }
   ],
   "source": [
    "-4--1"
   ]
  },
  {
   "cell_type": "code",
   "execution_count": 8,
   "metadata": {},
   "outputs": [
    {
     "data": {
      "text/latex": [
       "$$2$$"
      ],
      "text/plain": [
       "2"
      ]
     },
     "execution_count": 8,
     "metadata": {},
     "output_type": "execute_result"
    }
   ],
   "source": [
    "(Rational(1,2)*2) + (Rational(1/2)*2)"
   ]
  },
  {
   "cell_type": "code",
   "execution_count": 9,
   "metadata": {},
   "outputs": [
    {
     "data": {
      "text/latex": [
       "$$6$$"
      ],
      "text/plain": [
       "6"
      ]
     },
     "execution_count": 9,
     "metadata": {},
     "output_type": "execute_result"
    }
   ],
   "source": [
    "(Rational(5,2)*2) + (Rational(1/2)*2)"
   ]
  },
  {
   "cell_type": "code",
   "execution_count": 28,
   "metadata": {},
   "outputs": [
    {
     "data": {
      "text/latex": [
       "$$4$$"
      ],
      "text/plain": [
       "4"
      ]
     },
     "execution_count": 28,
     "metadata": {},
     "output_type": "execute_result"
    }
   ],
   "source": [
    "-4--8"
   ]
  },
  {
   "cell_type": "code",
   "execution_count": 29,
   "metadata": {},
   "outputs": [
    {
     "data": {
      "text/latex": [
       "$$8$$"
      ],
      "text/plain": [
       "8"
      ]
     },
     "execution_count": 29,
     "metadata": {},
     "output_type": "execute_result"
    }
   ],
   "source": [
    "4--4"
   ]
  },
  {
   "cell_type": "code",
   "execution_count": 41,
   "metadata": {},
   "outputs": [
    {
     "data": {
      "text/latex": [
       "$$-4$$"
      ],
      "text/plain": [
       "-4"
      ]
     },
     "execution_count": 41,
     "metadata": {},
     "output_type": "execute_result"
    }
   ],
   "source": [
    "-16--12"
   ]
  },
  {
   "cell_type": "code",
   "execution_count": 63,
   "metadata": {},
   "outputs": [
    {
     "data": {
      "text/latex": [
       "$$230$$"
      ],
      "text/plain": [
       "230"
      ]
     },
     "execution_count": 63,
     "metadata": {},
     "output_type": "execute_result"
    }
   ],
   "source": [
    "100+80+50"
   ]
  },
  {
   "cell_type": "code",
   "execution_count": 64,
   "metadata": {},
   "outputs": [
    {
     "data": {
      "text/latex": [
       "$$300$$"
      ],
      "text/plain": [
       "300"
      ]
     },
     "execution_count": 64,
     "metadata": {},
     "output_type": "execute_result"
    }
   ],
   "source": [
    "120+40+140"
   ]
  },
  {
   "cell_type": "code",
   "execution_count": 12,
   "metadata": {},
   "outputs": [
    {
     "data": {
      "text/latex": [
       "$$\\left ( \\left[\\begin{matrix}-1 & 1 & 1 & 0 & 0 & 0 & 100\\\\1 & 0 & 0 & 1 & 0 & 0 & 80\\\\0 & 1 & 0 & 0 & 0 & -1 & 30\\\\0 & 0 & 0 & 0 & 1 & 1 & 100\\\\0 & 0 & 1 & 1 & -1 & 0 & 50\\end{matrix}\\right], \\quad \\left ( \\left[\\begin{matrix}1 & 0 & 0 & 1 & 0 & 0 & 80\\\\0 & 1 & 0 & 0 & 0 & -1 & 30\\\\0 & 0 & 1 & 1 & 0 & 1 & 150\\\\0 & 0 & 0 & 0 & 1 & 1 & 100\\\\0 & 0 & 0 & 0 & 0 & 0 & 0\\end{matrix}\\right], \\quad \\left ( 0, \\quad 1, \\quad 2, \\quad 4\\right )\\right )\\right )$$"
      ],
      "text/plain": [
       "⎛⎡-1  1  1  0  0   0   100⎤  ⎛⎡1  0  0  1  0  0   80 ⎤              ⎞⎞\n",
       "⎜⎢                        ⎥  ⎜⎢                      ⎥              ⎟⎟\n",
       "⎜⎢1   0  0  1  0   0   80 ⎥  ⎜⎢0  1  0  0  0  -1  30 ⎥              ⎟⎟\n",
       "⎜⎢                        ⎥  ⎜⎢                      ⎥              ⎟⎟\n",
       "⎜⎢0   1  0  0  0   -1  30 ⎥, ⎜⎢0  0  1  1  0  1   150⎥, (0, 1, 2, 4)⎟⎟\n",
       "⎜⎢                        ⎥  ⎜⎢                      ⎥              ⎟⎟\n",
       "⎜⎢0   0  0  0  1   1   100⎥  ⎜⎢0  0  0  0  1  1   100⎥              ⎟⎟\n",
       "⎜⎢                        ⎥  ⎜⎢                      ⎥              ⎟⎟\n",
       "⎝⎣0   0  1  1  -1  0   50 ⎦  ⎝⎣0  0  0  0  0  0    0 ⎦              ⎠⎠"
      ]
     },
     "execution_count": 12,
     "metadata": {},
     "output_type": "execute_result"
    }
   ],
   "source": [
    "B = Matrix([[-1,1,1,0,0,0,100],[1,0,0,1,0,0,80],[0,1,0,0,0,-1,30],[0,0,0,0,1,1,100],[0,0,1,1,-1,0,50]])\n",
    "R = B.rref()\n",
    "B,R"
   ]
  },
  {
   "cell_type": "code",
   "execution_count": 86,
   "metadata": {},
   "outputs": [
    {
     "data": {
      "text/latex": [
       "$$\\left[\\begin{matrix}1 & 0 & 0 & 1 & 0 & 0 & 80\\\\-1 & 1 & 1 & 0 & 0 & 0 & 100\\\\0 & 1 & 0 & 0 & 0 & -1 & 30\\\\0 & 0 & 0 & 0 & 1 & 1 & 100\\\\0 & 0 & 1 & 1 & -1 & 0 & 50\\end{matrix}\\right]$$"
      ],
      "text/plain": [
       "⎡1   0  0  1  0   0   80 ⎤\n",
       "⎢                        ⎥\n",
       "⎢-1  1  1  0  0   0   100⎥\n",
       "⎢                        ⎥\n",
       "⎢0   1  0  0  0   -1  30 ⎥\n",
       "⎢                        ⎥\n",
       "⎢0   0  0  0  1   1   100⎥\n",
       "⎢                        ⎥\n",
       "⎣0   0  1  1  -1  0   50 ⎦"
      ]
     },
     "execution_count": 86,
     "metadata": {},
     "output_type": "execute_result"
    }
   ],
   "source": [
    "B.row_swap(0,1)\n",
    "B"
   ]
  },
  {
   "cell_type": "code",
   "execution_count": 87,
   "metadata": {},
   "outputs": [
    {
     "data": {
      "text/latex": [
       "$$\\left[\\begin{matrix}1 & 0 & 0 & 1 & 0 & 0 & 80\\\\0 & 1 & 0 & 0 & 0 & -1 & 30\\\\-1 & 1 & 1 & 0 & 0 & 0 & 100\\\\0 & 0 & 0 & 0 & 1 & 1 & 100\\\\0 & 0 & 1 & 1 & -1 & 0 & 50\\end{matrix}\\right]$$"
      ],
      "text/plain": [
       "⎡1   0  0  1  0   0   80 ⎤\n",
       "⎢                        ⎥\n",
       "⎢0   1  0  0  0   -1  30 ⎥\n",
       "⎢                        ⎥\n",
       "⎢-1  1  1  0  0   0   100⎥\n",
       "⎢                        ⎥\n",
       "⎢0   0  0  0  1   1   100⎥\n",
       "⎢                        ⎥\n",
       "⎣0   0  1  1  -1  0   50 ⎦"
      ]
     },
     "execution_count": 87,
     "metadata": {},
     "output_type": "execute_result"
    }
   ],
   "source": [
    "B.row_swap(1,2)\n",
    "B"
   ]
  },
  {
   "cell_type": "code",
   "execution_count": 88,
   "metadata": {},
   "outputs": [
    {
     "data": {
      "text/latex": [
       "$$\\left[\\begin{matrix}1 & 0 & 0 & 1 & 0 & 0 & 80\\\\0 & 1 & 0 & 0 & 0 & -1 & 30\\\\0 & 0 & 1 & 1 & -1 & 0 & 50\\\\0 & 0 & 0 & 0 & 1 & 1 & 100\\\\-1 & 1 & 1 & 0 & 0 & 0 & 100\\end{matrix}\\right]$$"
      ],
      "text/plain": [
       "⎡1   0  0  1  0   0   80 ⎤\n",
       "⎢                        ⎥\n",
       "⎢0   1  0  0  0   -1  30 ⎥\n",
       "⎢                        ⎥\n",
       "⎢0   0  1  1  -1  0   50 ⎥\n",
       "⎢                        ⎥\n",
       "⎢0   0  0  0  1   1   100⎥\n",
       "⎢                        ⎥\n",
       "⎣-1  1  1  0  0   0   100⎦"
      ]
     },
     "execution_count": 88,
     "metadata": {},
     "output_type": "execute_result"
    }
   ],
   "source": [
    "B.row_swap(2,4)\n",
    "B"
   ]
  },
  {
   "cell_type": "code",
   "execution_count": 89,
   "metadata": {},
   "outputs": [
    {
     "data": {
      "text/latex": [
       "$$\\left[\\begin{matrix}1 & 0 & 0 & 1 & 0 & 0 & 80\\\\0 & 1 & 0 & 0 & 0 & -1 & 30\\\\0 & 0 & 1 & 1 & -1 & 0 & 50\\\\0 & 0 & 0 & 0 & 1 & 1 & 100\\\\0 & 1 & 1 & 1 & 0 & 0 & 180\\end{matrix}\\right]$$"
      ],
      "text/plain": [
       "⎡1  0  0  1  0   0   80 ⎤\n",
       "⎢                       ⎥\n",
       "⎢0  1  0  0  0   -1  30 ⎥\n",
       "⎢                       ⎥\n",
       "⎢0  0  1  1  -1  0   50 ⎥\n",
       "⎢                       ⎥\n",
       "⎢0  0  0  0  1   1   100⎥\n",
       "⎢                       ⎥\n",
       "⎣0  1  1  1  0   0   180⎦"
      ]
     },
     "execution_count": 89,
     "metadata": {},
     "output_type": "execute_result"
    }
   ],
   "source": [
    "B[4,:] = B[4,:] - -1*B[0,:]\n",
    "B"
   ]
  },
  {
   "cell_type": "code",
   "execution_count": 90,
   "metadata": {},
   "outputs": [
    {
     "data": {
      "text/latex": [
       "$$\\left[\\begin{matrix}1 & 0 & 0 & 1 & 0 & 0 & 80\\\\0 & 1 & 0 & 0 & 0 & -1 & 30\\\\0 & 0 & 1 & 1 & -1 & 0 & 50\\\\0 & 0 & 0 & 0 & 1 & 1 & 100\\\\0 & 0 & 1 & 1 & 0 & 1 & 150\\end{matrix}\\right]$$"
      ],
      "text/plain": [
       "⎡1  0  0  1  0   0   80 ⎤\n",
       "⎢                       ⎥\n",
       "⎢0  1  0  0  0   -1  30 ⎥\n",
       "⎢                       ⎥\n",
       "⎢0  0  1  1  -1  0   50 ⎥\n",
       "⎢                       ⎥\n",
       "⎢0  0  0  0  1   1   100⎥\n",
       "⎢                       ⎥\n",
       "⎣0  0  1  1  0   1   150⎦"
      ]
     },
     "execution_count": 90,
     "metadata": {},
     "output_type": "execute_result"
    }
   ],
   "source": [
    "B[4,:] = B[4,:] - B[1,:]\n",
    "B"
   ]
  },
  {
   "cell_type": "code",
   "execution_count": 91,
   "metadata": {},
   "outputs": [
    {
     "data": {
      "text/latex": [
       "$$\\left[\\begin{matrix}1 & 0 & 0 & 1 & 0 & 0 & 80\\\\0 & 1 & 0 & 0 & 0 & -1 & 30\\\\0 & 0 & 1 & 1 & -1 & 0 & 50\\\\0 & 0 & 0 & 0 & 1 & 1 & 100\\\\0 & 0 & 0 & 0 & 1 & 1 & 100\\end{matrix}\\right]$$"
      ],
      "text/plain": [
       "⎡1  0  0  1  0   0   80 ⎤\n",
       "⎢                       ⎥\n",
       "⎢0  1  0  0  0   -1  30 ⎥\n",
       "⎢                       ⎥\n",
       "⎢0  0  1  1  -1  0   50 ⎥\n",
       "⎢                       ⎥\n",
       "⎢0  0  0  0  1   1   100⎥\n",
       "⎢                       ⎥\n",
       "⎣0  0  0  0  1   1   100⎦"
      ]
     },
     "execution_count": 91,
     "metadata": {},
     "output_type": "execute_result"
    }
   ],
   "source": [
    "B[4,:] = B[4,:] - B[2,:]\n",
    "B"
   ]
  },
  {
   "cell_type": "code",
   "execution_count": 92,
   "metadata": {},
   "outputs": [
    {
     "data": {
      "text/latex": [
       "$$\\left[\\begin{matrix}1 & 0 & 0 & 1 & 0 & 0 & 80\\\\0 & 1 & 0 & 0 & 0 & -1 & 30\\\\0 & 0 & 1 & 1 & -1 & 0 & 50\\\\0 & 0 & 0 & 0 & 1 & 1 & 100\\\\0 & 0 & 0 & 0 & 0 & 0 & 0\\end{matrix}\\right]$$"
      ],
      "text/plain": [
       "⎡1  0  0  1  0   0   80 ⎤\n",
       "⎢                       ⎥\n",
       "⎢0  1  0  0  0   -1  30 ⎥\n",
       "⎢                       ⎥\n",
       "⎢0  0  1  1  -1  0   50 ⎥\n",
       "⎢                       ⎥\n",
       "⎢0  0  0  0  1   1   100⎥\n",
       "⎢                       ⎥\n",
       "⎣0  0  0  0  0   0    0 ⎦"
      ]
     },
     "execution_count": 92,
     "metadata": {},
     "output_type": "execute_result"
    }
   ],
   "source": [
    "B[4,:] = B[4,:] - B[3,:]\n",
    "B"
   ]
  },
  {
   "cell_type": "code",
   "execution_count": 93,
   "metadata": {},
   "outputs": [
    {
     "data": {
      "text/latex": [
       "$$\\left[\\begin{matrix}1 & 0 & 0 & 1 & 0 & 0 & 80\\\\0 & 1 & 0 & 0 & 0 & -1 & 30\\\\0 & 0 & 1 & 1 & 0 & 1 & 150\\\\0 & 0 & 0 & 0 & 1 & 1 & 100\\\\0 & 0 & 0 & 0 & 0 & 0 & 0\\end{matrix}\\right]$$"
      ],
      "text/plain": [
       "⎡1  0  0  1  0  0   80 ⎤\n",
       "⎢                      ⎥\n",
       "⎢0  1  0  0  0  -1  30 ⎥\n",
       "⎢                      ⎥\n",
       "⎢0  0  1  1  0  1   150⎥\n",
       "⎢                      ⎥\n",
       "⎢0  0  0  0  1  1   100⎥\n",
       "⎢                      ⎥\n",
       "⎣0  0  0  0  0  0    0 ⎦"
      ]
     },
     "execution_count": 93,
     "metadata": {},
     "output_type": "execute_result"
    }
   ],
   "source": [
    "B[2,:] = B[2,:] - -B[3,:]\n",
    "B"
   ]
  },
  {
   "cell_type": "code",
   "execution_count": 27,
   "metadata": {},
   "outputs": [],
   "source": [
    "x = Symbol(\"x\")\n",
    "def f(x_1): return 80 - x_4\n",
    "def f(x_2): return 30 + x_6\n",
    "def f(x_3): return 150 - x_4 - x_6\n",
    "def f(x_4): return x_4\n",
    "def f(x_5): return 100 - x_6\n",
    "def f(x_6): return x_6\n",
    "\n",
    "x_4 = 50\n",
    "x_6 = 100\n",
    "\n"
   ]
  },
  {
   "cell_type": "code",
   "execution_count": 92,
   "metadata": {},
   "outputs": [
    {
     "data": {
      "text/latex": [
       "$$\\left[\\begin{matrix}1 & 0 & 0 & - \\frac{1}{3} & - \\frac{1}{2} & 0\\\\- \\frac{1}{3} & 1 & - \\frac{1}{2} & - \\frac{1}{3} & 0 & 0\\\\0 & - \\frac{1}{2} & 1 & - \\frac{1}{3} & - \\frac{1}{2} & 0\\\\- \\frac{1}{3} & - \\frac{1}{2} & 0 & 1 & 0 & 0\\\\- \\frac{1}{3} & 0 & - \\frac{1}{2} & 0 & 1 & 0\\end{matrix}\\right]$$"
      ],
      "text/plain": [
       "⎡ 1     0     0    -1/3  -1/2  0⎤\n",
       "⎢                               ⎥\n",
       "⎢-1/3   1    -1/2  -1/3   0    0⎥\n",
       "⎢                               ⎥\n",
       "⎢ 0    -1/2   1    -1/3  -1/2  0⎥\n",
       "⎢                               ⎥\n",
       "⎢-1/3  -1/2   0     1     0    0⎥\n",
       "⎢                               ⎥\n",
       "⎣-1/3   0    -1/2   0     1    0⎦"
      ]
     },
     "execution_count": 92,
     "metadata": {},
     "output_type": "execute_result"
    }
   ],
   "source": [
    "C = Matrix([[1,0,0,Rational(-1,3), Rational(-1,2),0],[Rational(-1,3),1,Rational(-1,2),Rational(-1,3),0,0],[0, Rational(-1,2),1,Rational(-1,3), Rational(-1,2),0],[Rational(-1,3),Rational(-1,2),0,1,0,0],[Rational(-1,3),0,Rational(-1,2),0,1,0]])\n",
    "#R=C.rref()\n",
    "C#,R"
   ]
  },
  {
   "cell_type": "code",
   "execution_count": 29,
   "metadata": {},
   "outputs": [
    {
     "data": {
      "text/latex": [
       "$$0$$"
      ],
      "text/plain": [
       "0"
      ]
     },
     "execution_count": 29,
     "metadata": {},
     "output_type": "execute_result"
    }
   ],
   "source": [
    "1+Rational(-1,3)+0+Rational(-1,3)+Rational(-1,3)"
   ]
  },
  {
   "cell_type": "code",
   "execution_count": 30,
   "metadata": {},
   "outputs": [
    {
     "data": {
      "text/latex": [
       "$$0$$"
      ],
      "text/plain": [
       "0"
      ]
     },
     "execution_count": 30,
     "metadata": {},
     "output_type": "execute_result"
    }
   ],
   "source": [
    "1+Rational(-1,2)+Rational(-1,2)"
   ]
  },
  {
   "cell_type": "code",
   "execution_count": 93,
   "metadata": {},
   "outputs": [
    {
     "data": {
      "text/latex": [
       "$$0$$"
      ],
      "text/plain": [
       "0"
      ]
     },
     "execution_count": 93,
     "metadata": {},
     "output_type": "execute_result"
    }
   ],
   "source": [
    "Rational(-1,2)+1+0+Rational(-1,2)"
   ]
  },
  {
   "cell_type": "code",
   "execution_count": 31,
   "metadata": {},
   "outputs": [
    {
     "data": {
      "text/latex": [
       "$$0$$"
      ],
      "text/plain": [
       "0"
      ]
     },
     "execution_count": 31,
     "metadata": {},
     "output_type": "execute_result"
    }
   ],
   "source": [
    "Rational(-1,3)+Rational(-1,3)+Rational(-1,3)+1"
   ]
  },
  {
   "cell_type": "code",
   "execution_count": 32,
   "metadata": {},
   "outputs": [
    {
     "data": {
      "text/latex": [
       "$$0$$"
      ],
      "text/plain": [
       "0"
      ]
     },
     "execution_count": 32,
     "metadata": {},
     "output_type": "execute_result"
    }
   ],
   "source": [
    "Rational(-1,2)+Rational(-1,2)+1"
   ]
  },
  {
   "cell_type": "code",
   "execution_count": 160,
   "metadata": {},
   "outputs": [
    {
     "data": {
      "text/latex": [
       "$$\\left ( \\left[\\begin{matrix}1 & 0 & 0 & - \\frac{1}{3} & - \\frac{1}{2} & 0\\\\- \\frac{1}{3} & 1 & - \\frac{1}{2} & - \\frac{1}{3} & 0 & 0\\\\0 & - \\frac{1}{2} & 1 & - \\frac{1}{3} & - \\frac{1}{2} & 0\\\\- \\frac{1}{3} & - \\frac{1}{2} & 0 & 1 & 0 & 0\\\\- \\frac{1}{3} & 0 & - \\frac{1}{2} & 0 & 1 & 0\\\\1 & 1 & 1 & 1 & 1 & 1\\end{matrix}\\right], \\quad \\left ( \\left[\\begin{matrix}1 & 0 & 0 & 0 & 0 & \\frac{21}{143}\\\\0 & 1 & 0 & 0 & 0 & \\frac{34}{143}\\\\0 & 0 & 1 & 0 & 0 & \\frac{38}{143}\\\\0 & 0 & 0 & 1 & 0 & \\frac{24}{143}\\\\0 & 0 & 0 & 0 & 1 & \\frac{2}{11}\\\\0 & 0 & 0 & 0 & 0 & 0\\end{matrix}\\right], \\quad \\left ( 0, \\quad 1, \\quad 2, \\quad 3, \\quad 4\\right )\\right )\\right )$$"
      ],
      "text/plain": [
       "⎛                                   ⎛⎡                21 ⎤                 ⎞⎞\n",
       "⎜                                   ⎜⎢1  0  0  0  0  ─── ⎥                 ⎟⎟\n",
       "⎜                                   ⎜⎢               143 ⎥                 ⎟⎟\n",
       "⎜                                   ⎜⎢                   ⎥                 ⎟⎟\n",
       "⎜⎡ 1     0     0    -1/3  -1/2  0⎤  ⎜⎢                34 ⎥                 ⎟⎟\n",
       "⎜⎢                               ⎥  ⎜⎢0  1  0  0  0  ─── ⎥                 ⎟⎟\n",
       "⎜⎢-1/3   1    -1/2  -1/3   0    0⎥  ⎜⎢               143 ⎥                 ⎟⎟\n",
       "⎜⎢                               ⎥  ⎜⎢                   ⎥                 ⎟⎟\n",
       "⎜⎢ 0    -1/2   1    -1/3  -1/2  0⎥  ⎜⎢                38 ⎥                 ⎟⎟\n",
       "⎜⎢                               ⎥, ⎜⎢0  0  1  0  0  ─── ⎥, (0, 1, 2, 3, 4)⎟⎟\n",
       "⎜⎢-1/3  -1/2   0     1     0    0⎥  ⎜⎢               143 ⎥                 ⎟⎟\n",
       "⎜⎢                               ⎥  ⎜⎢                   ⎥                 ⎟⎟\n",
       "⎜⎢-1/3   0    -1/2   0     1    0⎥  ⎜⎢                24 ⎥                 ⎟⎟\n",
       "⎜⎢                               ⎥  ⎜⎢0  0  0  1  0  ─── ⎥                 ⎟⎟\n",
       "⎜⎣ 1     1     1     1     1    1⎦  ⎜⎢               143 ⎥                 ⎟⎟\n",
       "⎜                                   ⎜⎢                   ⎥                 ⎟⎟\n",
       "⎜                                   ⎜⎢0  0  0  0  1  2/11⎥                 ⎟⎟\n",
       "⎜                                   ⎜⎢                   ⎥                 ⎟⎟\n",
       "⎝                                   ⎝⎣0  0  0  0  0   0  ⎦                 ⎠⎠"
      ]
     },
     "execution_count": 160,
     "metadata": {},
     "output_type": "execute_result"
    }
   ],
   "source": [
    "C = Matrix([[1,0,0,Rational(-1,3), Rational(-1,2),0],[Rational(-1,3),1,Rational(-1,2),Rational(-1,3),0,0],[0, Rational(-1,2),1,Rational(-1,3), Rational(-1,2),0],[Rational(-1,3),Rational(-1,2),0,1,0,0],[Rational(-1,3),0,Rational(-1,2),0,1,0],[1,1,1,1,1,1]])\n",
    "R=C.rref()\n",
    "C,R"
   ]
  },
  {
   "cell_type": "code",
   "execution_count": 136,
   "metadata": {},
   "outputs": [
    {
     "data": {
      "text/latex": [
       "$$\\left[\\begin{matrix}1 & 0 & 0 & - \\frac{1}{3} & - \\frac{1}{2} & 0\\\\0 & 1 & - \\frac{1}{2} & - \\frac{4}{9} & - \\frac{1}{6} & 0\\\\0 & - \\frac{1}{2} & 1 & - \\frac{1}{3} & - \\frac{1}{2} & 0\\\\- \\frac{1}{3} & - \\frac{1}{2} & 0 & 1 & 0 & 0\\\\- \\frac{1}{3} & 0 & - \\frac{1}{2} & 0 & 1 & 0\\\\1 & 1 & 1 & 1 & 1 & 1\\end{matrix}\\right]$$"
      ],
      "text/plain": [
       "⎡ 1     0     0    -1/3  -1/2  0⎤\n",
       "⎢                               ⎥\n",
       "⎢ 0     1    -1/2  -4/9  -1/6  0⎥\n",
       "⎢                               ⎥\n",
       "⎢ 0    -1/2   1    -1/3  -1/2  0⎥\n",
       "⎢                               ⎥\n",
       "⎢-1/3  -1/2   0     1     0    0⎥\n",
       "⎢                               ⎥\n",
       "⎢-1/3   0    -1/2   0     1    0⎥\n",
       "⎢                               ⎥\n",
       "⎣ 1     1     1     1     1    1⎦"
      ]
     },
     "execution_count": 136,
     "metadata": {},
     "output_type": "execute_result"
    }
   ],
   "source": [
    "C[1,:] = C[1,:]-Rational(-1,3)*C[0,:]\n",
    "C"
   ]
  },
  {
   "cell_type": "code",
   "execution_count": 137,
   "metadata": {},
   "outputs": [
    {
     "data": {
      "text/latex": [
       "$$\\left[\\begin{matrix}1 & 0 & 0 & - \\frac{1}{3} & - \\frac{1}{2} & 0\\\\0 & 1 & - \\frac{1}{2} & - \\frac{4}{9} & - \\frac{1}{6} & 0\\\\0 & - \\frac{1}{2} & 1 & - \\frac{1}{3} & - \\frac{1}{2} & 0\\\\0 & - \\frac{1}{2} & 0 & \\frac{8}{9} & - \\frac{1}{6} & 0\\\\- \\frac{1}{3} & 0 & - \\frac{1}{2} & 0 & 1 & 0\\\\1 & 1 & 1 & 1 & 1 & 1\\end{matrix}\\right]$$"
      ],
      "text/plain": [
       "⎡ 1     0     0    -1/3  -1/2  0⎤\n",
       "⎢                               ⎥\n",
       "⎢ 0     1    -1/2  -4/9  -1/6  0⎥\n",
       "⎢                               ⎥\n",
       "⎢ 0    -1/2   1    -1/3  -1/2  0⎥\n",
       "⎢                               ⎥\n",
       "⎢ 0    -1/2   0    8/9   -1/6  0⎥\n",
       "⎢                               ⎥\n",
       "⎢-1/3   0    -1/2   0     1    0⎥\n",
       "⎢                               ⎥\n",
       "⎣ 1     1     1     1     1    1⎦"
      ]
     },
     "execution_count": 137,
     "metadata": {},
     "output_type": "execute_result"
    }
   ],
   "source": [
    "C[3,:] = C[3,:]-Rational(-1,3)*C[0,:]\n",
    "C"
   ]
  },
  {
   "cell_type": "code",
   "execution_count": 138,
   "metadata": {},
   "outputs": [
    {
     "data": {
      "text/latex": [
       "$$\\left[\\begin{matrix}1 & 0 & 0 & - \\frac{1}{3} & - \\frac{1}{2} & 0\\\\0 & 1 & - \\frac{1}{2} & - \\frac{4}{9} & - \\frac{1}{6} & 0\\\\0 & - \\frac{1}{2} & 1 & - \\frac{1}{3} & - \\frac{1}{2} & 0\\\\0 & - \\frac{1}{2} & 0 & \\frac{8}{9} & - \\frac{1}{6} & 0\\\\0 & 0 & - \\frac{1}{2} & - \\frac{1}{9} & \\frac{5}{6} & 0\\\\1 & 1 & 1 & 1 & 1 & 1\\end{matrix}\\right]$$"
      ],
      "text/plain": [
       "⎡1   0     0    -1/3  -1/2  0⎤\n",
       "⎢                            ⎥\n",
       "⎢0   1    -1/2  -4/9  -1/6  0⎥\n",
       "⎢                            ⎥\n",
       "⎢0  -1/2   1    -1/3  -1/2  0⎥\n",
       "⎢                            ⎥\n",
       "⎢0  -1/2   0    8/9   -1/6  0⎥\n",
       "⎢                            ⎥\n",
       "⎢0   0    -1/2  -1/9  5/6   0⎥\n",
       "⎢                            ⎥\n",
       "⎣1   1     1     1     1    1⎦"
      ]
     },
     "execution_count": 138,
     "metadata": {},
     "output_type": "execute_result"
    }
   ],
   "source": [
    "C[4,:] = C[4,:]-Rational(-1,3)*C[0,:]\n",
    "C"
   ]
  },
  {
   "cell_type": "code",
   "execution_count": 139,
   "metadata": {},
   "outputs": [
    {
     "data": {
      "text/latex": [
       "$$\\left[\\begin{matrix}1 & 0 & 0 & - \\frac{1}{3} & - \\frac{1}{2} & 0\\\\0 & 1 & - \\frac{1}{2} & - \\frac{4}{9} & - \\frac{1}{6} & 0\\\\0 & - \\frac{1}{2} & 1 & - \\frac{1}{3} & - \\frac{1}{2} & 0\\\\0 & - \\frac{1}{2} & 0 & \\frac{8}{9} & - \\frac{1}{6} & 0\\\\0 & 0 & - \\frac{1}{2} & - \\frac{1}{9} & \\frac{5}{6} & 0\\\\0 & 1 & 1 & \\frac{4}{3} & \\frac{3}{2} & 1\\end{matrix}\\right]$$"
      ],
      "text/plain": [
       "⎡1   0     0    -1/3  -1/2  0⎤\n",
       "⎢                            ⎥\n",
       "⎢0   1    -1/2  -4/9  -1/6  0⎥\n",
       "⎢                            ⎥\n",
       "⎢0  -1/2   1    -1/3  -1/2  0⎥\n",
       "⎢                            ⎥\n",
       "⎢0  -1/2   0    8/9   -1/6  0⎥\n",
       "⎢                            ⎥\n",
       "⎢0   0    -1/2  -1/9  5/6   0⎥\n",
       "⎢                            ⎥\n",
       "⎣0   1     1    4/3   3/2   1⎦"
      ]
     },
     "execution_count": 139,
     "metadata": {},
     "output_type": "execute_result"
    }
   ],
   "source": [
    "C[5,:] = C[5,:] - C[0,:]\n",
    "C"
   ]
  },
  {
   "cell_type": "code",
   "execution_count": 140,
   "metadata": {},
   "outputs": [
    {
     "data": {
      "text/latex": [
       "$$\\left[\\begin{matrix}1 & 0 & 0 & - \\frac{1}{3} & - \\frac{1}{2} & 0\\\\0 & 1 & - \\frac{1}{2} & - \\frac{4}{9} & - \\frac{1}{6} & 0\\\\0 & 0 & \\frac{3}{4} & - \\frac{5}{9} & - \\frac{7}{12} & 0\\\\0 & - \\frac{1}{2} & 0 & \\frac{8}{9} & - \\frac{1}{6} & 0\\\\0 & 0 & - \\frac{1}{2} & - \\frac{1}{9} & \\frac{5}{6} & 0\\\\0 & 1 & 1 & \\frac{4}{3} & \\frac{3}{2} & 1\\end{matrix}\\right]$$"
      ],
      "text/plain": [
       "⎡1   0     0    -1/3  -1/2   0⎤\n",
       "⎢                             ⎥\n",
       "⎢0   1    -1/2  -4/9  -1/6   0⎥\n",
       "⎢                             ⎥\n",
       "⎢0   0    3/4   -5/9  -7/12  0⎥\n",
       "⎢                             ⎥\n",
       "⎢0  -1/2   0    8/9   -1/6   0⎥\n",
       "⎢                             ⎥\n",
       "⎢0   0    -1/2  -1/9   5/6   0⎥\n",
       "⎢                             ⎥\n",
       "⎣0   1     1    4/3    3/2   1⎦"
      ]
     },
     "execution_count": 140,
     "metadata": {},
     "output_type": "execute_result"
    }
   ],
   "source": [
    "C[2,:] = C[2,:]-Rational(-1,2)*C[1,:]\n",
    "C"
   ]
  },
  {
   "cell_type": "code",
   "execution_count": 141,
   "metadata": {},
   "outputs": [
    {
     "data": {
      "text/latex": [
       "$$\\left[\\begin{matrix}1 & 0 & 0 & - \\frac{1}{3} & - \\frac{1}{2} & 0\\\\0 & 1 & - \\frac{1}{2} & - \\frac{4}{9} & - \\frac{1}{6} & 0\\\\0 & 0 & \\frac{3}{4} & - \\frac{5}{9} & - \\frac{7}{12} & 0\\\\0 & 0 & - \\frac{1}{4} & \\frac{2}{3} & - \\frac{1}{4} & 0\\\\0 & 0 & - \\frac{1}{2} & - \\frac{1}{9} & \\frac{5}{6} & 0\\\\0 & 1 & 1 & \\frac{4}{3} & \\frac{3}{2} & 1\\end{matrix}\\right]$$"
      ],
      "text/plain": [
       "⎡1  0   0    -1/3  -1/2   0⎤\n",
       "⎢                          ⎥\n",
       "⎢0  1  -1/2  -4/9  -1/6   0⎥\n",
       "⎢                          ⎥\n",
       "⎢0  0  3/4   -5/9  -7/12  0⎥\n",
       "⎢                          ⎥\n",
       "⎢0  0  -1/4  2/3   -1/4   0⎥\n",
       "⎢                          ⎥\n",
       "⎢0  0  -1/2  -1/9   5/6   0⎥\n",
       "⎢                          ⎥\n",
       "⎣0  1   1    4/3    3/2   1⎦"
      ]
     },
     "execution_count": 141,
     "metadata": {},
     "output_type": "execute_result"
    }
   ],
   "source": [
    "C[3,:] = C[3,:]-Rational(-1,2)*C[1,:]\n",
    "C"
   ]
  },
  {
   "cell_type": "code",
   "execution_count": 142,
   "metadata": {},
   "outputs": [
    {
     "data": {
      "text/latex": [
       "$$\\left[\\begin{matrix}1 & 0 & 0 & - \\frac{1}{3} & - \\frac{1}{2} & 0\\\\0 & 1 & - \\frac{1}{2} & - \\frac{4}{9} & - \\frac{1}{6} & 0\\\\0 & 0 & \\frac{3}{4} & - \\frac{5}{9} & - \\frac{7}{12} & 0\\\\0 & 0 & - \\frac{1}{4} & \\frac{2}{3} & - \\frac{1}{4} & 0\\\\0 & 0 & - \\frac{1}{2} & - \\frac{1}{9} & \\frac{5}{6} & 0\\\\0 & 0 & \\frac{3}{2} & \\frac{16}{9} & \\frac{5}{3} & 1\\end{matrix}\\right]$$"
      ],
      "text/plain": [
       "⎡1  0   0    -1/3  -1/2   0⎤\n",
       "⎢                          ⎥\n",
       "⎢0  1  -1/2  -4/9  -1/6   0⎥\n",
       "⎢                          ⎥\n",
       "⎢0  0  3/4   -5/9  -7/12  0⎥\n",
       "⎢                          ⎥\n",
       "⎢0  0  -1/4  2/3   -1/4   0⎥\n",
       "⎢                          ⎥\n",
       "⎢0  0  -1/2  -1/9   5/6   0⎥\n",
       "⎢                          ⎥\n",
       "⎣0  0  3/2   16/9   5/3   1⎦"
      ]
     },
     "execution_count": 142,
     "metadata": {},
     "output_type": "execute_result"
    }
   ],
   "source": [
    "C[5,:] = C[5,:] - C[1,:]\n",
    "C"
   ]
  },
  {
   "cell_type": "code",
   "execution_count": 143,
   "metadata": {},
   "outputs": [
    {
     "data": {
      "text/latex": [
       "$$\\left[\\begin{matrix}1 & 0 & 0 & - \\frac{1}{3} & - \\frac{1}{2} & 0\\\\0 & 1 & - \\frac{1}{2} & - \\frac{4}{9} & - \\frac{1}{6} & 0\\\\0 & 0 & 1 & - \\frac{20}{27} & - \\frac{7}{9} & 0\\\\0 & 0 & - \\frac{1}{4} & \\frac{2}{3} & - \\frac{1}{4} & 0\\\\0 & 0 & - \\frac{1}{2} & - \\frac{1}{9} & \\frac{5}{6} & 0\\\\0 & 0 & \\frac{3}{2} & \\frac{16}{9} & \\frac{5}{3} & 1\\end{matrix}\\right]$$"
      ],
      "text/plain": [
       "⎡1  0   0    -1/3  -1/2  0⎤\n",
       "⎢                         ⎥\n",
       "⎢0  1  -1/2  -4/9  -1/6  0⎥\n",
       "⎢                         ⎥\n",
       "⎢            -20          ⎥\n",
       "⎢0  0   1    ────  -7/9  0⎥\n",
       "⎢             27          ⎥\n",
       "⎢                         ⎥\n",
       "⎢0  0  -1/4  2/3   -1/4  0⎥\n",
       "⎢                         ⎥\n",
       "⎢0  0  -1/2  -1/9  5/6   0⎥\n",
       "⎢                         ⎥\n",
       "⎣0  0  3/2   16/9  5/3   1⎦"
      ]
     },
     "execution_count": 143,
     "metadata": {},
     "output_type": "execute_result"
    }
   ],
   "source": [
    "C[2,:] = C[2,:]*Rational(4,3)\n",
    "C"
   ]
  },
  {
   "cell_type": "code",
   "execution_count": 144,
   "metadata": {},
   "outputs": [
    {
     "data": {
      "text/latex": [
       "$$\\left[\\begin{matrix}1 & 0 & 0 & - \\frac{1}{3} & - \\frac{1}{2} & 0\\\\0 & 1 & - \\frac{1}{2} & - \\frac{4}{9} & - \\frac{1}{6} & 0\\\\0 & 0 & 1 & - \\frac{20}{27} & - \\frac{7}{9} & 0\\\\0 & 0 & 0 & \\frac{13}{27} & - \\frac{4}{9} & 0\\\\0 & 0 & - \\frac{1}{2} & - \\frac{1}{9} & \\frac{5}{6} & 0\\\\0 & 0 & \\frac{3}{2} & \\frac{16}{9} & \\frac{5}{3} & 1\\end{matrix}\\right]$$"
      ],
      "text/plain": [
       "⎡1  0   0    -1/3  -1/2  0⎤\n",
       "⎢                         ⎥\n",
       "⎢0  1  -1/2  -4/9  -1/6  0⎥\n",
       "⎢                         ⎥\n",
       "⎢            -20          ⎥\n",
       "⎢0  0   1    ────  -7/9  0⎥\n",
       "⎢             27          ⎥\n",
       "⎢                         ⎥\n",
       "⎢             13          ⎥\n",
       "⎢0  0   0     ──   -4/9  0⎥\n",
       "⎢             27          ⎥\n",
       "⎢                         ⎥\n",
       "⎢0  0  -1/2  -1/9  5/6   0⎥\n",
       "⎢                         ⎥\n",
       "⎣0  0  3/2   16/9  5/3   1⎦"
      ]
     },
     "execution_count": 144,
     "metadata": {},
     "output_type": "execute_result"
    }
   ],
   "source": [
    "C[3,:] = C[3,:] - Rational(-1,4)*C[2,:]\n",
    "C"
   ]
  },
  {
   "cell_type": "code",
   "execution_count": 145,
   "metadata": {},
   "outputs": [
    {
     "data": {
      "text/latex": [
       "$$\\left[\\begin{matrix}1 & 0 & 0 & - \\frac{1}{3} & - \\frac{1}{2} & 0\\\\0 & 1 & - \\frac{1}{2} & - \\frac{4}{9} & - \\frac{1}{6} & 0\\\\0 & 0 & 1 & - \\frac{20}{27} & - \\frac{7}{9} & 0\\\\0 & 0 & 0 & \\frac{13}{27} & - \\frac{4}{9} & 0\\\\0 & 0 & 0 & - \\frac{13}{27} & \\frac{4}{9} & 0\\\\0 & 0 & \\frac{3}{2} & \\frac{16}{9} & \\frac{5}{3} & 1\\end{matrix}\\right]$$"
      ],
      "text/plain": [
       "⎡1  0   0    -1/3  -1/2  0⎤\n",
       "⎢                         ⎥\n",
       "⎢0  1  -1/2  -4/9  -1/6  0⎥\n",
       "⎢                         ⎥\n",
       "⎢            -20          ⎥\n",
       "⎢0  0   1    ────  -7/9  0⎥\n",
       "⎢             27          ⎥\n",
       "⎢                         ⎥\n",
       "⎢             13          ⎥\n",
       "⎢0  0   0     ──   -4/9  0⎥\n",
       "⎢             27          ⎥\n",
       "⎢                         ⎥\n",
       "⎢            -13          ⎥\n",
       "⎢0  0   0    ────  4/9   0⎥\n",
       "⎢             27          ⎥\n",
       "⎢                         ⎥\n",
       "⎣0  0  3/2   16/9  5/3   1⎦"
      ]
     },
     "execution_count": 145,
     "metadata": {},
     "output_type": "execute_result"
    }
   ],
   "source": [
    "C[4,:] = C[4,:] - Rational(-1,2)*C[2,:]\n",
    "C"
   ]
  },
  {
   "cell_type": "code",
   "execution_count": 146,
   "metadata": {},
   "outputs": [
    {
     "data": {
      "text/latex": [
       "$$\\left[\\begin{matrix}1 & 0 & 0 & - \\frac{1}{3} & - \\frac{1}{2} & 0\\\\0 & 1 & - \\frac{1}{2} & - \\frac{4}{9} & - \\frac{1}{6} & 0\\\\0 & 0 & 1 & - \\frac{20}{27} & - \\frac{7}{9} & 0\\\\0 & 0 & 0 & \\frac{13}{27} & - \\frac{4}{9} & 0\\\\0 & 0 & 0 & - \\frac{13}{27} & \\frac{4}{9} & 0\\\\0 & 0 & 0 & \\frac{26}{9} & \\frac{17}{6} & 1\\end{matrix}\\right]$$"
      ],
      "text/plain": [
       "⎡1  0   0    -1/3  -1/2  0⎤\n",
       "⎢                         ⎥\n",
       "⎢0  1  -1/2  -4/9  -1/6  0⎥\n",
       "⎢                         ⎥\n",
       "⎢            -20          ⎥\n",
       "⎢0  0   1    ────  -7/9  0⎥\n",
       "⎢             27          ⎥\n",
       "⎢                         ⎥\n",
       "⎢             13          ⎥\n",
       "⎢0  0   0     ──   -4/9  0⎥\n",
       "⎢             27          ⎥\n",
       "⎢                         ⎥\n",
       "⎢            -13          ⎥\n",
       "⎢0  0   0    ────  4/9   0⎥\n",
       "⎢             27          ⎥\n",
       "⎢                         ⎥\n",
       "⎣0  0   0    26/9  17/6  1⎦"
      ]
     },
     "execution_count": 146,
     "metadata": {},
     "output_type": "execute_result"
    }
   ],
   "source": [
    "C[5,:] = C[5,:] - Rational(3,2)*C[2,:]\n",
    "C"
   ]
  },
  {
   "cell_type": "code",
   "execution_count": 147,
   "metadata": {},
   "outputs": [
    {
     "data": {
      "text/latex": [
       "$$\\left[\\begin{matrix}1 & 0 & 0 & - \\frac{1}{3} & - \\frac{1}{2} & 0\\\\0 & 1 & - \\frac{1}{2} & - \\frac{4}{9} & - \\frac{1}{6} & 0\\\\0 & 0 & 1 & - \\frac{20}{27} & - \\frac{7}{9} & 0\\\\0 & 0 & 0 & 1 & - \\frac{12}{13} & 0\\\\0 & 0 & 0 & - \\frac{13}{27} & \\frac{4}{9} & 0\\\\0 & 0 & 0 & \\frac{26}{9} & \\frac{17}{6} & 1\\end{matrix}\\right]$$"
      ],
      "text/plain": [
       "⎡1  0   0    -1/3  -1/2  0⎤\n",
       "⎢                         ⎥\n",
       "⎢0  1  -1/2  -4/9  -1/6  0⎥\n",
       "⎢                         ⎥\n",
       "⎢            -20          ⎥\n",
       "⎢0  0   1    ────  -7/9  0⎥\n",
       "⎢             27          ⎥\n",
       "⎢                         ⎥\n",
       "⎢                  -12    ⎥\n",
       "⎢0  0   0     1    ────  0⎥\n",
       "⎢                   13    ⎥\n",
       "⎢                         ⎥\n",
       "⎢            -13          ⎥\n",
       "⎢0  0   0    ────  4/9   0⎥\n",
       "⎢             27          ⎥\n",
       "⎢                         ⎥\n",
       "⎣0  0   0    26/9  17/6  1⎦"
      ]
     },
     "execution_count": 147,
     "metadata": {},
     "output_type": "execute_result"
    }
   ],
   "source": [
    "C[3,:] = C[3,:]*Rational(27,13)\n",
    "C #Start copying here"
   ]
  },
  {
   "cell_type": "code",
   "execution_count": 148,
   "metadata": {},
   "outputs": [
    {
     "data": {
      "text/latex": [
       "$$\\left[\\begin{matrix}1 & 0 & 0 & - \\frac{1}{3} & - \\frac{1}{2} & 0\\\\0 & 1 & - \\frac{1}{2} & - \\frac{4}{9} & - \\frac{1}{6} & 0\\\\0 & 0 & 1 & - \\frac{20}{27} & - \\frac{7}{9} & 0\\\\0 & 0 & 0 & 1 & - \\frac{12}{13} & 0\\\\0 & 0 & 0 & 0 & 0 & 0\\\\0 & 0 & 0 & \\frac{26}{9} & \\frac{17}{6} & 1\\end{matrix}\\right]$$"
      ],
      "text/plain": [
       "⎡1  0   0    -1/3  -1/2  0⎤\n",
       "⎢                         ⎥\n",
       "⎢0  1  -1/2  -4/9  -1/6  0⎥\n",
       "⎢                         ⎥\n",
       "⎢            -20          ⎥\n",
       "⎢0  0   1    ────  -7/9  0⎥\n",
       "⎢             27          ⎥\n",
       "⎢                         ⎥\n",
       "⎢                  -12    ⎥\n",
       "⎢0  0   0     1    ────  0⎥\n",
       "⎢                   13    ⎥\n",
       "⎢                         ⎥\n",
       "⎢0  0   0     0     0    0⎥\n",
       "⎢                         ⎥\n",
       "⎣0  0   0    26/9  17/6  1⎦"
      ]
     },
     "execution_count": 148,
     "metadata": {},
     "output_type": "execute_result"
    }
   ],
   "source": [
    "C[4,:] = C[4,:]-Rational(-13,27)*C[3,:]\n",
    "C"
   ]
  },
  {
   "cell_type": "code",
   "execution_count": 149,
   "metadata": {},
   "outputs": [
    {
     "data": {
      "text/latex": [
       "$$\\left[\\begin{matrix}1 & 0 & 0 & - \\frac{1}{3} & - \\frac{1}{2} & 0\\\\0 & 1 & - \\frac{1}{2} & - \\frac{4}{9} & - \\frac{1}{6} & 0\\\\0 & 0 & 1 & - \\frac{20}{27} & - \\frac{7}{9} & 0\\\\0 & 0 & 0 & 1 & - \\frac{12}{13} & 0\\\\0 & 0 & 0 & 0 & 0 & 0\\\\0 & 0 & 0 & 0 & \\frac{11}{2} & 1\\end{matrix}\\right]$$"
      ],
      "text/plain": [
       "⎡1  0   0    -1/3  -1/2  0⎤\n",
       "⎢                         ⎥\n",
       "⎢0  1  -1/2  -4/9  -1/6  0⎥\n",
       "⎢                         ⎥\n",
       "⎢            -20          ⎥\n",
       "⎢0  0   1    ────  -7/9  0⎥\n",
       "⎢             27          ⎥\n",
       "⎢                         ⎥\n",
       "⎢                  -12    ⎥\n",
       "⎢0  0   0     1    ────  0⎥\n",
       "⎢                   13    ⎥\n",
       "⎢                         ⎥\n",
       "⎢0  0   0     0     0    0⎥\n",
       "⎢                         ⎥\n",
       "⎣0  0   0     0    11/2  1⎦"
      ]
     },
     "execution_count": 149,
     "metadata": {},
     "output_type": "execute_result"
    }
   ],
   "source": [
    "C[5,:] = C[5,:] - Rational(26,9)*C[3,:]\n",
    "C"
   ]
  },
  {
   "cell_type": "code",
   "execution_count": 150,
   "metadata": {},
   "outputs": [
    {
     "data": {
      "text/latex": [
       "$$\\left[\\begin{matrix}1 & 0 & 0 & - \\frac{1}{3} & - \\frac{1}{2} & 0\\\\0 & 1 & - \\frac{1}{2} & - \\frac{4}{9} & - \\frac{1}{6} & 0\\\\0 & 0 & 1 & - \\frac{20}{27} & - \\frac{7}{9} & 0\\\\0 & 0 & 0 & 1 & - \\frac{12}{13} & 0\\\\0 & 0 & 0 & 0 & \\frac{11}{2} & 1\\\\0 & 0 & 0 & 0 & 0 & 0\\end{matrix}\\right]$$"
      ],
      "text/plain": [
       "⎡1  0   0    -1/3  -1/2  0⎤\n",
       "⎢                         ⎥\n",
       "⎢0  1  -1/2  -4/9  -1/6  0⎥\n",
       "⎢                         ⎥\n",
       "⎢            -20          ⎥\n",
       "⎢0  0   1    ────  -7/9  0⎥\n",
       "⎢             27          ⎥\n",
       "⎢                         ⎥\n",
       "⎢                  -12    ⎥\n",
       "⎢0  0   0     1    ────  0⎥\n",
       "⎢                   13    ⎥\n",
       "⎢                         ⎥\n",
       "⎢0  0   0     0    11/2  1⎥\n",
       "⎢                         ⎥\n",
       "⎣0  0   0     0     0    0⎦"
      ]
     },
     "execution_count": 150,
     "metadata": {},
     "output_type": "execute_result"
    }
   ],
   "source": [
    "C.row_swap(4,5)\n",
    "C"
   ]
  },
  {
   "cell_type": "code",
   "execution_count": 151,
   "metadata": {},
   "outputs": [
    {
     "data": {
      "text/latex": [
       "$$\\left[\\begin{matrix}1 & 0 & 0 & - \\frac{1}{3} & - \\frac{1}{2} & 0\\\\0 & 1 & - \\frac{1}{2} & - \\frac{4}{9} & - \\frac{1}{6} & 0\\\\0 & 0 & 1 & - \\frac{20}{27} & - \\frac{7}{9} & 0\\\\0 & 0 & 0 & 1 & - \\frac{12}{13} & 0\\\\0 & 0 & 0 & 0 & 1 & \\frac{2}{11}\\\\0 & 0 & 0 & 0 & 0 & 0\\end{matrix}\\right]$$"
      ],
      "text/plain": [
       "⎡1  0   0    -1/3  -1/2   0  ⎤\n",
       "⎢                            ⎥\n",
       "⎢0  1  -1/2  -4/9  -1/6   0  ⎥\n",
       "⎢                            ⎥\n",
       "⎢            -20             ⎥\n",
       "⎢0  0   1    ────  -7/9   0  ⎥\n",
       "⎢             27             ⎥\n",
       "⎢                            ⎥\n",
       "⎢                  -12       ⎥\n",
       "⎢0  0   0     1    ────   0  ⎥\n",
       "⎢                   13       ⎥\n",
       "⎢                            ⎥\n",
       "⎢0  0   0     0     1    2/11⎥\n",
       "⎢                            ⎥\n",
       "⎣0  0   0     0     0     0  ⎦"
      ]
     },
     "execution_count": 151,
     "metadata": {},
     "output_type": "execute_result"
    }
   ],
   "source": [
    "C[4,:] = C[4,:]*Rational(2,11)\n",
    "C"
   ]
  },
  {
   "cell_type": "code",
   "execution_count": 152,
   "metadata": {},
   "outputs": [
    {
     "data": {
      "text/latex": [
       "$$\\left[\\begin{matrix}1 & 0 & 0 & - \\frac{1}{3} & - \\frac{1}{2} & 0\\\\0 & 1 & - \\frac{1}{2} & - \\frac{4}{9} & - \\frac{1}{6} & 0\\\\0 & 0 & 1 & - \\frac{20}{27} & - \\frac{7}{9} & 0\\\\0 & 0 & 0 & 1 & 0 & \\frac{24}{143}\\\\0 & 0 & 0 & 0 & 1 & \\frac{2}{11}\\\\0 & 0 & 0 & 0 & 0 & 0\\end{matrix}\\right]$$"
      ],
      "text/plain": [
       "⎡1  0   0    -1/3  -1/2   0  ⎤\n",
       "⎢                            ⎥\n",
       "⎢0  1  -1/2  -4/9  -1/6   0  ⎥\n",
       "⎢                            ⎥\n",
       "⎢            -20             ⎥\n",
       "⎢0  0   1    ────  -7/9   0  ⎥\n",
       "⎢             27             ⎥\n",
       "⎢                            ⎥\n",
       "⎢                         24 ⎥\n",
       "⎢0  0   0     1     0    ─── ⎥\n",
       "⎢                        143 ⎥\n",
       "⎢                            ⎥\n",
       "⎢0  0   0     0     1    2/11⎥\n",
       "⎢                            ⎥\n",
       "⎣0  0   0     0     0     0  ⎦"
      ]
     },
     "execution_count": 152,
     "metadata": {},
     "output_type": "execute_result"
    }
   ],
   "source": [
    "C[3,:] = C[3,:] - Rational(-12,13)*C[4,:]\n",
    "C"
   ]
  },
  {
   "cell_type": "code",
   "execution_count": 153,
   "metadata": {},
   "outputs": [
    {
     "data": {
      "text/latex": [
       "$$\\left[\\begin{matrix}1 & 0 & 0 & - \\frac{1}{3} & - \\frac{1}{2} & 0\\\\0 & 1 & - \\frac{1}{2} & - \\frac{4}{9} & - \\frac{1}{6} & 0\\\\0 & 0 & 1 & - \\frac{20}{27} & 0 & \\frac{14}{99}\\\\0 & 0 & 0 & 1 & 0 & \\frac{24}{143}\\\\0 & 0 & 0 & 0 & 1 & \\frac{2}{11}\\\\0 & 0 & 0 & 0 & 0 & 0\\end{matrix}\\right]$$"
      ],
      "text/plain": [
       "⎡1  0   0    -1/3  -1/2   0  ⎤\n",
       "⎢                            ⎥\n",
       "⎢0  1  -1/2  -4/9  -1/6   0  ⎥\n",
       "⎢                            ⎥\n",
       "⎢            -20          14 ⎥\n",
       "⎢0  0   1    ────   0     ── ⎥\n",
       "⎢             27          99 ⎥\n",
       "⎢                            ⎥\n",
       "⎢                         24 ⎥\n",
       "⎢0  0   0     1     0    ─── ⎥\n",
       "⎢                        143 ⎥\n",
       "⎢                            ⎥\n",
       "⎢0  0   0     0     1    2/11⎥\n",
       "⎢                            ⎥\n",
       "⎣0  0   0     0     0     0  ⎦"
      ]
     },
     "execution_count": 153,
     "metadata": {},
     "output_type": "execute_result"
    }
   ],
   "source": [
    "C[2,:] = C[2,:] - Rational(-7,9)*C[4,:]\n",
    "C"
   ]
  },
  {
   "cell_type": "code",
   "execution_count": 154,
   "metadata": {},
   "outputs": [
    {
     "data": {
      "text/latex": [
       "$$\\left[\\begin{matrix}1 & 0 & 0 & - \\frac{1}{3} & - \\frac{1}{2} & 0\\\\0 & 1 & - \\frac{1}{2} & - \\frac{4}{9} & 0 & \\frac{1}{33}\\\\0 & 0 & 1 & - \\frac{20}{27} & 0 & \\frac{14}{99}\\\\0 & 0 & 0 & 1 & 0 & \\frac{24}{143}\\\\0 & 0 & 0 & 0 & 1 & \\frac{2}{11}\\\\0 & 0 & 0 & 0 & 0 & 0\\end{matrix}\\right]$$"
      ],
      "text/plain": [
       "⎡1  0   0    -1/3  -1/2   0  ⎤\n",
       "⎢                            ⎥\n",
       "⎢0  1  -1/2  -4/9   0    1/33⎥\n",
       "⎢                            ⎥\n",
       "⎢            -20          14 ⎥\n",
       "⎢0  0   1    ────   0     ── ⎥\n",
       "⎢             27          99 ⎥\n",
       "⎢                            ⎥\n",
       "⎢                         24 ⎥\n",
       "⎢0  0   0     1     0    ─── ⎥\n",
       "⎢                        143 ⎥\n",
       "⎢                            ⎥\n",
       "⎢0  0   0     0     1    2/11⎥\n",
       "⎢                            ⎥\n",
       "⎣0  0   0     0     0     0  ⎦"
      ]
     },
     "execution_count": 154,
     "metadata": {},
     "output_type": "execute_result"
    }
   ],
   "source": [
    "C[1,:] = C[1,:] - Rational(-1,6)*C[4,:]\n",
    "C"
   ]
  },
  {
   "cell_type": "code",
   "execution_count": 155,
   "metadata": {},
   "outputs": [
    {
     "data": {
      "text/latex": [
       "$$\\left[\\begin{matrix}1 & 0 & 0 & - \\frac{1}{3} & 0 & \\frac{1}{11}\\\\0 & 1 & - \\frac{1}{2} & - \\frac{4}{9} & 0 & \\frac{1}{33}\\\\0 & 0 & 1 & - \\frac{20}{27} & 0 & \\frac{14}{99}\\\\0 & 0 & 0 & 1 & 0 & \\frac{24}{143}\\\\0 & 0 & 0 & 0 & 1 & \\frac{2}{11}\\\\0 & 0 & 0 & 0 & 0 & 0\\end{matrix}\\right]$$"
      ],
      "text/plain": [
       "⎡1  0   0    -1/3  0  1/11⎤\n",
       "⎢                         ⎥\n",
       "⎢0  1  -1/2  -4/9  0  1/33⎥\n",
       "⎢                         ⎥\n",
       "⎢            -20       14 ⎥\n",
       "⎢0  0   1    ────  0   ── ⎥\n",
       "⎢             27       99 ⎥\n",
       "⎢                         ⎥\n",
       "⎢                      24 ⎥\n",
       "⎢0  0   0     1    0  ─── ⎥\n",
       "⎢                     143 ⎥\n",
       "⎢                         ⎥\n",
       "⎢0  0   0     0    1  2/11⎥\n",
       "⎢                         ⎥\n",
       "⎣0  0   0     0    0   0  ⎦"
      ]
     },
     "execution_count": 155,
     "metadata": {},
     "output_type": "execute_result"
    }
   ],
   "source": [
    "C[0,:] = C[0,:] - Rational(-1,2)*C[4,:]\n",
    "C"
   ]
  },
  {
   "cell_type": "code",
   "execution_count": 156,
   "metadata": {},
   "outputs": [
    {
     "data": {
      "text/latex": [
       "$$\\left[\\begin{matrix}1 & 0 & 0 & - \\frac{1}{3} & 0 & \\frac{1}{11}\\\\0 & 1 & - \\frac{1}{2} & - \\frac{4}{9} & 0 & \\frac{1}{33}\\\\0 & 0 & 1 & 0 & 0 & \\frac{38}{143}\\\\0 & 0 & 0 & 1 & 0 & \\frac{24}{143}\\\\0 & 0 & 0 & 0 & 1 & \\frac{2}{11}\\\\0 & 0 & 0 & 0 & 0 & 0\\end{matrix}\\right]$$"
      ],
      "text/plain": [
       "⎡1  0   0    -1/3  0  1/11⎤\n",
       "⎢                         ⎥\n",
       "⎢0  1  -1/2  -4/9  0  1/33⎥\n",
       "⎢                         ⎥\n",
       "⎢                      38 ⎥\n",
       "⎢0  0   1     0    0  ─── ⎥\n",
       "⎢                     143 ⎥\n",
       "⎢                         ⎥\n",
       "⎢                      24 ⎥\n",
       "⎢0  0   0     1    0  ─── ⎥\n",
       "⎢                     143 ⎥\n",
       "⎢                         ⎥\n",
       "⎢0  0   0     0    1  2/11⎥\n",
       "⎢                         ⎥\n",
       "⎣0  0   0     0    0   0  ⎦"
      ]
     },
     "execution_count": 156,
     "metadata": {},
     "output_type": "execute_result"
    }
   ],
   "source": [
    "C[2,:] = C[2,:] - Rational(-20,27)*C[3,:]\n",
    "C"
   ]
  },
  {
   "cell_type": "code",
   "execution_count": 157,
   "metadata": {},
   "outputs": [
    {
     "data": {
      "text/latex": [
       "$$\\left[\\begin{matrix}1 & 0 & 0 & - \\frac{1}{3} & 0 & \\frac{1}{11}\\\\0 & 1 & - \\frac{1}{2} & 0 & 0 & \\frac{15}{143}\\\\0 & 0 & 1 & 0 & 0 & \\frac{38}{143}\\\\0 & 0 & 0 & 1 & 0 & \\frac{24}{143}\\\\0 & 0 & 0 & 0 & 1 & \\frac{2}{11}\\\\0 & 0 & 0 & 0 & 0 & 0\\end{matrix}\\right]$$"
      ],
      "text/plain": [
       "⎡1  0   0    -1/3  0  1/11⎤\n",
       "⎢                         ⎥\n",
       "⎢                      15 ⎥\n",
       "⎢0  1  -1/2   0    0  ─── ⎥\n",
       "⎢                     143 ⎥\n",
       "⎢                         ⎥\n",
       "⎢                      38 ⎥\n",
       "⎢0  0   1     0    0  ─── ⎥\n",
       "⎢                     143 ⎥\n",
       "⎢                         ⎥\n",
       "⎢                      24 ⎥\n",
       "⎢0  0   0     1    0  ─── ⎥\n",
       "⎢                     143 ⎥\n",
       "⎢                         ⎥\n",
       "⎢0  0   0     0    1  2/11⎥\n",
       "⎢                         ⎥\n",
       "⎣0  0   0     0    0   0  ⎦"
      ]
     },
     "execution_count": 157,
     "metadata": {},
     "output_type": "execute_result"
    }
   ],
   "source": [
    "C[1,:] = C[1,:] - Rational(-4,9)*C[3,:]\n",
    "C"
   ]
  },
  {
   "cell_type": "code",
   "execution_count": 158,
   "metadata": {},
   "outputs": [
    {
     "data": {
      "text/latex": [
       "$$\\left[\\begin{matrix}1 & 0 & 0 & 0 & 0 & \\frac{21}{143}\\\\0 & 1 & - \\frac{1}{2} & 0 & 0 & \\frac{15}{143}\\\\0 & 0 & 1 & 0 & 0 & \\frac{38}{143}\\\\0 & 0 & 0 & 1 & 0 & \\frac{24}{143}\\\\0 & 0 & 0 & 0 & 1 & \\frac{2}{11}\\\\0 & 0 & 0 & 0 & 0 & 0\\end{matrix}\\right]$$"
      ],
      "text/plain": [
       "⎡                   21 ⎤\n",
       "⎢1  0   0    0  0  ─── ⎥\n",
       "⎢                  143 ⎥\n",
       "⎢                      ⎥\n",
       "⎢                   15 ⎥\n",
       "⎢0  1  -1/2  0  0  ─── ⎥\n",
       "⎢                  143 ⎥\n",
       "⎢                      ⎥\n",
       "⎢                   38 ⎥\n",
       "⎢0  0   1    0  0  ─── ⎥\n",
       "⎢                  143 ⎥\n",
       "⎢                      ⎥\n",
       "⎢                   24 ⎥\n",
       "⎢0  0   0    1  0  ─── ⎥\n",
       "⎢                  143 ⎥\n",
       "⎢                      ⎥\n",
       "⎢0  0   0    0  1  2/11⎥\n",
       "⎢                      ⎥\n",
       "⎣0  0   0    0  0   0  ⎦"
      ]
     },
     "execution_count": 158,
     "metadata": {},
     "output_type": "execute_result"
    }
   ],
   "source": [
    "C[0,:] = C[0,:] - Rational(-1,3)*C[3,:]\n",
    "C                                  "
   ]
  },
  {
   "cell_type": "code",
   "execution_count": 159,
   "metadata": {},
   "outputs": [
    {
     "data": {
      "text/latex": [
       "$$\\left[\\begin{matrix}1 & 0 & 0 & 0 & 0 & \\frac{21}{143}\\\\0 & 1 & 0 & 0 & 0 & \\frac{34}{143}\\\\0 & 0 & 1 & 0 & 0 & \\frac{38}{143}\\\\0 & 0 & 0 & 1 & 0 & \\frac{24}{143}\\\\0 & 0 & 0 & 0 & 1 & \\frac{2}{11}\\\\0 & 0 & 0 & 0 & 0 & 0\\end{matrix}\\right]$$"
      ],
      "text/plain": [
       "⎡                21 ⎤\n",
       "⎢1  0  0  0  0  ─── ⎥\n",
       "⎢               143 ⎥\n",
       "⎢                   ⎥\n",
       "⎢                34 ⎥\n",
       "⎢0  1  0  0  0  ─── ⎥\n",
       "⎢               143 ⎥\n",
       "⎢                   ⎥\n",
       "⎢                38 ⎥\n",
       "⎢0  0  1  0  0  ─── ⎥\n",
       "⎢               143 ⎥\n",
       "⎢                   ⎥\n",
       "⎢                24 ⎥\n",
       "⎢0  0  0  1  0  ─── ⎥\n",
       "⎢               143 ⎥\n",
       "⎢                   ⎥\n",
       "⎢0  0  0  0  1  2/11⎥\n",
       "⎢                   ⎥\n",
       "⎣0  0  0  0  0   0  ⎦"
      ]
     },
     "execution_count": 159,
     "metadata": {},
     "output_type": "execute_result"
    }
   ],
   "source": [
    "C[1,:] = C[1,:] - Rational(-1,2)*C[2,:]\n",
    "C"
   ]
  },
  {
   "cell_type": "code",
   "execution_count": 163,
   "metadata": {},
   "outputs": [
    {
     "data": {
      "text/plain": [
       "True"
      ]
     },
     "execution_count": 163,
     "metadata": {},
     "output_type": "execute_result"
    }
   ],
   "source": [
    "(2/11)>(21/143)"
   ]
  },
  {
   "cell_type": "code",
   "execution_count": 164,
   "metadata": {},
   "outputs": [
    {
     "data": {
      "text/plain": [
       "False"
      ]
     },
     "execution_count": 164,
     "metadata": {},
     "output_type": "execute_result"
    }
   ],
   "source": [
    "(2/11)>(38/143)"
   ]
  },
  {
   "cell_type": "code",
   "execution_count": 165,
   "metadata": {},
   "outputs": [
    {
     "data": {
      "text/plain": [
       "True"
      ]
     },
     "execution_count": 165,
     "metadata": {},
     "output_type": "execute_result"
    }
   ],
   "source": [
    "(38/143)>(21/143)"
   ]
  },
  {
   "cell_type": "code",
   "execution_count": 166,
   "metadata": {},
   "outputs": [
    {
     "data": {
      "text/plain": [
       "True"
      ]
     },
     "execution_count": 166,
     "metadata": {},
     "output_type": "execute_result"
    }
   ],
   "source": [
    "(38/143)>(34/143)"
   ]
  },
  {
   "cell_type": "code",
   "execution_count": 237,
   "metadata": {},
   "outputs": [
    {
     "data": {
      "text/latex": [
       "$$\\left ( \\left[\\begin{matrix}1 & -2 & 4 & -8 & -43\\\\1 & -1 & 1 & -1 & -11\\\\1 & 1 & 1 & 1 & -1\\\\1 & 2 & 4 & 8 & 13\\end{matrix}\\right], \\quad \\left ( \\left[\\begin{matrix}1 & 0 & 0 & 0 & -3\\\\0 & 1 & 0 & 0 & 2\\\\0 & 0 & 1 & 0 & -3\\\\0 & 0 & 0 & 1 & 3\\end{matrix}\\right], \\quad \\left ( 0, \\quad 1, \\quad 2, \\quad 3\\right )\\right )\\right )$$"
      ],
      "text/plain": [
       "⎛⎡1  -2  4  -8  -43⎤  ⎛⎡1  0  0  0  -3⎤              ⎞⎞\n",
       "⎜⎢                 ⎥  ⎜⎢              ⎥              ⎟⎟\n",
       "⎜⎢1  -1  1  -1  -11⎥  ⎜⎢0  1  0  0  2 ⎥              ⎟⎟\n",
       "⎜⎢                 ⎥, ⎜⎢              ⎥, (0, 1, 2, 3)⎟⎟\n",
       "⎜⎢1  1   1  1   -1 ⎥  ⎜⎢0  0  1  0  -3⎥              ⎟⎟\n",
       "⎜⎢                 ⎥  ⎜⎢              ⎥              ⎟⎟\n",
       "⎝⎣1  2   4  8   13 ⎦  ⎝⎣0  0  0  1  3 ⎦              ⎠⎠"
      ]
     },
     "execution_count": 237,
     "metadata": {},
     "output_type": "execute_result"
    }
   ],
   "source": [
    "D = Matrix([[1,-2,(-2)**2,(-2)**3,-43],[1,-1,(-1)**2,(-1)**3,-11],[1,1,(1)**2,(1)**3,-1],[1,2,(2)**2,(2)**3,13]])\n",
    "R = D.rref()\n",
    "D,R"
   ]
  },
  {
   "cell_type": "markdown",
   "metadata": {},
   "source": [
    "# $\\therefore P(x) = -3 + 2x - 3x^2 + 3x^3$"
   ]
  },
  {
   "cell_type": "code",
   "execution_count": 221,
   "metadata": {},
   "outputs": [
    {
     "data": {
      "text/latex": [
       "$$\\left[\\begin{matrix}1 & -2 & 4 & -8 & -43\\\\1 & 1 & 1 & 1 & -1\\\\1 & -1 & 1 & -1 & -11\\\\1 & 2 & 4 & 8 & 13\\end{matrix}\\right]$$"
      ],
      "text/plain": [
       "⎡1  -2  4  -8  -43⎤\n",
       "⎢                 ⎥\n",
       "⎢1  1   1  1   -1 ⎥\n",
       "⎢                 ⎥\n",
       "⎢1  -1  1  -1  -11⎥\n",
       "⎢                 ⎥\n",
       "⎣1  2   4  8   13 ⎦"
      ]
     },
     "execution_count": 221,
     "metadata": {},
     "output_type": "execute_result"
    }
   ],
   "source": [
    "D.row_swap(1,2)\n",
    "D"
   ]
  },
  {
   "cell_type": "code",
   "execution_count": 222,
   "metadata": {},
   "outputs": [
    {
     "data": {
      "text/latex": [
       "$$\\left[\\begin{matrix}1 & -2 & 4 & -8 & -43\\\\0 & 3 & -3 & 9 & 42\\\\1 & -1 & 1 & -1 & -11\\\\1 & 2 & 4 & 8 & 13\\end{matrix}\\right]$$"
      ],
      "text/plain": [
       "⎡1  -2  4   -8  -43⎤\n",
       "⎢                  ⎥\n",
       "⎢0  3   -3  9   42 ⎥\n",
       "⎢                  ⎥\n",
       "⎢1  -1  1   -1  -11⎥\n",
       "⎢                  ⎥\n",
       "⎣1  2   4   8   13 ⎦"
      ]
     },
     "execution_count": 222,
     "metadata": {},
     "output_type": "execute_result"
    }
   ],
   "source": [
    "D[1,:] = D[1,:] - D[0,:] #Begin Row Reduction\n",
    "D"
   ]
  },
  {
   "cell_type": "code",
   "execution_count": 223,
   "metadata": {},
   "outputs": [
    {
     "data": {
      "text/latex": [
       "$$\\left[\\begin{matrix}1 & -2 & 4 & -8 & -43\\\\0 & 3 & -3 & 9 & 42\\\\0 & 1 & -3 & 7 & 32\\\\1 & 2 & 4 & 8 & 13\\end{matrix}\\right]$$"
      ],
      "text/plain": [
       "⎡1  -2  4   -8  -43⎤\n",
       "⎢                  ⎥\n",
       "⎢0  3   -3  9   42 ⎥\n",
       "⎢                  ⎥\n",
       "⎢0  1   -3  7   32 ⎥\n",
       "⎢                  ⎥\n",
       "⎣1  2   4   8   13 ⎦"
      ]
     },
     "execution_count": 223,
     "metadata": {},
     "output_type": "execute_result"
    }
   ],
   "source": [
    "D[2,:] = D[2,:] - D[0,:]\n",
    "D"
   ]
  },
  {
   "cell_type": "code",
   "execution_count": 224,
   "metadata": {},
   "outputs": [
    {
     "data": {
      "text/latex": [
       "$$\\left[\\begin{matrix}1 & -2 & 4 & -8 & -43\\\\0 & 3 & -3 & 9 & 42\\\\0 & 1 & -3 & 7 & 32\\\\0 & 4 & 0 & 16 & 56\\end{matrix}\\right]$$"
      ],
      "text/plain": [
       "⎡1  -2  4   -8  -43⎤\n",
       "⎢                  ⎥\n",
       "⎢0  3   -3  9   42 ⎥\n",
       "⎢                  ⎥\n",
       "⎢0  1   -3  7   32 ⎥\n",
       "⎢                  ⎥\n",
       "⎣0  4   0   16  56 ⎦"
      ]
     },
     "execution_count": 224,
     "metadata": {},
     "output_type": "execute_result"
    }
   ],
   "source": [
    "D[3,:] = D[3,:] - D[0,:]\n",
    "D"
   ]
  },
  {
   "cell_type": "code",
   "execution_count": 225,
   "metadata": {},
   "outputs": [
    {
     "data": {
      "text/latex": [
       "$$\\left[\\begin{matrix}1 & -2 & 4 & -8 & -43\\\\0 & 1 & -1 & 3 & 14\\\\0 & 1 & -3 & 7 & 32\\\\0 & 4 & 0 & 16 & 56\\end{matrix}\\right]$$"
      ],
      "text/plain": [
       "⎡1  -2  4   -8  -43⎤\n",
       "⎢                  ⎥\n",
       "⎢0  1   -1  3   14 ⎥\n",
       "⎢                  ⎥\n",
       "⎢0  1   -3  7   32 ⎥\n",
       "⎢                  ⎥\n",
       "⎣0  4   0   16  56 ⎦"
      ]
     },
     "execution_count": 225,
     "metadata": {},
     "output_type": "execute_result"
    }
   ],
   "source": [
    "D[1,:] = D[1,:] * Rational(1,3)\n",
    "D"
   ]
  },
  {
   "cell_type": "code",
   "execution_count": 226,
   "metadata": {},
   "outputs": [
    {
     "data": {
      "text/latex": [
       "$$\\left[\\begin{matrix}1 & -2 & 4 & -8 & -43\\\\0 & 1 & -1 & 3 & 14\\\\0 & 0 & -2 & 4 & 18\\\\0 & 4 & 0 & 16 & 56\\end{matrix}\\right]$$"
      ],
      "text/plain": [
       "⎡1  -2  4   -8  -43⎤\n",
       "⎢                  ⎥\n",
       "⎢0  1   -1  3   14 ⎥\n",
       "⎢                  ⎥\n",
       "⎢0  0   -2  4   18 ⎥\n",
       "⎢                  ⎥\n",
       "⎣0  4   0   16  56 ⎦"
      ]
     },
     "execution_count": 226,
     "metadata": {},
     "output_type": "execute_result"
    }
   ],
   "source": [
    "D[2,:] = D[2,:] - D[1,:]\n",
    "D"
   ]
  },
  {
   "cell_type": "code",
   "execution_count": 227,
   "metadata": {},
   "outputs": [
    {
     "data": {
      "text/latex": [
       "$$\\left[\\begin{matrix}1 & -2 & 4 & -8 & -43\\\\0 & 1 & -1 & 3 & 14\\\\0 & 0 & -2 & 4 & 18\\\\0 & 0 & 4 & 4 & 0\\end{matrix}\\right]$$"
      ],
      "text/plain": [
       "⎡1  -2  4   -8  -43⎤\n",
       "⎢                  ⎥\n",
       "⎢0  1   -1  3   14 ⎥\n",
       "⎢                  ⎥\n",
       "⎢0  0   -2  4   18 ⎥\n",
       "⎢                  ⎥\n",
       "⎣0  0   4   4    0 ⎦"
      ]
     },
     "execution_count": 227,
     "metadata": {},
     "output_type": "execute_result"
    }
   ],
   "source": [
    "D[3,:] = D[3,:] - 4*D[1,:]\n",
    "D"
   ]
  },
  {
   "cell_type": "code",
   "execution_count": 228,
   "metadata": {},
   "outputs": [
    {
     "data": {
      "text/latex": [
       "$$\\left[\\begin{matrix}1 & -2 & 4 & -8 & -43\\\\0 & 1 & -1 & 3 & 14\\\\0 & 0 & 1 & -2 & -9\\\\0 & 0 & 4 & 4 & 0\\end{matrix}\\right]$$"
      ],
      "text/plain": [
       "⎡1  -2  4   -8  -43⎤\n",
       "⎢                  ⎥\n",
       "⎢0  1   -1  3   14 ⎥\n",
       "⎢                  ⎥\n",
       "⎢0  0   1   -2  -9 ⎥\n",
       "⎢                  ⎥\n",
       "⎣0  0   4   4    0 ⎦"
      ]
     },
     "execution_count": 228,
     "metadata": {},
     "output_type": "execute_result"
    }
   ],
   "source": [
    "D[2,:] = D[2,:]*Rational(-1,2)\n",
    "D"
   ]
  },
  {
   "cell_type": "code",
   "execution_count": 229,
   "metadata": {},
   "outputs": [
    {
     "data": {
      "text/latex": [
       "$$\\left[\\begin{matrix}1 & -2 & 4 & -8 & -43\\\\0 & 1 & -1 & 3 & 14\\\\0 & 0 & 1 & -2 & -9\\\\0 & 0 & 0 & 12 & 36\\end{matrix}\\right]$$"
      ],
      "text/plain": [
       "⎡1  -2  4   -8  -43⎤\n",
       "⎢                  ⎥\n",
       "⎢0  1   -1  3   14 ⎥\n",
       "⎢                  ⎥\n",
       "⎢0  0   1   -2  -9 ⎥\n",
       "⎢                  ⎥\n",
       "⎣0  0   0   12  36 ⎦"
      ]
     },
     "execution_count": 229,
     "metadata": {},
     "output_type": "execute_result"
    }
   ],
   "source": [
    "D[3,:] = D[3,:] - 4*D[2,:]\n",
    "D"
   ]
  },
  {
   "cell_type": "code",
   "execution_count": 230,
   "metadata": {},
   "outputs": [
    {
     "data": {
      "text/latex": [
       "$$\\left[\\begin{matrix}1 & -2 & 4 & -8 & -43\\\\0 & 1 & -1 & 3 & 14\\\\0 & 0 & 1 & -2 & -9\\\\0 & 0 & 0 & 1 & 3\\end{matrix}\\right]$$"
      ],
      "text/plain": [
       "⎡1  -2  4   -8  -43⎤\n",
       "⎢                  ⎥\n",
       "⎢0  1   -1  3   14 ⎥\n",
       "⎢                  ⎥\n",
       "⎢0  0   1   -2  -9 ⎥\n",
       "⎢                  ⎥\n",
       "⎣0  0   0   1    3 ⎦"
      ]
     },
     "execution_count": 230,
     "metadata": {},
     "output_type": "execute_result"
    }
   ],
   "source": [
    "D[3,:] = D[3,:] * Rational(1,12)\n",
    "D"
   ]
  },
  {
   "cell_type": "code",
   "execution_count": 231,
   "metadata": {},
   "outputs": [
    {
     "data": {
      "text/latex": [
       "$$\\left[\\begin{matrix}1 & -2 & 4 & -8 & -43\\\\0 & 1 & -1 & 3 & 14\\\\0 & 0 & 1 & 0 & -3\\\\0 & 0 & 0 & 1 & 3\\end{matrix}\\right]$$"
      ],
      "text/plain": [
       "⎡1  -2  4   -8  -43⎤\n",
       "⎢                  ⎥\n",
       "⎢0  1   -1  3   14 ⎥\n",
       "⎢                  ⎥\n",
       "⎢0  0   1   0   -3 ⎥\n",
       "⎢                  ⎥\n",
       "⎣0  0   0   1    3 ⎦"
      ]
     },
     "execution_count": 231,
     "metadata": {},
     "output_type": "execute_result"
    }
   ],
   "source": [
    "D[2,:] = D[2,:] - -2*D[3,:]\n",
    "D"
   ]
  },
  {
   "cell_type": "code",
   "execution_count": 232,
   "metadata": {},
   "outputs": [
    {
     "data": {
      "text/latex": [
       "$$\\left[\\begin{matrix}1 & -2 & 4 & -8 & -43\\\\0 & 1 & -1 & 0 & 5\\\\0 & 0 & 1 & 0 & -3\\\\0 & 0 & 0 & 1 & 3\\end{matrix}\\right]$$"
      ],
      "text/plain": [
       "⎡1  -2  4   -8  -43⎤\n",
       "⎢                  ⎥\n",
       "⎢0  1   -1  0    5 ⎥\n",
       "⎢                  ⎥\n",
       "⎢0  0   1   0   -3 ⎥\n",
       "⎢                  ⎥\n",
       "⎣0  0   0   1    3 ⎦"
      ]
     },
     "execution_count": 232,
     "metadata": {},
     "output_type": "execute_result"
    }
   ],
   "source": [
    "D[1,:] = D[1,:] - 3*D[3,:]\n",
    "D"
   ]
  },
  {
   "cell_type": "code",
   "execution_count": 233,
   "metadata": {},
   "outputs": [
    {
     "data": {
      "text/latex": [
       "$$\\left[\\begin{matrix}1 & -2 & 4 & 0 & -19\\\\0 & 1 & -1 & 0 & 5\\\\0 & 0 & 1 & 0 & -3\\\\0 & 0 & 0 & 1 & 3\\end{matrix}\\right]$$"
      ],
      "text/plain": [
       "⎡1  -2  4   0  -19⎤\n",
       "⎢                 ⎥\n",
       "⎢0  1   -1  0   5 ⎥\n",
       "⎢                 ⎥\n",
       "⎢0  0   1   0  -3 ⎥\n",
       "⎢                 ⎥\n",
       "⎣0  0   0   1   3 ⎦"
      ]
     },
     "execution_count": 233,
     "metadata": {},
     "output_type": "execute_result"
    }
   ],
   "source": [
    "D[0,:] = D[0,:] - -8*D[3,:]\n",
    "D"
   ]
  },
  {
   "cell_type": "code",
   "execution_count": 234,
   "metadata": {},
   "outputs": [
    {
     "data": {
      "text/latex": [
       "$$\\left[\\begin{matrix}1 & -2 & 4 & 0 & -19\\\\0 & 1 & 0 & 0 & 2\\\\0 & 0 & 1 & 0 & -3\\\\0 & 0 & 0 & 1 & 3\\end{matrix}\\right]$$"
      ],
      "text/plain": [
       "⎡1  -2  4  0  -19⎤\n",
       "⎢                ⎥\n",
       "⎢0  1   0  0   2 ⎥\n",
       "⎢                ⎥\n",
       "⎢0  0   1  0  -3 ⎥\n",
       "⎢                ⎥\n",
       "⎣0  0   0  1   3 ⎦"
      ]
     },
     "execution_count": 234,
     "metadata": {},
     "output_type": "execute_result"
    }
   ],
   "source": [
    "D[1,:] = D[1,:] - -D[2,:]\n",
    "D"
   ]
  },
  {
   "cell_type": "code",
   "execution_count": 235,
   "metadata": {},
   "outputs": [
    {
     "data": {
      "text/latex": [
       "$$\\left[\\begin{matrix}1 & -2 & 0 & 0 & -7\\\\0 & 1 & 0 & 0 & 2\\\\0 & 0 & 1 & 0 & -3\\\\0 & 0 & 0 & 1 & 3\\end{matrix}\\right]$$"
      ],
      "text/plain": [
       "⎡1  -2  0  0  -7⎤\n",
       "⎢               ⎥\n",
       "⎢0  1   0  0  2 ⎥\n",
       "⎢               ⎥\n",
       "⎢0  0   1  0  -3⎥\n",
       "⎢               ⎥\n",
       "⎣0  0   0  1  3 ⎦"
      ]
     },
     "execution_count": 235,
     "metadata": {},
     "output_type": "execute_result"
    }
   ],
   "source": [
    "D[0,:] = D[0,:] - 4*D[2,:]\n",
    "D"
   ]
  },
  {
   "cell_type": "code",
   "execution_count": 236,
   "metadata": {},
   "outputs": [
    {
     "data": {
      "text/latex": [
       "$$\\left[\\begin{matrix}1 & 0 & 0 & 0 & -3\\\\0 & 1 & 0 & 0 & 2\\\\0 & 0 & 1 & 0 & -3\\\\0 & 0 & 0 & 1 & 3\\end{matrix}\\right]$$"
      ],
      "text/plain": [
       "⎡1  0  0  0  -3⎤\n",
       "⎢              ⎥\n",
       "⎢0  1  0  0  2 ⎥\n",
       "⎢              ⎥\n",
       "⎢0  0  1  0  -3⎥\n",
       "⎢              ⎥\n",
       "⎣0  0  0  1  3 ⎦"
      ]
     },
     "execution_count": 236,
     "metadata": {},
     "output_type": "execute_result"
    }
   ],
   "source": [
    "D[0,:] = D[0,:] - -2*D[1,:]\n",
    "D"
   ]
  },
  {
   "cell_type": "code",
   "execution_count": 238,
   "metadata": {},
   "outputs": [
    {
     "data": {
      "text/latex": [
       "$$81$$"
      ],
      "text/plain": [
       "81"
      ]
     },
     "execution_count": 238,
     "metadata": {},
     "output_type": "execute_result"
    }
   ],
   "source": [
    "3**4"
   ]
  },
  {
   "cell_type": "code",
   "execution_count": 239,
   "metadata": {},
   "outputs": [
    {
     "data": {
      "text/latex": [
       "$$-32$$"
      ],
      "text/plain": [
       "-32"
      ]
     },
     "execution_count": 239,
     "metadata": {},
     "output_type": "execute_result"
    }
   ],
   "source": [
    "(-2)**5"
   ]
  },
  {
   "cell_type": "code",
   "execution_count": 240,
   "metadata": {},
   "outputs": [
    {
     "data": {
      "text/latex": [
       "$$243$$"
      ],
      "text/plain": [
       "243"
      ]
     },
     "execution_count": 240,
     "metadata": {},
     "output_type": "execute_result"
    }
   ],
   "source": [
    "3**5"
   ]
  },
  {
   "cell_type": "code",
   "execution_count": 56,
   "metadata": {},
   "outputs": [
    {
     "data": {
      "text/latex": [
       "$$\\left ( \\left[\\begin{matrix}1 & -2 & 4 & -8 & 16 & -32 & 14\\\\1 & -1 & 1 & -1 & 1 & -1 & 3\\\\1 & 1 & 1 & 1 & 1 & 1 & -1\\\\1 & 2 & 4 & 8 & 16 & 32 & -18\\\\1 & 3 & 9 & 27 & 81 & 243 & -61\\end{matrix}\\right], \\quad \\left ( \\left[\\begin{matrix}1 & 0 & 0 & 0 & 0 & 12 & 2\\\\0 & 1 & 0 & 0 & 0 & -4 & 0\\\\0 & 0 & 1 & 0 & 0 & -15 & -1\\\\0 & 0 & 0 & 1 & 0 & 5 & -2\\\\0 & 0 & 0 & 0 & 1 & 3 & 0\\end{matrix}\\right], \\quad \\left ( 0, \\quad 1, \\quad 2, \\quad 3, \\quad 4\\right )\\right )\\right )$$"
      ],
      "text/plain": [
       "⎛⎡1  -2  4  -8  16  -32  14 ⎤  ⎛⎡1  0  0  0  0  12   2 ⎤                 ⎞⎞\n",
       "⎜⎢                          ⎥  ⎜⎢                      ⎥                 ⎟⎟\n",
       "⎜⎢1  -1  1  -1  1   -1    3 ⎥  ⎜⎢0  1  0  0  0  -4   0 ⎥                 ⎟⎟\n",
       "⎜⎢                          ⎥  ⎜⎢                      ⎥                 ⎟⎟\n",
       "⎜⎢1  1   1  1   1    1   -1 ⎥, ⎜⎢0  0  1  0  0  -15  -1⎥, (0, 1, 2, 3, 4)⎟⎟\n",
       "⎜⎢                          ⎥  ⎜⎢                      ⎥                 ⎟⎟\n",
       "⎜⎢1  2   4  8   16  32   -18⎥  ⎜⎢0  0  0  1  0   5   -2⎥                 ⎟⎟\n",
       "⎜⎢                          ⎥  ⎜⎢                      ⎥                 ⎟⎟\n",
       "⎝⎣1  3   9  27  81  243  -61⎦  ⎝⎣0  0  0  0  1   3   0 ⎦                 ⎠⎠"
      ]
     },
     "execution_count": 56,
     "metadata": {},
     "output_type": "execute_result"
    }
   ],
   "source": [
    "E = Matrix([[1,-2,(-2)**2,(-2)**3,(-2)**4,(-2)**5,14],[1,-1,(-1)**2,(-1)**3,(-1)**4,(-1)**5,3],[1,1,1**2,1**3,1**4,1**5,-1],[1,2,2**2,2**3,2**4,2**5,-18],[1,3,3**2,3**3,3**4,3**5,-61]])\n",
    "R = E.rref()\n",
    "E,R"
   ]
  },
  {
   "cell_type": "code",
   "execution_count": 57,
   "metadata": {},
   "outputs": [
    {
     "data": {
      "text/latex": [
       "$$\\left[\\begin{matrix}1 & -2 & 4 & -8 & 16 & -32 & 14\\\\1 & 1 & 1 & 1 & 1 & 1 & -1\\\\1 & -1 & 1 & -1 & 1 & -1 & 3\\\\1 & 2 & 4 & 8 & 16 & 32 & -18\\\\1 & 3 & 9 & 27 & 81 & 243 & -61\\end{matrix}\\right]$$"
      ],
      "text/plain": [
       "⎡1  -2  4  -8  16  -32  14 ⎤\n",
       "⎢                          ⎥\n",
       "⎢1  1   1  1   1    1   -1 ⎥\n",
       "⎢                          ⎥\n",
       "⎢1  -1  1  -1  1   -1    3 ⎥\n",
       "⎢                          ⎥\n",
       "⎢1  2   4  8   16  32   -18⎥\n",
       "⎢                          ⎥\n",
       "⎣1  3   9  27  81  243  -61⎦"
      ]
     },
     "execution_count": 57,
     "metadata": {},
     "output_type": "execute_result"
    }
   ],
   "source": [
    "E.row_swap(1,2)\n",
    "E"
   ]
  },
  {
   "cell_type": "code",
   "execution_count": 58,
   "metadata": {},
   "outputs": [
    {
     "data": {
      "text/latex": [
       "$$\\left[\\begin{matrix}1 & -2 & 4 & -8 & 16 & -32 & 14\\\\0 & 3 & -3 & 9 & -15 & 33 & -15\\\\1 & -1 & 1 & -1 & 1 & -1 & 3\\\\1 & 2 & 4 & 8 & 16 & 32 & -18\\\\1 & 3 & 9 & 27 & 81 & 243 & -61\\end{matrix}\\right]$$"
      ],
      "text/plain": [
       "⎡1  -2  4   -8  16   -32  14 ⎤\n",
       "⎢                            ⎥\n",
       "⎢0  3   -3  9   -15  33   -15⎥\n",
       "⎢                            ⎥\n",
       "⎢1  -1  1   -1   1   -1    3 ⎥\n",
       "⎢                            ⎥\n",
       "⎢1  2   4   8   16   32   -18⎥\n",
       "⎢                            ⎥\n",
       "⎣1  3   9   27  81   243  -61⎦"
      ]
     },
     "execution_count": 58,
     "metadata": {},
     "output_type": "execute_result"
    }
   ],
   "source": [
    "E[1,:] = E[1,:] - E[0,:]\n",
    "E"
   ]
  },
  {
   "cell_type": "code",
   "execution_count": 59,
   "metadata": {},
   "outputs": [
    {
     "data": {
      "text/latex": [
       "$$\\left[\\begin{matrix}1 & -2 & 4 & -8 & 16 & -32 & 14\\\\0 & 3 & -3 & 9 & -15 & 33 & -15\\\\0 & 1 & -3 & 7 & -15 & 31 & -11\\\\1 & 2 & 4 & 8 & 16 & 32 & -18\\\\1 & 3 & 9 & 27 & 81 & 243 & -61\\end{matrix}\\right]$$"
      ],
      "text/plain": [
       "⎡1  -2  4   -8  16   -32  14 ⎤\n",
       "⎢                            ⎥\n",
       "⎢0  3   -3  9   -15  33   -15⎥\n",
       "⎢                            ⎥\n",
       "⎢0  1   -3  7   -15  31   -11⎥\n",
       "⎢                            ⎥\n",
       "⎢1  2   4   8   16   32   -18⎥\n",
       "⎢                            ⎥\n",
       "⎣1  3   9   27  81   243  -61⎦"
      ]
     },
     "execution_count": 59,
     "metadata": {},
     "output_type": "execute_result"
    }
   ],
   "source": [
    "E[2,:] = E[2,:] - E[0,:]\n",
    "E"
   ]
  },
  {
   "cell_type": "code",
   "execution_count": 60,
   "metadata": {},
   "outputs": [
    {
     "data": {
      "text/latex": [
       "$$\\left[\\begin{matrix}1 & -2 & 4 & -8 & 16 & -32 & 14\\\\0 & 3 & -3 & 9 & -15 & 33 & -15\\\\0 & 1 & -3 & 7 & -15 & 31 & -11\\\\0 & 4 & 0 & 16 & 0 & 64 & -32\\\\1 & 3 & 9 & 27 & 81 & 243 & -61\\end{matrix}\\right]$$"
      ],
      "text/plain": [
       "⎡1  -2  4   -8  16   -32  14 ⎤\n",
       "⎢                            ⎥\n",
       "⎢0  3   -3  9   -15  33   -15⎥\n",
       "⎢                            ⎥\n",
       "⎢0  1   -3  7   -15  31   -11⎥\n",
       "⎢                            ⎥\n",
       "⎢0  4   0   16   0   64   -32⎥\n",
       "⎢                            ⎥\n",
       "⎣1  3   9   27  81   243  -61⎦"
      ]
     },
     "execution_count": 60,
     "metadata": {},
     "output_type": "execute_result"
    }
   ],
   "source": [
    "E[3,:] = E[3,:] - E[0,:]\n",
    "E"
   ]
  },
  {
   "cell_type": "code",
   "execution_count": 61,
   "metadata": {},
   "outputs": [
    {
     "data": {
      "text/latex": [
       "$$\\left[\\begin{matrix}1 & -2 & 4 & -8 & 16 & -32 & 14\\\\0 & 3 & -3 & 9 & -15 & 33 & -15\\\\0 & 1 & -3 & 7 & -15 & 31 & -11\\\\0 & 4 & 0 & 16 & 0 & 64 & -32\\\\0 & 5 & 5 & 35 & 65 & 275 & -75\\end{matrix}\\right]$$"
      ],
      "text/plain": [
       "⎡1  -2  4   -8  16   -32  14 ⎤\n",
       "⎢                            ⎥\n",
       "⎢0  3   -3  9   -15  33   -15⎥\n",
       "⎢                            ⎥\n",
       "⎢0  1   -3  7   -15  31   -11⎥\n",
       "⎢                            ⎥\n",
       "⎢0  4   0   16   0   64   -32⎥\n",
       "⎢                            ⎥\n",
       "⎣0  5   5   35  65   275  -75⎦"
      ]
     },
     "execution_count": 61,
     "metadata": {},
     "output_type": "execute_result"
    }
   ],
   "source": [
    "E[4,:] = E[4,:] - E[0,:]\n",
    "E"
   ]
  },
  {
   "cell_type": "code",
   "execution_count": 62,
   "metadata": {},
   "outputs": [
    {
     "data": {
      "text/latex": [
       "$$\\left[\\begin{matrix}1 & -2 & 4 & -8 & 16 & -32 & 14\\\\0 & 1 & -1 & 3 & -5 & 11 & -5\\\\0 & 1 & -3 & 7 & -15 & 31 & -11\\\\0 & 4 & 0 & 16 & 0 & 64 & -32\\\\0 & 5 & 5 & 35 & 65 & 275 & -75\\end{matrix}\\right]$$"
      ],
      "text/plain": [
       "⎡1  -2  4   -8  16   -32  14 ⎤\n",
       "⎢                            ⎥\n",
       "⎢0  1   -1  3   -5   11   -5 ⎥\n",
       "⎢                            ⎥\n",
       "⎢0  1   -3  7   -15  31   -11⎥\n",
       "⎢                            ⎥\n",
       "⎢0  4   0   16   0   64   -32⎥\n",
       "⎢                            ⎥\n",
       "⎣0  5   5   35  65   275  -75⎦"
      ]
     },
     "execution_count": 62,
     "metadata": {},
     "output_type": "execute_result"
    }
   ],
   "source": [
    "E[1,:] = E[1,:]*Rational(1,3)\n",
    "E"
   ]
  },
  {
   "cell_type": "code",
   "execution_count": 63,
   "metadata": {},
   "outputs": [
    {
     "data": {
      "text/latex": [
       "$$\\left[\\begin{matrix}1 & -2 & 4 & -8 & 16 & -32 & 14\\\\0 & 1 & -1 & 3 & -5 & 11 & -5\\\\0 & 0 & -2 & 4 & -10 & 20 & -6\\\\0 & 4 & 0 & 16 & 0 & 64 & -32\\\\0 & 5 & 5 & 35 & 65 & 275 & -75\\end{matrix}\\right]$$"
      ],
      "text/plain": [
       "⎡1  -2  4   -8  16   -32  14 ⎤\n",
       "⎢                            ⎥\n",
       "⎢0  1   -1  3   -5   11   -5 ⎥\n",
       "⎢                            ⎥\n",
       "⎢0  0   -2  4   -10  20   -6 ⎥\n",
       "⎢                            ⎥\n",
       "⎢0  4   0   16   0   64   -32⎥\n",
       "⎢                            ⎥\n",
       "⎣0  5   5   35  65   275  -75⎦"
      ]
     },
     "execution_count": 63,
     "metadata": {},
     "output_type": "execute_result"
    }
   ],
   "source": [
    "E[2,:] = E[2,:] - E[1,:]\n",
    "E"
   ]
  },
  {
   "cell_type": "code",
   "execution_count": 64,
   "metadata": {},
   "outputs": [
    {
     "data": {
      "text/latex": [
       "$$\\left[\\begin{matrix}1 & -2 & 4 & -8 & 16 & -32 & 14\\\\0 & 1 & -1 & 3 & -5 & 11 & -5\\\\0 & 0 & -2 & 4 & -10 & 20 & -6\\\\0 & 0 & 4 & 4 & 20 & 20 & -12\\\\0 & 5 & 5 & 35 & 65 & 275 & -75\\end{matrix}\\right]$$"
      ],
      "text/plain": [
       "⎡1  -2  4   -8  16   -32  14 ⎤\n",
       "⎢                            ⎥\n",
       "⎢0  1   -1  3   -5   11   -5 ⎥\n",
       "⎢                            ⎥\n",
       "⎢0  0   -2  4   -10  20   -6 ⎥\n",
       "⎢                            ⎥\n",
       "⎢0  0   4   4   20   20   -12⎥\n",
       "⎢                            ⎥\n",
       "⎣0  5   5   35  65   275  -75⎦"
      ]
     },
     "execution_count": 64,
     "metadata": {},
     "output_type": "execute_result"
    }
   ],
   "source": [
    "E[3,:] = E[3,:] - 4*E[1,:]\n",
    "E"
   ]
  },
  {
   "cell_type": "code",
   "execution_count": 65,
   "metadata": {},
   "outputs": [
    {
     "data": {
      "text/latex": [
       "$$\\left[\\begin{matrix}1 & -2 & 4 & -8 & 16 & -32 & 14\\\\0 & 1 & -1 & 3 & -5 & 11 & -5\\\\0 & 0 & -2 & 4 & -10 & 20 & -6\\\\0 & 0 & 4 & 4 & 20 & 20 & -12\\\\0 & 0 & 10 & 20 & 90 & 220 & -50\\end{matrix}\\right]$$"
      ],
      "text/plain": [
       "⎡1  -2  4   -8  16   -32  14 ⎤\n",
       "⎢                            ⎥\n",
       "⎢0  1   -1  3   -5   11   -5 ⎥\n",
       "⎢                            ⎥\n",
       "⎢0  0   -2  4   -10  20   -6 ⎥\n",
       "⎢                            ⎥\n",
       "⎢0  0   4   4   20   20   -12⎥\n",
       "⎢                            ⎥\n",
       "⎣0  0   10  20  90   220  -50⎦"
      ]
     },
     "execution_count": 65,
     "metadata": {},
     "output_type": "execute_result"
    }
   ],
   "source": [
    "E[4,:] = E[4,:] - 5*E[1,:]\n",
    "E"
   ]
  },
  {
   "cell_type": "code",
   "execution_count": 66,
   "metadata": {},
   "outputs": [
    {
     "data": {
      "text/latex": [
       "$$\\left[\\begin{matrix}1 & -2 & 4 & -8 & 16 & -32 & 14\\\\0 & 1 & -1 & 3 & -5 & 11 & -5\\\\0 & 0 & 1 & -2 & 5 & -10 & 3\\\\0 & 0 & 4 & 4 & 20 & 20 & -12\\\\0 & 0 & 10 & 20 & 90 & 220 & -50\\end{matrix}\\right]$$"
      ],
      "text/plain": [
       "⎡1  -2  4   -8  16  -32  14 ⎤\n",
       "⎢                           ⎥\n",
       "⎢0  1   -1  3   -5  11   -5 ⎥\n",
       "⎢                           ⎥\n",
       "⎢0  0   1   -2  5   -10   3 ⎥\n",
       "⎢                           ⎥\n",
       "⎢0  0   4   4   20  20   -12⎥\n",
       "⎢                           ⎥\n",
       "⎣0  0   10  20  90  220  -50⎦"
      ]
     },
     "execution_count": 66,
     "metadata": {},
     "output_type": "execute_result"
    }
   ],
   "source": [
    "E[2,:] = E[2,:]*Rational(-1,2)\n",
    "E"
   ]
  },
  {
   "cell_type": "code",
   "execution_count": 67,
   "metadata": {},
   "outputs": [
    {
     "data": {
      "text/latex": [
       "$$\\left[\\begin{matrix}1 & -2 & 4 & -8 & 16 & -32 & 14\\\\0 & 1 & -1 & 3 & -5 & 11 & -5\\\\0 & 0 & 1 & -2 & 5 & -10 & 3\\\\0 & 0 & 0 & 12 & 0 & 60 & -24\\\\0 & 0 & 10 & 20 & 90 & 220 & -50\\end{matrix}\\right]$$"
      ],
      "text/plain": [
       "⎡1  -2  4   -8  16  -32  14 ⎤\n",
       "⎢                           ⎥\n",
       "⎢0  1   -1  3   -5  11   -5 ⎥\n",
       "⎢                           ⎥\n",
       "⎢0  0   1   -2  5   -10   3 ⎥\n",
       "⎢                           ⎥\n",
       "⎢0  0   0   12  0   60   -24⎥\n",
       "⎢                           ⎥\n",
       "⎣0  0   10  20  90  220  -50⎦"
      ]
     },
     "execution_count": 67,
     "metadata": {},
     "output_type": "execute_result"
    }
   ],
   "source": [
    "E[3,:] = E[3,:] - 4*E[2,:]\n",
    "E"
   ]
  },
  {
   "cell_type": "code",
   "execution_count": 68,
   "metadata": {},
   "outputs": [
    {
     "data": {
      "text/latex": [
       "$$\\left[\\begin{matrix}1 & -2 & 4 & -8 & 16 & -32 & 14\\\\0 & 1 & -1 & 3 & -5 & 11 & -5\\\\0 & 0 & 1 & -2 & 5 & -10 & 3\\\\0 & 0 & 0 & 12 & 0 & 60 & -24\\\\0 & 0 & 0 & 40 & 40 & 320 & -80\\end{matrix}\\right]$$"
      ],
      "text/plain": [
       "⎡1  -2  4   -8  16  -32  14 ⎤\n",
       "⎢                           ⎥\n",
       "⎢0  1   -1  3   -5  11   -5 ⎥\n",
       "⎢                           ⎥\n",
       "⎢0  0   1   -2  5   -10   3 ⎥\n",
       "⎢                           ⎥\n",
       "⎢0  0   0   12  0   60   -24⎥\n",
       "⎢                           ⎥\n",
       "⎣0  0   0   40  40  320  -80⎦"
      ]
     },
     "execution_count": 68,
     "metadata": {},
     "output_type": "execute_result"
    }
   ],
   "source": [
    "E[4,:] = E[4,:] - 10*E[2,:]\n",
    "E"
   ]
  },
  {
   "cell_type": "code",
   "execution_count": 69,
   "metadata": {},
   "outputs": [
    {
     "data": {
      "text/latex": [
       "$$\\left[\\begin{matrix}1 & -2 & 4 & -8 & 16 & -32 & 14\\\\0 & 1 & -1 & 3 & -5 & 11 & -5\\\\0 & 0 & 1 & -2 & 5 & -10 & 3\\\\0 & 0 & 0 & 1 & 0 & 5 & -2\\\\0 & 0 & 0 & 40 & 40 & 320 & -80\\end{matrix}\\right]$$"
      ],
      "text/plain": [
       "⎡1  -2  4   -8  16  -32  14 ⎤\n",
       "⎢                           ⎥\n",
       "⎢0  1   -1  3   -5  11   -5 ⎥\n",
       "⎢                           ⎥\n",
       "⎢0  0   1   -2  5   -10   3 ⎥\n",
       "⎢                           ⎥\n",
       "⎢0  0   0   1   0    5   -2 ⎥\n",
       "⎢                           ⎥\n",
       "⎣0  0   0   40  40  320  -80⎦"
      ]
     },
     "execution_count": 69,
     "metadata": {},
     "output_type": "execute_result"
    }
   ],
   "source": [
    "E[3,:] = E[3,:]*Rational(1,12)\n",
    "E"
   ]
  },
  {
   "cell_type": "code",
   "execution_count": 70,
   "metadata": {},
   "outputs": [
    {
     "data": {
      "text/latex": [
       "$$\\left[\\begin{matrix}1 & -2 & 4 & -8 & 16 & -32 & 14\\\\0 & 1 & -1 & 3 & -5 & 11 & -5\\\\0 & 0 & 1 & -2 & 5 & -10 & 3\\\\0 & 0 & 0 & 1 & 0 & 5 & -2\\\\0 & 0 & 0 & 0 & 40 & 120 & 0\\end{matrix}\\right]$$"
      ],
      "text/plain": [
       "⎡1  -2  4   -8  16  -32  14⎤\n",
       "⎢                          ⎥\n",
       "⎢0  1   -1  3   -5  11   -5⎥\n",
       "⎢                          ⎥\n",
       "⎢0  0   1   -2  5   -10  3 ⎥\n",
       "⎢                          ⎥\n",
       "⎢0  0   0   1   0    5   -2⎥\n",
       "⎢                          ⎥\n",
       "⎣0  0   0   0   40  120  0 ⎦"
      ]
     },
     "execution_count": 70,
     "metadata": {},
     "output_type": "execute_result"
    }
   ],
   "source": [
    "E[4,:] = E[4,:] - 40*E[3,:]\n",
    "E"
   ]
  },
  {
   "cell_type": "code",
   "execution_count": 71,
   "metadata": {},
   "outputs": [
    {
     "data": {
      "text/latex": [
       "$$\\left[\\begin{matrix}1 & -2 & 4 & -8 & 16 & -32 & 14\\\\0 & 1 & -1 & 3 & -5 & 11 & -5\\\\0 & 0 & 1 & -2 & 5 & -10 & 3\\\\0 & 0 & 0 & 1 & 0 & 5 & -2\\\\0 & 0 & 0 & 0 & 1 & 3 & 0\\end{matrix}\\right]$$"
      ],
      "text/plain": [
       "⎡1  -2  4   -8  16  -32  14⎤\n",
       "⎢                          ⎥\n",
       "⎢0  1   -1  3   -5  11   -5⎥\n",
       "⎢                          ⎥\n",
       "⎢0  0   1   -2  5   -10  3 ⎥\n",
       "⎢                          ⎥\n",
       "⎢0  0   0   1   0    5   -2⎥\n",
       "⎢                          ⎥\n",
       "⎣0  0   0   0   1    3   0 ⎦"
      ]
     },
     "execution_count": 71,
     "metadata": {},
     "output_type": "execute_result"
    }
   ],
   "source": [
    "E[4,:] = E[4,:]*Rational(1,40)\n",
    "E"
   ]
  },
  {
   "cell_type": "code",
   "execution_count": 72,
   "metadata": {},
   "outputs": [
    {
     "data": {
      "text/latex": [
       "$$\\left[\\begin{matrix}1 & -2 & 4 & -8 & 16 & -32 & 14\\\\0 & 1 & -1 & 3 & -5 & 11 & -5\\\\0 & 0 & 1 & -2 & 0 & -25 & 3\\\\0 & 0 & 0 & 1 & 0 & 5 & -2\\\\0 & 0 & 0 & 0 & 1 & 3 & 0\\end{matrix}\\right]$$"
      ],
      "text/plain": [
       "⎡1  -2  4   -8  16  -32  14⎤\n",
       "⎢                          ⎥\n",
       "⎢0  1   -1  3   -5  11   -5⎥\n",
       "⎢                          ⎥\n",
       "⎢0  0   1   -2  0   -25  3 ⎥\n",
       "⎢                          ⎥\n",
       "⎢0  0   0   1   0    5   -2⎥\n",
       "⎢                          ⎥\n",
       "⎣0  0   0   0   1    3   0 ⎦"
      ]
     },
     "execution_count": 72,
     "metadata": {},
     "output_type": "execute_result"
    }
   ],
   "source": [
    "E[2,:] = E[2,:] - 5*E[4,:]\n",
    "E"
   ]
  },
  {
   "cell_type": "code",
   "execution_count": 73,
   "metadata": {},
   "outputs": [
    {
     "data": {
      "text/latex": [
       "$$\\left[\\begin{matrix}1 & -2 & 4 & -8 & 16 & -32 & 14\\\\0 & 1 & -1 & 3 & 0 & 26 & -5\\\\0 & 0 & 1 & -2 & 0 & -25 & 3\\\\0 & 0 & 0 & 1 & 0 & 5 & -2\\\\0 & 0 & 0 & 0 & 1 & 3 & 0\\end{matrix}\\right]$$"
      ],
      "text/plain": [
       "⎡1  -2  4   -8  16  -32  14⎤\n",
       "⎢                          ⎥\n",
       "⎢0  1   -1  3   0   26   -5⎥\n",
       "⎢                          ⎥\n",
       "⎢0  0   1   -2  0   -25  3 ⎥\n",
       "⎢                          ⎥\n",
       "⎢0  0   0   1   0    5   -2⎥\n",
       "⎢                          ⎥\n",
       "⎣0  0   0   0   1    3   0 ⎦"
      ]
     },
     "execution_count": 73,
     "metadata": {},
     "output_type": "execute_result"
    }
   ],
   "source": [
    "E[1,:] = E[1,:] - -5*E[4,:]\n",
    "E"
   ]
  },
  {
   "cell_type": "code",
   "execution_count": 74,
   "metadata": {},
   "outputs": [
    {
     "data": {
      "text/latex": [
       "$$\\left[\\begin{matrix}1 & -2 & 4 & -8 & 0 & -80 & 14\\\\0 & 1 & -1 & 3 & 0 & 26 & -5\\\\0 & 0 & 1 & -2 & 0 & -25 & 3\\\\0 & 0 & 0 & 1 & 0 & 5 & -2\\\\0 & 0 & 0 & 0 & 1 & 3 & 0\\end{matrix}\\right]$$"
      ],
      "text/plain": [
       "⎡1  -2  4   -8  0  -80  14⎤\n",
       "⎢                         ⎥\n",
       "⎢0  1   -1  3   0  26   -5⎥\n",
       "⎢                         ⎥\n",
       "⎢0  0   1   -2  0  -25  3 ⎥\n",
       "⎢                         ⎥\n",
       "⎢0  0   0   1   0   5   -2⎥\n",
       "⎢                         ⎥\n",
       "⎣0  0   0   0   1   3   0 ⎦"
      ]
     },
     "execution_count": 74,
     "metadata": {},
     "output_type": "execute_result"
    }
   ],
   "source": [
    "E[0,:] = E[0,:] - 16*E[4,:]\n",
    "E"
   ]
  },
  {
   "cell_type": "code",
   "execution_count": 75,
   "metadata": {},
   "outputs": [
    {
     "data": {
      "text/latex": [
       "$$\\left[\\begin{matrix}1 & -2 & 4 & -8 & 0 & -80 & 14\\\\0 & 1 & -1 & 3 & 0 & 26 & -5\\\\0 & 0 & 1 & 0 & 0 & -15 & -1\\\\0 & 0 & 0 & 1 & 0 & 5 & -2\\\\0 & 0 & 0 & 0 & 1 & 3 & 0\\end{matrix}\\right]$$"
      ],
      "text/plain": [
       "⎡1  -2  4   -8  0  -80  14⎤\n",
       "⎢                         ⎥\n",
       "⎢0  1   -1  3   0  26   -5⎥\n",
       "⎢                         ⎥\n",
       "⎢0  0   1   0   0  -15  -1⎥\n",
       "⎢                         ⎥\n",
       "⎢0  0   0   1   0   5   -2⎥\n",
       "⎢                         ⎥\n",
       "⎣0  0   0   0   1   3   0 ⎦"
      ]
     },
     "execution_count": 75,
     "metadata": {},
     "output_type": "execute_result"
    }
   ],
   "source": [
    "E[2,:] = E[2,:] - -2*E[3,:]\n",
    "E"
   ]
  },
  {
   "cell_type": "code",
   "execution_count": 76,
   "metadata": {},
   "outputs": [
    {
     "data": {
      "text/latex": [
       "$$\\left[\\begin{matrix}1 & -2 & 4 & -8 & 0 & -80 & 14\\\\0 & 1 & -1 & 0 & 0 & 11 & 1\\\\0 & 0 & 1 & 0 & 0 & -15 & -1\\\\0 & 0 & 0 & 1 & 0 & 5 & -2\\\\0 & 0 & 0 & 0 & 1 & 3 & 0\\end{matrix}\\right]$$"
      ],
      "text/plain": [
       "⎡1  -2  4   -8  0  -80  14⎤\n",
       "⎢                         ⎥\n",
       "⎢0  1   -1  0   0  11   1 ⎥\n",
       "⎢                         ⎥\n",
       "⎢0  0   1   0   0  -15  -1⎥\n",
       "⎢                         ⎥\n",
       "⎢0  0   0   1   0   5   -2⎥\n",
       "⎢                         ⎥\n",
       "⎣0  0   0   0   1   3   0 ⎦"
      ]
     },
     "execution_count": 76,
     "metadata": {},
     "output_type": "execute_result"
    }
   ],
   "source": [
    "E[1,:] = E[1,:] - 3*E[3,:]\n",
    "E"
   ]
  },
  {
   "cell_type": "code",
   "execution_count": 77,
   "metadata": {},
   "outputs": [
    {
     "data": {
      "text/latex": [
       "$$\\left[\\begin{matrix}1 & -2 & 4 & 0 & 0 & -40 & -2\\\\0 & 1 & -1 & 0 & 0 & 11 & 1\\\\0 & 0 & 1 & 0 & 0 & -15 & -1\\\\0 & 0 & 0 & 1 & 0 & 5 & -2\\\\0 & 0 & 0 & 0 & 1 & 3 & 0\\end{matrix}\\right]$$"
      ],
      "text/plain": [
       "⎡1  -2  4   0  0  -40  -2⎤\n",
       "⎢                        ⎥\n",
       "⎢0  1   -1  0  0  11   1 ⎥\n",
       "⎢                        ⎥\n",
       "⎢0  0   1   0  0  -15  -1⎥\n",
       "⎢                        ⎥\n",
       "⎢0  0   0   1  0   5   -2⎥\n",
       "⎢                        ⎥\n",
       "⎣0  0   0   0  1   3   0 ⎦"
      ]
     },
     "execution_count": 77,
     "metadata": {},
     "output_type": "execute_result"
    }
   ],
   "source": [
    "E[0,:] = E[0,:] - -8*E[3,:]\n",
    "E"
   ]
  },
  {
   "cell_type": "code",
   "execution_count": 78,
   "metadata": {},
   "outputs": [
    {
     "data": {
      "text/latex": [
       "$$\\left[\\begin{matrix}1 & -2 & 4 & 0 & 0 & -40 & -2\\\\0 & 1 & 0 & 0 & 0 & -4 & 0\\\\0 & 0 & 1 & 0 & 0 & -15 & -1\\\\0 & 0 & 0 & 1 & 0 & 5 & -2\\\\0 & 0 & 0 & 0 & 1 & 3 & 0\\end{matrix}\\right]$$"
      ],
      "text/plain": [
       "⎡1  -2  4  0  0  -40  -2⎤\n",
       "⎢                       ⎥\n",
       "⎢0  1   0  0  0  -4   0 ⎥\n",
       "⎢                       ⎥\n",
       "⎢0  0   1  0  0  -15  -1⎥\n",
       "⎢                       ⎥\n",
       "⎢0  0   0  1  0   5   -2⎥\n",
       "⎢                       ⎥\n",
       "⎣0  0   0  0  1   3   0 ⎦"
      ]
     },
     "execution_count": 78,
     "metadata": {},
     "output_type": "execute_result"
    }
   ],
   "source": [
    "E[1,:] = E[1,:] - -E[2,:]\n",
    "E"
   ]
  },
  {
   "cell_type": "code",
   "execution_count": 79,
   "metadata": {},
   "outputs": [
    {
     "data": {
      "text/latex": [
       "$$\\left[\\begin{matrix}1 & -2 & 0 & 0 & 0 & 20 & 2\\\\0 & 1 & 0 & 0 & 0 & -4 & 0\\\\0 & 0 & 1 & 0 & 0 & -15 & -1\\\\0 & 0 & 0 & 1 & 0 & 5 & -2\\\\0 & 0 & 0 & 0 & 1 & 3 & 0\\end{matrix}\\right]$$"
      ],
      "text/plain": [
       "⎡1  -2  0  0  0  20   2 ⎤\n",
       "⎢                       ⎥\n",
       "⎢0  1   0  0  0  -4   0 ⎥\n",
       "⎢                       ⎥\n",
       "⎢0  0   1  0  0  -15  -1⎥\n",
       "⎢                       ⎥\n",
       "⎢0  0   0  1  0   5   -2⎥\n",
       "⎢                       ⎥\n",
       "⎣0  0   0  0  1   3   0 ⎦"
      ]
     },
     "execution_count": 79,
     "metadata": {},
     "output_type": "execute_result"
    }
   ],
   "source": [
    "E[0,:] = E[0,:] -4*E[2,:]\n",
    "E"
   ]
  },
  {
   "cell_type": "code",
   "execution_count": 80,
   "metadata": {},
   "outputs": [
    {
     "data": {
      "text/latex": [
       "$$\\left[\\begin{matrix}1 & 0 & 0 & 0 & 0 & 12 & 2\\\\0 & 1 & 0 & 0 & 0 & -4 & 0\\\\0 & 0 & 1 & 0 & 0 & -15 & -1\\\\0 & 0 & 0 & 1 & 0 & 5 & -2\\\\0 & 0 & 0 & 0 & 1 & 3 & 0\\end{matrix}\\right]$$"
      ],
      "text/plain": [
       "⎡1  0  0  0  0  12   2 ⎤\n",
       "⎢                      ⎥\n",
       "⎢0  1  0  0  0  -4   0 ⎥\n",
       "⎢                      ⎥\n",
       "⎢0  0  1  0  0  -15  -1⎥\n",
       "⎢                      ⎥\n",
       "⎢0  0  0  1  0   5   -2⎥\n",
       "⎢                      ⎥\n",
       "⎣0  0  0  0  1   3   0 ⎦"
      ]
     },
     "execution_count": 80,
     "metadata": {},
     "output_type": "execute_result"
    }
   ],
   "source": [
    "E[0,:] = E[0,:] - -2*E[1,:]\n",
    "E"
   ]
  },
  {
   "cell_type": "code",
   "execution_count": 55,
   "metadata": {},
   "outputs": [
    {
     "data": {
      "text/latex": [
       "$$5 x^{4} - 12 x^{3} - 21 x^{2} + 28 x + 4$$"
      ],
      "text/plain": [
       "   4       3       2           \n",
       "5⋅x  - 12⋅x  - 21⋅x  + 28⋅x + 4"
      ]
     },
     "execution_count": 55,
     "metadata": {},
     "output_type": "execute_result"
    }
   ],
   "source": [
    "y,x = symbols('y,x')\n",
    "diff(-10 + 4*x + 14*x**2 - 7*x**3 - 3*x**4 + x**5)\n",
    "#def f(y,x):\n",
    " #   return -10 + 4*x + 14*x**2 - 7*x**3 - 3*x**4 + x**5 \n",
    "#diff(f(y,x),x)"
   ]
  },
  {
   "cell_type": "code",
   "execution_count": 83,
   "metadata": {},
   "outputs": [
    {
     "data": {
      "text/latex": [
       "$$\\left ( \\left[\\begin{matrix}1 & -2 & 4 & -8 & 16 & 14\\\\1 & -1 & 1 & -1 & 1 & 3\\\\1 & 1 & 1 & 1 & 1 & -1\\\\1 & 2 & 4 & 8 & 16 & -18\\\\1 & 3 & 9 & 27 & 81 & -61\\end{matrix}\\right], \\quad \\left ( \\left[\\begin{matrix}1 & 0 & 0 & 0 & 0 & 2\\\\0 & 1 & 0 & 0 & 0 & 0\\\\0 & 0 & 1 & 0 & 0 & -1\\\\0 & 0 & 0 & 1 & 0 & -2\\\\0 & 0 & 0 & 0 & 1 & 0\\end{matrix}\\right], \\quad \\left ( 0, \\quad 1, \\quad 2, \\quad 3, \\quad 4\\right )\\right )\\right )$$"
      ],
      "text/plain": [
       "⎛⎡1  -2  4  -8  16  14 ⎤  ⎛⎡1  0  0  0  0  2 ⎤                 ⎞⎞\n",
       "⎜⎢                     ⎥  ⎜⎢                 ⎥                 ⎟⎟\n",
       "⎜⎢1  -1  1  -1  1    3 ⎥  ⎜⎢0  1  0  0  0  0 ⎥                 ⎟⎟\n",
       "⎜⎢                     ⎥  ⎜⎢                 ⎥                 ⎟⎟\n",
       "⎜⎢1  1   1  1   1   -1 ⎥, ⎜⎢0  0  1  0  0  -1⎥, (0, 1, 2, 3, 4)⎟⎟\n",
       "⎜⎢                     ⎥  ⎜⎢                 ⎥                 ⎟⎟\n",
       "⎜⎢1  2   4  8   16  -18⎥  ⎜⎢0  0  0  1  0  -2⎥                 ⎟⎟\n",
       "⎜⎢                     ⎥  ⎜⎢                 ⎥                 ⎟⎟\n",
       "⎝⎣1  3   9  27  81  -61⎦  ⎝⎣0  0  0  0  1  0 ⎦                 ⎠⎠"
      ]
     },
     "execution_count": 83,
     "metadata": {},
     "output_type": "execute_result"
    }
   ],
   "source": [
    "F = Matrix([[1,-2,(-2)**2,(-2)**3,(-2)**4,14],[1,-1,(-1)**2,(-1)**3,(-1)**4,3],[1,1,1**2,1**3,1**4,-1],[1,2,2**2,2**3,2**4,-18],[1,3,3**2,3**3,3**4,-61]])\n",
    "R = F.rref()\n",
    "F,R"
   ]
  },
  {
   "cell_type": "code",
   "execution_count": 84,
   "metadata": {},
   "outputs": [
    {
     "data": {
      "text/latex": [
       "$$\\left ( \\left[\\begin{matrix}1 & -2 & 4 & -8 & 14\\\\1 & -1 & 1 & -1 & 3\\\\1 & 1 & 1 & 1 & -1\\\\1 & 2 & 4 & 8 & -18\\\\1 & 3 & 9 & 27 & -61\\end{matrix}\\right], \\quad \\left ( \\left[\\begin{matrix}1 & 0 & 0 & 0 & 2\\\\0 & 1 & 0 & 0 & 0\\\\0 & 0 & 1 & 0 & -1\\\\0 & 0 & 0 & 1 & -2\\\\0 & 0 & 0 & 0 & 0\\end{matrix}\\right], \\quad \\left ( 0, \\quad 1, \\quad 2, \\quad 3\\right )\\right )\\right )$$"
      ],
      "text/plain": [
       "⎛⎡1  -2  4  -8  14 ⎤  ⎛⎡1  0  0  0  2 ⎤              ⎞⎞\n",
       "⎜⎢                 ⎥  ⎜⎢              ⎥              ⎟⎟\n",
       "⎜⎢1  -1  1  -1   3 ⎥  ⎜⎢0  1  0  0  0 ⎥              ⎟⎟\n",
       "⎜⎢                 ⎥  ⎜⎢              ⎥              ⎟⎟\n",
       "⎜⎢1  1   1  1   -1 ⎥, ⎜⎢0  0  1  0  -1⎥, (0, 1, 2, 3)⎟⎟\n",
       "⎜⎢                 ⎥  ⎜⎢              ⎥              ⎟⎟\n",
       "⎜⎢1  2   4  8   -18⎥  ⎜⎢0  0  0  1  -2⎥              ⎟⎟\n",
       "⎜⎢                 ⎥  ⎜⎢              ⎥              ⎟⎟\n",
       "⎝⎣1  3   9  27  -61⎦  ⎝⎣0  0  0  0  0 ⎦              ⎠⎠"
      ]
     },
     "execution_count": 84,
     "metadata": {},
     "output_type": "execute_result"
    }
   ],
   "source": [
    "G = Matrix([[1,-2,(-2)**2,(-2)**3,14],[1,-1,(-1)**2,(-1)**3,3],[1,1,1**2,1**3,-1],[1,2,2**2,2**3,-18],[1,3,3**2,3**3,-61]])\n",
    "R = G.rref()\n",
    "G,R"
   ]
  },
  {
   "cell_type": "code",
   "execution_count": 9,
   "metadata": {},
   "outputs": [
    {
     "data": {
      "text/latex": [
       "$$\\left ( \\left[\\begin{matrix}3\\\\1\\\\1\\\\2\\end{matrix}\\right], \\quad \\left[\\begin{matrix}4\\\\3\\\\-3\\\\4\\end{matrix}\\right]\\right )$$"
      ],
      "text/plain": [
       "⎛⎡3⎤  ⎡4 ⎤⎞\n",
       "⎜⎢ ⎥  ⎢  ⎥⎟\n",
       "⎜⎢1⎥  ⎢3 ⎥⎟\n",
       "⎜⎢ ⎥, ⎢  ⎥⎟\n",
       "⎜⎢1⎥  ⎢-3⎥⎟\n",
       "⎜⎢ ⎥  ⎢  ⎥⎟\n",
       "⎝⎣2⎦  ⎣4 ⎦⎠"
      ]
     },
     "execution_count": 9,
     "metadata": {},
     "output_type": "execute_result"
    }
   ],
   "source": [
    "V = Matrix([[3],[1],[1],[2]])\n",
    "W = Matrix([[4],[3],[-3],[4]])\n",
    "V,W"
   ]
  },
  {
   "cell_type": "code",
   "execution_count": 10,
   "metadata": {},
   "outputs": [
    {
     "data": {
      "text/latex": [
       "$$\\left[\\begin{matrix}43\\\\26\\\\-16\\\\38\\end{matrix}\\right]$$"
      ],
      "text/plain": [
       "⎡43 ⎤\n",
       "⎢   ⎥\n",
       "⎢26 ⎥\n",
       "⎢   ⎥\n",
       "⎢-16⎥\n",
       "⎢   ⎥\n",
       "⎣38 ⎦"
      ]
     },
     "execution_count": 10,
     "metadata": {},
     "output_type": "execute_result"
    }
   ],
   "source": [
    "5*V + 7*W"
   ]
  },
  {
   "cell_type": "code",
   "execution_count": 85,
   "metadata": {},
   "outputs": [
    {
     "data": {
      "text/latex": [
       "$$\\left ( \\left[\\begin{matrix}1 & 2 & -1 & 7\\\\-1 & 1 & 4 & -10\\\\1 & 3 & 4 & -10\\\\4 & -1 & -2 & -7\\end{matrix}\\right], \\quad \\left ( \\left[\\begin{matrix}1 & 0 & 0 & -3\\\\0 & 1 & 0 & 3\\\\0 & 0 & 1 & -4\\\\0 & 0 & 0 & 0\\end{matrix}\\right], \\quad \\left ( 0, \\quad 1, \\quad 2\\right )\\right )\\right )$$"
      ],
      "text/plain": [
       "⎛⎡1   2   -1   7 ⎤  ⎛⎡1  0  0  -3⎤           ⎞⎞\n",
       "⎜⎢               ⎥  ⎜⎢           ⎥           ⎟⎟\n",
       "⎜⎢-1  1   4   -10⎥  ⎜⎢0  1  0  3 ⎥           ⎟⎟\n",
       "⎜⎢               ⎥, ⎜⎢           ⎥, (0, 1, 2)⎟⎟\n",
       "⎜⎢1   3   4   -10⎥  ⎜⎢0  0  1  -4⎥           ⎟⎟\n",
       "⎜⎢               ⎥  ⎜⎢           ⎥           ⎟⎟\n",
       "⎝⎣4   -1  -2  -7 ⎦  ⎝⎣0  0  0  0 ⎦           ⎠⎠"
      ]
     },
     "execution_count": 85,
     "metadata": {},
     "output_type": "execute_result"
    }
   ],
   "source": [
    "H = Matrix([[1,2,-1,7],[-1,1,4,-10],[1,3,4,-10],[4,-1,-2,-7]])\n",
    "R = H.rref()\n",
    "H,R"
   ]
  },
  {
   "cell_type": "code",
   "execution_count": 86,
   "metadata": {},
   "outputs": [
    {
     "data": {
      "text/latex": [
       "$$\\left ( \\left[\\begin{matrix}-2 & -3 & 5 & -3\\\\-2 & 1 & 1 & 9\\\\-3 & -5 & 8 & -6\\end{matrix}\\right], \\quad \\left ( \\left[\\begin{matrix}1 & 0 & -1 & -3\\\\0 & 1 & -1 & 3\\\\0 & 0 & 0 & 0\\end{matrix}\\right], \\quad \\left ( 0, \\quad 1\\right )\\right )\\right )$$"
      ],
      "text/plain": [
       "⎛⎡-2  -3  5  -3⎤  ⎛⎡1  0  -1  -3⎤        ⎞⎞\n",
       "⎜⎢             ⎥  ⎜⎢            ⎥        ⎟⎟\n",
       "⎜⎢-2  1   1  9 ⎥, ⎜⎢0  1  -1  3 ⎥, (0, 1)⎟⎟\n",
       "⎜⎢             ⎥  ⎜⎢            ⎥        ⎟⎟\n",
       "⎝⎣-3  -5  8  -6⎦  ⎝⎣0  0  0   0 ⎦        ⎠⎠"
      ]
     },
     "execution_count": 86,
     "metadata": {},
     "output_type": "execute_result"
    }
   ],
   "source": [
    "I = Matrix([[-2,-3,5,-3],[-2,1,1,9],[-3,-5,8,-6]])\n",
    "R = I.rref()\n",
    "I,R"
   ]
  },
  {
   "cell_type": "code",
   "execution_count": null,
   "metadata": {},
   "outputs": [],
   "source": []
  }
 ],
 "metadata": {
  "kernelspec": {
   "display_name": "Python 3",
   "language": "python",
   "name": "python3"
  },
  "language_info": {
   "codemirror_mode": {
    "name": "ipython",
    "version": 3
   },
   "file_extension": ".py",
   "mimetype": "text/x-python",
   "name": "python",
   "nbconvert_exporter": "python",
   "pygments_lexer": "ipython3",
   "version": "3.6.5"
  }
 },
 "nbformat": 4,
 "nbformat_minor": 2
}
