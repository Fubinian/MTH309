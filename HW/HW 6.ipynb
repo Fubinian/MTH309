{
 "cells": [
  {
   "cell_type": "code",
   "execution_count": 1,
   "metadata": {},
   "outputs": [
    {
     "name": "stdout",
     "output_type": "stream",
     "text": [
      "Populating the interactive namespace from numpy and matplotlib\n"
     ]
    }
   ],
   "source": [
    "%pylab inline"
   ]
  },
  {
   "cell_type": "code",
   "execution_count": 2,
   "metadata": {},
   "outputs": [],
   "source": [
    "from sympy import *\n",
    "init_printing(use_latex = 'mathjax')"
   ]
  },
  {
   "cell_type": "code",
   "execution_count": 5,
   "metadata": {},
   "outputs": [
    {
     "data": {
      "text/latex": [
       "$$\\left ( \\left[\\begin{matrix}5 & 5 & 0\\\\5 & 1 & 5\\end{matrix}\\right], \\quad \\left[\\begin{matrix}-1 & -1\\\\4 & 1\\\\1 & -2\\end{matrix}\\right]\\right )$$"
      ],
      "text/plain": [
       "⎛           ⎡-1  -1⎤⎞\n",
       "⎜⎡5  5  0⎤  ⎢      ⎥⎟\n",
       "⎜⎢       ⎥, ⎢4   1 ⎥⎟\n",
       "⎜⎣5  1  5⎦  ⎢      ⎥⎟\n",
       "⎝           ⎣1   -2⎦⎠"
      ]
     },
     "execution_count": 5,
     "metadata": {},
     "output_type": "execute_result"
    }
   ],
   "source": [
    "A = Matrix([[5,5,0],[5,1,5]])\n",
    "B = Matrix([[-1,-1],[4,1],[1,-2]])\n",
    "A,B"
   ]
  },
  {
   "cell_type": "code",
   "execution_count": 6,
   "metadata": {},
   "outputs": [
    {
     "data": {
      "text/latex": [
       "$$\\left[\\begin{matrix}15 & 0\\\\4 & -14\\end{matrix}\\right]$$"
      ],
      "text/plain": [
       "⎡15   0 ⎤\n",
       "⎢       ⎥\n",
       "⎣4   -14⎦"
      ]
     },
     "execution_count": 6,
     "metadata": {},
     "output_type": "execute_result"
    }
   ],
   "source": [
    "A*B"
   ]
  },
  {
   "cell_type": "code",
   "execution_count": 7,
   "metadata": {},
   "outputs": [
    {
     "data": {
      "text/latex": [
       "$$\\left[\\begin{matrix}-10 & -6 & -5\\\\25 & 21 & 5\\\\-5 & 3 & -10\\end{matrix}\\right]$$"
      ],
      "text/plain": [
       "⎡-10  -6  -5 ⎤\n",
       "⎢            ⎥\n",
       "⎢25   21   5 ⎥\n",
       "⎢            ⎥\n",
       "⎣-5   3   -10⎦"
      ]
     },
     "execution_count": 7,
     "metadata": {},
     "output_type": "execute_result"
    }
   ],
   "source": [
    "B*A"
   ]
  },
  {
   "cell_type": "code",
   "execution_count": 21,
   "metadata": {},
   "outputs": [
    {
     "data": {
      "text/latex": [
       "$$\\left[\\begin{matrix}2 & 6 & -1\\\\-1 & -3 & 2\\\\3 & 9 & -1\\end{matrix}\\right]$$"
      ],
      "text/plain": [
       "⎡2   6   -1⎤\n",
       "⎢          ⎥\n",
       "⎢-1  -3  2 ⎥\n",
       "⎢          ⎥\n",
       "⎣3   9   -1⎦"
      ]
     },
     "execution_count": 21,
     "metadata": {},
     "output_type": "execute_result"
    }
   ],
   "source": [
    "C = Matrix([[2,6,-1],[-1,-3,2],[3,9,-1]])\n",
    "C"
   ]
  },
  {
   "cell_type": "code",
   "execution_count": 7,
   "metadata": {},
   "outputs": [
    {
     "ename": "ValueError",
     "evalue": "Matrix det == 0; not invertible.",
     "output_type": "error",
     "traceback": [
      "\u001b[1;31m---------------------------------------------------------------------------\u001b[0m",
      "\u001b[1;31mValueError\u001b[0m                                Traceback (most recent call last)",
      "\u001b[1;32m<ipython-input-7-48e11c229387>\u001b[0m in \u001b[0;36m<module>\u001b[1;34m()\u001b[0m\n\u001b[1;32m----> 1\u001b[1;33m \u001b[0mC\u001b[0m\u001b[1;33m**\u001b[0m\u001b[1;33m-\u001b[0m\u001b[1;36m1\u001b[0m\u001b[1;33m\u001b[0m\u001b[0m\n\u001b[0m",
      "\u001b[1;32m~\\Anaconda3\\lib\\site-packages\\sympy\\core\\decorators.py\u001b[0m in \u001b[0;36mbinary_op_wrapper\u001b[1;34m(self, other)\u001b[0m\n\u001b[0;32m    130\u001b[0m                     \u001b[1;32melse\u001b[0m\u001b[1;33m:\u001b[0m\u001b[1;33m\u001b[0m\u001b[0m\n\u001b[0;32m    131\u001b[0m                         \u001b[1;32mreturn\u001b[0m \u001b[0mf\u001b[0m\u001b[1;33m(\u001b[0m\u001b[0mself\u001b[0m\u001b[1;33m)\u001b[0m\u001b[1;33m\u001b[0m\u001b[0m\n\u001b[1;32m--> 132\u001b[1;33m             \u001b[1;32mreturn\u001b[0m \u001b[0mfunc\u001b[0m\u001b[1;33m(\u001b[0m\u001b[0mself\u001b[0m\u001b[1;33m,\u001b[0m \u001b[0mother\u001b[0m\u001b[1;33m)\u001b[0m\u001b[1;33m\u001b[0m\u001b[0m\n\u001b[0m\u001b[0;32m    133\u001b[0m         \u001b[1;32mreturn\u001b[0m \u001b[0mbinary_op_wrapper\u001b[0m\u001b[1;33m\u001b[0m\u001b[0m\n\u001b[0;32m    134\u001b[0m     \u001b[1;32mreturn\u001b[0m \u001b[0mpriority_decorator\u001b[0m\u001b[1;33m\u001b[0m\u001b[0m\n",
      "\u001b[1;32m~\\Anaconda3\\lib\\site-packages\\sympy\\matrices\\common.py\u001b[0m in \u001b[0;36m__pow__\u001b[1;34m(self, num)\u001b[0m\n\u001b[0;32m   2057\u001b[0m                 \u001b[1;32mif\u001b[0m \u001b[0mnum\u001b[0m \u001b[1;33m<\u001b[0m \u001b[1;36m0\u001b[0m\u001b[1;33m:\u001b[0m\u001b[1;33m\u001b[0m\u001b[0m\n\u001b[0;32m   2058\u001b[0m                     \u001b[0mnum\u001b[0m \u001b[1;33m=\u001b[0m \u001b[1;33m-\u001b[0m\u001b[0mnum\u001b[0m\u001b[1;33m\u001b[0m\u001b[0m\n\u001b[1;32m-> 2059\u001b[1;33m                     \u001b[0ma\u001b[0m \u001b[1;33m=\u001b[0m \u001b[0ma\u001b[0m\u001b[1;33m.\u001b[0m\u001b[0minv\u001b[0m\u001b[1;33m(\u001b[0m\u001b[1;33m)\u001b[0m\u001b[1;33m\u001b[0m\u001b[0m\n\u001b[0m\u001b[0;32m   2060\u001b[0m                 \u001b[1;31m# When certain conditions are met,\u001b[0m\u001b[1;33m\u001b[0m\u001b[1;33m\u001b[0m\u001b[0m\n\u001b[0;32m   2061\u001b[0m                 \u001b[1;31m# Jordan block algorithm is faster than\u001b[0m\u001b[1;33m\u001b[0m\u001b[1;33m\u001b[0m\u001b[0m\n",
      "\u001b[1;32m~\\Anaconda3\\lib\\site-packages\\sympy\\matrices\\matrices.py\u001b[0m in \u001b[0;36minv\u001b[1;34m(self, method, **kwargs)\u001b[0m\n\u001b[0;32m   2916\u001b[0m         \u001b[1;32mif\u001b[0m \u001b[0mmethod\u001b[0m \u001b[1;32mis\u001b[0m \u001b[1;32mnot\u001b[0m \u001b[1;32mNone\u001b[0m\u001b[1;33m:\u001b[0m\u001b[1;33m\u001b[0m\u001b[0m\n\u001b[0;32m   2917\u001b[0m             \u001b[0mkwargs\u001b[0m\u001b[1;33m[\u001b[0m\u001b[1;34m'method'\u001b[0m\u001b[1;33m]\u001b[0m \u001b[1;33m=\u001b[0m \u001b[0mmethod\u001b[0m\u001b[1;33m\u001b[0m\u001b[0m\n\u001b[1;32m-> 2918\u001b[1;33m         \u001b[1;32mreturn\u001b[0m \u001b[0mself\u001b[0m\u001b[1;33m.\u001b[0m\u001b[0m_eval_inverse\u001b[0m\u001b[1;33m(\u001b[0m\u001b[1;33m**\u001b[0m\u001b[0mkwargs\u001b[0m\u001b[1;33m)\u001b[0m\u001b[1;33m\u001b[0m\u001b[0m\n\u001b[0m\u001b[0;32m   2919\u001b[0m \u001b[1;33m\u001b[0m\u001b[0m\n\u001b[0;32m   2920\u001b[0m     \u001b[1;32mdef\u001b[0m \u001b[0mis_nilpotent\u001b[0m\u001b[1;33m(\u001b[0m\u001b[0mself\u001b[0m\u001b[1;33m)\u001b[0m\u001b[1;33m:\u001b[0m\u001b[1;33m\u001b[0m\u001b[0m\n",
      "\u001b[1;32m~\\Anaconda3\\lib\\site-packages\\sympy\\matrices\\dense.py\u001b[0m in \u001b[0;36m_eval_inverse\u001b[1;34m(self, **kwargs)\u001b[0m\n\u001b[0;32m    264\u001b[0m         \u001b[0mM\u001b[0m \u001b[1;33m=\u001b[0m \u001b[0mself\u001b[0m\u001b[1;33m.\u001b[0m\u001b[0mas_mutable\u001b[0m\u001b[1;33m(\u001b[0m\u001b[1;33m)\u001b[0m\u001b[1;33m\u001b[0m\u001b[0m\n\u001b[0;32m    265\u001b[0m         \u001b[1;32mif\u001b[0m \u001b[0mmethod\u001b[0m \u001b[1;33m==\u001b[0m \u001b[1;34m\"GE\"\u001b[0m\u001b[1;33m:\u001b[0m\u001b[1;33m\u001b[0m\u001b[0m\n\u001b[1;32m--> 266\u001b[1;33m             \u001b[0mrv\u001b[0m \u001b[1;33m=\u001b[0m \u001b[0mM\u001b[0m\u001b[1;33m.\u001b[0m\u001b[0minverse_GE\u001b[0m\u001b[1;33m(\u001b[0m\u001b[0miszerofunc\u001b[0m\u001b[1;33m=\u001b[0m\u001b[0miszerofunc\u001b[0m\u001b[1;33m)\u001b[0m\u001b[1;33m\u001b[0m\u001b[0m\n\u001b[0m\u001b[0;32m    267\u001b[0m         \u001b[1;32melif\u001b[0m \u001b[0mmethod\u001b[0m \u001b[1;33m==\u001b[0m \u001b[1;34m\"LU\"\u001b[0m\u001b[1;33m:\u001b[0m\u001b[1;33m\u001b[0m\u001b[0m\n\u001b[0;32m    268\u001b[0m             \u001b[0mrv\u001b[0m \u001b[1;33m=\u001b[0m \u001b[0mM\u001b[0m\u001b[1;33m.\u001b[0m\u001b[0minverse_LU\u001b[0m\u001b[1;33m(\u001b[0m\u001b[0miszerofunc\u001b[0m\u001b[1;33m=\u001b[0m\u001b[0miszerofunc\u001b[0m\u001b[1;33m)\u001b[0m\u001b[1;33m\u001b[0m\u001b[0m\n",
      "\u001b[1;32m~\\Anaconda3\\lib\\site-packages\\sympy\\matrices\\matrices.py\u001b[0m in \u001b[0;36minverse_GE\u001b[1;34m(self, iszerofunc)\u001b[0m\n\u001b[0;32m   2831\u001b[0m         \u001b[0mred\u001b[0m \u001b[1;33m=\u001b[0m \u001b[0mbig\u001b[0m\u001b[1;33m.\u001b[0m\u001b[0mrref\u001b[0m\u001b[1;33m(\u001b[0m\u001b[0miszerofunc\u001b[0m\u001b[1;33m=\u001b[0m\u001b[0miszerofunc\u001b[0m\u001b[1;33m,\u001b[0m \u001b[0msimplify\u001b[0m\u001b[1;33m=\u001b[0m\u001b[1;32mTrue\u001b[0m\u001b[1;33m)\u001b[0m\u001b[1;33m[\u001b[0m\u001b[1;36m0\u001b[0m\u001b[1;33m]\u001b[0m\u001b[1;33m\u001b[0m\u001b[0m\n\u001b[0;32m   2832\u001b[0m         \u001b[1;32mif\u001b[0m \u001b[0many\u001b[0m\u001b[1;33m(\u001b[0m\u001b[0miszerofunc\u001b[0m\u001b[1;33m(\u001b[0m\u001b[0mred\u001b[0m\u001b[1;33m[\u001b[0m\u001b[0mj\u001b[0m\u001b[1;33m,\u001b[0m \u001b[0mj\u001b[0m\u001b[1;33m]\u001b[0m\u001b[1;33m)\u001b[0m \u001b[1;32mfor\u001b[0m \u001b[0mj\u001b[0m \u001b[1;32min\u001b[0m \u001b[0mrange\u001b[0m\u001b[1;33m(\u001b[0m\u001b[0mred\u001b[0m\u001b[1;33m.\u001b[0m\u001b[0mrows\u001b[0m\u001b[1;33m)\u001b[0m\u001b[1;33m)\u001b[0m\u001b[1;33m:\u001b[0m\u001b[1;33m\u001b[0m\u001b[0m\n\u001b[1;32m-> 2833\u001b[1;33m             \u001b[1;32mraise\u001b[0m \u001b[0mValueError\u001b[0m\u001b[1;33m(\u001b[0m\u001b[1;34m\"Matrix det == 0; not invertible.\"\u001b[0m\u001b[1;33m)\u001b[0m\u001b[1;33m\u001b[0m\u001b[0m\n\u001b[0m\u001b[0;32m   2834\u001b[0m \u001b[1;33m\u001b[0m\u001b[0m\n\u001b[0;32m   2835\u001b[0m         \u001b[1;32mreturn\u001b[0m \u001b[0mself\u001b[0m\u001b[1;33m.\u001b[0m\u001b[0m_new\u001b[0m\u001b[1;33m(\u001b[0m\u001b[0mred\u001b[0m\u001b[1;33m[\u001b[0m\u001b[1;33m:\u001b[0m\u001b[1;33m,\u001b[0m \u001b[0mbig\u001b[0m\u001b[1;33m.\u001b[0m\u001b[0mrows\u001b[0m\u001b[1;33m:\u001b[0m\u001b[1;33m]\u001b[0m\u001b[1;33m)\u001b[0m\u001b[1;33m\u001b[0m\u001b[0m\n",
      "\u001b[1;31mValueError\u001b[0m: Matrix det == 0; not invertible."
     ]
    }
   ],
   "source": [
    "C**-1"
   ]
  },
  {
   "cell_type": "code",
   "execution_count": 7,
   "metadata": {
    "scrolled": true
   },
   "outputs": [
    {
     "data": {
      "text/latex": [
       "$$\\left ( \\left[\\begin{matrix}2 & 6 & -1 & 0\\\\-1 & -3 & 2 & 0\\\\3 & 9 & -1 & 0\\end{matrix}\\right], \\quad \\left ( \\left[\\begin{matrix}1 & 3 & 0 & 0\\\\0 & 0 & 1 & 0\\\\0 & 0 & 0 & 0\\end{matrix}\\right], \\quad \\left ( 0, \\quad 2\\right )\\right )\\right )$$"
      ],
      "text/plain": [
       "⎛⎡2   6   -1  0⎤  ⎛⎡1  3  0  0⎤        ⎞⎞\n",
       "⎜⎢             ⎥  ⎜⎢          ⎥        ⎟⎟\n",
       "⎜⎢-1  -3  2   0⎥, ⎜⎢0  0  1  0⎥, (0, 2)⎟⎟\n",
       "⎜⎢             ⎥  ⎜⎢          ⎥        ⎟⎟\n",
       "⎝⎣3   9   -1  0⎦  ⎝⎣0  0  0  0⎦        ⎠⎠"
      ]
     },
     "execution_count": 7,
     "metadata": {},
     "output_type": "execute_result"
    }
   ],
   "source": [
    "C1 = Matrix([[2,6,-1,0],[-1,-3,2,0],[3,9,-1,0]])\n",
    "R = C1.rref()\n",
    "C1,R"
   ]
  },
  {
   "cell_type": "code",
   "execution_count": 28,
   "metadata": {},
   "outputs": [
    {
     "data": {
      "text/latex": [
       "$$\\left ( \\left[\\begin{matrix}2 & 6 & -1\\\\-1 & -3 & 2\\\\3 & 9 & -1\\end{matrix}\\right], \\quad \\left ( \\left[\\begin{matrix}1 & 3 & 0\\\\0 & 0 & 1\\\\0 & 0 & 0\\end{matrix}\\right], \\quad \\left ( 0, \\quad 2\\right )\\right )\\right )$$"
      ],
      "text/plain": [
       "⎛⎡2   6   -1⎤  ⎛⎡1  3  0⎤        ⎞⎞\n",
       "⎜⎢          ⎥  ⎜⎢       ⎥        ⎟⎟\n",
       "⎜⎢-1  -3  2 ⎥, ⎜⎢0  0  1⎥, (0, 2)⎟⎟\n",
       "⎜⎢          ⎥  ⎜⎢       ⎥        ⎟⎟\n",
       "⎝⎣3   9   -1⎦  ⎝⎣0  0  0⎦        ⎠⎠"
      ]
     },
     "execution_count": 28,
     "metadata": {},
     "output_type": "execute_result"
    }
   ],
   "source": [
    "C2 = Matrix([[2,6,-1],[-1,-3,2],[3,9,-1]])\n",
    "R = C2.rref()\n",
    "C2,R"
   ]
  },
  {
   "cell_type": "code",
   "execution_count": 33,
   "metadata": {},
   "outputs": [
    {
     "data": {
      "text/latex": [
       "$$\\left[\\begin{matrix}-1 & -6 & 0\\\\-1 & -1 & 0\\\\3 & 27 & 0\\end{matrix}\\right]$$"
      ],
      "text/plain": [
       "⎡-1  -6  0⎤\n",
       "⎢         ⎥\n",
       "⎢-1  -1  0⎥\n",
       "⎢         ⎥\n",
       "⎣3   27  0⎦"
      ]
     },
     "execution_count": 33,
     "metadata": {},
     "output_type": "execute_result"
    }
   ],
   "source": [
    "z = Matrix([[-1,-6,0],[-1,-1,0],[3,27,0]])\n",
    "z"
   ]
  },
  {
   "cell_type": "code",
   "execution_count": 34,
   "metadata": {},
   "outputs": [
    {
     "data": {
      "text/latex": [
       "$$\\left[\\begin{matrix}0 & 0 & 0\\\\0 & 0 & 0\\\\0 & 0 & 0\\end{matrix}\\right]$$"
      ],
      "text/plain": [
       "⎡0  0  0⎤\n",
       "⎢       ⎥\n",
       "⎢0  0  0⎥\n",
       "⎢       ⎥\n",
       "⎣0  0  0⎦"
      ]
     },
     "execution_count": 34,
     "metadata": {},
     "output_type": "execute_result"
    }
   ],
   "source": [
    "Z = Matrix([[0,0,0],[0,0,0],[0,0,0]])\n",
    "Z"
   ]
  },
  {
   "cell_type": "code",
   "execution_count": 35,
   "metadata": {},
   "outputs": [
    {
     "data": {
      "text/latex": [
       "$$\\left[\\begin{matrix}4 & 12 & -11\\\\-1 & -3 & -1\\\\-21 & -63 & 51\\end{matrix}\\right]$$"
      ],
      "text/plain": [
       "⎡ 4   12   -11⎤\n",
       "⎢             ⎥\n",
       "⎢-1   -3   -1 ⎥\n",
       "⎢             ⎥\n",
       "⎣-21  -63  51 ⎦"
      ]
     },
     "execution_count": 35,
     "metadata": {},
     "output_type": "execute_result"
    }
   ],
   "source": [
    "z*C"
   ]
  },
  {
   "cell_type": "code",
   "execution_count": 36,
   "metadata": {},
   "outputs": [
    {
     "data": {
      "text/latex": [
       "$$\\left[\\begin{matrix}-11 & -45 & 0\\\\10 & 63 & 0\\\\-15 & -54 & 0\\end{matrix}\\right]$$"
      ],
      "text/plain": [
       "⎡-11  -45  0⎤\n",
       "⎢           ⎥\n",
       "⎢10   63   0⎥\n",
       "⎢           ⎥\n",
       "⎣-15  -54  0⎦"
      ]
     },
     "execution_count": 36,
     "metadata": {},
     "output_type": "execute_result"
    }
   ],
   "source": [
    "C*z"
   ]
  },
  {
   "cell_type": "code",
   "execution_count": 16,
   "metadata": {},
   "outputs": [
    {
     "data": {
      "text/latex": [
       "$$\\left[\\begin{matrix}0 & 0 & 0\\\\0 & 0 & 0\\\\0 & 0 & 0\\end{matrix}\\right]$$"
      ],
      "text/plain": [
       "⎡0  0  0⎤\n",
       "⎢       ⎥\n",
       "⎢0  0  0⎥\n",
       "⎢       ⎥\n",
       "⎣0  0  0⎦"
      ]
     },
     "execution_count": 16,
     "metadata": {},
     "output_type": "execute_result"
    }
   ],
   "source": [
    "Z*C"
   ]
  },
  {
   "cell_type": "code",
   "execution_count": 31,
   "metadata": {},
   "outputs": [
    {
     "data": {
      "text/latex": [
       "$$\\left ( \\left[\\begin{matrix}-1 & -3\\\\-1 & -4\\end{matrix}\\right], \\quad \\left[\\begin{matrix}-4 & 3\\\\1 & -1\\end{matrix}\\right]\\right )$$"
      ],
      "text/plain": [
       "⎛⎡-1  -3⎤  ⎡-4  3 ⎤⎞\n",
       "⎜⎢      ⎥, ⎢      ⎥⎟\n",
       "⎝⎣-1  -4⎦  ⎣1   -1⎦⎠"
      ]
     },
     "execution_count": 31,
     "metadata": {},
     "output_type": "execute_result"
    }
   ],
   "source": [
    "D = Matrix([[-1,-3],[-1,-4]])\n",
    "D,D**-1"
   ]
  },
  {
   "cell_type": "code",
   "execution_count": 20,
   "metadata": {},
   "outputs": [
    {
     "data": {
      "text/latex": [
       "$$\\left[\\begin{matrix}1 & 0\\\\0 & 1\\end{matrix}\\right]$$"
      ],
      "text/plain": [
       "⎡1  0⎤\n",
       "⎢    ⎥\n",
       "⎣0  1⎦"
      ]
     },
     "execution_count": 20,
     "metadata": {},
     "output_type": "execute_result"
    }
   ],
   "source": [
    "D1 = Matrix([[1,0],[0,1]])\n",
    "D1"
   ]
  },
  {
   "cell_type": "code",
   "execution_count": 30,
   "metadata": {},
   "outputs": [
    {
     "data": {
      "text/latex": [
       "$$\\left[\\begin{matrix}-1 & -3\\\\-1 & -4\\end{matrix}\\right]$$"
      ],
      "text/plain": [
       "⎡-1  -3⎤\n",
       "⎢      ⎥\n",
       "⎣-1  -4⎦"
      ]
     },
     "execution_count": 30,
     "metadata": {},
     "output_type": "execute_result"
    }
   ],
   "source": [
    "D*D1"
   ]
  },
  {
   "cell_type": "code",
   "execution_count": 3,
   "metadata": {},
   "outputs": [
    {
     "data": {
      "text/latex": [
       "$$\\left[\\begin{matrix}-3 & 1 & -3\\\\1 & 3 & 3\\\\0 & -3 & -2\\end{matrix}\\right]$$"
      ],
      "text/plain": [
       "⎡-3  1   -3⎤\n",
       "⎢          ⎥\n",
       "⎢1   3   3 ⎥\n",
       "⎢          ⎥\n",
       "⎣0   -3  -2⎦"
      ]
     },
     "execution_count": 3,
     "metadata": {},
     "output_type": "execute_result"
    }
   ],
   "source": [
    "E = Matrix([[-3,1,-3],[1,3,3],[0,-3,-2]])\n",
    "E"
   ]
  },
  {
   "cell_type": "code",
   "execution_count": 4,
   "metadata": {},
   "outputs": [
    {
     "data": {
      "text/latex": [
       "$$\\left[\\begin{matrix}\\frac{3}{2} & \\frac{11}{2} & 6\\\\1 & 3 & 3\\\\- \\frac{3}{2} & - \\frac{9}{2} & -5\\end{matrix}\\right]$$"
      ],
      "text/plain": [
       "⎡3/2   11/2  6 ⎤\n",
       "⎢              ⎥\n",
       "⎢ 1     3    3 ⎥\n",
       "⎢              ⎥\n",
       "⎣-3/2  -9/2  -5⎦"
      ]
     },
     "execution_count": 4,
     "metadata": {},
     "output_type": "execute_result"
    }
   ],
   "source": [
    "E**-1"
   ]
  },
  {
   "cell_type": "code",
   "execution_count": 5,
   "metadata": {},
   "outputs": [
    {
     "data": {
      "text/latex": [
       "$$10$$"
      ],
      "text/plain": [
       "10"
      ]
     },
     "execution_count": 5,
     "metadata": {},
     "output_type": "execute_result"
    }
   ],
   "source": [
    "1--9"
   ]
  },
  {
   "cell_type": "code",
   "execution_count": 6,
   "metadata": {},
   "outputs": [
    {
     "data": {
      "text/latex": [
       "$$6$$"
      ],
      "text/plain": [
       "6"
      ]
     },
     "execution_count": 6,
     "metadata": {},
     "output_type": "execute_result"
    }
   ],
   "source": [
    "-3--9"
   ]
  },
  {
   "cell_type": "code",
   "execution_count": 7,
   "metadata": {},
   "outputs": [
    {
     "data": {
      "text/latex": [
       "$$- \\frac{9}{5}$$"
      ],
      "text/plain": [
       "-9/5"
      ]
     },
     "execution_count": 7,
     "metadata": {},
     "output_type": "execute_result"
    }
   ],
   "source": [
    "Rational(6,10)*Rational(-3,1)"
   ]
  },
  {
   "cell_type": "code",
   "execution_count": 8,
   "metadata": {},
   "outputs": [
    {
     "data": {
      "text/latex": [
       "$$- \\frac{1}{5}$$"
      ],
      "text/plain": [
       "-1/5"
      ]
     },
     "execution_count": 8,
     "metadata": {},
     "output_type": "execute_result"
    }
   ],
   "source": [
    "-2 - Out[7]"
   ]
  },
  {
   "cell_type": "code",
   "execution_count": 13,
   "metadata": {},
   "outputs": [
    {
     "data": {
      "text/latex": [
       "$$\\left[\\begin{matrix}1 & 0 & -3 & -2\\\\-1 & -1 & -1 & -2\\\\1 & 1 & 2 & 0\\\\2 & 1 & -2 & -1\\end{matrix}\\right]$$"
      ],
      "text/plain": [
       "⎡1   0   -3  -2⎤\n",
       "⎢              ⎥\n",
       "⎢-1  -1  -1  -2⎥\n",
       "⎢              ⎥\n",
       "⎢1   1   2   0 ⎥\n",
       "⎢              ⎥\n",
       "⎣2   1   -2  -1⎦"
      ]
     },
     "execution_count": 13,
     "metadata": {},
     "output_type": "execute_result"
    }
   ],
   "source": [
    "F = Matrix([[1,0,-3,-2],[-1,-1,-1,-2],[1,1,2,0],[2,1,-2,-1]])\n",
    "F"
   ]
  },
  {
   "cell_type": "code",
   "execution_count": 14,
   "metadata": {
    "scrolled": true
   },
   "outputs": [
    {
     "data": {
      "text/latex": [
       "$$\\left[\\begin{matrix}9 & -5 & 3 & -8\\\\-13 & 7 & -4 & 12\\\\2 & -1 & 1 & -2\\\\1 & -1 & 0 & -1\\end{matrix}\\right]$$"
      ],
      "text/plain": [
       "⎡ 9   -5  3   -8⎤\n",
       "⎢               ⎥\n",
       "⎢-13  7   -4  12⎥\n",
       "⎢               ⎥\n",
       "⎢ 2   -1  1   -2⎥\n",
       "⎢               ⎥\n",
       "⎣ 1   -1  0   -1⎦"
      ]
     },
     "execution_count": 14,
     "metadata": {},
     "output_type": "execute_result"
    }
   ],
   "source": [
    "F**-1"
   ]
  },
  {
   "cell_type": "markdown",
   "metadata": {},
   "source": [
    "$\\textbf{How to invert a matrix:}$ Augment the given matrix with an $n x n$ identity matrix. "
   ]
  },
  {
   "cell_type": "markdown",
   "metadata": {},
   "source": [
    "$\\underline{Example:}$\n",
    "$$ A = \\begin{bmatrix} -1 & -3 \\\\ -1 & -4 \\end{bmatrix}$$"
   ]
  },
  {
   "cell_type": "markdown",
   "metadata": {},
   "source": [
    "$$A^{-1} = \\left[\\begin{array}{cc|cc} -1 & -3 & 1 & 0 \\\\ -1 & -4 & 0 & 1 \\end{array}\\right]$$"
   ]
  },
  {
   "cell_type": "markdown",
   "metadata": {},
   "source": [
    "$$A^{-1} = \\left[\\begin{array}{cc|cc} 1 & 0 & -4 & 3\\\\ 0 & 1 & 1 & -1 \\end{array}\\right]$$ "
   ]
  },
  {
   "cell_type": "markdown",
   "metadata": {},
   "source": [
    "$$\\therefore A^{-1} = \\begin{bmatrix} -4 & 3 \\\\ 1 & -1 \\end{bmatrix}$$"
   ]
  },
  {
   "cell_type": "code",
   "execution_count": 3,
   "metadata": {},
   "outputs": [
    {
     "data": {
      "text/latex": [
       "$$\\left[\\begin{matrix}2 & 6 & -1 & 0 & 0 & 0\\\\-1 & -3 & 2 & 0 & 0 & 0\\\\3 & 9 & 1 & 0 & 0 & 0\\end{matrix}\\right]$$"
      ],
      "text/plain": [
       "⎡2   6   -1  0  0  0⎤\n",
       "⎢                   ⎥\n",
       "⎢-1  -3  2   0  0  0⎥\n",
       "⎢                   ⎥\n",
       "⎣3   9   1   0  0  0⎦"
      ]
     },
     "execution_count": 3,
     "metadata": {},
     "output_type": "execute_result"
    }
   ],
   "source": [
    "G = Matrix([[2,6,-1,0,0,0],[-1,-3,2,0,0,0],[3,9,1,0,0,0]])\n",
    "G"
   ]
  },
  {
   "cell_type": "code",
   "execution_count": 4,
   "metadata": {},
   "outputs": [
    {
     "data": {
      "text/latex": [
       "$$\\left[\\begin{matrix}-1 & -3 & 2 & 0 & 0 & 0\\\\2 & 6 & -1 & 0 & 0 & 0\\\\3 & 9 & 1 & 0 & 0 & 0\\end{matrix}\\right]$$"
      ],
      "text/plain": [
       "⎡-1  -3  2   0  0  0⎤\n",
       "⎢                   ⎥\n",
       "⎢2   6   -1  0  0  0⎥\n",
       "⎢                   ⎥\n",
       "⎣3   9   1   0  0  0⎦"
      ]
     },
     "execution_count": 4,
     "metadata": {},
     "output_type": "execute_result"
    }
   ],
   "source": [
    "G.row_swap(0,1)\n",
    "G"
   ]
  },
  {
   "cell_type": "code",
   "execution_count": 7,
   "metadata": {},
   "outputs": [
    {
     "data": {
      "text/latex": [
       "$$\\left[\\begin{matrix}1 & 3 & -2 & 0 & 0 & 0\\\\2 & 6 & -1 & 0 & 0 & 0\\\\3 & 9 & 1 & 0 & 0 & 0\\end{matrix}\\right]$$"
      ],
      "text/plain": [
       "⎡1  3  -2  0  0  0⎤\n",
       "⎢                 ⎥\n",
       "⎢2  6  -1  0  0  0⎥\n",
       "⎢                 ⎥\n",
       "⎣3  9  1   0  0  0⎦"
      ]
     },
     "execution_count": 7,
     "metadata": {},
     "output_type": "execute_result"
    }
   ],
   "source": [
    "G[0,:] = G[0,:]*-1\n",
    "G"
   ]
  },
  {
   "cell_type": "code",
   "execution_count": 8,
   "metadata": {},
   "outputs": [
    {
     "data": {
      "text/latex": [
       "$$\\left[\\begin{matrix}1 & 3 & -2 & 0 & 0 & 0\\\\0 & 0 & 3 & 0 & 0 & 0\\\\3 & 9 & 1 & 0 & 0 & 0\\end{matrix}\\right]$$"
      ],
      "text/plain": [
       "⎡1  3  -2  0  0  0⎤\n",
       "⎢                 ⎥\n",
       "⎢0  0  3   0  0  0⎥\n",
       "⎢                 ⎥\n",
       "⎣3  9  1   0  0  0⎦"
      ]
     },
     "execution_count": 8,
     "metadata": {},
     "output_type": "execute_result"
    }
   ],
   "source": [
    "G[1,:] = G[1,:] - 2*G[0,:]\n",
    "G"
   ]
  },
  {
   "cell_type": "code",
   "execution_count": 9,
   "metadata": {},
   "outputs": [
    {
     "data": {
      "text/latex": [
       "$$\\left[\\begin{matrix}1 & 3 & -2 & 0 & 0 & 0\\\\0 & 0 & 3 & 0 & 0 & 0\\\\0 & 0 & 7 & 0 & 0 & 0\\end{matrix}\\right]$$"
      ],
      "text/plain": [
       "⎡1  3  -2  0  0  0⎤\n",
       "⎢                 ⎥\n",
       "⎢0  0  3   0  0  0⎥\n",
       "⎢                 ⎥\n",
       "⎣0  0  7   0  0  0⎦"
      ]
     },
     "execution_count": 9,
     "metadata": {},
     "output_type": "execute_result"
    }
   ],
   "source": [
    "G[2,:] = G[2,:] - 3*G[0,:]\n",
    "G"
   ]
  },
  {
   "cell_type": "code",
   "execution_count": 10,
   "metadata": {},
   "outputs": [
    {
     "data": {
      "text/latex": [
       "$$\\left ( \\left[\\begin{matrix}2 & 6 & -1\\\\-1 & -3 & 2\\\\3 & 9 & 1\\end{matrix}\\right], \\quad \\left ( \\left[\\begin{matrix}1 & 3 & 0\\\\0 & 0 & 1\\\\0 & 0 & 0\\end{matrix}\\right], \\quad \\left ( 0, \\quad 2\\right )\\right )\\right )$$"
      ],
      "text/plain": [
       "⎛⎡2   6   -1⎤  ⎛⎡1  3  0⎤        ⎞⎞\n",
       "⎜⎢          ⎥  ⎜⎢       ⎥        ⎟⎟\n",
       "⎜⎢-1  -3  2 ⎥, ⎜⎢0  0  1⎥, (0, 2)⎟⎟\n",
       "⎜⎢          ⎥  ⎜⎢       ⎥        ⎟⎟\n",
       "⎝⎣3   9   1 ⎦  ⎝⎣0  0  0⎦        ⎠⎠"
      ]
     },
     "execution_count": 10,
     "metadata": {},
     "output_type": "execute_result"
    }
   ],
   "source": [
    "G = Matrix([[2,6,-1,],[-1,-3,2,],[3,9,1,]])\n",
    "R = G.rref()\n",
    "G,R"
   ]
  },
  {
   "cell_type": "code",
   "execution_count": 21,
   "metadata": {},
   "outputs": [
    {
     "data": {
      "text/latex": [
       "$$\\left ( \\left[\\begin{matrix}-1 & 1 & -1\\\\0 & -3 & 0\\\\5 & -2 & 4\\end{matrix}\\right], \\quad \\left[\\begin{matrix}1 & 5 & 5\\\\-4 & 1 & 5\\\\-2 & 3 & -4\\end{matrix}\\right]\\right )$$"
      ],
      "text/plain": [
       "⎛⎡-1  1   -1⎤  ⎡1   5  5 ⎤⎞\n",
       "⎜⎢          ⎥  ⎢         ⎥⎟\n",
       "⎜⎢0   -3  0 ⎥, ⎢-4  1  5 ⎥⎟\n",
       "⎜⎢          ⎥  ⎢         ⎥⎟\n",
       "⎝⎣5   -2  4 ⎦  ⎣-2  3  -4⎦⎠"
      ]
     },
     "execution_count": 21,
     "metadata": {},
     "output_type": "execute_result"
    }
   ],
   "source": [
    "A = Matrix([[-1,1,-1],[0,-3,0],[5,-2,4]])\n",
    "D = Matrix([[1,5,5],[-4,1,5],[-2,3,-4]])\n",
    "A,D"
   ]
  },
  {
   "cell_type": "code",
   "execution_count": 22,
   "metadata": {},
   "outputs": [
    {
     "data": {
      "text/latex": [
       "$$\\left[\\begin{matrix}4 & \\frac{2}{3} & 1\\\\0 & - \\frac{1}{3} & 0\\\\-5 & -1 & -1\\end{matrix}\\right]$$"
      ],
      "text/plain": [
       "⎡4   2/3   1 ⎤\n",
       "⎢            ⎥\n",
       "⎢0   -1/3  0 ⎥\n",
       "⎢            ⎥\n",
       "⎣-5   -1   -1⎦"
      ]
     },
     "execution_count": 22,
     "metadata": {},
     "output_type": "execute_result"
    }
   ],
   "source": [
    "#A = A.inv()\n",
    "#A\n",
    "A**-1"
   ]
  },
  {
   "cell_type": "code",
   "execution_count": 24,
   "metadata": {},
   "outputs": [
    {
     "data": {
      "text/latex": [
       "$$\\left[\\begin{matrix}-21 & -6 & -4\\\\-41 & -8 & -9\\\\12 & \\frac{5}{3} & 2\\end{matrix}\\right]$$"
      ],
      "text/plain": [
       "⎡-21  -6   -4⎤\n",
       "⎢            ⎥\n",
       "⎢-41  -8   -9⎥\n",
       "⎢            ⎥\n",
       "⎣12   5/3  2 ⎦"
      ]
     },
     "execution_count": 24,
     "metadata": {},
     "output_type": "execute_result"
    }
   ],
   "source": [
    "D*Out[22]"
   ]
  },
  {
   "cell_type": "code",
   "execution_count": 27,
   "metadata": {},
   "outputs": [
    {
     "data": {
      "text/latex": [
       "$$\\left[\\begin{matrix}1 & 5 & 5\\\\-4 & 1 & 5\\\\-2 & 3 & -4\\end{matrix}\\right]$$"
      ],
      "text/plain": [
       "⎡1   5  5 ⎤\n",
       "⎢         ⎥\n",
       "⎢-4  1  5 ⎥\n",
       "⎢         ⎥\n",
       "⎣-2  3  -4⎦"
      ]
     },
     "execution_count": 27,
     "metadata": {},
     "output_type": "execute_result"
    }
   ],
   "source": [
    "A*Out[22]"
   ]
  },
  {
   "cell_type": "code",
   "execution_count": 19,
   "metadata": {},
   "outputs": [
    {
     "data": {
      "text/latex": [
       "$$\\left[\\begin{matrix}-3 & -7 & 4\\\\12 & -3 & -15\\\\5 & 35 & -1\\end{matrix}\\right]$$"
      ],
      "text/plain": [
       "⎡-3  -7   4 ⎤\n",
       "⎢           ⎥\n",
       "⎢12  -3  -15⎥\n",
       "⎢           ⎥\n",
       "⎣5   35  -1 ⎦"
      ]
     },
     "execution_count": 19,
     "metadata": {},
     "output_type": "execute_result"
    }
   ],
   "source": [
    "H*I"
   ]
  },
  {
   "cell_type": "code",
   "execution_count": 20,
   "metadata": {},
   "outputs": [
    {
     "data": {
      "text/latex": [
       "$$\\left[\\begin{matrix}10 & -31 & -18\\\\-36 & 9 & 45\\\\-19 & 111 & 46\\end{matrix}\\right]$$"
      ],
      "text/plain": [
       "⎡10   -31  -18⎤\n",
       "⎢             ⎥\n",
       "⎢-36   9   45 ⎥\n",
       "⎢             ⎥\n",
       "⎣-19  111  46 ⎦"
      ]
     },
     "execution_count": 20,
     "metadata": {},
     "output_type": "execute_result"
    }
   ],
   "source": [
    "H*Out[19]"
   ]
  },
  {
   "cell_type": "code",
   "execution_count": 16,
   "metadata": {},
   "outputs": [
    {
     "data": {
      "text/latex": [
       "$$\\left[\\begin{matrix}\\frac{19}{199} & - \\frac{35}{199} & - \\frac{20}{199}\\\\\\frac{26}{199} & - \\frac{6}{199} & \\frac{25}{199}\\\\\\frac{10}{199} & \\frac{13}{199} & - \\frac{21}{199}\\end{matrix}\\right]$$"
      ],
      "text/plain": [
       "⎡ 19   -35    -20 ⎤\n",
       "⎢───   ────   ────⎥\n",
       "⎢199   199    199 ⎥\n",
       "⎢                 ⎥\n",
       "⎢ 26           25 ⎥\n",
       "⎢───  -6/199  ─── ⎥\n",
       "⎢199          199 ⎥\n",
       "⎢                 ⎥\n",
       "⎢ 10    13    -21 ⎥\n",
       "⎢───   ───    ────⎥\n",
       "⎣199   199    199 ⎦"
      ]
     },
     "execution_count": 16,
     "metadata": {},
     "output_type": "execute_result"
    }
   ],
   "source": [
    "I**-1"
   ]
  },
  {
   "cell_type": "code",
   "execution_count": 15,
   "metadata": {},
   "outputs": [
    {
     "data": {
      "text/latex": [
       "$$\\left[\\begin{matrix}10 & -31 & -18\\\\-36 & 9 & 45\\\\-19 & 111 & 46\\end{matrix}\\right]$$"
      ],
      "text/plain": [
       "⎡10   -31  -18⎤\n",
       "⎢             ⎥\n",
       "⎢-36   9   45 ⎥\n",
       "⎢             ⎥\n",
       "⎣-19  111  46 ⎦"
      ]
     },
     "execution_count": 15,
     "metadata": {},
     "output_type": "execute_result"
    }
   ],
   "source": [
    "H*Out[14]"
   ]
  },
  {
   "cell_type": "code",
   "execution_count": 17,
   "metadata": {},
   "outputs": [
    {
     "data": {
      "text/latex": [
       "$$\\left[\\begin{matrix}- \\frac{3}{199} & \\frac{16}{199} & \\frac{66}{199}\\\\- \\frac{78}{199} & \\frac{18}{199} & - \\frac{75}{199}\\\\\\frac{83}{199} & - \\frac{111}{199} & - \\frac{234}{199}\\end{matrix}\\right]$$"
      ],
      "text/plain": [
       "⎡          16     66 ⎤\n",
       "⎢-3/199   ───    ─── ⎥\n",
       "⎢         199    199 ⎥\n",
       "⎢                    ⎥\n",
       "⎢ -78      18   -75  ⎥\n",
       "⎢ ────    ───   ──── ⎥\n",
       "⎢ 199     199   199  ⎥\n",
       "⎢                    ⎥\n",
       "⎢  83    -111   -234 ⎥\n",
       "⎢ ───    ─────  ─────⎥\n",
       "⎣ 199     199    199 ⎦"
      ]
     },
     "execution_count": 17,
     "metadata": {},
     "output_type": "execute_result"
    }
   ],
   "source": []
  },
  {
   "cell_type": "code",
   "execution_count": 18,
   "metadata": {},
   "outputs": [
    {
     "data": {
      "text/latex": [
       "$$\\left[\\begin{matrix}-21 & -6 & -4\\\\-41 & -8 & -9\\\\12 & \\frac{5}{3} & 2\\end{matrix}\\right]$$"
      ],
      "text/plain": [
       "⎡-21  -6   -4⎤\n",
       "⎢            ⎥\n",
       "⎢-41  -8   -9⎥\n",
       "⎢            ⎥\n",
       "⎣12   5/3  2 ⎦"
      ]
     },
     "execution_count": 18,
     "metadata": {},
     "output_type": "execute_result"
    }
   ],
   "source": [
    "Out[17]**-1"
   ]
  },
  {
   "cell_type": "code",
   "execution_count": 28,
   "metadata": {},
   "outputs": [
    {
     "data": {
      "text/latex": [
       "$$\\left[\\begin{matrix}\\frac{19}{199} & - \\frac{35}{199} & - \\frac{20}{199}\\\\\\frac{26}{199} & - \\frac{6}{199} & \\frac{25}{199}\\\\\\frac{10}{199} & \\frac{13}{199} & - \\frac{21}{199}\\end{matrix}\\right]$$"
      ],
      "text/plain": [
       "⎡ 19   -35    -20 ⎤\n",
       "⎢───   ────   ────⎥\n",
       "⎢199   199    199 ⎥\n",
       "⎢                 ⎥\n",
       "⎢ 26           25 ⎥\n",
       "⎢───  -6/199  ─── ⎥\n",
       "⎢199          199 ⎥\n",
       "⎢                 ⎥\n",
       "⎢ 10    13    -21 ⎥\n",
       "⎢───   ───    ────⎥\n",
       "⎣199   199    199 ⎦"
      ]
     },
     "execution_count": 28,
     "metadata": {},
     "output_type": "execute_result"
    }
   ],
   "source": [
    "D**-1"
   ]
  },
  {
   "cell_type": "code",
   "execution_count": 30,
   "metadata": {},
   "outputs": [
    {
     "data": {
      "text/latex": [
       "$$\\left[\\begin{matrix}- \\frac{119}{199} & \\frac{164}{199} & - \\frac{99}{199}\\\\\\frac{99}{199} & - \\frac{6}{199} & \\frac{74}{199}\\\\- \\frac{115}{199} & \\frac{13}{199} & - \\frac{94}{199}\\end{matrix}\\right]$$"
      ],
      "text/plain": [
       "⎡-119    164    -99 ⎤\n",
       "⎢─────   ───    ────⎥\n",
       "⎢ 199    199    199 ⎥\n",
       "⎢                   ⎥\n",
       "⎢  99            74 ⎥\n",
       "⎢ ───   -6/199  ─── ⎥\n",
       "⎢ 199           199 ⎥\n",
       "⎢                   ⎥\n",
       "⎢-115     13    -94 ⎥\n",
       "⎢─────   ───    ────⎥\n",
       "⎣ 199    199    199 ⎦"
      ]
     },
     "execution_count": 30,
     "metadata": {},
     "output_type": "execute_result"
    }
   ],
   "source": [
    "Out[28]*A"
   ]
  },
  {
   "cell_type": "code",
   "execution_count": 31,
   "metadata": {
    "scrolled": true
   },
   "outputs": [
    {
     "data": {
      "text/latex": [
       "$$\\left[\\begin{matrix}- \\frac{2}{3} & \\frac{71}{3} & \\frac{58}{3}\\\\\\frac{4}{3} & - \\frac{1}{3} & - \\frac{5}{3}\\\\1 & -29 & -26\\end{matrix}\\right]$$"
      ],
      "text/plain": [
       "⎡-2/3  71/3  58/3⎤\n",
       "⎢                ⎥\n",
       "⎢4/3   -1/3  -5/3⎥\n",
       "⎢                ⎥\n",
       "⎣ 1    -29   -26 ⎦"
      ]
     },
     "execution_count": 31,
     "metadata": {},
     "output_type": "execute_result"
    }
   ],
   "source": [
    "Out[30]**-1"
   ]
  },
  {
   "cell_type": "code",
   "execution_count": 3,
   "metadata": {},
   "outputs": [
    {
     "data": {
      "text/latex": [
       "$$-11$$"
      ],
      "text/plain": [
       "-11"
      ]
     },
     "execution_count": 3,
     "metadata": {},
     "output_type": "execute_result"
    }
   ],
   "source": [
    "1-12"
   ]
  },
  {
   "cell_type": "code",
   "execution_count": 19,
   "metadata": {},
   "outputs": [
    {
     "data": {
      "text/latex": [
       "$$\\left[\\begin{matrix}0 & 1 & 0 & 1 & 0\\\\1 & 0 & 1 & 0 & 1\\\\1 & 0 & 0 & 1 & 1\\\\0 & 0 & 1 & 0 & 1\\\\1 & 0 & 0 & 1 & 0\\end{matrix}\\right]$$"
      ],
      "text/plain": [
       "⎡0  1  0  1  0⎤\n",
       "⎢             ⎥\n",
       "⎢1  0  1  0  1⎥\n",
       "⎢             ⎥\n",
       "⎢1  0  0  1  1⎥\n",
       "⎢             ⎥\n",
       "⎢0  0  1  0  1⎥\n",
       "⎢             ⎥\n",
       "⎣1  0  0  1  0⎦"
      ]
     },
     "execution_count": 19,
     "metadata": {},
     "output_type": "execute_result"
    }
   ],
   "source": [
    "E = Matrix([[0,1,0,1,0],[1,0,1,0,1],[1,0,0,1,1],[0,0,1,0,1],[1,0,0,1,0]])\n",
    "E"
   ]
  },
  {
   "cell_type": "code",
   "execution_count": 20,
   "metadata": {},
   "outputs": [
    {
     "data": {
      "text/latex": [
       "$$\\left[\\begin{matrix}1 & 0 & 2 & 0 & 2\\\\2 & 1 & 0 & 3 & 1\\\\1 & 1 & 1 & 2 & 1\\\\2 & 0 & 0 & 2 & 1\\\\0 & 1 & 1 & 1 & 1\\end{matrix}\\right]$$"
      ],
      "text/plain": [
       "⎡1  0  2  0  2⎤\n",
       "⎢             ⎥\n",
       "⎢2  1  0  3  1⎥\n",
       "⎢             ⎥\n",
       "⎢1  1  1  2  1⎥\n",
       "⎢             ⎥\n",
       "⎢2  0  0  2  1⎥\n",
       "⎢             ⎥\n",
       "⎣0  1  1  1  1⎦"
      ]
     },
     "execution_count": 20,
     "metadata": {},
     "output_type": "execute_result"
    }
   ],
   "source": [
    "E**2 #calculates the number of paths at length 2 which starts at the node j and end at the node i (jth column, ith row)"
   ]
  },
  {
   "cell_type": "code",
   "execution_count": 21,
   "metadata": {},
   "outputs": [
    {
     "data": {
      "text/latex": [
       "$$\\left[\\begin{matrix}16 & 3 & 10 & 15 & 16\\\\16 & 10 & 12 & 24 & 17\\\\14 & 8 & 13 & 19 & 17\\\\13 & 6 & 6 & 18 & 11\\\\9 & 5 & 11 & 11 & 13\\end{matrix}\\right]$$"
      ],
      "text/plain": [
       "⎡16  3   10  15  16⎤\n",
       "⎢                  ⎥\n",
       "⎢16  10  12  24  17⎥\n",
       "⎢                  ⎥\n",
       "⎢14  8   13  19  17⎥\n",
       "⎢                  ⎥\n",
       "⎢13  6   6   18  11⎥\n",
       "⎢                  ⎥\n",
       "⎣9   5   11  11  13⎦"
      ]
     },
     "execution_count": 21,
     "metadata": {},
     "output_type": "execute_result"
    }
   ],
   "source": [
    "E**5"
   ]
  },
  {
   "cell_type": "code",
   "execution_count": 11,
   "metadata": {},
   "outputs": [
    {
     "data": {
      "text/latex": [
       "$$\\left[\\begin{matrix}0 & 1 & 1 & 0 & 1 & 1\\\\1 & 0 & 1 & 0 & 1 & 1\\\\1 & 0 & 0 & 0 & 0 & 0\\\\1 & 0 & 1 & 0 & 0 & 0\\\\1 & 0 & 0 & 1 & 0 & 0\\\\1 & 0 & 0 & 1 & 0 & 0\\end{matrix}\\right]$$"
      ],
      "text/plain": [
       "⎡0  1  1  0  1  1⎤\n",
       "⎢                ⎥\n",
       "⎢1  0  1  0  1  1⎥\n",
       "⎢                ⎥\n",
       "⎢1  0  0  0  0  0⎥\n",
       "⎢                ⎥\n",
       "⎢1  0  1  0  0  0⎥\n",
       "⎢                ⎥\n",
       "⎢1  0  0  1  0  0⎥\n",
       "⎢                ⎥\n",
       "⎣1  0  0  1  0  0⎦"
      ]
     },
     "execution_count": 11,
     "metadata": {},
     "output_type": "execute_result"
    }
   ],
   "source": [
    "F = Matrix([[0,1,1,0,1,1],[1,0,1,0,1,1],[1,0,0,0,0,0],[1,0,1,0,0,0],[1,0,0,1,0,0],[1,0,0,1,0,0]])\n",
    "F"
   ]
  },
  {
   "cell_type": "code",
   "execution_count": 12,
   "metadata": {},
   "outputs": [
    {
     "data": {
      "text/latex": [
       "$$\\left[\\begin{matrix}0 & 1 & 0 & 0 & 1 & 1\\\\1 & 0 & 0 & 0 & 1 & 1\\\\0 & 0 & 0 & 0 & 0 & 0\\\\1 & 0 & 0 & 0 & 0 & 0\\\\1 & 0 & 0 & 1 & 0 & 0\\\\1 & 0 & 0 & 1 & 0 & 0\\end{matrix}\\right]$$"
      ],
      "text/plain": [
       "⎡0  1  0  0  1  1⎤\n",
       "⎢                ⎥\n",
       "⎢1  0  0  0  1  1⎥\n",
       "⎢                ⎥\n",
       "⎢0  0  0  0  0  0⎥\n",
       "⎢                ⎥\n",
       "⎢1  0  0  0  0  0⎥\n",
       "⎢                ⎥\n",
       "⎢1  0  0  1  0  0⎥\n",
       "⎢                ⎥\n",
       "⎣1  0  0  1  0  0⎦"
      ]
     },
     "execution_count": 12,
     "metadata": {},
     "output_type": "execute_result"
    }
   ],
   "source": [
    "Fm3 = Matrix([[0,1,0,0,1,1],[1,0,0,0,1,1],[0,0,0,0,0,0],[1,0,0,0,0,0],[1,0,0,1,0,0],[1,0,0,1,0,0]])\n",
    "Fm3"
   ]
  },
  {
   "cell_type": "code",
   "execution_count": 18,
   "metadata": {},
   "outputs": [
    {
     "data": {
      "text/latex": [
       "$$\\left[\\begin{matrix}1455 & 640 & 0 & 814 & 923 & 923\\\\1454 & 641 & 0 & 814 & 923 & 923\\\\0 & 0 & 0 & 0 & 0 & 0\\\\640 & 283 & 0 & 358 & 407 & 407\\\\923 & 407 & 0 & 516 & 586 & 586\\\\923 & 407 & 0 & 516 & 586 & 586\\end{matrix}\\right]$$"
      ],
      "text/plain": [
       "⎡1455  640  0  814  923  923⎤\n",
       "⎢                           ⎥\n",
       "⎢1454  641  0  814  923  923⎥\n",
       "⎢                           ⎥\n",
       "⎢ 0     0   0   0    0    0 ⎥\n",
       "⎢                           ⎥\n",
       "⎢640   283  0  358  407  407⎥\n",
       "⎢                           ⎥\n",
       "⎢923   407  0  516  586  586⎥\n",
       "⎢                           ⎥\n",
       "⎣923   407  0  516  586  586⎦"
      ]
     },
     "execution_count": 18,
     "metadata": {},
     "output_type": "execute_result"
    }
   ],
   "source": [
    "Aey = Fm3**10 #total number of paths with 10 edges without passing 3. \n",
    "Aey"
   ]
  },
  {
   "cell_type": "code",
   "execution_count": 19,
   "metadata": {},
   "outputs": [
    {
     "data": {
      "text/latex": [
       "$$\\left[\\begin{matrix}5184 & 1997 & 3615 & 2160 & 2781 & 2781\\\\5183 & 1998 & 3615 & 2160 & 2781 & 2781\\\\1997 & 784 & 1406 & 834 & 1080 & 1080\\\\2781 & 1080 & 1947 & 1160 & 1497 & 1497\\\\3077 & 1201 & 2160 & 1284 & 1660 & 1660\\\\3077 & 1201 & 2160 & 1284 & 1660 & 1660\\end{matrix}\\right]$$"
      ],
      "text/plain": [
       "⎡5184  1997  3615  2160  2781  2781⎤\n",
       "⎢                                  ⎥\n",
       "⎢5183  1998  3615  2160  2781  2781⎥\n",
       "⎢                                  ⎥\n",
       "⎢1997  784   1406  834   1080  1080⎥\n",
       "⎢                                  ⎥\n",
       "⎢2781  1080  1947  1160  1497  1497⎥\n",
       "⎢                                  ⎥\n",
       "⎢3077  1201  2160  1284  1660  1660⎥\n",
       "⎢                                  ⎥\n",
       "⎣3077  1201  2160  1284  1660  1660⎦"
      ]
     },
     "execution_count": 19,
     "metadata": {},
     "output_type": "execute_result"
    }
   ],
   "source": [
    "Bee = F**10 #total number of paths with 10 edges\n",
    "Bee"
   ]
  },
  {
   "cell_type": "code",
   "execution_count": 20,
   "metadata": {},
   "outputs": [
    {
     "data": {
      "text/latex": [
       "$$\\left[\\begin{matrix}3729 & 1357 & 3615 & 1346 & 1858 & 1858\\\\3729 & 1357 & 3615 & 1346 & 1858 & 1858\\\\1997 & 784 & 1406 & 834 & 1080 & 1080\\\\2141 & 797 & 1947 & 802 & 1090 & 1090\\\\2154 & 794 & 2160 & 768 & 1074 & 1074\\\\2154 & 794 & 2160 & 768 & 1074 & 1074\\end{matrix}\\right]$$"
      ],
      "text/plain": [
       "⎡3729  1357  3615  1346  1858  1858⎤\n",
       "⎢                                  ⎥\n",
       "⎢3729  1357  3615  1346  1858  1858⎥\n",
       "⎢                                  ⎥\n",
       "⎢1997  784   1406  834   1080  1080⎥\n",
       "⎢                                  ⎥\n",
       "⎢2141  797   1947  802   1090  1090⎥\n",
       "⎢                                  ⎥\n",
       "⎢2154  794   2160  768   1074  1074⎥\n",
       "⎢                                  ⎥\n",
       "⎣2154  794   2160  768   1074  1074⎦"
      ]
     },
     "execution_count": 20,
     "metadata": {},
     "output_type": "execute_result"
    }
   ],
   "source": [
    "Bee - Aey"
   ]
  },
  {
   "cell_type": "code",
   "execution_count": null,
   "metadata": {},
   "outputs": [],
   "source": []
  }
 ],
 "metadata": {
  "kernelspec": {
   "display_name": "Python 3",
   "language": "python",
   "name": "python3"
  },
  "language_info": {
   "codemirror_mode": {
    "name": "ipython",
    "version": 3
   },
   "file_extension": ".py",
   "mimetype": "text/x-python",
   "name": "python",
   "nbconvert_exporter": "python",
   "pygments_lexer": "ipython3",
   "version": "3.6.5"
  }
 },
 "nbformat": 4,
 "nbformat_minor": 2
}
