{
 "cells": [
  {
   "cell_type": "code",
   "execution_count": 1,
   "metadata": {},
   "outputs": [
    {
     "name": "stdout",
     "output_type": "stream",
     "text": [
      "Populating the interactive namespace from numpy and matplotlib\n"
     ]
    }
   ],
   "source": [
    "%pylab inline"
   ]
  },
  {
   "cell_type": "code",
   "execution_count": 2,
   "metadata": {},
   "outputs": [],
   "source": [
    "from sympy import *\n",
    "init_printing(use_latex = 'mathjax')"
   ]
  },
  {
   "cell_type": "code",
   "execution_count": 4,
   "metadata": {},
   "outputs": [
    {
     "data": {
      "text/latex": [
       "$$\\left ( \\left[\\begin{matrix}1 & -1\\\\1 & -2\\\\-1 & 2\\end{matrix}\\right], \\quad \\left[\\begin{matrix}1\\\\-2\\\\0\\end{matrix}\\right]\\right )$$"
      ],
      "text/plain": [
       "⎛⎡1   -1⎤  ⎡1 ⎤⎞\n",
       "⎜⎢      ⎥  ⎢  ⎥⎟\n",
       "⎜⎢1   -2⎥, ⎢-2⎥⎟\n",
       "⎜⎢      ⎥  ⎢  ⎥⎟\n",
       "⎝⎣-1  2 ⎦  ⎣0 ⎦⎠"
      ]
     },
     "execution_count": 4,
     "metadata": {},
     "output_type": "execute_result"
    }
   ],
   "source": [
    "A = Matrix([[1,-1],[1,-2],[-1,2]])\n",
    "b = Matrix([[1],[-2],[0]])\n",
    "\n",
    "A,b"
   ]
  },
  {
   "cell_type": "code",
   "execution_count": 18,
   "metadata": {},
   "outputs": [
    {
     "data": {
      "text/latex": [
       "$$\\left ( \\left[\\begin{matrix}1\\\\1\\\\-1\\end{matrix}\\right], \\quad \\left[\\begin{matrix}1\\\\1\\\\-1\\end{matrix}\\right], \\quad \\left[\\begin{matrix}-1\\\\-2\\\\2\\end{matrix}\\right], \\quad \\left[\\begin{matrix}1\\\\-2\\\\0\\end{matrix}\\right]\\right )$$"
      ],
      "text/plain": [
       "⎛⎡1 ⎤  ⎡1 ⎤  ⎡-1⎤  ⎡1 ⎤⎞\n",
       "⎜⎢  ⎥  ⎢  ⎥  ⎢  ⎥  ⎢  ⎥⎟\n",
       "⎜⎢1 ⎥, ⎢1 ⎥, ⎢-2⎥, ⎢-2⎥⎟\n",
       "⎜⎢  ⎥  ⎢  ⎥  ⎢  ⎥  ⎢  ⎥⎟\n",
       "⎝⎣-1⎦  ⎣-1⎦  ⎣2 ⎦  ⎣0 ⎦⎠"
      ]
     },
     "execution_count": 18,
     "metadata": {},
     "output_type": "execute_result"
    }
   ],
   "source": [
    "W1 = V1 = Matrix([[1],[1],[-1]])\n",
    "V2 = Matrix([[-1],[-2],[2]])\n",
    "b = Matrix([[1],[-2],[0]])\n",
    "\n",
    "W1,V1,V2,b"
   ]
  },
  {
   "cell_type": "code",
   "execution_count": 8,
   "metadata": {},
   "outputs": [
    {
     "data": {
      "text/latex": [
       "$$-5$$"
      ],
      "text/plain": [
       "-5"
      ]
     },
     "execution_count": 8,
     "metadata": {},
     "output_type": "execute_result"
    }
   ],
   "source": [
    "W1.dot(V2)"
   ]
  },
  {
   "cell_type": "code",
   "execution_count": 22,
   "metadata": {},
   "outputs": [
    {
     "data": {
      "text/latex": [
       "$$3$$"
      ],
      "text/plain": [
       "3"
      ]
     },
     "execution_count": 22,
     "metadata": {},
     "output_type": "execute_result"
    }
   ],
   "source": [
    "W1.dot(W1)"
   ]
  },
  {
   "cell_type": "code",
   "execution_count": 26,
   "metadata": {},
   "outputs": [
    {
     "data": {
      "text/latex": [
       "$$\\left[\\begin{matrix}- \\frac{5}{3}\\\\- \\frac{5}{3}\\\\\\frac{5}{3}\\end{matrix}\\right]$$"
      ],
      "text/plain": [
       "⎡-5/3⎤\n",
       "⎢    ⎥\n",
       "⎢-5/3⎥\n",
       "⎢    ⎥\n",
       "⎣5/3 ⎦"
      ]
     },
     "execution_count": 26,
     "metadata": {},
     "output_type": "execute_result"
    }
   ],
   "source": [
    "Rational(-5,3) * W1"
   ]
  },
  {
   "cell_type": "code",
   "execution_count": 27,
   "metadata": {},
   "outputs": [
    {
     "data": {
      "text/latex": [
       "$$\\left[\\begin{matrix}\\frac{2}{3}\\\\- \\frac{1}{3}\\\\\\frac{1}{3}\\end{matrix}\\right]$$"
      ],
      "text/plain": [
       "⎡2/3 ⎤\n",
       "⎢    ⎥\n",
       "⎢-1/3⎥\n",
       "⎢    ⎥\n",
       "⎣1/3 ⎦"
      ]
     },
     "execution_count": 27,
     "metadata": {},
     "output_type": "execute_result"
    }
   ],
   "source": [
    "V2 - _"
   ]
  },
  {
   "cell_type": "code",
   "execution_count": 28,
   "metadata": {},
   "outputs": [
    {
     "data": {
      "text/latex": [
       "$$\\left[\\begin{matrix}\\frac{2}{3}\\\\- \\frac{1}{3}\\\\\\frac{1}{3}\\end{matrix}\\right]$$"
      ],
      "text/plain": [
       "⎡2/3 ⎤\n",
       "⎢    ⎥\n",
       "⎢-1/3⎥\n",
       "⎢    ⎥\n",
       "⎣1/3 ⎦"
      ]
     },
     "execution_count": 28,
     "metadata": {},
     "output_type": "execute_result"
    }
   ],
   "source": [
    "W2 = _\n",
    "W2"
   ]
  },
  {
   "cell_type": "code",
   "execution_count": 17,
   "metadata": {},
   "outputs": [
    {
     "data": {
      "text/latex": [
       "$$0$$"
      ],
      "text/plain": [
       "0"
      ]
     },
     "execution_count": 17,
     "metadata": {},
     "output_type": "execute_result"
    }
   ],
   "source": [
    "_.dot(V1)"
   ]
  },
  {
   "cell_type": "code",
   "execution_count": 14,
   "metadata": {},
   "outputs": [
    {
     "data": {
      "text/latex": [
       "$$-2.22044604925031 \\cdot 10^{-16}$$"
      ],
      "text/plain": [
       "-2.22044604925031e-16"
      ]
     },
     "execution_count": 14,
     "metadata": {},
     "output_type": "execute_result"
    }
   ],
   "source": [
    "Matrix([[1/13],[-5/13],[33/13],[4/13]]).dot(Matrix([[2],[3],[1],[-5]]))"
   ]
  },
  {
   "cell_type": "code",
   "execution_count": 19,
   "metadata": {},
   "outputs": [
    {
     "data": {
      "text/latex": [
       "$$-1$$"
      ],
      "text/plain": [
       "-1"
      ]
     },
     "execution_count": 19,
     "metadata": {},
     "output_type": "execute_result"
    }
   ],
   "source": [
    "b.dot(W1)"
   ]
  },
  {
   "cell_type": "code",
   "execution_count": 29,
   "metadata": {},
   "outputs": [
    {
     "data": {
      "text/latex": [
       "$$\\frac{4}{3}$$"
      ],
      "text/plain": [
       "4/3"
      ]
     },
     "execution_count": 29,
     "metadata": {},
     "output_type": "execute_result"
    }
   ],
   "source": [
    "b.dot(W2)"
   ]
  },
  {
   "cell_type": "code",
   "execution_count": 30,
   "metadata": {},
   "outputs": [
    {
     "data": {
      "text/latex": [
       "$$\\frac{2}{3}$$"
      ],
      "text/plain": [
       "2/3"
      ]
     },
     "execution_count": 30,
     "metadata": {},
     "output_type": "execute_result"
    }
   ],
   "source": [
    "W2.dot(W2)"
   ]
  },
  {
   "cell_type": "code",
   "execution_count": 42,
   "metadata": {},
   "outputs": [
    {
     "data": {
      "text/latex": [
       "$$\\left[\\begin{matrix}- \\frac{1}{3}\\\\- \\frac{1}{3}\\\\\\frac{1}{3}\\end{matrix}\\right]$$"
      ],
      "text/plain": [
       "⎡-1/3⎤\n",
       "⎢    ⎥\n",
       "⎢-1/3⎥\n",
       "⎢    ⎥\n",
       "⎣1/3 ⎦"
      ]
     },
     "execution_count": 42,
     "metadata": {},
     "output_type": "execute_result"
    }
   ],
   "source": [
    "Rational(-1,3) * W1"
   ]
  },
  {
   "cell_type": "code",
   "execution_count": 43,
   "metadata": {},
   "outputs": [
    {
     "data": {
      "text/latex": [
       "$$\\left[\\begin{matrix}\\frac{4}{3}\\\\- \\frac{2}{3}\\\\\\frac{2}{3}\\end{matrix}\\right]$$"
      ],
      "text/plain": [
       "⎡4/3 ⎤\n",
       "⎢    ⎥\n",
       "⎢-2/3⎥\n",
       "⎢    ⎥\n",
       "⎣2/3 ⎦"
      ]
     },
     "execution_count": 43,
     "metadata": {},
     "output_type": "execute_result"
    }
   ],
   "source": [
    "Rational(Float(4/3),Float(2/3)) * W2"
   ]
  },
  {
   "cell_type": "code",
   "execution_count": 44,
   "metadata": {
    "scrolled": true
   },
   "outputs": [
    {
     "data": {
      "text/latex": [
       "$$\\left[\\begin{matrix}1\\\\-1\\\\1\\end{matrix}\\right]$$"
      ],
      "text/plain": [
       "⎡1 ⎤\n",
       "⎢  ⎥\n",
       "⎢-1⎥\n",
       "⎢  ⎥\n",
       "⎣1 ⎦"
      ]
     },
     "execution_count": 44,
     "metadata": {},
     "output_type": "execute_result"
    }
   ],
   "source": [
    "Out[42] + _"
   ]
  },
  {
   "cell_type": "code",
   "execution_count": 41,
   "metadata": {},
   "outputs": [
    {
     "data": {
      "text/latex": [
       "$$\\left[\\begin{matrix}1\\\\-1\\\\1\\end{matrix}\\right]$$"
      ],
      "text/plain": [
       "⎡1 ⎤\n",
       "⎢  ⎥\n",
       "⎢-1⎥\n",
       "⎢  ⎥\n",
       "⎣1 ⎦"
      ]
     },
     "execution_count": 41,
     "metadata": {},
     "output_type": "execute_result"
    }
   ],
   "source": [
    "(Rational(-1,3) * W1) + ((Rational(Float(4/3),(Float(2/3)))) * W2)"
   ]
  },
  {
   "cell_type": "code",
   "execution_count": 38,
   "metadata": {},
   "outputs": [
    {
     "data": {
      "text/latex": [
       "$$2$$"
      ],
      "text/plain": [
       "2"
      ]
     },
     "execution_count": 38,
     "metadata": {},
     "output_type": "execute_result"
    }
   ],
   "source": [
    "(Rational(Float(4/3),(Float(2/3))))"
   ]
  },
  {
   "cell_type": "code",
   "execution_count": 46,
   "metadata": {},
   "outputs": [
    {
     "data": {
      "text/latex": [
       "$$\\left[\\begin{matrix}1 & -1 & 1\\\\1 & -2 & -1\\\\-1 & 2 & 1\\end{matrix}\\right]$$"
      ],
      "text/plain": [
       "⎡1   -1  1 ⎤\n",
       "⎢          ⎥\n",
       "⎢1   -2  -1⎥\n",
       "⎢          ⎥\n",
       "⎣-1  2   1 ⎦"
      ]
     },
     "execution_count": 46,
     "metadata": {},
     "output_type": "execute_result"
    }
   ],
   "source": [
    "B = Matrix([[1,-1,1],[1,-2,-1],[-1,2,1]])\n",
    "B"
   ]
  },
  {
   "cell_type": "code",
   "execution_count": 47,
   "metadata": {},
   "outputs": [
    {
     "data": {
      "text/latex": [
       "$$\\left ( \\left[\\begin{matrix}1 & 0 & 3\\\\0 & 1 & 2\\\\0 & 0 & 0\\end{matrix}\\right], \\quad \\left ( 0, \\quad 1\\right )\\right )$$"
      ],
      "text/plain": [
       "⎛⎡1  0  3⎤        ⎞\n",
       "⎜⎢       ⎥        ⎟\n",
       "⎜⎢0  1  2⎥, (0, 1)⎟\n",
       "⎜⎢       ⎥        ⎟\n",
       "⎝⎣0  0  0⎦        ⎠"
      ]
     },
     "execution_count": 47,
     "metadata": {},
     "output_type": "execute_result"
    }
   ],
   "source": [
    "B.rref()"
   ]
  },
  {
   "cell_type": "code",
   "execution_count": 52,
   "metadata": {},
   "outputs": [
    {
     "data": {
      "text/latex": [
       "$$\\left ( \\left[\\begin{matrix}1 & 3\\\\1 & -1\\\\1 & 1\\end{matrix}\\right], \\quad \\left[\\begin{matrix}5\\\\1\\\\2\\end{matrix}\\right]\\right )$$"
      ],
      "text/plain": [
       "⎛⎡1  3 ⎤  ⎡5⎤⎞\n",
       "⎜⎢     ⎥  ⎢ ⎥⎟\n",
       "⎜⎢1  -1⎥, ⎢1⎥⎟\n",
       "⎜⎢     ⎥  ⎢ ⎥⎟\n",
       "⎝⎣1  1 ⎦  ⎣2⎦⎠"
      ]
     },
     "execution_count": 52,
     "metadata": {},
     "output_type": "execute_result"
    }
   ],
   "source": [
    "C = Matrix([[1,3],[1,-1],[1,1]])\n",
    "b = Matrix([[5],[1],[2]])\n",
    "\n",
    "C,b"
   ]
  },
  {
   "cell_type": "code",
   "execution_count": 53,
   "metadata": {},
   "outputs": [
    {
     "data": {
      "text/latex": [
       "$$\\left ( \\left[\\begin{matrix}1 & 0\\\\0 & 1\\\\0 & 0\\end{matrix}\\right], \\quad \\left ( 0, \\quad 1\\right )\\right )$$"
      ],
      "text/plain": [
       "⎛⎡1  0⎤        ⎞\n",
       "⎜⎢    ⎥        ⎟\n",
       "⎜⎢0  1⎥, (0, 1)⎟\n",
       "⎜⎢    ⎥        ⎟\n",
       "⎝⎣0  0⎦        ⎠"
      ]
     },
     "execution_count": 53,
     "metadata": {},
     "output_type": "execute_result"
    }
   ],
   "source": [
    "C.rref()"
   ]
  },
  {
   "cell_type": "code",
   "execution_count": 54,
   "metadata": {},
   "outputs": [
    {
     "data": {
      "text/latex": [
       "$$\\left[\\begin{matrix}1 & 1 & 1\\\\3 & -1 & 1\\end{matrix}\\right]$$"
      ],
      "text/plain": [
       "⎡1  1   1⎤\n",
       "⎢        ⎥\n",
       "⎣3  -1  1⎦"
      ]
     },
     "execution_count": 54,
     "metadata": {},
     "output_type": "execute_result"
    }
   ],
   "source": [
    "C.transpose()"
   ]
  },
  {
   "cell_type": "code",
   "execution_count": 55,
   "metadata": {},
   "outputs": [
    {
     "data": {
      "text/latex": [
       "$$\\left[\\begin{matrix}3 & 3\\\\3 & 11\\end{matrix}\\right]$$"
      ],
      "text/plain": [
       "⎡3  3 ⎤\n",
       "⎢     ⎥\n",
       "⎣3  11⎦"
      ]
     },
     "execution_count": 55,
     "metadata": {},
     "output_type": "execute_result"
    }
   ],
   "source": [
    "_ * C"
   ]
  },
  {
   "cell_type": "code",
   "execution_count": 56,
   "metadata": {},
   "outputs": [
    {
     "data": {
      "text/latex": [
       "$$\\left[\\begin{matrix}8\\\\16\\end{matrix}\\right]$$"
      ],
      "text/plain": [
       "⎡8 ⎤\n",
       "⎢  ⎥\n",
       "⎣16⎦"
      ]
     },
     "execution_count": 56,
     "metadata": {},
     "output_type": "execute_result"
    }
   ],
   "source": [
    "Out[54] * b"
   ]
  },
  {
   "cell_type": "code",
   "execution_count": 59,
   "metadata": {},
   "outputs": [
    {
     "data": {
      "text/latex": [
       "$$\\left[\\begin{matrix}3 & 3 & 8\\\\3 & 11 & 16\\end{matrix}\\right]$$"
      ],
      "text/plain": [
       "⎡3  3   8 ⎤\n",
       "⎢         ⎥\n",
       "⎣3  11  16⎦"
      ]
     },
     "execution_count": 59,
     "metadata": {},
     "output_type": "execute_result"
    }
   ],
   "source": [
    "CC = Matrix([[3,3,8],[3,11,16]])\n",
    "CC"
   ]
  },
  {
   "cell_type": "code",
   "execution_count": 60,
   "metadata": {},
   "outputs": [
    {
     "data": {
      "text/latex": [
       "$$\\left ( \\left[\\begin{matrix}1 & 0 & \\frac{5}{3}\\\\0 & 1 & 1\\end{matrix}\\right], \\quad \\left ( 0, \\quad 1\\right )\\right )$$"
      ],
      "text/plain": [
       "⎛⎡1  0  5/3⎤        ⎞\n",
       "⎜⎢         ⎥, (0, 1)⎟\n",
       "⎝⎣0  1   1 ⎦        ⎠"
      ]
     },
     "execution_count": 60,
     "metadata": {},
     "output_type": "execute_result"
    }
   ],
   "source": [
    "CC.rref()"
   ]
  },
  {
   "cell_type": "code",
   "execution_count": 27,
   "metadata": {},
   "outputs": [
    {
     "data": {
      "text/latex": [
       "$$\\left ( \\left[\\begin{matrix}1 & -1 & 0\\\\1 & -2 & -1\\\\2 & 0 & 2\\\\0 & 1 & 1\\end{matrix}\\right], \\quad \\left[\\begin{matrix}1\\\\0\\\\1\\\\1\\end{matrix}\\right]\\right )$$"
      ],
      "text/plain": [
       "⎛⎡1  -1  0 ⎤  ⎡1⎤⎞\n",
       "⎜⎢         ⎥  ⎢ ⎥⎟\n",
       "⎜⎢1  -2  -1⎥  ⎢0⎥⎟\n",
       "⎜⎢         ⎥, ⎢ ⎥⎟\n",
       "⎜⎢2  0   2 ⎥  ⎢1⎥⎟\n",
       "⎜⎢         ⎥  ⎢ ⎥⎟\n",
       "⎝⎣0  1   1 ⎦  ⎣1⎦⎠"
      ]
     },
     "execution_count": 27,
     "metadata": {},
     "output_type": "execute_result"
    }
   ],
   "source": [
    "A = Matrix([[1,-1,0],[1,-2,-1],[2,0,2],[0,1,1]])\n",
    "b = Matrix([[1],[0],[1],[1]])\n",
    "\n",
    "A,b"
   ]
  },
  {
   "cell_type": "markdown",
   "metadata": {},
   "source": [
    "## $A^{T}:$"
   ]
  },
  {
   "cell_type": "code",
   "execution_count": 28,
   "metadata": {},
   "outputs": [
    {
     "data": {
      "text/latex": [
       "$$\\left[\\begin{matrix}1 & 1 & 2 & 0\\\\-1 & -2 & 0 & 1\\\\0 & -1 & 2 & 1\\end{matrix}\\right]$$"
      ],
      "text/plain": [
       "⎡1   1   2  0⎤\n",
       "⎢            ⎥\n",
       "⎢-1  -2  0  1⎥\n",
       "⎢            ⎥\n",
       "⎣0   -1  2  1⎦"
      ]
     },
     "execution_count": 28,
     "metadata": {},
     "output_type": "execute_result"
    }
   ],
   "source": [
    "AT = A.T\n",
    "AT"
   ]
  },
  {
   "cell_type": "markdown",
   "metadata": {},
   "source": [
    "## $A^{T}A:$"
   ]
  },
  {
   "cell_type": "code",
   "execution_count": 29,
   "metadata": {},
   "outputs": [
    {
     "data": {
      "text/latex": [
       "$$\\left[\\begin{matrix}6 & -3 & 3\\\\-3 & 6 & 3\\\\3 & 3 & 6\\end{matrix}\\right]$$"
      ],
      "text/plain": [
       "⎡6   -3  3⎤\n",
       "⎢         ⎥\n",
       "⎢-3  6   3⎥\n",
       "⎢         ⎥\n",
       "⎣3   3   6⎦"
      ]
     },
     "execution_count": 29,
     "metadata": {},
     "output_type": "execute_result"
    }
   ],
   "source": [
    "AT * A # A transpose * A"
   ]
  },
  {
   "cell_type": "markdown",
   "metadata": {},
   "source": [
    "## $A^{T}b:$"
   ]
  },
  {
   "cell_type": "code",
   "execution_count": 30,
   "metadata": {},
   "outputs": [
    {
     "data": {
      "text/latex": [
       "$$\\left[\\begin{matrix}3\\\\0\\\\3\\end{matrix}\\right]$$"
      ],
      "text/plain": [
       "⎡3⎤\n",
       "⎢ ⎥\n",
       "⎢0⎥\n",
       "⎢ ⎥\n",
       "⎣3⎦"
      ]
     },
     "execution_count": 30,
     "metadata": {},
     "output_type": "execute_result"
    }
   ],
   "source": [
    "AT * b # A transpose * b"
   ]
  },
  {
   "cell_type": "markdown",
   "metadata": {},
   "source": [
    "## The Normal Equation $(A^{T}A)x = A^{T}b $: "
   ]
  },
  {
   "cell_type": "code",
   "execution_count": 8,
   "metadata": {},
   "outputs": [
    {
     "data": {
      "text/latex": [
       "$$\\left[\\begin{matrix}6 & -3 & 3 & 3\\\\-3 & 6 & 3 & 0\\\\3 & 3 & 6 & 3\\end{matrix}\\right]$$"
      ],
      "text/plain": [
       "⎡6   -3  3  3⎤\n",
       "⎢            ⎥\n",
       "⎢-3  6   3  0⎥\n",
       "⎢            ⎥\n",
       "⎣3   3   6  3⎦"
      ]
     },
     "execution_count": 8,
     "metadata": {},
     "output_type": "execute_result"
    }
   ],
   "source": [
    "DD = Matrix([[6,-3,3,3],[-3,6,3,0],[3,3,6,3]])\n",
    "DD"
   ]
  },
  {
   "cell_type": "code",
   "execution_count": 9,
   "metadata": {},
   "outputs": [
    {
     "data": {
      "text/latex": [
       "$$\\left ( \\left[\\begin{matrix}1 & 0 & 1 & \\frac{2}{3}\\\\0 & 1 & 1 & \\frac{1}{3}\\\\0 & 0 & 0 & 0\\end{matrix}\\right], \\quad \\left ( 0, \\quad 1\\right )\\right )$$"
      ],
      "text/plain": [
       "⎛⎡1  0  1  2/3⎤        ⎞\n",
       "⎜⎢            ⎥        ⎟\n",
       "⎜⎢0  1  1  1/3⎥, (0, 1)⎟\n",
       "⎜⎢            ⎥        ⎟\n",
       "⎝⎣0  0  0   0 ⎦        ⎠"
      ]
     },
     "execution_count": 9,
     "metadata": {},
     "output_type": "execute_result"
    }
   ],
   "source": [
    "DD.rref()"
   ]
  },
  {
   "cell_type": "markdown",
   "metadata": {},
   "source": [
    "## $\\therefore  \\begin{cases} x_{1} + x_{3} = \\frac{2}{3} \\\\ x_{2} + x_{3} = \\frac{1}{3} \\\\ x_{3} = x_{3} \\end{cases}$"
   ]
  },
  {
   "cell_type": "markdown",
   "metadata": {},
   "source": [
    "## $\\begin{cases} x_{1} = -x_{3} +\\frac{2}{3} \\\\ x_{2} = -x_{3} + \\frac{1}{3} \\\\ x_{3} = x_{3} \\end{cases} $"
   ]
  },
  {
   "cell_type": "code",
   "execution_count": 5,
   "metadata": {},
   "outputs": [
    {
     "data": {
      "text/latex": [
       "$$- \\frac{1}{3}$$"
      ],
      "text/plain": [
       "-1/3"
      ]
     },
     "execution_count": 5,
     "metadata": {},
     "output_type": "execute_result"
    }
   ],
   "source": [
    "-(1) + Rational(2,3)"
   ]
  },
  {
   "cell_type": "code",
   "execution_count": 6,
   "metadata": {},
   "outputs": [
    {
     "data": {
      "text/latex": [
       "$$- \\frac{2}{3}$$"
      ],
      "text/plain": [
       "-2/3"
      ]
     },
     "execution_count": 6,
     "metadata": {},
     "output_type": "execute_result"
    }
   ],
   "source": [
    "-(1) + Rational(1,3)"
   ]
  },
  {
   "cell_type": "code",
   "execution_count": 10,
   "metadata": {},
   "outputs": [
    {
     "data": {
      "text/latex": [
       "$$\\left ( \\left[\\begin{matrix}-4 & 1\\\\0 & 1\\\\1 & 1\\\\2 & 1\\end{matrix}\\right], \\quad \\left[\\begin{matrix}12\\\\2\\\\-1\\\\-3\\end{matrix}\\right]\\right )$$"
      ],
      "text/plain": [
       "⎛⎡-4  1⎤  ⎡12⎤⎞\n",
       "⎜⎢     ⎥  ⎢  ⎥⎟\n",
       "⎜⎢0   1⎥  ⎢2 ⎥⎟\n",
       "⎜⎢     ⎥, ⎢  ⎥⎟\n",
       "⎜⎢1   1⎥  ⎢-1⎥⎟\n",
       "⎜⎢     ⎥  ⎢  ⎥⎟\n",
       "⎝⎣2   1⎦  ⎣-3⎦⎠"
      ]
     },
     "execution_count": 10,
     "metadata": {},
     "output_type": "execute_result"
    }
   ],
   "source": [
    "A = Matrix([[-4,1],[0,1],[1,1],[2,1]])\n",
    "b = Matrix([[12],[2],[-1],[-3]])\n",
    "\n",
    "A,b"
   ]
  },
  {
   "cell_type": "code",
   "execution_count": 13,
   "metadata": {},
   "outputs": [
    {
     "data": {
      "text/latex": [
       "$$\\left[\\begin{matrix}-4 & 0 & 1 & 2\\\\1 & 1 & 1 & 1\\end{matrix}\\right]$$"
      ],
      "text/plain": [
       "⎡-4  0  1  2⎤\n",
       "⎢           ⎥\n",
       "⎣1   1  1  1⎦"
      ]
     },
     "execution_count": 13,
     "metadata": {},
     "output_type": "execute_result"
    }
   ],
   "source": [
    "AT = A.T\n",
    "AT"
   ]
  },
  {
   "cell_type": "code",
   "execution_count": 14,
   "metadata": {},
   "outputs": [
    {
     "data": {
      "text/latex": [
       "$$\\left[\\begin{matrix}21 & -1\\\\-1 & 4\\end{matrix}\\right]$$"
      ],
      "text/plain": [
       "⎡21  -1⎤\n",
       "⎢      ⎥\n",
       "⎣-1  4 ⎦"
      ]
     },
     "execution_count": 14,
     "metadata": {},
     "output_type": "execute_result"
    }
   ],
   "source": [
    "AT * A"
   ]
  },
  {
   "cell_type": "code",
   "execution_count": 15,
   "metadata": {},
   "outputs": [
    {
     "data": {
      "text/latex": [
       "$$\\left[\\begin{matrix}-55\\\\10\\end{matrix}\\right]$$"
      ],
      "text/plain": [
       "⎡-55⎤\n",
       "⎢   ⎥\n",
       "⎣10 ⎦"
      ]
     },
     "execution_count": 15,
     "metadata": {},
     "output_type": "execute_result"
    }
   ],
   "source": [
    "AT * b"
   ]
  },
  {
   "cell_type": "code",
   "execution_count": 16,
   "metadata": {},
   "outputs": [
    {
     "data": {
      "text/latex": [
       "$$\\left[\\begin{matrix}21 & -1 & -55\\\\-1 & 4 & 10\\end{matrix}\\right]$$"
      ],
      "text/plain": [
       "⎡21  -1  -55⎤\n",
       "⎢           ⎥\n",
       "⎣-1  4   10 ⎦"
      ]
     },
     "execution_count": 16,
     "metadata": {},
     "output_type": "execute_result"
    }
   ],
   "source": [
    "AA = Matrix([[21,-1,-55],[-1,4,10]])\n",
    "AA"
   ]
  },
  {
   "cell_type": "code",
   "execution_count": 17,
   "metadata": {},
   "outputs": [
    {
     "data": {
      "text/latex": [
       "$$\\left ( \\left[\\begin{matrix}1 & 0 & - \\frac{210}{83}\\\\0 & 1 & \\frac{155}{83}\\end{matrix}\\right], \\quad \\left ( 0, \\quad 1\\right )\\right )$$"
      ],
      "text/plain": [
       "⎛⎡      -210 ⎤        ⎞\n",
       "⎜⎢1  0  ─────⎥        ⎟\n",
       "⎜⎢        83 ⎥        ⎟\n",
       "⎜⎢           ⎥, (0, 1)⎟\n",
       "⎜⎢       155 ⎥        ⎟\n",
       "⎜⎢0  1   ─── ⎥        ⎟\n",
       "⎝⎣        83 ⎦        ⎠"
      ]
     },
     "execution_count": 17,
     "metadata": {},
     "output_type": "execute_result"
    }
   ],
   "source": [
    "AA.rref()"
   ]
  },
  {
   "cell_type": "code",
   "execution_count": 20,
   "metadata": {},
   "outputs": [
    {
     "data": {
      "text/latex": [
       "$$\\left ( \\left[\\begin{matrix}9 & -3 & 1\\\\4 & -2 & 1\\\\1 & 1 & 1\\\\4 & 2 & 1\\end{matrix}\\right], \\quad \\left[\\begin{matrix}6\\\\-7\\\\-8\\\\-17\\end{matrix}\\right]\\right )$$"
      ],
      "text/plain": [
       "⎛⎡9  -3  1⎤  ⎡ 6 ⎤⎞\n",
       "⎜⎢        ⎥  ⎢   ⎥⎟\n",
       "⎜⎢4  -2  1⎥  ⎢-7 ⎥⎟\n",
       "⎜⎢        ⎥, ⎢   ⎥⎟\n",
       "⎜⎢1  1   1⎥  ⎢-8 ⎥⎟\n",
       "⎜⎢        ⎥  ⎢   ⎥⎟\n",
       "⎝⎣4  2   1⎦  ⎣-17⎦⎠"
      ]
     },
     "execution_count": 20,
     "metadata": {},
     "output_type": "execute_result"
    }
   ],
   "source": [
    "A = Matrix([[(-3)**2,-3,1],[(-2)**2,-2,1],[1**2,1,1],[2**2,2,1]])\n",
    "b = Matrix([[6],[-7],[-8],[-17]])\n",
    "\n",
    "A,b"
   ]
  },
  {
   "cell_type": "code",
   "execution_count": 22,
   "metadata": {},
   "outputs": [
    {
     "data": {
      "text/latex": [
       "$$\\left[\\begin{matrix}9 & 4 & 1 & 4\\\\-3 & -2 & 1 & 2\\\\1 & 1 & 1 & 1\\end{matrix}\\right]$$"
      ],
      "text/plain": [
       "⎡9   4   1  4⎤\n",
       "⎢            ⎥\n",
       "⎢-3  -2  1  2⎥\n",
       "⎢            ⎥\n",
       "⎣1   1   1  1⎦"
      ]
     },
     "execution_count": 22,
     "metadata": {},
     "output_type": "execute_result"
    }
   ],
   "source": [
    "AT = A.T\n",
    "AT"
   ]
  },
  {
   "cell_type": "code",
   "execution_count": 23,
   "metadata": {},
   "outputs": [
    {
     "data": {
      "text/latex": [
       "$$\\left[\\begin{matrix}114 & -26 & 18\\\\-26 & 18 & -2\\\\18 & -2 & 4\\end{matrix}\\right]$$"
      ],
      "text/plain": [
       "⎡114  -26  18⎤\n",
       "⎢            ⎥\n",
       "⎢-26  18   -2⎥\n",
       "⎢            ⎥\n",
       "⎣18   -2   4 ⎦"
      ]
     },
     "execution_count": 23,
     "metadata": {},
     "output_type": "execute_result"
    }
   ],
   "source": [
    "AT * A"
   ]
  },
  {
   "cell_type": "code",
   "execution_count": 24,
   "metadata": {},
   "outputs": [
    {
     "data": {
      "text/latex": [
       "$$\\left[\\begin{matrix}-50\\\\-46\\\\-26\\end{matrix}\\right]$$"
      ],
      "text/plain": [
       "⎡-50⎤\n",
       "⎢   ⎥\n",
       "⎢-46⎥\n",
       "⎢   ⎥\n",
       "⎣-26⎦"
      ]
     },
     "execution_count": 24,
     "metadata": {},
     "output_type": "execute_result"
    }
   ],
   "source": [
    "AT * b"
   ]
  },
  {
   "cell_type": "code",
   "execution_count": 25,
   "metadata": {},
   "outputs": [
    {
     "data": {
      "text/latex": [
       "$$\\left[\\begin{matrix}114 & -26 & 18 & -50\\\\-26 & 18 & -2 & -46\\\\18 & -2 & 4 & -26\\end{matrix}\\right]$$"
      ],
      "text/plain": [
       "⎡114  -26  18  -50⎤\n",
       "⎢                 ⎥\n",
       "⎢-26  18   -2  -46⎥\n",
       "⎢                 ⎥\n",
       "⎣18   -2   4   -26⎦"
      ]
     },
     "execution_count": 25,
     "metadata": {},
     "output_type": "execute_result"
    }
   ],
   "source": [
    "AA = Matrix([[114,-26,18,-50],[-26,18,-2,-46],[18,-2,4,-26]])\n",
    "AA"
   ]
  },
  {
   "cell_type": "code",
   "execution_count": 26,
   "metadata": {},
   "outputs": [
    {
     "data": {
      "text/latex": [
       "$$\\left ( \\left[\\begin{matrix}1 & 0 & 0 & \\frac{1}{2}\\\\0 & 1 & 0 & - \\frac{101}{34}\\\\0 & 0 & 1 & - \\frac{174}{17}\\end{matrix}\\right], \\quad \\left ( 0, \\quad 1, \\quad 2\\right )\\right )$$"
      ],
      "text/plain": [
       "⎛⎡1  0  0   1/2 ⎤           ⎞\n",
       "⎜⎢              ⎥           ⎟\n",
       "⎜⎢         -101 ⎥           ⎟\n",
       "⎜⎢0  1  0  ─────⎥           ⎟\n",
       "⎜⎢           34 ⎥, (0, 1, 2)⎟\n",
       "⎜⎢              ⎥           ⎟\n",
       "⎜⎢         -174 ⎥           ⎟\n",
       "⎜⎢0  0  1  ─────⎥           ⎟\n",
       "⎝⎣           17 ⎦           ⎠"
      ]
     },
     "execution_count": 26,
     "metadata": {},
     "output_type": "execute_result"
    }
   ],
   "source": [
    "AA.rref()"
   ]
  },
  {
   "cell_type": "code",
   "execution_count": null,
   "metadata": {},
   "outputs": [],
   "source": []
  }
 ],
 "metadata": {
  "kernelspec": {
   "display_name": "Python 3",
   "language": "python",
   "name": "python3"
  },
  "language_info": {
   "codemirror_mode": {
    "name": "ipython",
    "version": 3
   },
   "file_extension": ".py",
   "mimetype": "text/x-python",
   "name": "python",
   "nbconvert_exporter": "python",
   "pygments_lexer": "ipython3",
   "version": "3.6.5"
  }
 },
 "nbformat": 4,
 "nbformat_minor": 2
}
