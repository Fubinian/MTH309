{
 "cells": [
  {
   "cell_type": "code",
   "execution_count": 6,
   "metadata": {},
   "outputs": [
    {
     "name": "stdout",
     "output_type": "stream",
     "text": [
      "Populating the interactive namespace from numpy and matplotlib\n"
     ]
    }
   ],
   "source": [
    "%pylab inline"
   ]
  },
  {
   "cell_type": "code",
   "execution_count": 7,
   "metadata": {},
   "outputs": [],
   "source": [
    "from sympy import *\n",
    "init_printing(use_latex = 'mathjax')"
   ]
  },
  {
   "cell_type": "code",
   "execution_count": 3,
   "metadata": {},
   "outputs": [
    {
     "data": {
      "text/latex": [
       "$$\\left ( \\left[\\begin{matrix}-1 & 1 & 2\\\\2 & 3 & 2\\end{matrix}\\right], \\quad \\left ( \\left[\\begin{matrix}1 & 0 & - \\frac{4}{5}\\\\0 & 1 & \\frac{6}{5}\\end{matrix}\\right], \\quad \\left ( 0, \\quad 1\\right )\\right )\\right )$$"
      ],
      "text/plain": [
       "⎛⎡-1  1  2⎤  ⎛⎡1  0  -4/5⎤        ⎞⎞\n",
       "⎜⎢        ⎥, ⎜⎢          ⎥, (0, 1)⎟⎟\n",
       "⎝⎣2   3  2⎦  ⎝⎣0  1  6/5 ⎦        ⎠⎠"
      ]
     },
     "execution_count": 3,
     "metadata": {},
     "output_type": "execute_result"
    }
   ],
   "source": [
    "A = Matrix([[-1, 1, 2], [2, 3, 2]])\n",
    "R = A.rref()\n",
    "A,R"
   ]
  },
  {
   "cell_type": "code",
   "execution_count": 4,
   "metadata": {},
   "outputs": [
    {
     "data": {
      "text/latex": [
       "$$\\left ( \\left[\\begin{matrix}1 & -1 & -3\\\\1 & 0 & 1\\end{matrix}\\right], \\quad \\left ( \\left[\\begin{matrix}1 & 0 & 1\\\\0 & 1 & 4\\end{matrix}\\right], \\quad \\left ( 0, \\quad 1\\right )\\right )\\right )$$"
      ],
      "text/plain": [
       "⎛⎡1  -1  -3⎤  ⎛⎡1  0  1⎤        ⎞⎞\n",
       "⎜⎢         ⎥, ⎜⎢       ⎥, (0, 1)⎟⎟\n",
       "⎝⎣1  0   1 ⎦  ⎝⎣0  1  4⎦        ⎠⎠"
      ]
     },
     "execution_count": 4,
     "metadata": {},
     "output_type": "execute_result"
    }
   ],
   "source": [
    "C = Matrix([[1,-1,-3],[1,0,1]])\n",
    "R = C.rref()\n",
    "C,R"
   ]
  },
  {
   "cell_type": "code",
   "execution_count": 25,
   "metadata": {},
   "outputs": [
    {
     "data": {
      "text/latex": [
       "$$\\frac{\\sqrt{2}}{2}$$"
      ],
      "text/plain": [
       "√2\n",
       "──\n",
       "2 "
      ]
     },
     "execution_count": 25,
     "metadata": {},
     "output_type": "execute_result"
    }
   ],
   "source": [
    "sqrt(2)/2"
   ]
  },
  {
   "cell_type": "code",
   "execution_count": 4,
   "metadata": {},
   "outputs": [
    {
     "data": {
      "text/latex": [
       "$$\\sqrt{2}$$"
      ],
      "text/plain": [
       "√2"
      ]
     },
     "execution_count": 4,
     "metadata": {},
     "output_type": "execute_result"
    }
   ],
   "source": [
    "sqrt(2)"
   ]
  },
  {
   "cell_type": "code",
   "execution_count": 6,
   "metadata": {},
   "outputs": [
    {
     "data": {
      "text/latex": [
       "$$0.7071067811865476$$"
      ],
      "text/plain": [
       "0.7071067811865476"
      ]
     },
     "execution_count": 6,
     "metadata": {},
     "output_type": "execute_result"
    }
   ],
   "source": [
    "float(sqrt(2)/2)"
   ]
  },
  {
   "cell_type": "code",
   "execution_count": 3,
   "metadata": {},
   "outputs": [
    {
     "data": {
      "text/latex": [
       "$$-4$$"
      ],
      "text/plain": [
       "-4"
      ]
     },
     "execution_count": 3,
     "metadata": {},
     "output_type": "execute_result"
    }
   ],
   "source": [
    "-2-2"
   ]
  },
  {
   "cell_type": "code",
   "execution_count": 4,
   "metadata": {},
   "outputs": [
    {
     "data": {
      "text/latex": [
       "$$-5$$"
      ],
      "text/plain": [
       "-5"
      ]
     },
     "execution_count": 4,
     "metadata": {},
     "output_type": "execute_result"
    }
   ],
   "source": [
    "-4-1"
   ]
  },
  {
   "cell_type": "code",
   "execution_count": 9,
   "metadata": {},
   "outputs": [
    {
     "data": {
      "text/latex": [
       "$$\\left ( \\left[\\begin{matrix}-4 & 2 & 2 & -2\\\\3 & 0 & -2 & -5\\\\3 & 1 & -2 & -8\\end{matrix}\\right], \\quad \\left ( \\left[\\begin{matrix}1 & 0 & 0 & 1\\\\0 & 1 & 0 & -3\\\\0 & 0 & 1 & 4\\end{matrix}\\right], \\quad \\left ( 0, \\quad 1, \\quad 2\\right )\\right )\\right )$$"
      ],
      "text/plain": [
       "⎛⎡-4  2  2   -2⎤  ⎛⎡1  0  0  1 ⎤           ⎞⎞\n",
       "⎜⎢             ⎥  ⎜⎢           ⎥           ⎟⎟\n",
       "⎜⎢3   0  -2  -5⎥, ⎜⎢0  1  0  -3⎥, (0, 1, 2)⎟⎟\n",
       "⎜⎢             ⎥  ⎜⎢           ⎥           ⎟⎟\n",
       "⎝⎣3   1  -2  -8⎦  ⎝⎣0  0  1  4 ⎦           ⎠⎠"
      ]
     },
     "execution_count": 9,
     "metadata": {},
     "output_type": "execute_result"
    }
   ],
   "source": [
    "D = Matrix([[-4,2,2,-2],[3,0,-2,-5],[3,1,-2,-8]])\n",
    "R = D.rref()\n",
    "D,R"
   ]
  },
  {
   "cell_type": "code",
   "execution_count": 15,
   "metadata": {},
   "outputs": [
    {
     "data": {
      "text/latex": [
       "$$\\left ( \\left[\\begin{matrix}-4 & 2 & 2\\\\3 & 0 & -2\\\\3 & 1 & -2\\end{matrix}\\right], \\quad \\left[\\begin{matrix}1\\\\-3\\\\4\\end{matrix}\\right]\\right )$$"
      ],
      "text/plain": [
       "⎛⎡-4  2  2 ⎤  ⎡1 ⎤⎞\n",
       "⎜⎢         ⎥  ⎢  ⎥⎟\n",
       "⎜⎢3   0  -2⎥, ⎢-3⎥⎟\n",
       "⎜⎢         ⎥  ⎢  ⎥⎟\n",
       "⎝⎣3   1  -2⎦  ⎣4 ⎦⎠"
      ]
     },
     "execution_count": 15,
     "metadata": {},
     "output_type": "execute_result"
    }
   ],
   "source": [
    "D = Matrix([[-4,2,2],[3,0,-2],[3,1,-2]])\n",
    "E = Matrix([[1],[-3], [4]])\n",
    "D,E"
   ]
  },
  {
   "cell_type": "code",
   "execution_count": 16,
   "metadata": {},
   "outputs": [
    {
     "data": {
      "text/latex": [
       "$$\\left[\\begin{matrix}-2\\\\-5\\\\-8\\end{matrix}\\right]$$"
      ],
      "text/plain": [
       "⎡-2⎤\n",
       "⎢  ⎥\n",
       "⎢-5⎥\n",
       "⎢  ⎥\n",
       "⎣-8⎦"
      ]
     },
     "execution_count": 16,
     "metadata": {},
     "output_type": "execute_result"
    }
   ],
   "source": [
    "D*E"
   ]
  },
  {
   "cell_type": "code",
   "execution_count": 3,
   "metadata": {},
   "outputs": [
    {
     "data": {
      "text/latex": [
       "$$\\left[\\begin{matrix}1 & 2 & 3\\\\1 & 3 & 3\\end{matrix}\\right]$$"
      ],
      "text/plain": [
       "⎡1  2  3⎤\n",
       "⎢       ⎥\n",
       "⎣1  3  3⎦"
      ]
     },
     "execution_count": 3,
     "metadata": {},
     "output_type": "execute_result"
    }
   ],
   "source": [
    "OP = Matrix([[1,2,3],[1,3,3]])\n",
    "OP"
   ]
  },
  {
   "cell_type": "code",
   "execution_count": 6,
   "metadata": {},
   "outputs": [
    {
     "data": {
      "text/latex": [
       "$$\\left[\\begin{matrix}0\\\\1\\\\1\\end{matrix}\\right]$$"
      ],
      "text/plain": [
       "⎡0⎤\n",
       "⎢ ⎥\n",
       "⎢1⎥\n",
       "⎢ ⎥\n",
       "⎣1⎦"
      ]
     },
     "execution_count": 6,
     "metadata": {},
     "output_type": "execute_result"
    }
   ],
   "source": [
    "ODE = Matrix([[0],[1],[1]])\n",
    "ODE"
   ]
  },
  {
   "cell_type": "code",
   "execution_count": 8,
   "metadata": {},
   "outputs": [
    {
     "data": {
      "text/latex": [
       "$$\\left[\\begin{matrix}5\\\\6\\end{matrix}\\right]$$"
      ],
      "text/plain": [
       "⎡5⎤\n",
       "⎢ ⎥\n",
       "⎣6⎦"
      ]
     },
     "execution_count": 8,
     "metadata": {},
     "output_type": "execute_result"
    }
   ],
   "source": [
    "OP * ODE"
   ]
  },
  {
   "cell_type": "markdown",
   "metadata": {},
   "source": [
    "$$ \\begin{bmatrix}{1\\\\-3\\\\4} \\end{bmatrix}$$"
   ]
  },
  {
   "cell_type": "markdown",
   "metadata": {},
   "source": [
    "$$ t({v}) $$"
   ]
  },
  {
   "cell_type": "code",
   "execution_count": 3,
   "metadata": {},
   "outputs": [
    {
     "data": {
      "text/latex": [
       "$$\\left ( \\left[\\begin{matrix}1 & 1 & 4 & -6\\\\0 & -1 & 2 & 4\\\\4 & -1 & 2 & -4\\end{matrix}\\right], \\quad \\left ( \\left[\\begin{matrix}1 & 0 & 0 & -2\\\\0 & 1 & 0 & -4\\\\0 & 0 & 1 & 0\\end{matrix}\\right], \\quad \\left ( 0, \\quad 1, \\quad 2\\right )\\right )\\right )$$"
      ],
      "text/plain": [
       "⎛⎡1  1   4  -6⎤  ⎛⎡1  0  0  -2⎤           ⎞⎞\n",
       "⎜⎢            ⎥  ⎜⎢           ⎥           ⎟⎟\n",
       "⎜⎢0  -1  2  4 ⎥, ⎜⎢0  1  0  -4⎥, (0, 1, 2)⎟⎟\n",
       "⎜⎢            ⎥  ⎜⎢           ⎥           ⎟⎟\n",
       "⎝⎣4  -1  2  -4⎦  ⎝⎣0  0  1  0 ⎦           ⎠⎠"
      ]
     },
     "execution_count": 3,
     "metadata": {},
     "output_type": "execute_result"
    }
   ],
   "source": [
    "#5.6---------------------------------------------------------------------------------------------------------------------\n",
    "F = Matrix([[1,1,4,-6],[0,-1,2,4],[4,-1,2,-4]])\n",
    "R = F.rref()\n",
    "F,R"
   ]
  },
  {
   "cell_type": "code",
   "execution_count": 98,
   "metadata": {},
   "outputs": [
    {
     "data": {
      "text/latex": [
       "$$\\left ( \\left[\\begin{matrix}1 & 1 & 4 & -6\\\\0 & -1 & 2 & 4\\\\0 & 0 & 0 & 0\\end{matrix}\\right], \\quad \\left ( \\left[\\begin{matrix}1 & 0 & 6 & -2\\\\0 & 1 & -2 & -4\\\\0 & 0 & 0 & 0\\end{matrix}\\right], \\quad \\left ( 0, \\quad 1\\right )\\right )\\right )$$"
      ],
      "text/plain": [
       "⎛⎡1  1   4  -6⎤  ⎛⎡1  0  6   -2⎤        ⎞⎞\n",
       "⎜⎢            ⎥  ⎜⎢            ⎥        ⎟⎟\n",
       "⎜⎢0  -1  2  4 ⎥, ⎜⎢0  1  -2  -4⎥, (0, 1)⎟⎟\n",
       "⎜⎢            ⎥  ⎜⎢            ⎥        ⎟⎟\n",
       "⎝⎣0  0   0  0 ⎦  ⎝⎣0  0  0   0 ⎦        ⎠⎠"
      ]
     },
     "execution_count": 98,
     "metadata": {},
     "output_type": "execute_result"
    }
   ],
   "source": [
    "F = Matrix([[1,1,4,-6],[0,-1,2,4],[0,0,0,0]])\n",
    "R = F.rref()\n",
    "F,R"
   ]
  },
  {
   "cell_type": "code",
   "execution_count": 14,
   "metadata": {},
   "outputs": [
    {
     "data": {
      "text/latex": [
       "$$\\left ( \\left[\\begin{matrix}1 & 1 & 4 & -6 & 0\\\\0 & -1 & 2 & 4 & 0\\\\4 & -1 & 2 & -4 & 0\\end{matrix}\\right], \\quad \\left ( \\left[\\begin{matrix}1 & 0 & 0 & -2 & 0\\\\0 & 1 & 0 & -4 & 0\\\\0 & 0 & 1 & 0 & 0\\end{matrix}\\right], \\quad \\left ( 0, \\quad 1, \\quad 2\\right )\\right )\\right )$$"
      ],
      "text/plain": [
       "⎛⎡1  1   4  -6  0⎤  ⎛⎡1  0  0  -2  0⎤           ⎞⎞\n",
       "⎜⎢               ⎥  ⎜⎢              ⎥           ⎟⎟\n",
       "⎜⎢0  -1  2  4   0⎥, ⎜⎢0  1  0  -4  0⎥, (0, 1, 2)⎟⎟\n",
       "⎜⎢               ⎥  ⎜⎢              ⎥           ⎟⎟\n",
       "⎝⎣4  -1  2  -4  0⎦  ⎝⎣0  0  1  0   0⎦           ⎠⎠"
      ]
     },
     "execution_count": 14,
     "metadata": {},
     "output_type": "execute_result"
    }
   ],
   "source": [
    "F3 = Matrix([[1,1,4,-6,0],[0,-1,2,4,0],[4,-1,2,-4,0]])\n",
    "R = F3.rref()\n",
    "F3,R"
   ]
  },
  {
   "cell_type": "code",
   "execution_count": 6,
   "metadata": {},
   "outputs": [
    {
     "data": {
      "text/latex": [
       "$$\\left ( \\left[\\begin{matrix}-2\\\\-4\\\\0\\end{matrix}\\right], \\quad \\left[\\begin{matrix}3\\\\2\\end{matrix}\\right], \\quad \\left[\\begin{matrix}1 & 1 & 4\\\\0 & -1 & 2\\\\4 & -1 & 2\\end{matrix}\\right]\\right )$$"
      ],
      "text/plain": [
       "⎛⎡-2⎤       ⎡1  1   4⎤⎞\n",
       "⎜⎢  ⎥  ⎡3⎤  ⎢        ⎥⎟\n",
       "⎜⎢-4⎥, ⎢ ⎥, ⎢0  -1  2⎥⎟\n",
       "⎜⎢  ⎥  ⎣2⎦  ⎢        ⎥⎟\n",
       "⎝⎣0 ⎦       ⎣4  -1  2⎦⎠"
      ]
     },
     "execution_count": 6,
     "metadata": {},
     "output_type": "execute_result"
    }
   ],
   "source": [
    "G = Matrix([[-2],[-4],[0]])\n",
    "H = Matrix([[3],[2]])\n",
    "F1 = Matrix([[1,1,4],[0,-1,2],[4,-1,2]])\n",
    "G,H,F1"
   ]
  },
  {
   "cell_type": "code",
   "execution_count": 9,
   "metadata": {},
   "outputs": [
    {
     "data": {
      "text/latex": [
       "$$\\left[\\begin{matrix}-6\\\\4\\\\-4\\end{matrix}\\right]$$"
      ],
      "text/plain": [
       "⎡-6⎤\n",
       "⎢  ⎥\n",
       "⎢4 ⎥\n",
       "⎢  ⎥\n",
       "⎣-4⎦"
      ]
     },
     "execution_count": 9,
     "metadata": {},
     "output_type": "execute_result"
    }
   ],
   "source": [
    "F1*G"
   ]
  },
  {
   "cell_type": "code",
   "execution_count": 10,
   "metadata": {},
   "outputs": [
    {
     "data": {
      "text/latex": [
       "$$\\left ( \\left[\\begin{matrix}1 & 1 & 4 & 3\\\\0 & -1 & 2 & 2\\\\4 & -1 & 2 & 0\\end{matrix}\\right], \\quad \\left ( \\left[\\begin{matrix}1 & 0 & 0 & - \\frac{1}{2}\\\\0 & 1 & 0 & - \\frac{1}{6}\\\\0 & 0 & 1 & \\frac{11}{12}\\end{matrix}\\right], \\quad \\left ( 0, \\quad 1, \\quad 2\\right )\\right )\\right )$$"
      ],
      "text/plain": [
       "⎛               ⎛⎡1  0  0  -1/2⎤           ⎞⎞\n",
       "⎜⎡1  1   4  3⎤  ⎜⎢             ⎥           ⎟⎟\n",
       "⎜⎢           ⎥  ⎜⎢0  1  0  -1/6⎥           ⎟⎟\n",
       "⎜⎢0  -1  2  2⎥, ⎜⎢             ⎥, (0, 1, 2)⎟⎟\n",
       "⎜⎢           ⎥  ⎜⎢          11 ⎥           ⎟⎟\n",
       "⎜⎣4  -1  2  0⎦  ⎜⎢0  0  1   ── ⎥           ⎟⎟\n",
       "⎝               ⎝⎣          12 ⎦           ⎠⎠"
      ]
     },
     "execution_count": 10,
     "metadata": {},
     "output_type": "execute_result"
    }
   ],
   "source": [
    "F2 = Matrix([[1,1,4,3],[0,-1,2,2],[4,-1,2,0]])\n",
    "R = F2.rref()\n",
    "F2, R"
   ]
  },
  {
   "cell_type": "code",
   "execution_count": 31,
   "metadata": {},
   "outputs": [
    {
     "data": {
      "text/latex": [
       "$$\\left ( \\left[\\begin{matrix}1 & 1 & 4 & -6\\\\0 & -1 & 2 & 4\\\\4 & -1 & 2 & -4\\end{matrix}\\right], \\quad \\left ( \\left[\\begin{matrix}1 & 0 & 0 & -2\\\\0 & 1 & 0 & -4\\\\0 & 0 & 1 & 0\\end{matrix}\\right], \\quad \\left ( 0, \\quad 1, \\quad 2\\right )\\right )\\right )$$"
      ],
      "text/plain": [
       "⎛⎡1  1   4  -6⎤  ⎛⎡1  0  0  -2⎤           ⎞⎞\n",
       "⎜⎢            ⎥  ⎜⎢           ⎥           ⎟⎟\n",
       "⎜⎢0  -1  2  4 ⎥, ⎜⎢0  1  0  -4⎥, (0, 1, 2)⎟⎟\n",
       "⎜⎢            ⎥  ⎜⎢           ⎥           ⎟⎟\n",
       "⎝⎣4  -1  2  -4⎦  ⎝⎣0  0  1  0 ⎦           ⎠⎠"
      ]
     },
     "execution_count": 31,
     "metadata": {},
     "output_type": "execute_result"
    }
   ],
   "source": [
    "F16 = Matrix([[1,1,4,-6],[0,-1,2,4],[4,-1,2,-4]])\n",
    "R = F16.rref()\n",
    "F16,R"
   ]
  },
  {
   "cell_type": "code",
   "execution_count": 3,
   "metadata": {},
   "outputs": [
    {
     "data": {
      "text/latex": [
       "$$\\left ( \\left[\\begin{matrix}-2 & 1 & -1 & 2\\\\1 & -2 & -2 & 0\\\\-1 & -1 & -3 & 2\\end{matrix}\\right], \\quad \\left ( \\left[\\begin{matrix}1 & 0 & \\frac{4}{3} & - \\frac{4}{3}\\\\0 & 1 & \\frac{5}{3} & - \\frac{2}{3}\\\\0 & 0 & 0 & 0\\end{matrix}\\right], \\quad \\left ( 0, \\quad 1\\right )\\right )\\right )$$"
      ],
      "text/plain": [
       "⎛⎡-2  1   -1  2⎤  ⎛⎡1  0  4/3  -4/3⎤        ⎞⎞\n",
       "⎜⎢             ⎥  ⎜⎢               ⎥        ⎟⎟\n",
       "⎜⎢1   -2  -2  0⎥, ⎜⎢0  1  5/3  -2/3⎥, (0, 1)⎟⎟\n",
       "⎜⎢             ⎥  ⎜⎢               ⎥        ⎟⎟\n",
       "⎝⎣-1  -1  -3  2⎦  ⎝⎣0  0   0    0  ⎦        ⎠⎠"
      ]
     },
     "execution_count": 3,
     "metadata": {},
     "output_type": "execute_result"
    }
   ],
   "source": [
    "#5.7-----------------------------------------------------------------------------------------------------------------------\n",
    "I = Matrix([[-2,1,-1,2],[1,-2,-2,0],[-1,-1,-3,2]])\n",
    "R = I.rref()\n",
    "I,R"
   ]
  },
  {
   "cell_type": "code",
   "execution_count": 75,
   "metadata": {},
   "outputs": [
    {
     "data": {
      "text/latex": [
       "$$\\left ( \\left[\\begin{matrix}-2 & 1 & -1 & 2 & 3\\\\1 & -2 & -2 & 0 & -3\\\\-1 & -1 & -3 & 2 & 0\\end{matrix}\\right], \\quad \\left ( \\left[\\begin{matrix}1 & 0 & \\frac{4}{3} & - \\frac{4}{3} & -1\\\\0 & 1 & \\frac{5}{3} & - \\frac{2}{3} & 1\\\\0 & 0 & 0 & 0 & 0\\end{matrix}\\right], \\quad \\left ( 0, \\quad 1\\right )\\right )\\right )$$"
      ],
      "text/plain": [
       "⎛⎡-2  1   -1  2  3 ⎤  ⎛⎡1  0  4/3  -4/3  -1⎤        ⎞⎞\n",
       "⎜⎢                 ⎥  ⎜⎢                   ⎥        ⎟⎟\n",
       "⎜⎢1   -2  -2  0  -3⎥, ⎜⎢0  1  5/3  -2/3  1 ⎥, (0, 1)⎟⎟\n",
       "⎜⎢                 ⎥  ⎜⎢                   ⎥        ⎟⎟\n",
       "⎝⎣-1  -1  -3  2  0 ⎦  ⎝⎣0  0   0    0    0 ⎦        ⎠⎠"
      ]
     },
     "execution_count": 75,
     "metadata": {},
     "output_type": "execute_result"
    }
   ],
   "source": [
    "I1 = Matrix([[-2,1,-1,2,3],[1,-2,-2,0,-3],[-1,-1,-3,2,0]])\n",
    "R = I1.rref()\n",
    "I1,R"
   ]
  },
  {
   "cell_type": "code",
   "execution_count": 20,
   "metadata": {},
   "outputs": [
    {
     "data": {
      "text/latex": [
       "$$\\left ( \\left[\\begin{matrix}-2 & 1 & -1 & 2 & 0\\\\1 & -2 & -2 & 0 & -1\\\\-1 & -1 & -3 & 2 & -1\\end{matrix}\\right], \\quad \\left ( \\left[\\begin{matrix}1 & 0 & \\frac{4}{3} & - \\frac{4}{3} & \\frac{1}{3}\\\\0 & 1 & \\frac{5}{3} & - \\frac{2}{3} & \\frac{2}{3}\\\\0 & 0 & 0 & 0 & 0\\end{matrix}\\right], \\quad \\left ( 0, \\quad 1\\right )\\right )\\right )$$"
      ],
      "text/plain": [
       "⎛⎡-2  1   -1  2  0 ⎤  ⎛⎡1  0  4/3  -4/3  1/3⎤        ⎞⎞\n",
       "⎜⎢                 ⎥  ⎜⎢                    ⎥        ⎟⎟\n",
       "⎜⎢1   -2  -2  0  -1⎥, ⎜⎢0  1  5/3  -2/3  2/3⎥, (0, 1)⎟⎟\n",
       "⎜⎢                 ⎥  ⎜⎢                    ⎥        ⎟⎟\n",
       "⎝⎣-1  -1  -3  2  -1⎦  ⎝⎣0  0   0    0     0 ⎦        ⎠⎠"
      ]
     },
     "execution_count": 20,
     "metadata": {},
     "output_type": "execute_result"
    }
   ],
   "source": [
    "I1 = Matrix([[-2,1,-1,2,0],[1,-2,-2,0,-1],[-1,-1,-3,2,-1]])\n",
    "R = I1.rref()\n",
    "I1,R"
   ]
  },
  {
   "cell_type": "code",
   "execution_count": 47,
   "metadata": {},
   "outputs": [
    {
     "data": {
      "text/latex": [
       "$$\\left ( \\left[\\begin{matrix}-2 & 1 & -1 & 2 & -8\\\\1 & -2 & -2 & 0 & 16\\\\-1 & -1 & -3 & 2 & 8\\end{matrix}\\right], \\quad \\left ( \\left[\\begin{matrix}1 & 0 & \\frac{4}{3} & - \\frac{4}{3} & 0\\\\0 & 1 & \\frac{5}{3} & - \\frac{2}{3} & -8\\\\0 & 0 & 0 & 0 & 0\\end{matrix}\\right], \\quad \\left ( 0, \\quad 1\\right )\\right )\\right )$$"
      ],
      "text/plain": [
       "⎛⎡-2  1   -1  2  -8⎤  ⎛⎡1  0  4/3  -4/3  0 ⎤        ⎞⎞\n",
       "⎜⎢                 ⎥  ⎜⎢                   ⎥        ⎟⎟\n",
       "⎜⎢1   -2  -2  0  16⎥, ⎜⎢0  1  5/3  -2/3  -8⎥, (0, 1)⎟⎟\n",
       "⎜⎢                 ⎥  ⎜⎢                   ⎥        ⎟⎟\n",
       "⎝⎣-1  -1  -3  2  8 ⎦  ⎝⎣0  0   0    0    0 ⎦        ⎠⎠"
      ]
     },
     "execution_count": 47,
     "metadata": {},
     "output_type": "execute_result"
    }
   ],
   "source": [
    "I2 = Matrix([[-2,1,-1,2,-8],[1,-2,-2,0,16],[-1,-1,-3,2,8]])\n",
    "R = I2.rref()\n",
    "I2,R"
   ]
  },
  {
   "cell_type": "code",
   "execution_count": 50,
   "metadata": {},
   "outputs": [
    {
     "data": {
      "text/latex": [
       "$$\\left ( \\left[\\begin{matrix}-2 & 1 & -1 & 2 & -7\\\\1 & -2 & -2 & 0 & 14\\\\-1 & -1 & -3 & 2 & 7\\end{matrix}\\right], \\quad \\left ( \\left[\\begin{matrix}1 & 0 & \\frac{4}{3} & - \\frac{4}{3} & 0\\\\0 & 1 & \\frac{5}{3} & - \\frac{2}{3} & -7\\\\0 & 0 & 0 & 0 & 0\\end{matrix}\\right], \\quad \\left ( 0, \\quad 1\\right )\\right )\\right )$$"
      ],
      "text/plain": [
       "⎛⎡-2  1   -1  2  -7⎤  ⎛⎡1  0  4/3  -4/3  0 ⎤        ⎞⎞\n",
       "⎜⎢                 ⎥  ⎜⎢                   ⎥        ⎟⎟\n",
       "⎜⎢1   -2  -2  0  14⎥, ⎜⎢0  1  5/3  -2/3  -7⎥, (0, 1)⎟⎟\n",
       "⎜⎢                 ⎥  ⎜⎢                   ⎥        ⎟⎟\n",
       "⎝⎣-1  -1  -3  2  7 ⎦  ⎝⎣0  0   0    0    0 ⎦        ⎠⎠"
      ]
     },
     "execution_count": 50,
     "metadata": {},
     "output_type": "execute_result"
    }
   ],
   "source": [
    "I3 = Matrix([[-2,1,-1,2,-7],[1,-2,-2,0,14],[-1,-1,-3,2,7]])\n",
    "R = I3.rref()\n",
    "I3,R"
   ]
  },
  {
   "cell_type": "code",
   "execution_count": 55,
   "metadata": {},
   "outputs": [
    {
     "data": {
      "text/latex": [
       "$$\\left ( \\left[\\begin{matrix}-2 & 1 & -1 & 2 & -3\\\\1 & -2 & -2 & 0 & 6\\\\-1 & -1 & -3 & 2 & 3\\end{matrix}\\right], \\quad \\left ( \\left[\\begin{matrix}1 & 0 & \\frac{4}{3} & - \\frac{4}{3} & 0\\\\0 & 1 & \\frac{5}{3} & - \\frac{2}{3} & -3\\\\0 & 0 & 0 & 0 & 0\\end{matrix}\\right], \\quad \\left ( 0, \\quad 1\\right )\\right )\\right )$$"
      ],
      "text/plain": [
       "⎛⎡-2  1   -1  2  -3⎤  ⎛⎡1  0  4/3  -4/3  0 ⎤        ⎞⎞\n",
       "⎜⎢                 ⎥  ⎜⎢                   ⎥        ⎟⎟\n",
       "⎜⎢1   -2  -2  0  6 ⎥, ⎜⎢0  1  5/3  -2/3  -3⎥, (0, 1)⎟⎟\n",
       "⎜⎢                 ⎥  ⎜⎢                   ⎥        ⎟⎟\n",
       "⎝⎣-1  -1  -3  2  3 ⎦  ⎝⎣0  0   0    0    0 ⎦        ⎠⎠"
      ]
     },
     "execution_count": 55,
     "metadata": {},
     "output_type": "execute_result"
    }
   ],
   "source": [
    "I4 = Matrix([[-2,1,-1,2,-3],[1,-2,-2,0,6],[-1,-1,-3,2,3]])\n",
    "R = I4.rref()\n",
    "I4,R"
   ]
  },
  {
   "cell_type": "code",
   "execution_count": 66,
   "metadata": {},
   "outputs": [
    {
     "data": {
      "text/latex": [
       "$$\\left ( \\left[\\begin{matrix}-2 & 1 & -1 & 2 & 2\\\\1 & -2 & -2 & 0 & -1\\\\-1 & -1 & -3 & 2 & 1\\end{matrix}\\right], \\quad \\left ( \\left[\\begin{matrix}1 & 0 & \\frac{4}{3} & - \\frac{4}{3} & -1\\\\0 & 1 & \\frac{5}{3} & - \\frac{2}{3} & 0\\\\0 & 0 & 0 & 0 & 0\\end{matrix}\\right], \\quad \\left ( 0, \\quad 1\\right )\\right )\\right )$$"
      ],
      "text/plain": [
       "⎛⎡-2  1   -1  2  2 ⎤  ⎛⎡1  0  4/3  -4/3  -1⎤        ⎞⎞\n",
       "⎜⎢                 ⎥  ⎜⎢                   ⎥        ⎟⎟\n",
       "⎜⎢1   -2  -2  0  -1⎥, ⎜⎢0  1  5/3  -2/3  0 ⎥, (0, 1)⎟⎟\n",
       "⎜⎢                 ⎥  ⎜⎢                   ⎥        ⎟⎟\n",
       "⎝⎣-1  -1  -3  2  1 ⎦  ⎝⎣0  0   0    0    0 ⎦        ⎠⎠"
      ]
     },
     "execution_count": 66,
     "metadata": {},
     "output_type": "execute_result"
    }
   ],
   "source": [
    "I4 = Matrix([[-2,1,-1,2,2],[1,-2,-2,0,-1],[-1,-1,-3,2,1]])\n",
    "R = I4.rref()\n",
    "I4,R"
   ]
  },
  {
   "cell_type": "code",
   "execution_count": 64,
   "metadata": {},
   "outputs": [
    {
     "data": {
      "text/latex": [
       "$$\\left[\\begin{matrix}-1\\\\-3\\\\3\\\\3\\end{matrix}\\right]$$"
      ],
      "text/plain": [
       "⎡-1⎤\n",
       "⎢  ⎥\n",
       "⎢-3⎥\n",
       "⎢  ⎥\n",
       "⎢3 ⎥\n",
       "⎢  ⎥\n",
       "⎣3 ⎦"
      ]
     },
     "execution_count": 64,
     "metadata": {},
     "output_type": "execute_result"
    }
   ],
   "source": [
    "W = Matrix([[-1],[-3],[3],[3]])\n",
    "W"
   ]
  },
  {
   "cell_type": "code",
   "execution_count": 65,
   "metadata": {},
   "outputs": [
    {
     "data": {
      "text/latex": [
       "$$\\left[\\begin{matrix}2\\\\-1\\\\1\\end{matrix}\\right]$$"
      ],
      "text/plain": [
       "⎡2 ⎤\n",
       "⎢  ⎥\n",
       "⎢-1⎥\n",
       "⎢  ⎥\n",
       "⎣1 ⎦"
      ]
     },
     "execution_count": 65,
     "metadata": {},
     "output_type": "execute_result"
    }
   ],
   "source": [
    "I*W"
   ]
  },
  {
   "cell_type": "markdown",
   "metadata": {},
   "source": [
    "$$ \n",
    "Nul(\\mathbf{I}) = Span\\left( \\begin{bmatrix} \\frac{4}{3} \\\\ \\frac{5}{3} \\\\ 1 \\\\ 0 \\end{bmatrix} , \\begin{bmatrix} \\phantom{} - \\frac{4}{3} \\\\ \\phantom{} - \\frac{2}{3} \\\\ 0 \\\\ 1 \\end{bmatrix} \\right)\n",
    "$$"
   ]
  },
  {
   "cell_type": "code",
   "execution_count": 76,
   "metadata": {},
   "outputs": [
    {
     "data": {
      "text/latex": [
       "$$7$$"
      ],
      "text/plain": [
       "7"
      ]
     },
     "execution_count": 76,
     "metadata": {},
     "output_type": "execute_result"
    }
   ],
   "source": [
    "(Rational(-4,3)*(-3)) + (Rational(4,3)*(3)) - 1"
   ]
  },
  {
   "cell_type": "code",
   "execution_count": 30,
   "metadata": {},
   "outputs": [
    {
     "data": {
      "text/latex": [
       "$$0$$"
      ],
      "text/plain": [
       "0"
      ]
     },
     "execution_count": 30,
     "metadata": {},
     "output_type": "execute_result"
    }
   ],
   "source": [
    "-4+4"
   ]
  },
  {
   "cell_type": "code",
   "execution_count": 77,
   "metadata": {},
   "outputs": [
    {
     "data": {
      "text/latex": [
       "$$8$$"
      ],
      "text/plain": [
       "8"
      ]
     },
     "execution_count": 77,
     "metadata": {},
     "output_type": "execute_result"
    }
   ],
   "source": [
    "(Rational(-5,3)*(-3)) + (Rational(2,3)*(3)) + 1"
   ]
  },
  {
   "cell_type": "code",
   "execution_count": 80,
   "metadata": {},
   "outputs": [
    {
     "data": {
      "text/latex": [
       "$$\\left[\\begin{matrix}-5\\\\-13\\\\12\\\\9\\end{matrix}\\right]$$"
      ],
      "text/plain": [
       "⎡-5 ⎤\n",
       "⎢   ⎥\n",
       "⎢-13⎥\n",
       "⎢   ⎥\n",
       "⎢12 ⎥\n",
       "⎢   ⎥\n",
       "⎣ 9 ⎦"
      ]
     },
     "execution_count": 80,
     "metadata": {},
     "output_type": "execute_result"
    }
   ],
   "source": [
    "J = Matrix([[-5],[-13],[12],[9]])\n",
    "J"
   ]
  },
  {
   "cell_type": "code",
   "execution_count": 81,
   "metadata": {},
   "outputs": [
    {
     "data": {
      "text/latex": [
       "$$\\left[\\begin{matrix}3\\\\-3\\\\0\\end{matrix}\\right]$$"
      ],
      "text/plain": [
       "⎡3 ⎤\n",
       "⎢  ⎥\n",
       "⎢-3⎥\n",
       "⎢  ⎥\n",
       "⎣0 ⎦"
      ]
     },
     "execution_count": 81,
     "metadata": {},
     "output_type": "execute_result"
    }
   ],
   "source": [
    "I*J"
   ]
  },
  {
   "cell_type": "code",
   "execution_count": 32,
   "metadata": {},
   "outputs": [
    {
     "data": {
      "text/latex": [
       "$$-3$$"
      ],
      "text/plain": [
       "-3"
      ]
     },
     "execution_count": 32,
     "metadata": {},
     "output_type": "execute_result"
    }
   ],
   "source": [
    "-5+2"
   ]
  },
  {
   "cell_type": "code",
   "execution_count": 88,
   "metadata": {},
   "outputs": [
    {
     "data": {
      "text/latex": [
       "$$8$$"
      ],
      "text/plain": [
       "8"
      ]
     },
     "execution_count": 88,
     "metadata": {},
     "output_type": "execute_result"
    }
   ],
   "source": [
    "(Rational(-4,3)*(-3)) + (Rational(4,3)*(3))"
   ]
  },
  {
   "cell_type": "code",
   "execution_count": 89,
   "metadata": {},
   "outputs": [
    {
     "data": {
      "text/latex": [
       "$$-1$$"
      ],
      "text/plain": [
       "-1"
      ]
     },
     "execution_count": 89,
     "metadata": {},
     "output_type": "execute_result"
    }
   ],
   "source": [
    "(Rational(-5,3)*(-3)) + (Rational(2,3)*(3)) - 8"
   ]
  },
  {
   "cell_type": "code",
   "execution_count": 90,
   "metadata": {},
   "outputs": [
    {
     "data": {
      "text/latex": [
       "$$-12$$"
      ],
      "text/plain": [
       "-12"
      ]
     },
     "execution_count": 90,
     "metadata": {},
     "output_type": "execute_result"
    }
   ],
   "source": [
    "(Rational(-4,3)*(6)) + (Rational(4,3)*(-3))"
   ]
  },
  {
   "cell_type": "code",
   "execution_count": 91,
   "metadata": {},
   "outputs": [
    {
     "data": {
      "text/latex": [
       "$$-20$$"
      ],
      "text/plain": [
       "-20"
      ]
     },
     "execution_count": 91,
     "metadata": {},
     "output_type": "execute_result"
    }
   ],
   "source": [
    "(Rational(-5,3)*(6)) + (Rational(2,3)*(-3)) - 8"
   ]
  },
  {
   "cell_type": "code",
   "execution_count": 29,
   "metadata": {},
   "outputs": [
    {
     "data": {
      "text/latex": [
       "$$\\left[\\begin{matrix}-2 & 1 & -1 & 2\\\\1 & -2 & -2 & 0\\\\-1 & -1 & -3 & 2\\end{matrix}\\right]$$"
      ],
      "text/plain": [
       "⎡-2  1   -1  2⎤\n",
       "⎢             ⎥\n",
       "⎢1   -2  -2  0⎥\n",
       "⎢             ⎥\n",
       "⎣-1  -1  -3  2⎦"
      ]
     },
     "execution_count": 29,
     "metadata": {},
     "output_type": "execute_result"
    }
   ],
   "source": [
    "I"
   ]
  },
  {
   "cell_type": "code",
   "execution_count": 94,
   "metadata": {},
   "outputs": [
    {
     "data": {
      "text/latex": [
       "$$\\left[\\begin{matrix}-12\\\\-20\\\\6\\\\-3\\end{matrix}\\right]$$"
      ],
      "text/plain": [
       "⎡-12⎤\n",
       "⎢   ⎥\n",
       "⎢-20⎥\n",
       "⎢   ⎥\n",
       "⎢ 6 ⎥\n",
       "⎢   ⎥\n",
       "⎣-3 ⎦"
      ]
     },
     "execution_count": 94,
     "metadata": {},
     "output_type": "execute_result"
    }
   ],
   "source": [
    "K = Matrix([[-12],[-20],[6],[-3]])\n",
    "K"
   ]
  },
  {
   "cell_type": "code",
   "execution_count": 95,
   "metadata": {},
   "outputs": [
    {
     "data": {
      "text/latex": [
       "$$\\left[\\begin{matrix}-8\\\\16\\\\8\\end{matrix}\\right]$$"
      ],
      "text/plain": [
       "⎡-8⎤\n",
       "⎢  ⎥\n",
       "⎢16⎥\n",
       "⎢  ⎥\n",
       "⎣8 ⎦"
      ]
     },
     "execution_count": 95,
     "metadata": {},
     "output_type": "execute_result"
    }
   ],
   "source": [
    "I*K"
   ]
  },
  {
   "cell_type": "code",
   "execution_count": 73,
   "metadata": {},
   "outputs": [
    {
     "data": {
      "text/latex": [
       "$$4$$"
      ],
      "text/plain": [
       "4"
      ]
     },
     "execution_count": 73,
     "metadata": {},
     "output_type": "execute_result"
    }
   ],
   "source": [
    "(Rational(4,3)*(6))-(Rational(4,3)*(3))"
   ]
  },
  {
   "cell_type": "code",
   "execution_count": 74,
   "metadata": {},
   "outputs": [
    {
     "data": {
      "text/latex": [
       "$$8$$"
      ],
      "text/plain": [
       "8"
      ]
     },
     "execution_count": 74,
     "metadata": {},
     "output_type": "execute_result"
    }
   ],
   "source": [
    "(Rational(5,3)*(6))-(Rational(2,3)*(3))"
   ]
  },
  {
   "cell_type": "code",
   "execution_count": 19,
   "metadata": {},
   "outputs": [
    {
     "data": {
      "text/latex": [
       "$$\\frac{4}{3}$$"
      ],
      "text/plain": [
       "4/3"
      ]
     },
     "execution_count": 19,
     "metadata": {},
     "output_type": "execute_result"
    }
   ],
   "source": [
    "(Rational(4,3)*(2))-(Rational(4,3)*(1))"
   ]
  },
  {
   "cell_type": "code",
   "execution_count": 20,
   "metadata": {},
   "outputs": [
    {
     "data": {
      "text/latex": [
       "$$\\frac{8}{3}$$"
      ],
      "text/plain": [
       "8/3"
      ]
     },
     "execution_count": 20,
     "metadata": {},
     "output_type": "execute_result"
    }
   ],
   "source": [
    "(Rational(5,3)*(2))-(Rational(2,3)*(1))"
   ]
  },
  {
   "cell_type": "code",
   "execution_count": 21,
   "metadata": {},
   "outputs": [
    {
     "data": {
      "text/latex": [
       "$$\\frac{8}{3}$$"
      ],
      "text/plain": [
       "8/3"
      ]
     },
     "execution_count": 21,
     "metadata": {},
     "output_type": "execute_result"
    }
   ],
   "source": [
    "(Rational(4,3)*(2))-(Rational(4,3)*(0))"
   ]
  },
  {
   "cell_type": "code",
   "execution_count": 22,
   "metadata": {},
   "outputs": [
    {
     "data": {
      "text/latex": [
       "$$\\frac{11}{3}$$"
      ],
      "text/plain": [
       "11/3"
      ]
     },
     "execution_count": 22,
     "metadata": {},
     "output_type": "execute_result"
    }
   ],
   "source": [
    "(Rational(5,3)*(3))-(Rational(2,3)*(2))"
   ]
  },
  {
   "cell_type": "code",
   "execution_count": 86,
   "metadata": {},
   "outputs": [
    {
     "data": {
      "text/latex": [
       "$$\\left[\\begin{matrix}8\\\\0\\\\-3\\\\3\\end{matrix}\\right]$$"
      ],
      "text/plain": [
       "⎡8 ⎤\n",
       "⎢  ⎥\n",
       "⎢0 ⎥\n",
       "⎢  ⎥\n",
       "⎢-3⎥\n",
       "⎢  ⎥\n",
       "⎣3 ⎦"
      ]
     },
     "execution_count": 86,
     "metadata": {},
     "output_type": "execute_result"
    }
   ],
   "source": [
    "W = Matrix([[8],[0],[-3],[3]])\n",
    "W"
   ]
  },
  {
   "cell_type": "code",
   "execution_count": 87,
   "metadata": {},
   "outputs": [
    {
     "data": {
      "text/latex": [
       "$$\\left[\\begin{matrix}-7\\\\14\\\\7\\end{matrix}\\right]$$"
      ],
      "text/plain": [
       "⎡-7⎤\n",
       "⎢  ⎥\n",
       "⎢14⎥\n",
       "⎢  ⎥\n",
       "⎣7 ⎦"
      ]
     },
     "execution_count": 87,
     "metadata": {},
     "output_type": "execute_result"
    }
   ],
   "source": [
    "I*W"
   ]
  },
  {
   "cell_type": "code",
   "execution_count": 12,
   "metadata": {},
   "outputs": [
    {
     "data": {
      "text/latex": [
       "$$\\left ( \\left[\\begin{matrix}7 & 6 & -1 & 0\\\\5 & 2 & -3 & 0\\\\3 & 0 & -3 & 0\\end{matrix}\\right], \\quad \\left ( \\left[\\begin{matrix}1 & 0 & -1 & 0\\\\0 & 1 & 1 & 0\\\\0 & 0 & 0 & 0\\end{matrix}\\right], \\quad \\left ( 0, \\quad 1\\right )\\right )\\right )$$"
      ],
      "text/plain": [
       "⎛⎡7  6  -1  0⎤  ⎛⎡1  0  -1  0⎤        ⎞⎞\n",
       "⎜⎢           ⎥  ⎜⎢           ⎥        ⎟⎟\n",
       "⎜⎢5  2  -3  0⎥, ⎜⎢0  1  1   0⎥, (0, 1)⎟⎟\n",
       "⎜⎢           ⎥  ⎜⎢           ⎥        ⎟⎟\n",
       "⎝⎣3  0  -3  0⎦  ⎝⎣0  0  0   0⎦        ⎠⎠"
      ]
     },
     "execution_count": 12,
     "metadata": {},
     "output_type": "execute_result"
    }
   ],
   "source": [
    "#5.8-----------------------------------------------------------------------------------------------------------------------\n",
    "K = Matrix([[7,6,-1,0],[5,2,-3,0],[3,0,-3,0]])\n",
    "R = K.rref()\n",
    "K,R"
   ]
  },
  {
   "cell_type": "code",
   "execution_count": 4,
   "metadata": {},
   "outputs": [
    {
     "data": {
      "text/latex": [
       "$$\\left ( \\left[\\begin{matrix}7\\\\5\\\\3\\end{matrix}\\right], \\quad \\left[\\begin{matrix}6\\\\2\\\\0\\end{matrix}\\right]\\right )$$"
      ],
      "text/plain": [
       "⎛⎡7⎤  ⎡6⎤⎞\n",
       "⎜⎢ ⎥  ⎢ ⎥⎟\n",
       "⎜⎢5⎥, ⎢2⎥⎟\n",
       "⎜⎢ ⎥  ⎢ ⎥⎟\n",
       "⎝⎣3⎦  ⎣0⎦⎠"
      ]
     },
     "execution_count": 4,
     "metadata": {},
     "output_type": "execute_result"
    }
   ],
   "source": [
    "V1 = Matrix([[7],[5],[3]])\n",
    "V2 = Matrix([[6],[2],[0]])\n",
    "V1, V2"
   ]
  },
  {
   "cell_type": "code",
   "execution_count": 5,
   "metadata": {},
   "outputs": [
    {
     "data": {
      "text/latex": [
       "$$\\left[\\begin{matrix}-1\\\\-3\\\\-3\\end{matrix}\\right]$$"
      ],
      "text/plain": [
       "⎡-1⎤\n",
       "⎢  ⎥\n",
       "⎢-3⎥\n",
       "⎢  ⎥\n",
       "⎣-3⎦"
      ]
     },
     "execution_count": 5,
     "metadata": {},
     "output_type": "execute_result"
    }
   ],
   "source": [
    "W = Matrix([[-1],[-3],[-3]])\n",
    "W"
   ]
  },
  {
   "cell_type": "code",
   "execution_count": 7,
   "metadata": {},
   "outputs": [
    {
     "data": {
      "text/latex": [
       "$$\\left[\\begin{matrix}-8\\\\-8\\\\-6\\end{matrix}\\right]$$"
      ],
      "text/plain": [
       "⎡-8⎤\n",
       "⎢  ⎥\n",
       "⎢-8⎥\n",
       "⎢  ⎥\n",
       "⎣-6⎦"
      ]
     },
     "execution_count": 7,
     "metadata": {},
     "output_type": "execute_result"
    }
   ],
   "source": [
    "W - V1"
   ]
  },
  {
   "cell_type": "code",
   "execution_count": 11,
   "metadata": {},
   "outputs": [
    {
     "data": {
      "text/latex": [
       "$$\\left[\\begin{matrix}7 & 6 & -1\\\\5 & 2 & -3\\\\3 & 0 & -3\\end{matrix}\\right]$$"
      ],
      "text/plain": [
       "⎡7  6  -1⎤\n",
       "⎢        ⎥\n",
       "⎢5  2  -3⎥\n",
       "⎢        ⎥\n",
       "⎣3  0  -3⎦"
      ]
     },
     "execution_count": 11,
     "metadata": {},
     "output_type": "execute_result"
    }
   ],
   "source": [
    "V = Matrix([[7,6,-1],[5,2,-3],[3,0,-3]])\n",
    "V"
   ]
  },
  {
   "cell_type": "code",
   "execution_count": 12,
   "metadata": {},
   "outputs": [
    {
     "data": {
      "text/latex": [
       "$$\\left[\\begin{matrix}-1 & 0\\\\-3 & 0\\\\-3 & 0\\end{matrix}\\right]$$"
      ],
      "text/plain": [
       "⎡-1  0⎤\n",
       "⎢     ⎥\n",
       "⎢-3  0⎥\n",
       "⎢     ⎥\n",
       "⎣-3  0⎦"
      ]
     },
     "execution_count": 12,
     "metadata": {},
     "output_type": "execute_result"
    }
   ],
   "source": [
    "W1 = Matrix([[-1,0],[-3,0],[-3,0]])\n",
    "W1"
   ]
  },
  {
   "cell_type": "code",
   "execution_count": 14,
   "metadata": {},
   "outputs": [
    {
     "data": {
      "text/latex": [
       "$$0$$"
      ],
      "text/plain": [
       "0"
      ]
     },
     "execution_count": 14,
     "metadata": {},
     "output_type": "execute_result"
    }
   ],
   "source": [
    "-1--1"
   ]
  },
  {
   "cell_type": "code",
   "execution_count": 15,
   "metadata": {},
   "outputs": [
    {
     "data": {
      "text/latex": [
       "$$-2$$"
      ],
      "text/plain": [
       "-2"
      ]
     },
     "execution_count": 15,
     "metadata": {},
     "output_type": "execute_result"
    }
   ],
   "source": [
    "-3--1"
   ]
  },
  {
   "cell_type": "code",
   "execution_count": 16,
   "metadata": {},
   "outputs": [
    {
     "data": {
      "text/latex": [
       "$$6$$"
      ],
      "text/plain": [
       "6"
      ]
     },
     "execution_count": 16,
     "metadata": {},
     "output_type": "execute_result"
    }
   ],
   "source": [
    "7+-1"
   ]
  },
  {
   "cell_type": "code",
   "execution_count": 18,
   "metadata": {},
   "outputs": [
    {
     "data": {
      "text/latex": [
       "$$2$$"
      ],
      "text/plain": [
       "2"
      ]
     },
     "execution_count": 18,
     "metadata": {},
     "output_type": "execute_result"
    }
   ],
   "source": [
    "5+-3"
   ]
  },
  {
   "cell_type": "code",
   "execution_count": 19,
   "metadata": {},
   "outputs": [
    {
     "data": {
      "text/latex": [
       "$$0$$"
      ],
      "text/plain": [
       "0"
      ]
     },
     "execution_count": 19,
     "metadata": {},
     "output_type": "execute_result"
    }
   ],
   "source": [
    "3+-3"
   ]
  },
  {
   "cell_type": "code",
   "execution_count": 22,
   "metadata": {},
   "outputs": [
    {
     "data": {
      "text/latex": [
       "$$-7$$"
      ],
      "text/plain": [
       "-7"
      ]
     },
     "execution_count": 22,
     "metadata": {},
     "output_type": "execute_result"
    }
   ],
   "source": [
    "-1-6"
   ]
  },
  {
   "cell_type": "code",
   "execution_count": 1,
   "metadata": {},
   "outputs": [
    {
     "data": {
      "text/plain": [
       "-16"
      ]
     },
     "execution_count": 1,
     "metadata": {},
     "output_type": "execute_result"
    }
   ],
   "source": [
    "5+-21"
   ]
  },
  {
   "cell_type": "code",
   "execution_count": 2,
   "metadata": {},
   "outputs": [
    {
     "data": {
      "text/plain": [
       "0"
      ]
     },
     "execution_count": 2,
     "metadata": {},
     "output_type": "execute_result"
    }
   ],
   "source": [
    "7+-7"
   ]
  },
  {
   "cell_type": "code",
   "execution_count": 3,
   "metadata": {},
   "outputs": [
    {
     "data": {
      "text/plain": [
       "-21"
      ]
     },
     "execution_count": 3,
     "metadata": {},
     "output_type": "execute_result"
    }
   ],
   "source": [
    "-7*3"
   ]
  },
  {
   "cell_type": "code",
   "execution_count": 4,
   "metadata": {},
   "outputs": [
    {
     "data": {
      "text/plain": [
       "-16"
      ]
     },
     "execution_count": 4,
     "metadata": {},
     "output_type": "execute_result"
    }
   ],
   "source": [
    "5-21"
   ]
  },
  {
   "cell_type": "code",
   "execution_count": 9,
   "metadata": {},
   "outputs": [
    {
     "data": {
      "text/latex": [
       "$$\\left[\\begin{matrix}-18\\\\-12\\end{matrix}\\right]$$"
      ],
      "text/plain": [
       "⎡-18⎤\n",
       "⎢   ⎥\n",
       "⎣-12⎦"
      ]
     },
     "execution_count": 9,
     "metadata": {},
     "output_type": "execute_result"
    }
   ],
   "source": [
    "-2*Matrix([[3],[2]]) + -4*Matrix([[3],[2]])"
   ]
  },
  {
   "cell_type": "code",
   "execution_count": 100,
   "metadata": {},
   "outputs": [
    {
     "data": {
      "text/latex": [
       "$$\\left ( \\left[\\begin{matrix}1 & 0 & 0 & 0\\\\0 & 1 & 0 & 0\\\\0 & 0 & 1 & 0\\end{matrix}\\right], \\quad \\left ( \\left[\\begin{matrix}1 & 0 & 0 & 0\\\\0 & 1 & 0 & 0\\\\0 & 0 & 1 & 0\\end{matrix}\\right], \\quad \\left ( 0, \\quad 1, \\quad 2\\right )\\right )\\right )$$"
      ],
      "text/plain": [
       "⎛⎡1  0  0  0⎤  ⎛⎡1  0  0  0⎤           ⎞⎞\n",
       "⎜⎢          ⎥  ⎜⎢          ⎥           ⎟⎟\n",
       "⎜⎢0  1  0  0⎥, ⎜⎢0  1  0  0⎥, (0, 1, 2)⎟⎟\n",
       "⎜⎢          ⎥  ⎜⎢          ⎥           ⎟⎟\n",
       "⎝⎣0  0  1  0⎦  ⎝⎣0  0  1  0⎦           ⎠⎠"
      ]
     },
     "execution_count": 100,
     "metadata": {},
     "output_type": "execute_result"
    }
   ],
   "source": [
    "#5.9-----------------------------------------------------------------------------------------------------------------------\n",
    "a = Matrix([[1,0,0,0],[0,1,0,0],[0,0,1,0]])\n",
    "R = a.rref()\n",
    "a,R"
   ]
  },
  {
   "cell_type": "code",
   "execution_count": 102,
   "metadata": {},
   "outputs": [
    {
     "data": {
      "text/latex": [
       "$$\\left ( \\left[\\begin{matrix}1 & 2\\\\0 & 0\\\\0 & 0\\end{matrix}\\right], \\quad \\left ( \\left[\\begin{matrix}1 & 2\\\\0 & 0\\\\0 & 0\\end{matrix}\\right], \\quad \\left ( 0\\right )\\right )\\right )$$"
      ],
      "text/plain": [
       "⎛⎡1  2⎤  ⎛⎡1  2⎤      ⎞⎞\n",
       "⎜⎢    ⎥  ⎜⎢    ⎥      ⎟⎟\n",
       "⎜⎢0  0⎥, ⎜⎢0  0⎥, (0,)⎟⎟\n",
       "⎜⎢    ⎥  ⎜⎢    ⎥      ⎟⎟\n",
       "⎝⎣0  0⎦  ⎝⎣0  0⎦      ⎠⎠"
      ]
     },
     "execution_count": 102,
     "metadata": {},
     "output_type": "execute_result"
    }
   ],
   "source": [
    "b = Matrix([[1,2],[0,0],[0,0]])\n",
    "R = b.rref()\n",
    "b,R"
   ]
  },
  {
   "cell_type": "code",
   "execution_count": 103,
   "metadata": {},
   "outputs": [
    {
     "data": {
      "text/latex": [
       "$$\\left ( \\left[\\begin{matrix}1 & 0\\\\0 & 2\\\\0 & 0\\end{matrix}\\right], \\quad \\left ( \\left[\\begin{matrix}1 & 0\\\\0 & 1\\\\0 & 0\\end{matrix}\\right], \\quad \\left ( 0, \\quad 1\\right )\\right )\\right )$$"
      ],
      "text/plain": [
       "⎛⎡1  0⎤  ⎛⎡1  0⎤        ⎞⎞\n",
       "⎜⎢    ⎥  ⎜⎢    ⎥        ⎟⎟\n",
       "⎜⎢0  2⎥, ⎜⎢0  1⎥, (0, 1)⎟⎟\n",
       "⎜⎢    ⎥  ⎜⎢    ⎥        ⎟⎟\n",
       "⎝⎣0  0⎦  ⎝⎣0  0⎦        ⎠⎠"
      ]
     },
     "execution_count": 103,
     "metadata": {},
     "output_type": "execute_result"
    }
   ],
   "source": [
    "c = Matrix([[1,0],[0,2],[0,0]])\n",
    "R = c.rref()\n",
    "c,R"
   ]
  },
  {
   "cell_type": "code",
   "execution_count": 104,
   "metadata": {},
   "outputs": [
    {
     "data": {
      "text/latex": [
       "$$\\left ( \\left[\\begin{matrix}1 & 0 & 0\\\\0 & 2 & 0\\\\0 & 0 & 0\\end{matrix}\\right], \\quad \\left ( \\left[\\begin{matrix}1 & 0 & 0\\\\0 & 1 & 0\\\\0 & 0 & 0\\end{matrix}\\right], \\quad \\left ( 0, \\quad 1\\right )\\right )\\right )$$"
      ],
      "text/plain": [
       "⎛⎡1  0  0⎤  ⎛⎡1  0  0⎤        ⎞⎞\n",
       "⎜⎢       ⎥  ⎜⎢       ⎥        ⎟⎟\n",
       "⎜⎢0  2  0⎥, ⎜⎢0  1  0⎥, (0, 1)⎟⎟\n",
       "⎜⎢       ⎥  ⎜⎢       ⎥        ⎟⎟\n",
       "⎝⎣0  0  0⎦  ⎝⎣0  0  0⎦        ⎠⎠"
      ]
     },
     "execution_count": 104,
     "metadata": {},
     "output_type": "execute_result"
    }
   ],
   "source": [
    "c = Matrix([[1,0,0],[0,2,0],[0,0,0]])\n",
    "R = c.rref()\n",
    "c,R"
   ]
  },
  {
   "cell_type": "code",
   "execution_count": 105,
   "metadata": {},
   "outputs": [
    {
     "data": {
      "text/latex": [
       "$$\\left[\\begin{matrix}0 & 0\\\\0 & 0\\\\0 & 0\\end{matrix}\\right]$$"
      ],
      "text/plain": [
       "⎡0  0⎤\n",
       "⎢    ⎥\n",
       "⎢0  0⎥\n",
       "⎢    ⎥\n",
       "⎣0  0⎦"
      ]
     },
     "execution_count": 105,
     "metadata": {},
     "output_type": "execute_result"
    }
   ],
   "source": [
    "d = Matrix([[0,0],[0,0],[0,0]])\n",
    "d"
   ]
  },
  {
   "cell_type": "code",
   "execution_count": 106,
   "metadata": {},
   "outputs": [
    {
     "data": {
      "text/latex": [
       "$$\\left ( \\left[\\begin{matrix}1 & 1 & 1 & 1\\\\0 & 1 & 1 & 2\\\\0 & 0 & 1 & 3\\end{matrix}\\right], \\quad \\left ( \\left[\\begin{matrix}1 & 0 & 0 & -1\\\\0 & 1 & 0 & -1\\\\0 & 0 & 1 & 3\\end{matrix}\\right], \\quad \\left ( 0, \\quad 1, \\quad 2\\right )\\right )\\right )$$"
      ],
      "text/plain": [
       "⎛⎡1  1  1  1⎤  ⎛⎡1  0  0  -1⎤           ⎞⎞\n",
       "⎜⎢          ⎥  ⎜⎢           ⎥           ⎟⎟\n",
       "⎜⎢0  1  1  2⎥, ⎜⎢0  1  0  -1⎥, (0, 1, 2)⎟⎟\n",
       "⎜⎢          ⎥  ⎜⎢           ⎥           ⎟⎟\n",
       "⎝⎣0  0  1  3⎦  ⎝⎣0  0  1  3 ⎦           ⎠⎠"
      ]
     },
     "execution_count": 106,
     "metadata": {},
     "output_type": "execute_result"
    }
   ],
   "source": [
    "e = Matrix([[1,1,1,1],[0,1,1,2],[0,0,1,3]])\n",
    "R = e.rref()\n",
    "e,R"
   ]
  },
  {
   "cell_type": "code",
   "execution_count": 108,
   "metadata": {},
   "outputs": [
    {
     "data": {
      "text/latex": [
       "$$\\left ( \\left[\\begin{matrix}1 & 1 & 1 & 1 & 0\\\\0 & 1 & 1 & 2 & 0\\\\0 & 0 & 1 & 3 & 0\\end{matrix}\\right], \\quad \\left ( \\left[\\begin{matrix}1 & 0 & 0 & -1 & 0\\\\0 & 1 & 0 & -1 & 0\\\\0 & 0 & 1 & 3 & 0\\end{matrix}\\right], \\quad \\left ( 0, \\quad 1, \\quad 2\\right )\\right )\\right )$$"
      ],
      "text/plain": [
       "⎛⎡1  1  1  1  0⎤  ⎛⎡1  0  0  -1  0⎤           ⎞⎞\n",
       "⎜⎢             ⎥  ⎜⎢              ⎥           ⎟⎟\n",
       "⎜⎢0  1  1  2  0⎥, ⎜⎢0  1  0  -1  0⎥, (0, 1, 2)⎟⎟\n",
       "⎜⎢             ⎥  ⎜⎢              ⎥           ⎟⎟\n",
       "⎝⎣0  0  1  3  0⎦  ⎝⎣0  0  1  3   0⎦           ⎠⎠"
      ]
     },
     "execution_count": 108,
     "metadata": {},
     "output_type": "execute_result"
    }
   ],
   "source": [
    "e = Matrix([[1,1,1,1,0],[0,1,1,2,0],[0,0,1,3,0]])\n",
    "R = e.rref()\n",
    "e,R"
   ]
  },
  {
   "cell_type": "code",
   "execution_count": 107,
   "metadata": {},
   "outputs": [
    {
     "data": {
      "text/latex": [
       "$$\\left ( \\left[\\begin{matrix}1 & 1 & 2 & 0\\\\0 & 1 & 1 & 1\\\\0 & 1 & 1 & 1\\end{matrix}\\right], \\quad \\left ( \\left[\\begin{matrix}1 & 0 & 1 & -1\\\\0 & 1 & 1 & 1\\\\0 & 0 & 0 & 0\\end{matrix}\\right], \\quad \\left ( 0, \\quad 1\\right )\\right )\\right )$$"
      ],
      "text/plain": [
       "⎛⎡1  1  2  0⎤  ⎛⎡1  0  1  -1⎤        ⎞⎞\n",
       "⎜⎢          ⎥  ⎜⎢           ⎥        ⎟⎟\n",
       "⎜⎢0  1  1  1⎥, ⎜⎢0  1  1  1 ⎥, (0, 1)⎟⎟\n",
       "⎜⎢          ⎥  ⎜⎢           ⎥        ⎟⎟\n",
       "⎝⎣0  1  1  1⎦  ⎝⎣0  0  0  0 ⎦        ⎠⎠"
      ]
     },
     "execution_count": 107,
     "metadata": {},
     "output_type": "execute_result"
    }
   ],
   "source": [
    "f = Matrix([[1,1,2,0],[0,1,1,1],[0,1,1,1]])\n",
    "R = f.rref()\n",
    "f,R"
   ]
  },
  {
   "cell_type": "code",
   "execution_count": 109,
   "metadata": {},
   "outputs": [
    {
     "data": {
      "text/latex": [
       "$$\\left ( \\left[\\begin{matrix}1 & 1 & 2 & 0 & 0\\\\0 & 1 & 1 & 1 & 0\\\\0 & 1 & 1 & 1 & 0\\end{matrix}\\right], \\quad \\left ( \\left[\\begin{matrix}1 & 0 & 1 & -1 & 0\\\\0 & 1 & 1 & 1 & 0\\\\0 & 0 & 0 & 0 & 0\\end{matrix}\\right], \\quad \\left ( 0, \\quad 1\\right )\\right )\\right )$$"
      ],
      "text/plain": [
       "⎛⎡1  1  2  0  0⎤  ⎛⎡1  0  1  -1  0⎤        ⎞⎞\n",
       "⎜⎢             ⎥  ⎜⎢              ⎥        ⎟⎟\n",
       "⎜⎢0  1  1  1  0⎥, ⎜⎢0  1  1  1   0⎥, (0, 1)⎟⎟\n",
       "⎜⎢             ⎥  ⎜⎢              ⎥        ⎟⎟\n",
       "⎝⎣0  1  1  1  0⎦  ⎝⎣0  0  0  0   0⎦        ⎠⎠"
      ]
     },
     "execution_count": 109,
     "metadata": {},
     "output_type": "execute_result"
    }
   ],
   "source": [
    "f = Matrix([[1,1,2,0,0],[0,1,1,1,0],[0,1,1,1,0]])\n",
    "R = f.rref()\n",
    "f,R"
   ]
  },
  {
   "cell_type": "code",
   "execution_count": 110,
   "metadata": {},
   "outputs": [
    {
     "data": {
      "text/latex": [
       "$$\\left ( \\left[\\begin{matrix}1 & 2 & 4\\\\0 & 2 & 4\\\\0 & 0 & 4\\end{matrix}\\right], \\quad \\left ( \\left[\\begin{matrix}1 & 0 & 0\\\\0 & 1 & 0\\\\0 & 0 & 1\\end{matrix}\\right], \\quad \\left ( 0, \\quad 1, \\quad 2\\right )\\right )\\right )$$"
      ],
      "text/plain": [
       "⎛⎡1  2  4⎤  ⎛⎡1  0  0⎤           ⎞⎞\n",
       "⎜⎢       ⎥  ⎜⎢       ⎥           ⎟⎟\n",
       "⎜⎢0  2  4⎥, ⎜⎢0  1  0⎥, (0, 1, 2)⎟⎟\n",
       "⎜⎢       ⎥  ⎜⎢       ⎥           ⎟⎟\n",
       "⎝⎣0  0  4⎦  ⎝⎣0  0  1⎦           ⎠⎠"
      ]
     },
     "execution_count": 110,
     "metadata": {},
     "output_type": "execute_result"
    }
   ],
   "source": [
    "g = Matrix([[1,2,4],[0,2,4],[0,0,4]])\n",
    "R = g.rref()\n",
    "g,R"
   ]
  },
  {
   "cell_type": "code",
   "execution_count": 111,
   "metadata": {},
   "outputs": [
    {
     "data": {
      "text/latex": [
       "$$\\left ( \\left[\\begin{matrix}1 & 0 & 1\\\\0 & 1 & 1\\\\1 & 1 & 2\\end{matrix}\\right], \\quad \\left ( \\left[\\begin{matrix}1 & 0 & 1\\\\0 & 1 & 1\\\\0 & 0 & 0\\end{matrix}\\right], \\quad \\left ( 0, \\quad 1\\right )\\right )\\right )$$"
      ],
      "text/plain": [
       "⎛⎡1  0  1⎤  ⎛⎡1  0  1⎤        ⎞⎞\n",
       "⎜⎢       ⎥  ⎜⎢       ⎥        ⎟⎟\n",
       "⎜⎢0  1  1⎥, ⎜⎢0  1  1⎥, (0, 1)⎟⎟\n",
       "⎜⎢       ⎥  ⎜⎢       ⎥        ⎟⎟\n",
       "⎝⎣1  1  2⎦  ⎝⎣0  0  0⎦        ⎠⎠"
      ]
     },
     "execution_count": 111,
     "metadata": {},
     "output_type": "execute_result"
    }
   ],
   "source": [
    "h = Matrix([[1,0,1],[0,1,1],[1,1,2]])\n",
    "R = h.rref()\n",
    "h,R"
   ]
  },
  {
   "cell_type": "code",
   "execution_count": 112,
   "metadata": {},
   "outputs": [
    {
     "data": {
      "text/latex": [
       "$$\\left ( \\left[\\begin{matrix}1 & 0 & 1 & 0\\\\0 & 1 & 1 & 0\\\\1 & 1 & 2 & 0\\end{matrix}\\right], \\quad \\left ( \\left[\\begin{matrix}1 & 0 & 1 & 0\\\\0 & 1 & 1 & 0\\\\0 & 0 & 0 & 0\\end{matrix}\\right], \\quad \\left ( 0, \\quad 1\\right )\\right )\\right )$$"
      ],
      "text/plain": [
       "⎛⎡1  0  1  0⎤  ⎛⎡1  0  1  0⎤        ⎞⎞\n",
       "⎜⎢          ⎥  ⎜⎢          ⎥        ⎟⎟\n",
       "⎜⎢0  1  1  0⎥, ⎜⎢0  1  1  0⎥, (0, 1)⎟⎟\n",
       "⎜⎢          ⎥  ⎜⎢          ⎥        ⎟⎟\n",
       "⎝⎣1  1  2  0⎦  ⎝⎣0  0  0  0⎦        ⎠⎠"
      ]
     },
     "execution_count": 112,
     "metadata": {},
     "output_type": "execute_result"
    }
   ],
   "source": [
    "h = Matrix([[1,0,1,0],[0,1,1,0],[1,1,2,0]])\n",
    "R = h.rref()\n",
    "h,R"
   ]
  },
  {
   "cell_type": "code",
   "execution_count": 12,
   "metadata": {},
   "outputs": [
    {
     "data": {
      "text/latex": [
       "$$\\left ( \\left[\\begin{matrix}7 & 6 & 0\\\\5 & 2 & 0\\\\3 & 0 & 0\\end{matrix}\\right], \\quad \\left ( \\left[\\begin{matrix}1 & 0 & 0\\\\0 & 1 & 0\\\\0 & 0 & 0\\end{matrix}\\right], \\quad \\left ( 0, \\quad 1\\right )\\right )\\right )$$"
      ],
      "text/plain": [
       "⎛⎡7  6  0⎤  ⎛⎡1  0  0⎤        ⎞⎞\n",
       "⎜⎢       ⎥  ⎜⎢       ⎥        ⎟⎟\n",
       "⎜⎢5  2  0⎥, ⎜⎢0  1  0⎥, (0, 1)⎟⎟\n",
       "⎜⎢       ⎥  ⎜⎢       ⎥        ⎟⎟\n",
       "⎝⎣3  0  0⎦  ⎝⎣0  0  0⎦        ⎠⎠"
      ]
     },
     "execution_count": 12,
     "metadata": {},
     "output_type": "execute_result"
    }
   ],
   "source": [
    "L = Matrix([[7,6,0],[5,2,0],[3,0,0]])\n",
    "R = L.rref()\n",
    "L,R"
   ]
  },
  {
   "cell_type": "code",
   "execution_count": 11,
   "metadata": {},
   "outputs": [
    {
     "data": {
      "text/latex": [
       "$$\\left ( \\left[\\begin{matrix}-1 & 0\\\\-3 & 0\\\\-3 & 0\\end{matrix}\\right], \\quad \\left ( \\left[\\begin{matrix}1 & 0\\\\0 & 0\\\\0 & 0\\end{matrix}\\right], \\quad \\left ( 0\\right )\\right )\\right )$$"
      ],
      "text/plain": [
       "⎛⎡-1  0⎤  ⎛⎡1  0⎤      ⎞⎞\n",
       "⎜⎢     ⎥  ⎜⎢    ⎥      ⎟⎟\n",
       "⎜⎢-3  0⎥, ⎜⎢0  0⎥, (0,)⎟⎟\n",
       "⎜⎢     ⎥  ⎜⎢    ⎥      ⎟⎟\n",
       "⎝⎣-3  0⎦  ⎝⎣0  0⎦      ⎠⎠"
      ]
     },
     "execution_count": 11,
     "metadata": {},
     "output_type": "execute_result"
    }
   ],
   "source": [
    "M = Matrix([[-1,0],[-3,0],[-3,0]])\n",
    "R = M.rref()\n",
    "M,R"
   ]
  },
  {
   "cell_type": "code",
   "execution_count": 15,
   "metadata": {},
   "outputs": [
    {
     "data": {
      "text/latex": [
       "$$\\left[\\begin{matrix}-1\\\\-3\\\\-3\\end{matrix}\\right]$$"
      ],
      "text/plain": [
       "⎡-1⎤\n",
       "⎢  ⎥\n",
       "⎢-3⎥\n",
       "⎢  ⎥\n",
       "⎣-3⎦"
      ]
     },
     "execution_count": 15,
     "metadata": {},
     "output_type": "execute_result"
    }
   ],
   "source": [
    "Matrix([[6],[2],[0]]) - Matrix([[7],[5],[3]])"
   ]
  },
  {
   "cell_type": "code",
   "execution_count": null,
   "metadata": {},
   "outputs": [],
   "source": []
  }
 ],
 "metadata": {
  "kernelspec": {
   "display_name": "Python 3",
   "language": "python",
   "name": "python3"
  },
  "language_info": {
   "codemirror_mode": {
    "name": "ipython",
    "version": 3
   },
   "file_extension": ".py",
   "mimetype": "text/x-python",
   "name": "python",
   "nbconvert_exporter": "python",
   "pygments_lexer": "ipython3",
   "version": "3.6.5"
  }
 },
 "nbformat": 4,
 "nbformat_minor": 2
}
