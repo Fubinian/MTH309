{
 "cells": [
  {
   "cell_type": "code",
   "execution_count": 1,
   "metadata": {},
   "outputs": [
    {
     "name": "stdout",
     "output_type": "stream",
     "text": [
      "Populating the interactive namespace from numpy and matplotlib\n"
     ]
    }
   ],
   "source": [
    "%pylab inline"
   ]
  },
  {
   "cell_type": "code",
   "execution_count": 2,
   "metadata": {},
   "outputs": [],
   "source": [
    "from sympy import *"
   ]
  },
  {
   "cell_type": "code",
   "execution_count": 3,
   "metadata": {},
   "outputs": [],
   "source": [
    "init_printing(use_latex='mathjax')"
   ]
  },
  {
   "cell_type": "code",
   "execution_count": 5,
   "metadata": {},
   "outputs": [
    {
     "data": {
      "text/latex": [
       "$$\\left ( \\left[\\begin{matrix}1\\\\0\\\\-1\\\\1\\end{matrix}\\right], \\quad \\left[\\begin{matrix}2\\\\1\\\\-1\\\\0\\end{matrix}\\right], \\quad \\left[\\begin{matrix}2\\\\-2\\\\-1\\\\3\\end{matrix}\\right], \\quad \\left[\\begin{matrix}3\\\\3\\\\3\\\\3\\end{matrix}\\right]\\right )$$"
      ],
      "text/plain": [
       "⎛⎡1 ⎤  ⎡2 ⎤  ⎡2 ⎤  ⎡3⎤⎞\n",
       "⎜⎢  ⎥  ⎢  ⎥  ⎢  ⎥  ⎢ ⎥⎟\n",
       "⎜⎢0 ⎥  ⎢1 ⎥  ⎢-2⎥  ⎢3⎥⎟\n",
       "⎜⎢  ⎥, ⎢  ⎥, ⎢  ⎥, ⎢ ⎥⎟\n",
       "⎜⎢-1⎥  ⎢-1⎥  ⎢-1⎥  ⎢3⎥⎟\n",
       "⎜⎢  ⎥  ⎢  ⎥  ⎢  ⎥  ⎢ ⎥⎟\n",
       "⎝⎣1 ⎦  ⎣0 ⎦  ⎣3 ⎦  ⎣3⎦⎠"
      ]
     },
     "execution_count": 5,
     "metadata": {},
     "output_type": "execute_result"
    }
   ],
   "source": [
    "v1 = Matrix([[1],[0],[-1],[1]])\n",
    "v2 = Matrix([[2],[1],[-1],[0]])\n",
    "v3 = Matrix([[2],[-2],[-1],[3]])\n",
    "u = Matrix([[3],[3],[3],[3]])\n",
    "\n",
    "v1,v2,v3,u"
   ]
  },
  {
   "cell_type": "code",
   "execution_count": 9,
   "metadata": {},
   "outputs": [
    {
     "data": {
      "text/latex": [
       "$$\\left [ \\left[\\begin{matrix}1\\\\0\\\\-1\\\\1\\end{matrix}\\right], \\quad \\left[\\begin{matrix}1\\\\1\\\\0\\\\-1\\end{matrix}\\right], \\quad \\left[\\begin{matrix}1\\\\-1\\\\1\\\\0\\end{matrix}\\right]\\right ]$$"
      ],
      "text/plain": [
       "⎡⎡1 ⎤  ⎡1 ⎤  ⎡1 ⎤⎤\n",
       "⎢⎢  ⎥  ⎢  ⎥  ⎢  ⎥⎥\n",
       "⎢⎢0 ⎥  ⎢1 ⎥  ⎢-1⎥⎥\n",
       "⎢⎢  ⎥, ⎢  ⎥, ⎢  ⎥⎥\n",
       "⎢⎢-1⎥  ⎢0 ⎥  ⎢1 ⎥⎥\n",
       "⎢⎢  ⎥  ⎢  ⎥  ⎢  ⎥⎥\n",
       "⎣⎣1 ⎦  ⎣-1⎦  ⎣0 ⎦⎦"
      ]
     },
     "execution_count": 9,
     "metadata": {},
     "output_type": "execute_result"
    }
   ],
   "source": [
    "GramSchmidt([v1,v2,v3])"
   ]
  },
  {
   "cell_type": "code",
   "execution_count": 10,
   "metadata": {},
   "outputs": [],
   "source": [
    "w1 = v1"
   ]
  },
  {
   "cell_type": "code",
   "execution_count": 11,
   "metadata": {},
   "outputs": [
    {
     "data": {
      "text/latex": [
       "$$3$$"
      ],
      "text/plain": [
       "3"
      ]
     },
     "execution_count": 11,
     "metadata": {},
     "output_type": "execute_result"
    }
   ],
   "source": [
    "w1.dot(v2)"
   ]
  },
  {
   "cell_type": "code",
   "execution_count": 6,
   "metadata": {},
   "outputs": [
    {
     "data": {
      "text/latex": [
       "$$3$$"
      ],
      "text/plain": [
       "3"
      ]
     },
     "execution_count": 6,
     "metadata": {},
     "output_type": "execute_result"
    }
   ],
   "source": [
    "u.dot(v1)"
   ]
  },
  {
   "cell_type": "code",
   "execution_count": 7,
   "metadata": {},
   "outputs": [
    {
     "data": {
      "text/latex": [
       "$$3$$"
      ],
      "text/plain": [
       "3"
      ]
     },
     "execution_count": 7,
     "metadata": {},
     "output_type": "execute_result"
    }
   ],
   "source": [
    "v1.dot(v1)"
   ]
  },
  {
   "cell_type": "code",
   "execution_count": 8,
   "metadata": {},
   "outputs": [
    {
     "data": {
      "text/latex": [
       "$$6$$"
      ],
      "text/plain": [
       "6"
      ]
     },
     "execution_count": 8,
     "metadata": {},
     "output_type": "execute_result"
    }
   ],
   "source": [
    "u.dot(v2)"
   ]
  },
  {
   "cell_type": "code",
   "execution_count": 9,
   "metadata": {},
   "outputs": [
    {
     "data": {
      "text/latex": [
       "$$6$$"
      ],
      "text/plain": [
       "6"
      ]
     },
     "execution_count": 9,
     "metadata": {},
     "output_type": "execute_result"
    }
   ],
   "source": [
    "v2.dot(v2)"
   ]
  },
  {
   "cell_type": "code",
   "execution_count": 10,
   "metadata": {},
   "outputs": [
    {
     "data": {
      "text/latex": [
       "$$6$$"
      ],
      "text/plain": [
       "6"
      ]
     },
     "execution_count": 10,
     "metadata": {},
     "output_type": "execute_result"
    }
   ],
   "source": [
    "u.dot(v3)"
   ]
  },
  {
   "cell_type": "code",
   "execution_count": 11,
   "metadata": {},
   "outputs": [
    {
     "data": {
      "text/latex": [
       "$$18$$"
      ],
      "text/plain": [
       "18"
      ]
     },
     "execution_count": 11,
     "metadata": {},
     "output_type": "execute_result"
    }
   ],
   "source": [
    "v3.dot(v3)"
   ]
  },
  {
   "cell_type": "code",
   "execution_count": 12,
   "metadata": {},
   "outputs": [
    {
     "data": {
      "text/latex": [
       "$$\\left[\\begin{matrix}\\frac{2}{3}\\\\- \\frac{2}{3}\\\\- \\frac{1}{3}\\\\1\\end{matrix}\\right]$$"
      ],
      "text/plain": [
       "⎡2/3 ⎤\n",
       "⎢    ⎥\n",
       "⎢-2/3⎥\n",
       "⎢    ⎥\n",
       "⎢-1/3⎥\n",
       "⎢    ⎥\n",
       "⎣ 1  ⎦"
      ]
     },
     "execution_count": 12,
     "metadata": {},
     "output_type": "execute_result"
    }
   ],
   "source": [
    "Rational(6,18)*Matrix([[2],[-2],[-1],[3]])"
   ]
  },
  {
   "cell_type": "code",
   "execution_count": 15,
   "metadata": {},
   "outputs": [
    {
     "data": {
      "text/latex": [
       "$$\\frac{11}{3}$$"
      ],
      "text/plain": [
       "11/3"
      ]
     },
     "execution_count": 15,
     "metadata": {},
     "output_type": "execute_result"
    }
   ],
   "source": [
    "3+(Rational(2,3))"
   ]
  },
  {
   "cell_type": "code",
   "execution_count": 16,
   "metadata": {},
   "outputs": [
    {
     "data": {
      "text/latex": [
       "$$\\frac{1}{3}$$"
      ],
      "text/plain": [
       "1/3"
      ]
     },
     "execution_count": 16,
     "metadata": {},
     "output_type": "execute_result"
    }
   ],
   "source": [
    "1+Rational(-2,3)"
   ]
  },
  {
   "cell_type": "code",
   "execution_count": 11,
   "metadata": {},
   "outputs": [
    {
     "data": {
      "text/latex": [
       "$$\\left[\\begin{matrix}1\\\\0\\\\-1\\\\1\\end{matrix}\\right]$$"
      ],
      "text/plain": [
       "⎡1 ⎤\n",
       "⎢  ⎥\n",
       "⎢0 ⎥\n",
       "⎢  ⎥\n",
       "⎢-1⎥\n",
       "⎢  ⎥\n",
       "⎣1 ⎦"
      ]
     },
     "execution_count": 11,
     "metadata": {},
     "output_type": "execute_result"
    }
   ],
   "source": [
    "(((u.dot(v1))/(v1.dot(v1))*v1))"
   ]
  },
  {
   "cell_type": "code",
   "execution_count": 9,
   "metadata": {},
   "outputs": [
    {
     "data": {
      "text/latex": [
       "$$3$$"
      ],
      "text/plain": [
       "3"
      ]
     },
     "execution_count": 9,
     "metadata": {},
     "output_type": "execute_result"
    }
   ],
   "source": [
    "u.dot(v1)"
   ]
  },
  {
   "cell_type": "code",
   "execution_count": 10,
   "metadata": {},
   "outputs": [
    {
     "data": {
      "text/latex": [
       "$$3$$"
      ],
      "text/plain": [
       "3"
      ]
     },
     "execution_count": 10,
     "metadata": {},
     "output_type": "execute_result"
    }
   ],
   "source": [
    "v1.dot(v1)"
   ]
  },
  {
   "cell_type": "code",
   "execution_count": 12,
   "metadata": {},
   "outputs": [
    {
     "data": {
      "text/latex": [
       "$$6$$"
      ],
      "text/plain": [
       "6"
      ]
     },
     "execution_count": 12,
     "metadata": {},
     "output_type": "execute_result"
    }
   ],
   "source": [
    "u.dot(v2)"
   ]
  },
  {
   "cell_type": "code",
   "execution_count": 13,
   "metadata": {},
   "outputs": [
    {
     "data": {
      "text/latex": [
       "$$6$$"
      ],
      "text/plain": [
       "6"
      ]
     },
     "execution_count": 13,
     "metadata": {},
     "output_type": "execute_result"
    }
   ],
   "source": [
    "v2.dot(v2)"
   ]
  },
  {
   "cell_type": "code",
   "execution_count": 14,
   "metadata": {},
   "outputs": [
    {
     "data": {
      "text/latex": [
       "$$6$$"
      ],
      "text/plain": [
       "6"
      ]
     },
     "execution_count": 14,
     "metadata": {},
     "output_type": "execute_result"
    }
   ],
   "source": [
    "u.dot(v3)"
   ]
  },
  {
   "cell_type": "code",
   "execution_count": 15,
   "metadata": {},
   "outputs": [
    {
     "data": {
      "text/latex": [
       "$$18$$"
      ],
      "text/plain": [
       "18"
      ]
     },
     "execution_count": 15,
     "metadata": {},
     "output_type": "execute_result"
    }
   ],
   "source": [
    "v3.dot(v3)"
   ]
  },
  {
   "cell_type": "code",
   "execution_count": 16,
   "metadata": {},
   "outputs": [
    {
     "data": {
      "text/latex": [
       "$$\\frac{1}{3}$$"
      ],
      "text/plain": [
       "1/3"
      ]
     },
     "execution_count": 16,
     "metadata": {},
     "output_type": "execute_result"
    }
   ],
   "source": [
    "Rational(6,18)"
   ]
  },
  {
   "cell_type": "code",
   "execution_count": 17,
   "metadata": {},
   "outputs": [
    {
     "data": {
      "text/latex": [
       "$$\\left[\\begin{matrix}\\frac{2}{3}\\\\- \\frac{2}{3}\\\\- \\frac{1}{3}\\\\1\\end{matrix}\\right]$$"
      ],
      "text/plain": [
       "⎡2/3 ⎤\n",
       "⎢    ⎥\n",
       "⎢-2/3⎥\n",
       "⎢    ⎥\n",
       "⎢-1/3⎥\n",
       "⎢    ⎥\n",
       "⎣ 1  ⎦"
      ]
     },
     "execution_count": 17,
     "metadata": {},
     "output_type": "execute_result"
    }
   ],
   "source": [
    "Rational(1,3)*v3"
   ]
  },
  {
   "cell_type": "code",
   "execution_count": 18,
   "metadata": {},
   "outputs": [
    {
     "data": {
      "text/latex": [
       "$$\\left[\\begin{matrix}\\frac{11}{3}\\\\\\frac{1}{3}\\\\- \\frac{7}{3}\\\\2\\end{matrix}\\right]$$"
      ],
      "text/plain": [
       "⎡11/3⎤\n",
       "⎢    ⎥\n",
       "⎢1/3 ⎥\n",
       "⎢    ⎥\n",
       "⎢-7/3⎥\n",
       "⎢    ⎥\n",
       "⎣ 2  ⎦"
      ]
     },
     "execution_count": 18,
     "metadata": {},
     "output_type": "execute_result"
    }
   ],
   "source": [
    "v1 + v2 + Out[17]"
   ]
  },
  {
   "cell_type": "code",
   "execution_count": 19,
   "metadata": {},
   "outputs": [
    {
     "data": {
      "text/latex": [
       "$$6$$"
      ],
      "text/plain": [
       "6"
      ]
     },
     "execution_count": 19,
     "metadata": {},
     "output_type": "execute_result"
    }
   ],
   "source": [
    "3*2 + 3*1 + 3*-1 + 3*0"
   ]
  },
  {
   "cell_type": "code",
   "execution_count": 21,
   "metadata": {},
   "outputs": [
    {
     "data": {
      "text/latex": [
       "$$6$$"
      ],
      "text/plain": [
       "6"
      ]
     },
     "execution_count": 21,
     "metadata": {},
     "output_type": "execute_result"
    }
   ],
   "source": [
    "2*2 + 1*1 + -1*-1 + 0*0"
   ]
  },
  {
   "cell_type": "code",
   "execution_count": 22,
   "metadata": {},
   "outputs": [
    {
     "data": {
      "text/latex": [
       "$$\\left ( \\left[\\begin{matrix}1 & 1\\\\-1 & 1\\\\2 & 1\\end{matrix}\\right], \\quad \\left[\\begin{matrix}0\\\\2\\\\1\\end{matrix}\\right]\\right )$$"
      ],
      "text/plain": [
       "⎛⎡1   1⎤  ⎡0⎤⎞\n",
       "⎜⎢     ⎥  ⎢ ⎥⎟\n",
       "⎜⎢-1  1⎥, ⎢2⎥⎟\n",
       "⎜⎢     ⎥  ⎢ ⎥⎟\n",
       "⎝⎣2   1⎦  ⎣1⎦⎠"
      ]
     },
     "execution_count": 22,
     "metadata": {},
     "output_type": "execute_result"
    }
   ],
   "source": [
    "A = Matrix([[1,1],[-1,1],[2,1]])\n",
    "b = Matrix([[0],[2],[1]])\n",
    "\n",
    "A,b"
   ]
  },
  {
   "cell_type": "code",
   "execution_count": 20,
   "metadata": {},
   "outputs": [
    {
     "data": {
      "text/latex": [
       "$$\\left[\\begin{matrix}1 & -1 & 2\\\\1 & 1 & 1\\end{matrix}\\right]$$"
      ],
      "text/plain": [
       "⎡1  -1  2⎤\n",
       "⎢        ⎥\n",
       "⎣1  1   1⎦"
      ]
     },
     "execution_count": 20,
     "metadata": {},
     "output_type": "execute_result"
    }
   ],
   "source": [
    "A.transpose()"
   ]
  },
  {
   "cell_type": "code",
   "execution_count": 21,
   "metadata": {},
   "outputs": [
    {
     "data": {
      "text/latex": [
       "$$\\left[\\begin{matrix}6 & 2\\\\2 & 3\\end{matrix}\\right]$$"
      ],
      "text/plain": [
       "⎡6  2⎤\n",
       "⎢    ⎥\n",
       "⎣2  3⎦"
      ]
     },
     "execution_count": 21,
     "metadata": {},
     "output_type": "execute_result"
    }
   ],
   "source": [
    "Out[20] * A"
   ]
  },
  {
   "cell_type": "code",
   "execution_count": 23,
   "metadata": {},
   "outputs": [
    {
     "data": {
      "text/latex": [
       "$$\\left[\\begin{matrix}0\\\\3\\end{matrix}\\right]$$"
      ],
      "text/plain": [
       "⎡0⎤\n",
       "⎢ ⎥\n",
       "⎣3⎦"
      ]
     },
     "execution_count": 23,
     "metadata": {},
     "output_type": "execute_result"
    }
   ],
   "source": [
    "Out[20] * b"
   ]
  },
  {
   "cell_type": "code",
   "execution_count": 24,
   "metadata": {},
   "outputs": [
    {
     "data": {
      "text/latex": [
       "$$\\left ( \\left[\\begin{matrix}1 & 0 & - \\frac{3}{7}\\\\0 & 1 & \\frac{9}{7}\\end{matrix}\\right], \\quad \\left ( 0, \\quad 1\\right )\\right )$$"
      ],
      "text/plain": [
       "⎛⎡1  0  -3/7⎤        ⎞\n",
       "⎜⎢          ⎥, (0, 1)⎟\n",
       "⎝⎣0  1  9/7 ⎦        ⎠"
      ]
     },
     "execution_count": 24,
     "metadata": {},
     "output_type": "execute_result"
    }
   ],
   "source": [
    "Matrix([[6,2,0],[2,3,3]]).rref()"
   ]
  },
  {
   "cell_type": "code",
   "execution_count": 25,
   "metadata": {},
   "outputs": [],
   "source": [
    "Lambda = symbols('lambda')"
   ]
  },
  {
   "cell_type": "code",
   "execution_count": 29,
   "metadata": {},
   "outputs": [
    {
     "data": {
      "text/latex": [
       "$$- \\lambda^{3} + 3 \\lambda^{2} + 7 \\lambda - 6$$"
      ],
      "text/plain": [
       "   3      2          \n",
       "- λ  + 3⋅λ  + 7⋅λ - 6"
      ]
     },
     "execution_count": 29,
     "metadata": {},
     "output_type": "execute_result"
    }
   ],
   "source": [
    "expand(((0-Lambda)*(1-Lambda)*(2-Lambda)) + 1*0*4 + 2*1*2 - 2*(1-Lambda)*4 - (0-Lambda)*0*2 - 1*1*(2-Lambda))"
   ]
  },
  {
   "cell_type": "code",
   "execution_count": 30,
   "metadata": {},
   "outputs": [
    {
     "data": {
      "text/latex": [
       "$$- \\lambda^{3} + 3 \\lambda^{2} - 2 \\lambda$$"
      ],
      "text/plain": [
       "   3      2      \n",
       "- λ  + 3⋅λ  - 2⋅λ"
      ]
     },
     "execution_count": 30,
     "metadata": {},
     "output_type": "execute_result"
    }
   ],
   "source": [
    "expand((0-Lambda)*(1-Lambda)*(2-Lambda))"
   ]
  },
  {
   "cell_type": "code",
   "execution_count": 31,
   "metadata": {},
   "outputs": [
    {
     "data": {
      "text/latex": [
       "$$9 \\lambda - 6$$"
      ],
      "text/plain": [
       "9⋅λ - 6"
      ]
     },
     "execution_count": 31,
     "metadata": {},
     "output_type": "execute_result"
    }
   ],
   "source": [
    "1*0*4 + 2*1*2 - 2*(1-Lambda)*4 - (0-Lambda)*0*2 - 1*1*(2-Lambda)"
   ]
  },
  {
   "cell_type": "code",
   "execution_count": 32,
   "metadata": {},
   "outputs": [
    {
     "data": {
      "text/latex": [
       "$$- 7 \\lambda + 6$$"
      ],
      "text/plain": [
       "-7⋅λ + 6"
      ]
     },
     "execution_count": 32,
     "metadata": {},
     "output_type": "execute_result"
    }
   ],
   "source": [
    "2*(1-Lambda)*4 - (0-Lambda)*0*2 - 1*1*(2-Lambda)"
   ]
  },
  {
   "cell_type": "code",
   "execution_count": 41,
   "metadata": {},
   "outputs": [
    {
     "data": {
      "text/latex": [
       "$$\\left[\\begin{matrix}0 & 1 & 2\\\\1 & 1 & 0\\\\4 & 2 & 2\\end{matrix}\\right]$$"
      ],
      "text/plain": [
       "⎡0  1  2⎤\n",
       "⎢       ⎥\n",
       "⎢1  1  0⎥\n",
       "⎢       ⎥\n",
       "⎣4  2  2⎦"
      ]
     },
     "execution_count": 41,
     "metadata": {},
     "output_type": "execute_result"
    }
   ],
   "source": [
    "Matrix([[0,1,2],[1,1,0],[4,2,2]])"
   ]
  },
  {
   "cell_type": "code",
   "execution_count": 33,
   "metadata": {},
   "outputs": [
    {
     "data": {
      "text/latex": [
       "$$\\operatorname{PurePoly}{\\left( \\lambda^{3} - 3 \\lambda^{2} - 7 \\lambda + 6, \\lambda, domain=\\mathbb{Z} \\right)}$$"
      ],
      "text/plain": [
       "PurePoly(lambda**3 - 3*lambda**2 - 7*lambda + 6, lambda, domain='ZZ')"
      ]
     },
     "execution_count": 33,
     "metadata": {},
     "output_type": "execute_result"
    }
   ],
   "source": [
    "Matrix([[0,1,2],[1,1,0],[4,2,2]]).charpoly()"
   ]
  },
  {
   "cell_type": "code",
   "execution_count": 35,
   "metadata": {},
   "outputs": [
    {
     "data": {
      "text/latex": [
       "$$8 \\lambda - 8$$"
      ],
      "text/plain": [
       "8⋅λ - 8"
      ]
     },
     "execution_count": 35,
     "metadata": {},
     "output_type": "execute_result"
    }
   ],
   "source": [
    "-(2* (1-Lambda) *4)"
   ]
  },
  {
   "cell_type": "code",
   "execution_count": 37,
   "metadata": {},
   "outputs": [
    {
     "data": {
      "text/latex": [
       "$$0$$"
      ],
      "text/plain": [
       "0"
      ]
     },
     "execution_count": 37,
     "metadata": {},
     "output_type": "execute_result"
    }
   ],
   "source": [
    "-((0-Lambda)*0*2)"
   ]
  },
  {
   "cell_type": "code",
   "execution_count": 38,
   "metadata": {},
   "outputs": [
    {
     "data": {
      "text/latex": [
       "$$\\lambda - 2$$"
      ],
      "text/plain": [
       "λ - 2"
      ]
     },
     "execution_count": 38,
     "metadata": {},
     "output_type": "execute_result"
    }
   ],
   "source": [
    "-(1*1*(2-Lambda))"
   ]
  },
  {
   "cell_type": "code",
   "execution_count": 39,
   "metadata": {},
   "outputs": [
    {
     "data": {
      "text/latex": [
       "$$\\left \\{ -2 : 1, \\quad - \\frac{\\sqrt{13}}{2} + \\frac{5}{2} : 1, \\quad \\frac{\\sqrt{13}}{2} + \\frac{5}{2} : 1\\right \\}$$"
      ],
      "text/plain": [
       "⎧         √13   5     √13   5   ⎫\n",
       "⎨-2: 1, - ─── + ─: 1, ─── + ─: 1⎬\n",
       "⎩          2    2      2    2   ⎭"
      ]
     },
     "execution_count": 39,
     "metadata": {},
     "output_type": "execute_result"
    }
   ],
   "source": [
    "roots(Lambda**3 - 3*Lambda**2 - 7*Lambda + 6)"
   ]
  },
  {
   "cell_type": "code",
   "execution_count": 40,
   "metadata": {},
   "outputs": [
    {
     "data": {
      "text/latex": [
       "$$-6$$"
      ],
      "text/plain": [
       "-6"
      ]
     },
     "execution_count": 40,
     "metadata": {},
     "output_type": "execute_result"
    }
   ],
   "source": [
    "4-8-2"
   ]
  },
  {
   "cell_type": "code",
   "execution_count": 42,
   "metadata": {},
   "outputs": [
    {
     "data": {
      "text/latex": [
       "$$-5$$"
      ],
      "text/plain": [
       "-5"
      ]
     },
     "execution_count": 42,
     "metadata": {},
     "output_type": "execute_result"
    }
   ],
   "source": [
    "11-16"
   ]
  },
  {
   "cell_type": "code",
   "execution_count": 43,
   "metadata": {},
   "outputs": [
    {
     "data": {
      "text/latex": [
       "$$-24$$"
      ],
      "text/plain": [
       "-24"
      ]
     },
     "execution_count": 43,
     "metadata": {},
     "output_type": "execute_result"
    }
   ],
   "source": [
    "-8-16"
   ]
  },
  {
   "cell_type": "code",
   "execution_count": 44,
   "metadata": {},
   "outputs": [
    {
     "data": {
      "text/latex": [
       "$$-9$$"
      ],
      "text/plain": [
       "-9"
      ]
     },
     "execution_count": 44,
     "metadata": {},
     "output_type": "execute_result"
    }
   ],
   "source": [
    "-1-8"
   ]
  },
  {
   "cell_type": "code",
   "execution_count": 45,
   "metadata": {},
   "outputs": [
    {
     "data": {
      "text/latex": [
       "$$12$$"
      ],
      "text/plain": [
       "12"
      ]
     },
     "execution_count": 45,
     "metadata": {},
     "output_type": "execute_result"
    }
   ],
   "source": [
    "4--8"
   ]
  },
  {
   "cell_type": "code",
   "execution_count": 52,
   "metadata": {},
   "outputs": [
    {
     "data": {
      "text/latex": [
       "$$\\left[\\begin{matrix}1 & 8 & 4 & 0\\\\-2 & 11 & 4 & 0\\\\2 & -8 & -1 & 0\\end{matrix}\\right]$$"
      ],
      "text/plain": [
       "⎡1   8   4   0⎤\n",
       "⎢             ⎥\n",
       "⎢-2  11  4   0⎥\n",
       "⎢             ⎥\n",
       "⎣2   -8  -1  0⎦"
      ]
     },
     "execution_count": 52,
     "metadata": {},
     "output_type": "execute_result"
    }
   ],
   "source": [
    "A = Matrix([[1,8,4,0],[-2,11,4,0],[2,-8,-1,0]])\n",
    "A"
   ]
  },
  {
   "cell_type": "code",
   "execution_count": 53,
   "metadata": {},
   "outputs": [
    {
     "data": {
      "text/latex": [
       "$$\\left ( \\left[\\begin{matrix}1 & 0 & 0 & 0\\\\0 & 1 & 0 & 0\\\\0 & 0 & 1 & 0\\end{matrix}\\right], \\quad \\left ( 0, \\quad 1, \\quad 2\\right )\\right )$$"
      ],
      "text/plain": [
       "⎛⎡1  0  0  0⎤           ⎞\n",
       "⎜⎢          ⎥           ⎟\n",
       "⎜⎢0  1  0  0⎥, (0, 1, 2)⎟\n",
       "⎜⎢          ⎥           ⎟\n",
       "⎝⎣0  0  1  0⎦           ⎠"
      ]
     },
     "execution_count": 53,
     "metadata": {},
     "output_type": "execute_result"
    }
   ],
   "source": [
    "A.rref()"
   ]
  },
  {
   "cell_type": "code",
   "execution_count": 55,
   "metadata": {},
   "outputs": [
    {
     "data": {
      "text/latex": [
       "$$\\left[\\begin{matrix}-2 & 8 & 4 & 0\\\\-2 & 8 & 4 & 0\\\\2 & -8 & -4 & 0\\end{matrix}\\right]$$"
      ],
      "text/plain": [
       "⎡-2  8   4   0⎤\n",
       "⎢             ⎥\n",
       "⎢-2  8   4   0⎥\n",
       "⎢             ⎥\n",
       "⎣2   -8  -4  0⎦"
      ]
     },
     "execution_count": 55,
     "metadata": {},
     "output_type": "execute_result"
    }
   ],
   "source": [
    "A = Matrix([[-2,8,4,0],[-2,8,4,0],[2,-8,-4,0]])\n",
    "A"
   ]
  },
  {
   "cell_type": "code",
   "execution_count": 56,
   "metadata": {},
   "outputs": [
    {
     "data": {
      "text/latex": [
       "$$\\left ( \\left[\\begin{matrix}1 & -4 & -2 & 0\\\\0 & 0 & 0 & 0\\\\0 & 0 & 0 & 0\\end{matrix}\\right], \\quad \\left ( 0\\right )\\right )$$"
      ],
      "text/plain": [
       "⎛⎡1  -4  -2  0⎤      ⎞\n",
       "⎜⎢            ⎥      ⎟\n",
       "⎜⎢0  0   0   0⎥, (0,)⎟\n",
       "⎜⎢            ⎥      ⎟\n",
       "⎝⎣0  0   0   0⎦      ⎠"
      ]
     },
     "execution_count": 56,
     "metadata": {},
     "output_type": "execute_result"
    }
   ],
   "source": [
    "A.rref()"
   ]
  },
  {
   "cell_type": "code",
   "execution_count": 57,
   "metadata": {},
   "outputs": [
    {
     "data": {
      "text/latex": [
       "$$-6$$"
      ],
      "text/plain": [
       "-6"
      ]
     },
     "execution_count": 57,
     "metadata": {},
     "output_type": "execute_result"
    }
   ],
   "source": [
    "-1-5"
   ]
  },
  {
   "cell_type": "code",
   "execution_count": 58,
   "metadata": {},
   "outputs": [
    {
     "data": {
      "text/latex": [
       "$$-4$$"
      ],
      "text/plain": [
       "-4"
      ]
     },
     "execution_count": 58,
     "metadata": {},
     "output_type": "execute_result"
    }
   ],
   "source": [
    "-8--4"
   ]
  },
  {
   "cell_type": "code",
   "execution_count": 59,
   "metadata": {},
   "outputs": [
    {
     "data": {
      "text/latex": [
       "$$-4$$"
      ],
      "text/plain": [
       "-4"
      ]
     },
     "execution_count": 59,
     "metadata": {},
     "output_type": "execute_result"
    }
   ],
   "source": [
    "-6--2"
   ]
  },
  {
   "cell_type": "code",
   "execution_count": 60,
   "metadata": {},
   "outputs": [
    {
     "data": {
      "text/latex": [
       "$$\\left[\\begin{matrix}-4 & 8 & 4 & 0\\\\-2 & 6 & 4 & 0\\\\2 & -8 & -6 & 0\\end{matrix}\\right]$$"
      ],
      "text/plain": [
       "⎡-4  8   4   0⎤\n",
       "⎢             ⎥\n",
       "⎢-2  6   4   0⎥\n",
       "⎢             ⎥\n",
       "⎣2   -8  -6  0⎦"
      ]
     },
     "execution_count": 60,
     "metadata": {},
     "output_type": "execute_result"
    }
   ],
   "source": [
    "F = Matrix([[-4,8,4,0],[-2,6,4,0],[2,-8,-6,0]])\n",
    "F"
   ]
  },
  {
   "cell_type": "code",
   "execution_count": 61,
   "metadata": {},
   "outputs": [
    {
     "data": {
      "text/latex": [
       "$$\\left ( \\left[\\begin{matrix}1 & 0 & 1 & 0\\\\0 & 1 & 1 & 0\\\\0 & 0 & 0 & 0\\end{matrix}\\right], \\quad \\left ( 0, \\quad 1\\right )\\right )$$"
      ],
      "text/plain": [
       "⎛⎡1  0  1  0⎤        ⎞\n",
       "⎜⎢          ⎥        ⎟\n",
       "⎜⎢0  1  1  0⎥, (0, 1)⎟\n",
       "⎜⎢          ⎥        ⎟\n",
       "⎝⎣0  0  0  0⎦        ⎠"
      ]
     },
     "execution_count": 61,
     "metadata": {},
     "output_type": "execute_result"
    }
   ],
   "source": [
    "F.rref()"
   ]
  },
  {
   "cell_type": "code",
   "execution_count": 42,
   "metadata": {},
   "outputs": [
    {
     "data": {
      "text/latex": [
       "$$\\left[\\begin{matrix}1 & 8 & 4\\\\-2 & 11 & 4\\\\2 & -8 & -1\\end{matrix}\\right]$$"
      ],
      "text/plain": [
       "⎡1   8   4 ⎤\n",
       "⎢          ⎥\n",
       "⎢-2  11  4 ⎥\n",
       "⎢          ⎥\n",
       "⎣2   -8  -1⎦"
      ]
     },
     "execution_count": 42,
     "metadata": {},
     "output_type": "execute_result"
    }
   ],
   "source": [
    "A = Matrix([[1,8,4],[-2,11,4],[2,-8,-1]])\n",
    "A"
   ]
  },
  {
   "cell_type": "code",
   "execution_count": 43,
   "metadata": {},
   "outputs": [
    {
     "data": {
      "text/latex": [
       "$$\\left ( \\left[\\begin{matrix}4 & 2 & -1\\\\1 & 0 & -1\\\\0 & 1 & 1\\end{matrix}\\right], \\quad \\left[\\begin{matrix}3 & 0 & 0\\\\0 & 3 & 0\\\\0 & 0 & 5\\end{matrix}\\right]\\right )$$"
      ],
      "text/plain": [
       "⎛⎡4  2  -1⎤  ⎡3  0  0⎤⎞\n",
       "⎜⎢        ⎥  ⎢       ⎥⎟\n",
       "⎜⎢1  0  -1⎥, ⎢0  3  0⎥⎟\n",
       "⎜⎢        ⎥  ⎢       ⎥⎟\n",
       "⎝⎣0  1  1 ⎦  ⎣0  0  5⎦⎠"
      ]
     },
     "execution_count": 43,
     "metadata": {},
     "output_type": "execute_result"
    }
   ],
   "source": [
    "P,D = A.diagonalize()\n",
    "P,D"
   ]
  },
  {
   "cell_type": "code",
   "execution_count": 21,
   "metadata": {},
   "outputs": [
    {
     "data": {
      "text/latex": [
       "$$\\left[\\begin{matrix}-4 & 8 & 4\\\\-2 & 6 & 4\\\\2 & -8 & -6\\end{matrix}\\right]$$"
      ],
      "text/plain": [
       "⎡-4  8   4 ⎤\n",
       "⎢          ⎥\n",
       "⎢-2  6   4 ⎥\n",
       "⎢          ⎥\n",
       "⎣2   -8  -6⎦"
      ]
     },
     "execution_count": 21,
     "metadata": {},
     "output_type": "execute_result"
    }
   ],
   "source": [
    "A = Matrix([[1-5,8,4],[-2,11-5,4],[2,-8,-1-5]])\n",
    "A"
   ]
  },
  {
   "cell_type": "code",
   "execution_count": 7,
   "metadata": {},
   "outputs": [
    {
     "data": {
      "text/latex": [
       "$$\\left ( \\left[\\begin{matrix}1 & 0 & 1\\\\0 & 1 & 1\\\\0 & 0 & 0\\end{matrix}\\right], \\quad \\left ( 0, \\quad 1\\right )\\right )$$"
      ],
      "text/plain": [
       "⎛⎡1  0  1⎤        ⎞\n",
       "⎜⎢       ⎥        ⎟\n",
       "⎜⎢0  1  1⎥, (0, 1)⎟\n",
       "⎜⎢       ⎥        ⎟\n",
       "⎝⎣0  0  0⎦        ⎠"
      ]
     },
     "execution_count": 7,
     "metadata": {},
     "output_type": "execute_result"
    }
   ],
   "source": [
    "A.rref()"
   ]
  },
  {
   "cell_type": "code",
   "execution_count": 6,
   "metadata": {},
   "outputs": [
    {
     "data": {
      "text/latex": [
       "$$\\left [ \\left[\\begin{matrix}-1\\\\-1\\\\1\\end{matrix}\\right]\\right ]$$"
      ],
      "text/plain": [
       "⎡⎡-1⎤⎤\n",
       "⎢⎢  ⎥⎥\n",
       "⎢⎢-1⎥⎥\n",
       "⎢⎢  ⎥⎥\n",
       "⎣⎣1 ⎦⎦"
      ]
     },
     "execution_count": 6,
     "metadata": {},
     "output_type": "execute_result"
    }
   ],
   "source": [
    "A.nullspace()"
   ]
  },
  {
   "cell_type": "code",
   "execution_count": 22,
   "metadata": {},
   "outputs": [
    {
     "data": {
      "text/latex": [
       "$$\\left[\\begin{matrix}1 & -2 & -1\\\\-2 & 6 & 4\\\\2 & -8 & -6\\end{matrix}\\right]$$"
      ],
      "text/plain": [
       "⎡1   -2  -1⎤\n",
       "⎢          ⎥\n",
       "⎢-2  6   4 ⎥\n",
       "⎢          ⎥\n",
       "⎣2   -8  -6⎦"
      ]
     },
     "execution_count": 22,
     "metadata": {},
     "output_type": "execute_result"
    }
   ],
   "source": [
    "A[0,:] = A[0,:] * Rational(-1,4)\n",
    "A"
   ]
  },
  {
   "cell_type": "code",
   "execution_count": 23,
   "metadata": {},
   "outputs": [
    {
     "data": {
      "text/latex": [
       "$$\\left[\\begin{matrix}1 & -2 & -1\\\\0 & 2 & 2\\\\2 & -8 & -6\\end{matrix}\\right]$$"
      ],
      "text/plain": [
       "⎡1  -2  -1⎤\n",
       "⎢         ⎥\n",
       "⎢0  2   2 ⎥\n",
       "⎢         ⎥\n",
       "⎣2  -8  -6⎦"
      ]
     },
     "execution_count": 23,
     "metadata": {},
     "output_type": "execute_result"
    }
   ],
   "source": [
    "A[1,:] = A[1,:] - -2*A[0,:]\n",
    "A"
   ]
  },
  {
   "cell_type": "code",
   "execution_count": 24,
   "metadata": {},
   "outputs": [
    {
     "data": {
      "text/latex": [
       "$$\\left[\\begin{matrix}1 & -2 & -1\\\\0 & 2 & 2\\\\0 & -4 & -4\\end{matrix}\\right]$$"
      ],
      "text/plain": [
       "⎡1  -2  -1⎤\n",
       "⎢         ⎥\n",
       "⎢0  2   2 ⎥\n",
       "⎢         ⎥\n",
       "⎣0  -4  -4⎦"
      ]
     },
     "execution_count": 24,
     "metadata": {},
     "output_type": "execute_result"
    }
   ],
   "source": [
    "A[2,:] = A[2,:] - 2*A[0,:]\n",
    "A"
   ]
  },
  {
   "cell_type": "code",
   "execution_count": 25,
   "metadata": {},
   "outputs": [
    {
     "data": {
      "text/latex": [
       "$$\\left[\\begin{matrix}1 & -2 & -1\\\\0 & 1 & 1\\\\0 & -4 & -4\\end{matrix}\\right]$$"
      ],
      "text/plain": [
       "⎡1  -2  -1⎤\n",
       "⎢         ⎥\n",
       "⎢0  1   1 ⎥\n",
       "⎢         ⎥\n",
       "⎣0  -4  -4⎦"
      ]
     },
     "execution_count": 25,
     "metadata": {},
     "output_type": "execute_result"
    }
   ],
   "source": [
    "A[1,:] = A[1,:] * Rational(1,2)\n",
    "A"
   ]
  },
  {
   "cell_type": "code",
   "execution_count": 26,
   "metadata": {},
   "outputs": [
    {
     "data": {
      "text/latex": [
       "$$\\left[\\begin{matrix}1 & -2 & -1\\\\0 & 1 & 1\\\\0 & 0 & 0\\end{matrix}\\right]$$"
      ],
      "text/plain": [
       "⎡1  -2  -1⎤\n",
       "⎢         ⎥\n",
       "⎢0  1   1 ⎥\n",
       "⎢         ⎥\n",
       "⎣0  0   0 ⎦"
      ]
     },
     "execution_count": 26,
     "metadata": {},
     "output_type": "execute_result"
    }
   ],
   "source": [
    "A[2,:] = A[2,:] - -4*A[1,:]\n",
    "A"
   ]
  },
  {
   "cell_type": "code",
   "execution_count": 27,
   "metadata": {},
   "outputs": [
    {
     "data": {
      "text/latex": [
       "$$\\left[\\begin{matrix}1 & -1 & 0\\\\0 & 1 & 1\\\\0 & 0 & 0\\end{matrix}\\right]$$"
      ],
      "text/plain": [
       "⎡1  -1  0⎤\n",
       "⎢        ⎥\n",
       "⎢0  1   1⎥\n",
       "⎢        ⎥\n",
       "⎣0  0   0⎦"
      ]
     },
     "execution_count": 27,
     "metadata": {},
     "output_type": "execute_result"
    }
   ],
   "source": [
    "A[0,:] = A[0,:] - -1*A[1,:]\n",
    "A"
   ]
  },
  {
   "cell_type": "code",
   "execution_count": 28,
   "metadata": {},
   "outputs": [
    {
     "data": {
      "text/latex": [
       "$$\\left[\\begin{matrix}1 & 0 & 1\\\\0 & 1 & 1\\\\0 & 0 & 0\\end{matrix}\\right]$$"
      ],
      "text/plain": [
       "⎡1  0  1⎤\n",
       "⎢       ⎥\n",
       "⎢0  1  1⎥\n",
       "⎢       ⎥\n",
       "⎣0  0  0⎦"
      ]
     },
     "execution_count": 28,
     "metadata": {},
     "output_type": "execute_result"
    }
   ],
   "source": [
    "A[0,:] = A[0,:] - -1*A[1,:]\n",
    "A"
   ]
  },
  {
   "cell_type": "code",
   "execution_count": 31,
   "metadata": {},
   "outputs": [
    {
     "data": {
      "text/latex": [
       "$$2$$"
      ],
      "text/plain": [
       "2"
      ]
     },
     "execution_count": 31,
     "metadata": {},
     "output_type": "execute_result"
    }
   ],
   "source": [
    "1--1"
   ]
  },
  {
   "cell_type": "code",
   "execution_count": 32,
   "metadata": {},
   "outputs": [
    {
     "data": {
      "text/latex": [
       "$$-1$$"
      ],
      "text/plain": [
       "-1"
      ]
     },
     "execution_count": 32,
     "metadata": {},
     "output_type": "execute_result"
    }
   ],
   "source": [
    "1*-1"
   ]
  },
  {
   "cell_type": "code",
   "execution_count": 33,
   "metadata": {},
   "outputs": [
    {
     "data": {
      "text/latex": [
       "$$2$$"
      ],
      "text/plain": [
       "2"
      ]
     },
     "execution_count": 33,
     "metadata": {},
     "output_type": "execute_result"
    }
   ],
   "source": [
    "1--1"
   ]
  },
  {
   "cell_type": "code",
   "execution_count": 34,
   "metadata": {},
   "outputs": [
    {
     "data": {
      "text/latex": [
       "$$-1$$"
      ],
      "text/plain": [
       "-1"
      ]
     },
     "execution_count": 34,
     "metadata": {},
     "output_type": "execute_result"
    }
   ],
   "source": [
    "1*-1"
   ]
  },
  {
   "cell_type": "code",
   "execution_count": 35,
   "metadata": {},
   "outputs": [
    {
     "data": {
      "text/latex": [
       "$$-1$$"
      ],
      "text/plain": [
       "-1"
      ]
     },
     "execution_count": 35,
     "metadata": {},
     "output_type": "execute_result"
    }
   ],
   "source": [
    "-2--1"
   ]
  },
  {
   "cell_type": "code",
   "execution_count": 36,
   "metadata": {},
   "outputs": [
    {
     "data": {
      "text/latex": [
       "$$-1$$"
      ],
      "text/plain": [
       "-1"
      ]
     },
     "execution_count": 36,
     "metadata": {},
     "output_type": "execute_result"
    }
   ],
   "source": [
    "1*-1"
   ]
  },
  {
   "cell_type": "code",
   "execution_count": 37,
   "metadata": {},
   "outputs": [
    {
     "data": {
      "text/latex": [
       "$$2$$"
      ],
      "text/plain": [
       "2"
      ]
     },
     "execution_count": 37,
     "metadata": {},
     "output_type": "execute_result"
    }
   ],
   "source": [
    "1--1"
   ]
  },
  {
   "cell_type": "code",
   "execution_count": 33,
   "metadata": {},
   "outputs": [
    {
     "data": {
      "text/latex": [
       "$$\\left[\\begin{matrix}0 & 1 & 2\\\\1 & 1 & 0\\\\4 & 2 & 2\\end{matrix}\\right]$$"
      ],
      "text/plain": [
       "⎡0  1  2⎤\n",
       "⎢       ⎥\n",
       "⎢1  1  0⎥\n",
       "⎢       ⎥\n",
       "⎣4  2  2⎦"
      ]
     },
     "execution_count": 33,
     "metadata": {},
     "output_type": "execute_result"
    }
   ],
   "source": [
    "A = Matrix([[0,1,2],[1,1,0],[4,2,2]])\n",
    "A"
   ]
  },
  {
   "cell_type": "code",
   "execution_count": 23,
   "metadata": {},
   "outputs": [
    {
     "data": {
      "text/latex": [
       "$$\\left ( \\left[\\begin{matrix}1 & 0 & 0\\\\0 & 1 & 0\\\\0 & 0 & 1\\end{matrix}\\right], \\quad \\left ( 0, \\quad 1, \\quad 2\\right )\\right )$$"
      ],
      "text/plain": [
       "⎛⎡1  0  0⎤           ⎞\n",
       "⎜⎢       ⎥           ⎟\n",
       "⎜⎢0  1  0⎥, (0, 1, 2)⎟\n",
       "⎜⎢       ⎥           ⎟\n",
       "⎝⎣0  0  1⎦           ⎠"
      ]
     },
     "execution_count": 23,
     "metadata": {},
     "output_type": "execute_result"
    }
   ],
   "source": [
    "A.rref()"
   ]
  },
  {
   "cell_type": "code",
   "execution_count": 24,
   "metadata": {},
   "outputs": [
    {
     "data": {
      "text/latex": [
       "$$-6$$"
      ],
      "text/plain": [
       "-6"
      ]
     },
     "execution_count": 24,
     "metadata": {},
     "output_type": "execute_result"
    }
   ],
   "source": [
    "4-8-2"
   ]
  },
  {
   "cell_type": "code",
   "execution_count": 26,
   "metadata": {},
   "outputs": [
    {
     "data": {
      "text/latex": [
       "$$-9$$"
      ],
      "text/plain": [
       "-9"
      ]
     },
     "execution_count": 26,
     "metadata": {},
     "output_type": "execute_result"
    }
   ],
   "source": [
    "Matrix([[1,1,2],[1,2,0],[4,2,3]]).det()"
   ]
  },
  {
   "cell_type": "code",
   "execution_count": 28,
   "metadata": {},
   "outputs": [
    {
     "data": {
      "text/latex": [
       "$$-7$$"
      ],
      "text/plain": [
       "-7"
      ]
     },
     "execution_count": 28,
     "metadata": {},
     "output_type": "execute_result"
    }
   ],
   "source": [
    "14-16-2-3"
   ]
  },
  {
   "cell_type": "code",
   "execution_count": 30,
   "metadata": {},
   "outputs": [
    {
     "data": {
      "text/latex": [
       "$$\\left \\{ -2 : 1, \\quad - \\frac{\\sqrt{13}}{2} + \\frac{5}{2} : 1, \\quad \\frac{\\sqrt{13}}{2} + \\frac{5}{2} : 1\\right \\}$$"
      ],
      "text/plain": [
       "⎧         √13   5     √13   5   ⎫\n",
       "⎨-2: 1, - ─── + ─: 1, ─── + ─: 1⎬\n",
       "⎩          2    2      2    2   ⎭"
      ]
     },
     "execution_count": 30,
     "metadata": {},
     "output_type": "execute_result"
    }
   ],
   "source": [
    "A.eigenvals()"
   ]
  },
  {
   "cell_type": "code",
   "execution_count": 5,
   "metadata": {},
   "outputs": [
    {
     "data": {
      "text/latex": [
       "$$\\left [ \\left[\\begin{matrix}0\\\\0\\\\0\\\\1\\end{matrix}\\right]\\right ]$$"
      ],
      "text/plain": [
       "⎡⎡0⎤⎤\n",
       "⎢⎢ ⎥⎥\n",
       "⎢⎢0⎥⎥\n",
       "⎢⎢ ⎥⎥\n",
       "⎢⎢0⎥⎥\n",
       "⎢⎢ ⎥⎥\n",
       "⎣⎣1⎦⎦"
      ]
     },
     "execution_count": 5,
     "metadata": {},
     "output_type": "execute_result"
    }
   ],
   "source": [
    "A = Matrix([[0,1,2,0],[1,1,0,0],[4,2,2,0]])\n",
    "A.nullspace()"
   ]
  },
  {
   "cell_type": "code",
   "execution_count": 6,
   "metadata": {},
   "outputs": [
    {
     "data": {
      "text/latex": [
       "$$\\left ( \\left[\\begin{matrix}1 & 0 & 0 & 0\\\\0 & 1 & 0 & 0\\\\0 & 0 & 1 & 0\\end{matrix}\\right], \\quad \\left ( 0, \\quad 1, \\quad 2\\right )\\right )$$"
      ],
      "text/plain": [
       "⎛⎡1  0  0  0⎤           ⎞\n",
       "⎜⎢          ⎥           ⎟\n",
       "⎜⎢0  1  0  0⎥, (0, 1, 2)⎟\n",
       "⎜⎢          ⎥           ⎟\n",
       "⎝⎣0  0  1  0⎦           ⎠"
      ]
     },
     "execution_count": 6,
     "metadata": {},
     "output_type": "execute_result"
    }
   ],
   "source": [
    "A.rref()"
   ]
  },
  {
   "cell_type": "code",
   "execution_count": null,
   "metadata": {},
   "outputs": [],
   "source": []
  }
 ],
 "metadata": {
  "kernelspec": {
   "display_name": "Python 3",
   "language": "python",
   "name": "python3"
  },
  "language_info": {
   "codemirror_mode": {
    "name": "ipython",
    "version": 3
   },
   "file_extension": ".py",
   "mimetype": "text/x-python",
   "name": "python",
   "nbconvert_exporter": "python",
   "pygments_lexer": "ipython3",
   "version": "3.6.5"
  }
 },
 "nbformat": 4,
 "nbformat_minor": 2
}
